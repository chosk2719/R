{
 "cells": [
  {
   "cell_type": "code",
   "execution_count": 1,
   "metadata": {},
   "outputs": [],
   "source": [
    "setwd('c:/rdata')"
   ]
  },
  {
   "cell_type": "code",
   "execution_count": 2,
   "metadata": {},
   "outputs": [
    {
     "data": {
      "text/html": [
       "<table>\n",
       "<thead><tr><th scope=col>Experience</th><th scope=col>Success</th></tr></thead>\n",
       "<tbody>\n",
       "\t<tr><td>14</td><td>0 </td></tr>\n",
       "\t<tr><td>29</td><td>0 </td></tr>\n",
       "\t<tr><td> 6</td><td>0 </td></tr>\n",
       "\t<tr><td>25</td><td>1 </td></tr>\n",
       "\t<tr><td>18</td><td>1 </td></tr>\n",
       "\t<tr><td> 4</td><td>0 </td></tr>\n",
       "</tbody>\n",
       "</table>\n"
      ],
      "text/latex": [
       "\\begin{tabular}{r|ll}\n",
       " Experience & Success\\\\\n",
       "\\hline\n",
       "\t 14 & 0 \\\\\n",
       "\t 29 & 0 \\\\\n",
       "\t  6 & 0 \\\\\n",
       "\t 25 & 1 \\\\\n",
       "\t 18 & 1 \\\\\n",
       "\t  4 & 0 \\\\\n",
       "\\end{tabular}\n"
      ],
      "text/markdown": [
       "\n",
       "| Experience | Success |\n",
       "|---|---|\n",
       "| 14 | 0  |\n",
       "| 29 | 0  |\n",
       "|  6 | 0  |\n",
       "| 25 | 1  |\n",
       "| 18 | 1  |\n",
       "|  4 | 0  |\n",
       "\n"
      ],
      "text/plain": [
       "  Experience Success\n",
       "1 14         0      \n",
       "2 29         0      \n",
       "3  6         0      \n",
       "4 25         1      \n",
       "5 18         1      \n",
       "6  4         0      "
      ]
     },
     "metadata": {},
     "output_type": "display_data"
    }
   ],
   "source": [
    "data = read.csv('programming.csv')\n",
    "head(data)"
   ]
  },
  {
   "cell_type": "code",
   "execution_count": 3,
   "metadata": {},
   "outputs": [],
   "source": [
    "model=glm(Success~Experience, data=data, family = binomial(logit))"
   ]
  },
  {
   "cell_type": "code",
   "execution_count": 4,
   "metadata": {},
   "outputs": [
    {
     "data": {
      "text/plain": [
       "\n",
       "Call:\n",
       "glm(formula = Success ~ Experience, family = binomial(logit), \n",
       "    data = data)\n",
       "\n",
       "Deviance Residuals: \n",
       "    Min       1Q   Median       3Q      Max  \n",
       "-1.8992  -0.7509  -0.4140   0.7992   1.9624  \n",
       "\n",
       "Coefficients:\n",
       "            Estimate Std. Error z value Pr(>|z|)  \n",
       "(Intercept) -3.05970    1.25935  -2.430   0.0151 *\n",
       "Experience   0.16149    0.06498   2.485   0.0129 *\n",
       "---\n",
       "Signif. codes:  0 '***' 0.001 '**' 0.01 '*' 0.05 '.' 0.1 ' ' 1\n",
       "\n",
       "(Dispersion parameter for binomial family taken to be 1)\n",
       "\n",
       "    Null deviance: 34.296  on 24  degrees of freedom\n",
       "Residual deviance: 25.425  on 23  degrees of freedom\n",
       "AIC: 29.425\n",
       "\n",
       "Number of Fisher Scoring iterations: 4\n"
      ]
     },
     "metadata": {},
     "output_type": "display_data"
    }
   ],
   "source": [
    "summary(model)"
   ]
  },
  {
   "cell_type": "code",
   "execution_count": 6,
   "metadata": {},
   "outputs": [
    {
     "data": {
      "text/html": [
       "<table>\n",
       "<tbody>\n",
       "\t<tr><td>14        </td><td>0.31026237</td></tr>\n",
       "\t<tr><td>29        </td><td>0.83526292</td></tr>\n",
       "\t<tr><td> 6        </td><td>0.10999616</td></tr>\n",
       "\t<tr><td>25        </td><td>0.72660237</td></tr>\n",
       "\t<tr><td>18        </td><td>0.46183704</td></tr>\n",
       "\t<tr><td> 4        </td><td>0.08213002</td></tr>\n",
       "\t<tr><td>18        </td><td>0.46183704</td></tr>\n",
       "\t<tr><td>12        </td><td>0.24566554</td></tr>\n",
       "\t<tr><td>22        </td><td>0.62081158</td></tr>\n",
       "\t<tr><td> 6        </td><td>0.10999616</td></tr>\n",
       "\t<tr><td>30        </td><td>0.85629862</td></tr>\n",
       "\t<tr><td>11        </td><td>0.21698039</td></tr>\n",
       "\t<tr><td>30        </td><td>0.85629862</td></tr>\n",
       "\t<tr><td> 5        </td><td>0.09515416</td></tr>\n",
       "\t<tr><td>20        </td><td>0.54240353</td></tr>\n",
       "\t<tr><td>13        </td><td>0.27680234</td></tr>\n",
       "\t<tr><td> 9        </td><td>0.16709980</td></tr>\n",
       "\t<tr><td>32        </td><td>0.89166416</td></tr>\n",
       "\t<tr><td>24        </td><td>0.69337941</td></tr>\n",
       "\t<tr><td>13        </td><td>0.27680234</td></tr>\n",
       "\t<tr><td>19        </td><td>0.50213414</td></tr>\n",
       "\t<tr><td> 4        </td><td>0.08213002</td></tr>\n",
       "\t<tr><td>28        </td><td>0.81182461</td></tr>\n",
       "\t<tr><td>22        </td><td>0.62081158</td></tr>\n",
       "\t<tr><td> 8        </td><td>0.14581508</td></tr>\n",
       "</tbody>\n",
       "</table>\n"
      ],
      "text/latex": [
       "\\begin{tabular}{r|ll}\n",
       "\t 14         & 0.31026237\\\\\n",
       "\t 29         & 0.83526292\\\\\n",
       "\t  6         & 0.10999616\\\\\n",
       "\t 25         & 0.72660237\\\\\n",
       "\t 18         & 0.46183704\\\\\n",
       "\t  4         & 0.08213002\\\\\n",
       "\t 18         & 0.46183704\\\\\n",
       "\t 12         & 0.24566554\\\\\n",
       "\t 22         & 0.62081158\\\\\n",
       "\t  6         & 0.10999616\\\\\n",
       "\t 30         & 0.85629862\\\\\n",
       "\t 11         & 0.21698039\\\\\n",
       "\t 30         & 0.85629862\\\\\n",
       "\t  5         & 0.09515416\\\\\n",
       "\t 20         & 0.54240353\\\\\n",
       "\t 13         & 0.27680234\\\\\n",
       "\t  9         & 0.16709980\\\\\n",
       "\t 32         & 0.89166416\\\\\n",
       "\t 24         & 0.69337941\\\\\n",
       "\t 13         & 0.27680234\\\\\n",
       "\t 19         & 0.50213414\\\\\n",
       "\t  4         & 0.08213002\\\\\n",
       "\t 28         & 0.81182461\\\\\n",
       "\t 22         & 0.62081158\\\\\n",
       "\t  8         & 0.14581508\\\\\n",
       "\\end{tabular}\n"
      ],
      "text/markdown": [
       "\n",
       "| 14         | 0.31026237 |\n",
       "| 29         | 0.83526292 |\n",
       "|  6         | 0.10999616 |\n",
       "| 25         | 0.72660237 |\n",
       "| 18         | 0.46183704 |\n",
       "|  4         | 0.08213002 |\n",
       "| 18         | 0.46183704 |\n",
       "| 12         | 0.24566554 |\n",
       "| 22         | 0.62081158 |\n",
       "|  6         | 0.10999616 |\n",
       "| 30         | 0.85629862 |\n",
       "| 11         | 0.21698039 |\n",
       "| 30         | 0.85629862 |\n",
       "|  5         | 0.09515416 |\n",
       "| 20         | 0.54240353 |\n",
       "| 13         | 0.27680234 |\n",
       "|  9         | 0.16709980 |\n",
       "| 32         | 0.89166416 |\n",
       "| 24         | 0.69337941 |\n",
       "| 13         | 0.27680234 |\n",
       "| 19         | 0.50213414 |\n",
       "|  4         | 0.08213002 |\n",
       "| 28         | 0.81182461 |\n",
       "| 22         | 0.62081158 |\n",
       "|  8         | 0.14581508 |\n",
       "\n"
      ],
      "text/plain": [
       "   [,1] [,2]      \n",
       "1  14   0.31026237\n",
       "2  29   0.83526292\n",
       "3   6   0.10999616\n",
       "4  25   0.72660237\n",
       "5  18   0.46183704\n",
       "6   4   0.08213002\n",
       "7  18   0.46183704\n",
       "8  12   0.24566554\n",
       "9  22   0.62081158\n",
       "10  6   0.10999616\n",
       "11 30   0.85629862\n",
       "12 11   0.21698039\n",
       "13 30   0.85629862\n",
       "14  5   0.09515416\n",
       "15 20   0.54240353\n",
       "16 13   0.27680234\n",
       "17  9   0.16709980\n",
       "18 32   0.89166416\n",
       "19 24   0.69337941\n",
       "20 13   0.27680234\n",
       "21 19   0.50213414\n",
       "22  4   0.08213002\n",
       "23 28   0.81182461\n",
       "24 22   0.62081158\n",
       "25  8   0.14581508"
      ]
     },
     "metadata": {},
     "output_type": "display_data"
    }
   ],
   "source": [
    "cbind(data$Experience, model$fitted.values)"
   ]
  },
  {
   "cell_type": "code",
   "execution_count": 9,
   "metadata": {},
   "outputs": [
    {
     "data": {
      "image/png": "[encoded data removed]",
      "text/plain": [
       "plot without title"
      ]
     },
     "metadata": {},
     "output_type": "display_data"
    }
   ],
   "source": [
    "plot(Success~Experience, data=data)\n",
    "points(model$fitted.values~data$Experience, col=2)"
   ]
  },
  {
   "cell_type": "code",
   "execution_count": 10,
   "metadata": {},
   "outputs": [
    {
     "data": {
      "text/plain": [
       "   \n",
       "    FALSE TRUE\n",
       "  0    11    3\n",
       "  1     3    8"
      ]
     },
     "metadata": {},
     "output_type": "display_data"
    }
   ],
   "source": [
    "table(data$Success, model$fitted.values>0.5)"
   ]
  },
  {
   "cell_type": "code",
   "execution_count": 13,
   "metadata": {},
   "outputs": [
    {
     "data": {
      "text/html": [
       "<dl class=dl-horizontal>\n",
       "\t<dt>민감도</dt>\n",
       "\t\t<dd>0.727272727272727</dd>\n",
       "\t<dt>특이도</dt>\n",
       "\t\t<dd>0.785714285714286</dd>\n",
       "</dl>\n"
      ],
      "text/latex": [
       "\\begin{description*}\n",
       "\\item[민감도] 0.727272727272727\n",
       "\\item[특이도] 0.785714285714286\n",
       "\\end{description*}\n"
      ],
      "text/markdown": [
       "민감도\n",
       ":   0.727272727272727특이도\n",
       ":   0.785714285714286\n",
       "\n"
      ],
      "text/plain": [
       "   민감도    특이도 \n",
       "0.7272727 0.7857143 "
      ]
     },
     "metadata": {},
     "output_type": "display_data"
    }
   ],
   "source": [
    "c('민감도' = 8/11, '특이도' = 11/14)"
   ]
  },
  {
   "cell_type": "code",
   "execution_count": 15,
   "metadata": {},
   "outputs": [
    {
     "data": {
      "text/html": [
       "<table>\n",
       "<thead><tr><th scope=col>Price_reduc</th><th scope=col>N</th><th scope=col>N_redeemed</th></tr></thead>\n",
       "<tbody>\n",
       "\t<tr><td> 5 </td><td>200</td><td> 30</td></tr>\n",
       "\t<tr><td>10 </td><td>200</td><td> 55</td></tr>\n",
       "\t<tr><td>15 </td><td>200</td><td> 70</td></tr>\n",
       "\t<tr><td>20 </td><td>200</td><td>100</td></tr>\n",
       "\t<tr><td>30 </td><td>200</td><td>137</td></tr>\n",
       "</tbody>\n",
       "</table>\n"
      ],
      "text/latex": [
       "\\begin{tabular}{r|lll}\n",
       " Price\\_reduc & N & N\\_redeemed\\\\\n",
       "\\hline\n",
       "\t  5  & 200 &  30\\\\\n",
       "\t 10  & 200 &  55\\\\\n",
       "\t 15  & 200 &  70\\\\\n",
       "\t 20  & 200 & 100\\\\\n",
       "\t 30  & 200 & 137\\\\\n",
       "\\end{tabular}\n"
      ],
      "text/markdown": [
       "\n",
       "| Price_reduc | N | N_redeemed |\n",
       "|---|---|---|\n",
       "|  5  | 200 |  30 |\n",
       "| 10  | 200 |  55 |\n",
       "| 15  | 200 |  70 |\n",
       "| 20  | 200 | 100 |\n",
       "| 30  | 200 | 137 |\n",
       "\n"
      ],
      "text/plain": [
       "  Price_reduc N   N_redeemed\n",
       "1  5          200  30       \n",
       "2 10          200  55       \n",
       "3 15          200  70       \n",
       "4 20          200 100       \n",
       "5 30          200 137       "
      ]
     },
     "metadata": {},
     "output_type": "display_data"
    }
   ],
   "source": [
    "data = read.csv('coupon.csv')\n",
    "head(data)"
   ]
  },
  {
   "cell_type": "code",
   "execution_count": 16,
   "metadata": {},
   "outputs": [],
   "source": [
    "model2 = glm(cbind(N_redeemed, N-N_redeemed)~Price_reduc, data=data, family = binomial(logit))"
   ]
  },
  {
   "cell_type": "code",
   "execution_count": 17,
   "metadata": {},
   "outputs": [
    {
     "data": {
      "text/plain": [
       "\n",
       "Call:\n",
       "glm(formula = cbind(N_redeemed, N - N_redeemed) ~ Price_reduc, \n",
       "    family = binomial(logit), data = data)\n",
       "\n",
       "Deviance Residuals: \n",
       "      1        2        3        4        5  \n",
       "-0.8988   0.6677  -0.1837   0.7612  -0.5477  \n",
       "\n",
       "Coefficients:\n",
       "             Estimate Std. Error z value Pr(>|z|)    \n",
       "(Intercept) -2.044348   0.160977  -12.70   <2e-16 ***\n",
       "Price_reduc  0.096834   0.008549   11.33   <2e-16 ***\n",
       "---\n",
       "Signif. codes:  0 '***' 0.001 '**' 0.01 '*' 0.05 '.' 0.1 ' ' 1\n",
       "\n",
       "(Dispersion parameter for binomial family taken to be 1)\n",
       "\n",
       "    Null deviance: 149.4627  on 4  degrees of freedom\n",
       "Residual deviance:   2.1668  on 3  degrees of freedom\n",
       "AIC: 33.793\n",
       "\n",
       "Number of Fisher Scoring iterations: 3\n"
      ]
     },
     "metadata": {},
     "output_type": "display_data"
    }
   ],
   "source": [
    "summary(model2)"
   ]
  },
  {
   "cell_type": "code",
   "execution_count": 20,
   "metadata": {},
   "outputs": [
    {
     "data": {
      "text/html": [
       "1.10167747997958"
      ],
      "text/latex": [
       "1.10167747997958"
      ],
      "text/markdown": [
       "1.10167747997958"
      ],
      "text/plain": [
       "[1] 1.101677"
      ]
     },
     "metadata": {},
     "output_type": "display_data"
    }
   ],
   "source": [
    "exp(0.096834)"
   ]
  },
  {
   "cell_type": "code",
   "execution_count": 21,
   "metadata": {},
   "outputs": [
    {
     "data": {
      "text/html": [
       "<table>\n",
       "<thead><tr><th scope=col>age</th><th scope=col>status_middle</th><th scope=col>status_lower</th><th scope=col>sector</th><th scope=col>disease</th></tr></thead>\n",
       "<tbody>\n",
       "\t<tr><td>33</td><td>0 </td><td>0 </td><td>0 </td><td>0 </td></tr>\n",
       "\t<tr><td>35</td><td>0 </td><td>0 </td><td>0 </td><td>0 </td></tr>\n",
       "\t<tr><td> 6</td><td>0 </td><td>0 </td><td>0 </td><td>0 </td></tr>\n",
       "\t<tr><td>60</td><td>0 </td><td>0 </td><td>0 </td><td>0 </td></tr>\n",
       "\t<tr><td>18</td><td>0 </td><td>1 </td><td>0 </td><td>1 </td></tr>\n",
       "\t<tr><td>26</td><td>0 </td><td>1 </td><td>0 </td><td>0 </td></tr>\n",
       "</tbody>\n",
       "</table>\n"
      ],
      "text/latex": [
       "\\begin{tabular}{r|lllll}\n",
       " age & status\\_middle & status\\_lower & sector & disease\\\\\n",
       "\\hline\n",
       "\t 33 & 0  & 0  & 0  & 0 \\\\\n",
       "\t 35 & 0  & 0  & 0  & 0 \\\\\n",
       "\t  6 & 0  & 0  & 0  & 0 \\\\\n",
       "\t 60 & 0  & 0  & 0  & 0 \\\\\n",
       "\t 18 & 0  & 1  & 0  & 1 \\\\\n",
       "\t 26 & 0  & 1  & 0  & 0 \\\\\n",
       "\\end{tabular}\n"
      ],
      "text/markdown": [
       "\n",
       "| age | status_middle | status_lower | sector | disease |\n",
       "|---|---|---|---|---|\n",
       "| 33 | 0  | 0  | 0  | 0  |\n",
       "| 35 | 0  | 0  | 0  | 0  |\n",
       "|  6 | 0  | 0  | 0  | 0  |\n",
       "| 60 | 0  | 0  | 0  | 0  |\n",
       "| 18 | 0  | 1  | 0  | 1  |\n",
       "| 26 | 0  | 1  | 0  | 0  |\n",
       "\n"
      ],
      "text/plain": [
       "  age status_middle status_lower sector disease\n",
       "1 33  0             0            0      0      \n",
       "2 35  0             0            0      0      \n",
       "3  6  0             0            0      0      \n",
       "4 60  0             0            0      0      \n",
       "5 18  0             1            0      1      \n",
       "6 26  0             1            0      0      "
      ]
     },
     "metadata": {},
     "output_type": "display_data"
    }
   ],
   "source": [
    "data = read.csv('disease.csv')\n",
    "head(data)"
   ]
  },
  {
   "cell_type": "code",
   "execution_count": 22,
   "metadata": {},
   "outputs": [],
   "source": [
    "model3 = glm(disease~., data=data, family = binomial(logit))"
   ]
  },
  {
   "cell_type": "code",
   "execution_count": 23,
   "metadata": {},
   "outputs": [
    {
     "data": {
      "text/plain": [
       "\n",
       "Call:\n",
       "glm(formula = disease ~ ., family = binomial(logit), data = data)\n",
       "\n",
       "Deviance Residuals: \n",
       "    Min       1Q   Median       3Q      Max  \n",
       "-1.6552  -0.7529  -0.4788   0.8558   2.0977  \n",
       "\n",
       "Coefficients:\n",
       "              Estimate Std. Error z value Pr(>|z|)    \n",
       "(Intercept)   -2.31293    0.64259  -3.599 0.000319 ***\n",
       "age            0.02975    0.01350   2.203 0.027577 *  \n",
       "status_middle  0.40879    0.59900   0.682 0.494954    \n",
       "status_lower  -0.30525    0.60413  -0.505 0.613362    \n",
       "sector         1.57475    0.50162   3.139 0.001693 ** \n",
       "---\n",
       "Signif. codes:  0 '***' 0.001 '**' 0.01 '*' 0.05 '.' 0.1 ' ' 1\n",
       "\n",
       "(Dispersion parameter for binomial family taken to be 1)\n",
       "\n",
       "    Null deviance: 122.32  on 97  degrees of freedom\n",
       "Residual deviance: 101.05  on 93  degrees of freedom\n",
       "AIC: 111.05\n",
       "\n",
       "Number of Fisher Scoring iterations: 4\n"
      ]
     },
     "metadata": {},
     "output_type": "display_data"
    }
   ],
   "source": [
    "summary(model3)"
   ]
  },
  {
   "cell_type": "code",
   "execution_count": 24,
   "metadata": {},
   "outputs": [],
   "source": [
    "model4=glm(disease~age+sector, data=data, family = binomial(logit))"
   ]
  },
  {
   "cell_type": "code",
   "execution_count": 25,
   "metadata": {},
   "outputs": [
    {
     "data": {
      "text/plain": [
       "\n",
       "Call:\n",
       "glm(formula = disease ~ age + sector, family = binomial(logit), \n",
       "    data = data)\n",
       "\n",
       "Deviance Residuals: \n",
       "    Min       1Q   Median       3Q      Max  \n",
       "-1.7296  -0.7048  -0.4940   0.9870   2.0929  \n",
       "\n",
       "Coefficients:\n",
       "            Estimate Std. Error z value Pr(>|z|)    \n",
       "(Intercept) -2.33515    0.51113  -4.569 4.91e-06 ***\n",
       "age          0.02929    0.01317   2.224 0.026153 *  \n",
       "sector       1.67345    0.48734   3.434 0.000595 ***\n",
       "---\n",
       "Signif. codes:  0 '***' 0.001 '**' 0.01 '*' 0.05 '.' 0.1 ' ' 1\n",
       "\n",
       "(Dispersion parameter for binomial family taken to be 1)\n",
       "\n",
       "    Null deviance: 122.32  on 97  degrees of freedom\n",
       "Residual deviance: 102.26  on 95  degrees of freedom\n",
       "AIC: 108.26\n",
       "\n",
       "Number of Fisher Scoring iterations: 4\n"
      ]
     },
     "metadata": {},
     "output_type": "display_data"
    }
   ],
   "source": [
    "summary(model4)"
   ]
  },
  {
   "cell_type": "code",
   "execution_count": 27,
   "metadata": {},
   "outputs": [
    {
     "data": {
      "text/html": [
       "<table>\n",
       "<thead><tr><th scope=col>Resid. Df</th><th scope=col>Resid. Dev</th><th scope=col>Df</th><th scope=col>Deviance</th><th scope=col>Pr(&gt;Chi)</th></tr></thead>\n",
       "<tbody>\n",
       "\t<tr><td>93       </td><td>101.0542 </td><td>NA       </td><td>       NA</td><td>       NA</td></tr>\n",
       "\t<tr><td>95       </td><td>102.2593 </td><td>-2       </td><td>-1.205179</td><td>0.5473924</td></tr>\n",
       "</tbody>\n",
       "</table>\n"
      ],
      "text/latex": [
       "\\begin{tabular}{r|lllll}\n",
       " Resid. Df & Resid. Dev & Df & Deviance & Pr(>Chi)\\\\\n",
       "\\hline\n",
       "\t 93        & 101.0542  & NA        &        NA &        NA\\\\\n",
       "\t 95        & 102.2593  & -2        & -1.205179 & 0.5473924\\\\\n",
       "\\end{tabular}\n"
      ],
      "text/markdown": [
       "\n",
       "| Resid. Df | Resid. Dev | Df | Deviance | Pr(>Chi) |\n",
       "|---|---|---|---|---|\n",
       "| 93        | 101.0542  | NA        |        NA |        NA |\n",
       "| 95        | 102.2593  | -2        | -1.205179 | 0.5473924 |\n",
       "\n"
      ],
      "text/plain": [
       "  Resid. Df Resid. Dev Df Deviance  Pr(>Chi) \n",
       "1 93        101.0542   NA        NA        NA\n",
       "2 95        102.2593   -2 -1.205179 0.5473924"
      ]
     },
     "metadata": {},
     "output_type": "display_data"
    }
   ],
   "source": [
    "anova(model3, model4, test='Chisq')"
   ]
  },
  {
   "cell_type": "code",
   "execution_count": 29,
   "metadata": {},
   "outputs": [
    {
     "data": {
      "text/plain": [
       "\n",
       " 0  1 \n",
       "67 31 "
      ]
     },
     "metadata": {},
     "output_type": "display_data"
    },
    {
     "data": {
      "text/html": [
       "0.316326530612245"
      ],
      "text/latex": [
       "0.316326530612245"
      ],
      "text/markdown": [
       "0.316326530612245"
      ],
      "text/plain": [
       "[1] 0.3163265"
      ]
     },
     "metadata": {},
     "output_type": "display_data"
    }
   ],
   "source": [
    "table(data$disease)\n",
    "31/98"
   ]
  },
  {
   "cell_type": "code",
   "execution_count": 33,
   "metadata": {},
   "outputs": [
    {
     "data": {
      "text/plain": [
       "   \n",
       "    FALSE TRUE\n",
       "  0    47   20\n",
       "  1     8   23"
      ]
     },
     "metadata": {},
     "output_type": "display_data"
    }
   ],
   "source": [
    "kk = table(data$disease, model4$fitted.values>0.3163265)\n",
    "kk"
   ]
  },
  {
   "cell_type": "code",
   "execution_count": 34,
   "metadata": {},
   "outputs": [
    {
     "data": {
      "text/html": [
       "98"
      ],
      "text/latex": [
       "98"
      ],
      "text/markdown": [
       "98"
      ],
      "text/plain": [
       "[1] 98"
      ]
     },
     "metadata": {},
     "output_type": "display_data"
    }
   ],
   "source": [
    "sum(kk)"
   ]
  },
  {
   "cell_type": "code",
   "execution_count": 42,
   "metadata": {},
   "outputs": [],
   "source": [
    "reduce_M = c('민감도' = 23/31, '특이도' = 47/(47+20))"
   ]
  },
  {
   "cell_type": "code",
   "execution_count": 43,
   "metadata": {},
   "outputs": [
    {
     "data": {
      "text/plain": [
       "   \n",
       "    FALSE TRUE\n",
       "  0    49   18\n",
       "  1     8   23"
      ]
     },
     "metadata": {},
     "output_type": "display_data"
    }
   ],
   "source": [
    "kk1 = table(data$disease, model3$fitted.values>0.3163265)\n",
    "kk1"
   ]
  },
  {
   "cell_type": "code",
   "execution_count": 44,
   "metadata": {},
   "outputs": [
    {
     "data": {
      "text/html": [
       "<dl class=dl-horizontal>\n",
       "\t<dt>민감도</dt>\n",
       "\t\t<dd>0.741935483870968</dd>\n",
       "\t<dt>특이도</dt>\n",
       "\t\t<dd>0.73134328358209</dd>\n",
       "</dl>\n"
      ],
      "text/latex": [
       "\\begin{description*}\n",
       "\\item[민감도] 0.741935483870968\n",
       "\\item[특이도] 0.73134328358209\n",
       "\\end{description*}\n"
      ],
      "text/markdown": [
       "민감도\n",
       ":   0.741935483870968특이도\n",
       ":   0.73134328358209\n",
       "\n"
      ],
      "text/plain": [
       "   민감도    특이도 \n",
       "0.7419355 0.7313433 "
      ]
     },
     "metadata": {},
     "output_type": "display_data"
    },
    {
     "data": {
      "text/html": [
       "<dl class=dl-horizontal>\n",
       "\t<dt>민감도</dt>\n",
       "\t\t<dd>0.741935483870968</dd>\n",
       "\t<dt>특이도</dt>\n",
       "\t\t<dd>0.701492537313433</dd>\n",
       "</dl>\n"
      ],
      "text/latex": [
       "\\begin{description*}\n",
       "\\item[민감도] 0.741935483870968\n",
       "\\item[특이도] 0.701492537313433\n",
       "\\end{description*}\n"
      ],
      "text/markdown": [
       "민감도\n",
       ":   0.741935483870968특이도\n",
       ":   0.701492537313433\n",
       "\n"
      ],
      "text/plain": [
       "   민감도    특이도 \n",
       "0.7419355 0.7014925 "
      ]
     },
     "metadata": {},
     "output_type": "display_data"
    }
   ],
   "source": [
    "fulmode_M = c('민감도' = 23/31, '특이도' = 49/(49+18))\n",
    "fulmode_M\n",
    "reduce_M"
   ]
  },
  {
   "cell_type": "code",
   "execution_count": 45,
   "metadata": {},
   "outputs": [],
   "source": [
    "err_m1 = 28/sum(kk1)\n",
    "err_m2 = 26/sum(kk1)"
   ]
  },
  {
   "cell_type": "code",
   "execution_count": 46,
   "metadata": {},
   "outputs": [
    {
     "data": {
      "text/html": [
       "0.285714285714286"
      ],
      "text/latex": [
       "0.285714285714286"
      ],
      "text/markdown": [
       "0.285714285714286"
      ],
      "text/plain": [
       "[1] 0.2857143"
      ]
     },
     "metadata": {},
     "output_type": "display_data"
    },
    {
     "data": {
      "text/html": [
       "0.26530612244898"
      ],
      "text/latex": [
       "0.26530612244898"
      ],
      "text/markdown": [
       "0.26530612244898"
      ],
      "text/plain": [
       "[1] 0.2653061"
      ]
     },
     "metadata": {},
     "output_type": "display_data"
    }
   ],
   "source": [
    "err_m1\n",
    "err_m2"
   ]
  },
  {
   "cell_type": "code",
   "execution_count": 47,
   "metadata": {},
   "outputs": [
    {
     "name": "stderr",
     "output_type": "stream",
     "text": [
      "also installing the dependencies 'Rcpp', 'matrixStats', 'RcppArmadillo', 'SparseM', 'MatrixModels', 'conquer', 'openxlsx', 'minqa', 'nloptr', 'statmod', 'RcppEigen', 'mitools', 'JavaGD', 'carData', 'abind', 'pbkrtest', 'quantreg', 'maptools', 'rio', 'lme4', 'mvtnorm', 'TH.data', 'sandwich', 'survey', 'estimability', 'JGR', 'car', 'rJava', 'e1071', 'multcomp', 'effects'\n",
      "\n"
     ]
    },
    {
     "name": "stdout",
     "output_type": "stream",
     "text": [
      "\n",
      "  There are binary versions available but the source versions are later:\n",
      "         binary source needs_compilation\n",
      "quantreg   5.55   5.61              TRUE\n",
      "rJava    0.9-12 0.9-13              TRUE\n",
      "\n",
      "  Binaries will be installed\n",
      "package 'Rcpp' successfully unpacked and MD5 sums checked\n"
     ]
    },
    {
     "name": "stderr",
     "output_type": "stream",
     "text": [
      "Warning message:\n",
      "\"cannot remove prior installation of package 'Rcpp'\"Warning message in file.copy(savedcopy, lib, recursive = TRUE):\n",
      "\"C:\\ProgramData\\Anaconda3\\Lib\\R\\library\\00LOCK\\Rcpp\\libs\\x64\\Rcpp.dll를 C:\\ProgramData\\Anaconda3\\Lib\\R\\library\\Rcpp\\libs\\x64\\Rcpp.dll로 복사하는데 문제가 발생했습니다: Permission denied\"Warning message:\n",
      "\"restored 'Rcpp'\""
     ]
    },
    {
     "name": "stdout",
     "output_type": "stream",
     "text": [
      "package 'matrixStats' successfully unpacked and MD5 sums checked\n",
      "package 'RcppArmadillo' successfully unpacked and MD5 sums checked\n",
      "package 'SparseM' successfully unpacked and MD5 sums checked\n",
      "package 'MatrixModels' successfully unpacked and MD5 sums checked\n",
      "package 'conquer' successfully unpacked and MD5 sums checked\n",
      "package 'openxlsx' successfully unpacked and MD5 sums checked\n",
      "package 'minqa' successfully unpacked and MD5 sums checked\n",
      "package 'nloptr' successfully unpacked and MD5 sums checked\n",
      "package 'statmod' successfully unpacked and MD5 sums checked\n",
      "package 'RcppEigen' successfully unpacked and MD5 sums checked\n",
      "package 'mitools' successfully unpacked and MD5 sums checked\n",
      "package 'JavaGD' successfully unpacked and MD5 sums checked\n",
      "package 'carData' successfully unpacked and MD5 sums checked\n",
      "package 'abind' successfully unpacked and MD5 sums checked\n",
      "package 'pbkrtest' successfully unpacked and MD5 sums checked\n",
      "package 'quantreg' successfully unpacked and MD5 sums checked\n",
      "package 'maptools' successfully unpacked and MD5 sums checked\n",
      "package 'rio' successfully unpacked and MD5 sums checked\n",
      "package 'lme4' successfully unpacked and MD5 sums checked\n",
      "package 'mvtnorm' successfully unpacked and MD5 sums checked\n",
      "package 'TH.data' successfully unpacked and MD5 sums checked\n",
      "package 'sandwich' successfully unpacked and MD5 sums checked\n",
      "package 'survey' successfully unpacked and MD5 sums checked\n",
      "package 'estimability' successfully unpacked and MD5 sums checked\n",
      "package 'JGR' successfully unpacked and MD5 sums checked\n",
      "package 'car' successfully unpacked and MD5 sums checked\n",
      "package 'rJava' successfully unpacked and MD5 sums checked\n",
      "package 'e1071' successfully unpacked and MD5 sums checked\n",
      "package 'multcomp' successfully unpacked and MD5 sums checked\n",
      "package 'effects' successfully unpacked and MD5 sums checked\n",
      "package 'Deducer' successfully unpacked and MD5 sums checked\n",
      "\n",
      "The downloaded binary packages are in\n",
      "\tC:\\Users\\15\\AppData\\Local\\Temp\\Rtmps5Sxj5\\downloaded_packages\n"
     ]
    }
   ],
   "source": [
    "install.packages('Deducer')"
   ]
  },
  {
   "cell_type": "code",
   "execution_count": 50,
   "metadata": {},
   "outputs": [],
   "source": [
    "library(Deducer)"
   ]
  },
  {
   "cell_type": "code",
   "execution_count": 49,
   "metadata": {},
   "outputs": [
    {
     "data": {
      "image/png": "[encoded data removed]",
      "text/plain": [
       "plot without title"
      ]
     },
     "metadata": {},
     "output_type": "display_data"
    }
   ],
   "source": [
    "rocplot(model3)"
   ]
  },
  {
   "cell_type": "code",
   "execution_count": 51,
   "metadata": {},
   "outputs": [
    {
     "data": {
      "image/png": "[encoded data removed]",
      "text/plain": [
       "plot without title"
      ]
     },
     "metadata": {},
     "output_type": "display_data"
    }
   ],
   "source": [
    "rocplot(model4)"
   ]
  },
  {
   "cell_type": "markdown",
   "metadata": {},
   "source": [
    "### 연습문제"
   ]
  },
  {
   "cell_type": "code",
   "execution_count": 52,
   "metadata": {},
   "outputs": [
    {
     "data": {
      "text/html": [
       "<table>\n",
       "<thead><tr><th scope=col>flushot</th><th scope=col>age</th><th scope=col>aware</th><th scope=col>gender</th></tr></thead>\n",
       "<tbody>\n",
       "\t<tr><td>0 </td><td>59</td><td>52</td><td>0 </td></tr>\n",
       "\t<tr><td>0 </td><td>61</td><td>55</td><td>1 </td></tr>\n",
       "\t<tr><td>1 </td><td>82</td><td>51</td><td>0 </td></tr>\n",
       "\t<tr><td>0 </td><td>51</td><td>70</td><td>0 </td></tr>\n",
       "\t<tr><td>0 </td><td>53</td><td>70</td><td>0 </td></tr>\n",
       "\t<tr><td>0 </td><td>62</td><td>49</td><td>1 </td></tr>\n",
       "</tbody>\n",
       "</table>\n"
      ],
      "text/latex": [
       "\\begin{tabular}{r|llll}\n",
       " flushot & age & aware & gender\\\\\n",
       "\\hline\n",
       "\t 0  & 59 & 52 & 0 \\\\\n",
       "\t 0  & 61 & 55 & 1 \\\\\n",
       "\t 1  & 82 & 51 & 0 \\\\\n",
       "\t 0  & 51 & 70 & 0 \\\\\n",
       "\t 0  & 53 & 70 & 0 \\\\\n",
       "\t 0  & 62 & 49 & 1 \\\\\n",
       "\\end{tabular}\n"
      ],
      "text/markdown": [
       "\n",
       "| flushot | age | aware | gender |\n",
       "|---|---|---|---|\n",
       "| 0  | 59 | 52 | 0  |\n",
       "| 0  | 61 | 55 | 1  |\n",
       "| 1  | 82 | 51 | 0  |\n",
       "| 0  | 51 | 70 | 0  |\n",
       "| 0  | 53 | 70 | 0  |\n",
       "| 0  | 62 | 49 | 1  |\n",
       "\n"
      ],
      "text/plain": [
       "  flushot age aware gender\n",
       "1 0       59  52    0     \n",
       "2 0       61  55    1     \n",
       "3 1       82  51    0     \n",
       "4 0       51  70    0     \n",
       "5 0       53  70    0     \n",
       "6 0       62  49    1     "
      ]
     },
     "metadata": {},
     "output_type": "display_data"
    }
   ],
   "source": [
    "data = read.csv('flushot.csv')\n",
    "head(data)"
   ]
  },
  {
   "cell_type": "code",
   "execution_count": 54,
   "metadata": {},
   "outputs": [],
   "source": [
    "log_model = glm(flushot~.,data=data, family = binomial(logit))"
   ]
  },
  {
   "cell_type": "code",
   "execution_count": 55,
   "metadata": {},
   "outputs": [
    {
     "data": {
      "text/plain": [
       "\n",
       "Call:\n",
       "glm(formula = flushot ~ ., family = binomial(logit), data = data)\n",
       "\n",
       "Deviance Residuals: \n",
       "    Min       1Q   Median       3Q      Max  \n",
       "-1.4037  -0.5637  -0.3352  -0.1542   2.9394  \n",
       "\n",
       "Coefficients:\n",
       "            Estimate Std. Error z value Pr(>|z|)   \n",
       "(Intercept) -1.17716    2.98242  -0.395  0.69307   \n",
       "age          0.07279    0.03038   2.396  0.01658 * \n",
       "aware       -0.09899    0.03348  -2.957  0.00311 **\n",
       "gender       0.43397    0.52179   0.832  0.40558   \n",
       "---\n",
       "Signif. codes:  0 '***' 0.001 '**' 0.01 '*' 0.05 '.' 0.1 ' ' 1\n",
       "\n",
       "(Dispersion parameter for binomial family taken to be 1)\n",
       "\n",
       "    Null deviance: 134.94  on 158  degrees of freedom\n",
       "Residual deviance: 105.09  on 155  degrees of freedom\n",
       "AIC: 113.09\n",
       "\n",
       "Number of Fisher Scoring iterations: 6\n"
      ]
     },
     "metadata": {},
     "output_type": "display_data"
    }
   ],
   "source": [
    "summary(log_model)"
   ]
  },
  {
   "cell_type": "code",
   "execution_count": 56,
   "metadata": {},
   "outputs": [
    {
     "data": {
      "text/html": [
       "1.07550465722015"
      ],
      "text/latex": [
       "1.07550465722015"
      ],
      "text/markdown": [
       "1.07550465722015"
      ],
      "text/plain": [
       "[1] 1.075505"
      ]
     },
     "metadata": {},
     "output_type": "display_data"
    }
   ],
   "source": [
    "exp(0.07279)"
   ]
  },
  {
   "cell_type": "code",
   "execution_count": 57,
   "metadata": {},
   "outputs": [
    {
     "data": {
      "text/html": [
       "0.905751765495916"
      ],
      "text/latex": [
       "0.905751765495916"
      ],
      "text/markdown": [
       "0.905751765495916"
      ],
      "text/plain": [
       "[1] 0.9057518"
      ]
     },
     "metadata": {},
     "output_type": "display_data"
    }
   ],
   "source": [
    "exp(-0.09899)"
   ]
  },
  {
   "cell_type": "code",
   "execution_count": 58,
   "metadata": {},
   "outputs": [
    {
     "data": {
      "text/html": [
       "1.54337256624498"
      ],
      "text/latex": [
       "1.54337256624498"
      ],
      "text/markdown": [
       "1.54337256624498"
      ],
      "text/plain": [
       "[1] 1.543373"
      ]
     },
     "metadata": {},
     "output_type": "display_data"
    }
   ],
   "source": [
    "exp(0.43397)"
   ]
  },
  {
   "cell_type": "code",
   "execution_count": 59,
   "metadata": {},
   "outputs": [],
   "source": [
    "log_model2 = glm(flushot~age+aware, data=data, family = binomial())"
   ]
  },
  {
   "cell_type": "code",
   "execution_count": 60,
   "metadata": {},
   "outputs": [
    {
     "data": {
      "text/plain": [
       "\n",
       "Call:\n",
       "glm(formula = flushot ~ age + aware, family = binomial(), data = data)\n",
       "\n",
       "Deviance Residuals: \n",
       "    Min       1Q   Median       3Q      Max  \n",
       "-1.4479  -0.5708  -0.3390  -0.1629   2.8430  \n",
       "\n",
       "Coefficients:\n",
       "            Estimate Std. Error z value Pr(>|z|)   \n",
       "(Intercept) -1.45778    2.91534  -0.500  0.61705   \n",
       "age          0.07787    0.02970   2.622  0.00873 **\n",
       "aware       -0.09547    0.03241  -2.946  0.00322 **\n",
       "---\n",
       "Signif. codes:  0 '***' 0.001 '**' 0.01 '*' 0.05 '.' 0.1 ' ' 1\n",
       "\n",
       "(Dispersion parameter for binomial family taken to be 1)\n",
       "\n",
       "    Null deviance: 134.94  on 158  degrees of freedom\n",
       "Residual deviance: 105.80  on 156  degrees of freedom\n",
       "AIC: 111.8\n",
       "\n",
       "Number of Fisher Scoring iterations: 6\n"
      ]
     },
     "metadata": {},
     "output_type": "display_data"
    }
   ],
   "source": [
    "summary(log_model2)"
   ]
  },
  {
   "cell_type": "code",
   "execution_count": 62,
   "metadata": {},
   "outputs": [
    {
     "data": {
      "text/plain": [
       "\n",
       "  0   1 \n",
       "135  24 "
      ]
     },
     "metadata": {},
     "output_type": "display_data"
    }
   ],
   "source": [
    "table(data$flushot)"
   ]
  },
  {
   "cell_type": "code",
   "execution_count": 63,
   "metadata": {},
   "outputs": [
    {
     "data": {
      "text/html": [
       "0.151898734177215"
      ],
      "text/latex": [
       "0.151898734177215"
      ],
      "text/markdown": [
       "0.151898734177215"
      ],
      "text/plain": [
       "[1] 0.1518987"
      ]
     },
     "metadata": {},
     "output_type": "display_data"
    }
   ],
   "source": [
    "24/(134+24)"
   ]
  },
  {
   "cell_type": "code",
   "execution_count": 64,
   "metadata": {},
   "outputs": [
    {
     "data": {
      "text/plain": [
       "   \n",
       "    FALSE TRUE\n",
       "  0    95   40\n",
       "  1     5   19"
      ]
     },
     "metadata": {},
     "output_type": "display_data"
    }
   ],
   "source": [
    "table(data$flushot, log_model2$fitted.values>0.1518987)"
   ]
  },
  {
   "cell_type": "code",
   "execution_count": 68,
   "metadata": {},
   "outputs": [],
   "source": [
    "tab_01 = table(data$flushot, log_model2$fitted.values > 0.1)"
   ]
  },
  {
   "cell_type": "code",
   "execution_count": 69,
   "metadata": {},
   "outputs": [],
   "source": [
    "tab_015 = table(data$flushot, log_model2$fitted.values > 0.15)"
   ]
  },
  {
   "cell_type": "code",
   "execution_count": 70,
   "metadata": {},
   "outputs": [],
   "source": [
    "tab_02 = table(data$flushot, log_model2$fitted.values > 0.2)"
   ]
  },
  {
   "cell_type": "code",
   "execution_count": 66,
   "metadata": {},
   "outputs": [
    {
     "data": {
      "text/html": [
       "<dl class=dl-horizontal>\n",
       "\t<dt>민감도</dt>\n",
       "\t\t<dd>0.791666666666667</dd>\n",
       "\t<dt>특이도</dt>\n",
       "\t\t<dd>0.703703703703704</dd>\n",
       "\t<dt>에러율</dt>\n",
       "\t\t<dd>0.283018867924528</dd>\n",
       "</dl>\n"
      ],
      "text/latex": [
       "\\begin{description*}\n",
       "\\item[민감도] 0.791666666666667\n",
       "\\item[특이도] 0.703703703703704\n",
       "\\item[에러율] 0.283018867924528\n",
       "\\end{description*}\n"
      ],
      "text/markdown": [
       "민감도\n",
       ":   0.791666666666667특이도\n",
       ":   0.703703703703704에러율\n",
       ":   0.283018867924528\n",
       "\n"
      ],
      "text/plain": [
       "   민감도    특이도    에러율 \n",
       "0.7916667 0.7037037 0.2830189 "
      ]
     },
     "metadata": {},
     "output_type": "display_data"
    }
   ],
   "source": [
    "c('민감도' = 19/(5+19), '특이도' = 95/(95+40), '에러율' = 45/sum(tt))"
   ]
  },
  {
   "cell_type": "code",
   "execution_count": 67,
   "metadata": {},
   "outputs": [
    {
     "data": {
      "image/png": "[encoded data removed]",
      "text/plain": [
       "plot without title"
      ]
     },
     "metadata": {},
     "output_type": "display_data"
    }
   ],
   "source": [
    "rocplot(log_model2)"
   ]
  },
  {
   "cell_type": "code",
   "execution_count": 72,
   "metadata": {},
   "outputs": [
    {
     "data": {
      "text/plain": [
       "   \n",
       "    FALSE TRUE\n",
       "  0    77   58\n",
       "  1     3   21"
      ]
     },
     "metadata": {},
     "output_type": "display_data"
    },
    {
     "data": {
      "text/plain": [
       "   \n",
       "    FALSE TRUE\n",
       "  0    95   40\n",
       "  1     4   20"
      ]
     },
     "metadata": {},
     "output_type": "display_data"
    },
    {
     "data": {
      "text/plain": [
       "   \n",
       "    FALSE TRUE\n",
       "  0   107   28\n",
       "  1    12   12"
      ]
     },
     "metadata": {},
     "output_type": "display_data"
    }
   ],
   "source": [
    "tab_01\n",
    "tab_015\n",
    "tab_02"
   ]
  },
  {
   "cell_type": "code",
   "execution_count": 80,
   "metadata": {},
   "outputs": [
    {
     "data": {
      "text/html": [
       "<dl class=dl-horizontal>\n",
       "\t<dt>민감도</dt>\n",
       "\t\t<dd>0.875</dd>\n",
       "\t<dt>특이도</dt>\n",
       "\t\t<dd>0.57037037037037</dd>\n",
       "\t<dt>에러율</dt>\n",
       "\t\t<dd>0.383647798742138</dd>\n",
       "</dl>\n"
      ],
      "text/latex": [
       "\\begin{description*}\n",
       "\\item[민감도] 0.875\n",
       "\\item[특이도] 0.57037037037037\n",
       "\\item[에러율] 0.383647798742138\n",
       "\\end{description*}\n"
      ],
      "text/markdown": [
       "민감도\n",
       ":   0.875특이도\n",
       ":   0.57037037037037에러율\n",
       ":   0.383647798742138\n",
       "\n"
      ],
      "text/plain": [
       "   민감도    특이도    에러율 \n",
       "0.8750000 0.5703704 0.3836478 "
      ]
     },
     "metadata": {},
     "output_type": "display_data"
    }
   ],
   "source": [
    "res01 = c(민감도 = tab_01[2,2]/sum(tab_01[2,]), \n",
    "          특이도 = tab_01[1,1]/sum(tab_01[1,]),\n",
    "          에러율 = (tab_01[1,2] + tab_01[2,1])/sum(tab_01))\n",
    "res01"
   ]
  },
  {
   "cell_type": "code",
   "execution_count": 82,
   "metadata": {},
   "outputs": [
    {
     "data": {
      "text/html": [
       "<dl class=dl-horizontal>\n",
       "\t<dt>민감도</dt>\n",
       "\t\t<dd>0.833333333333333</dd>\n",
       "\t<dt>특이도</dt>\n",
       "\t\t<dd>0.703703703703704</dd>\n",
       "\t<dt>에러율</dt>\n",
       "\t\t<dd>0.276729559748428</dd>\n",
       "</dl>\n"
      ],
      "text/latex": [
       "\\begin{description*}\n",
       "\\item[민감도] 0.833333333333333\n",
       "\\item[특이도] 0.703703703703704\n",
       "\\item[에러율] 0.276729559748428\n",
       "\\end{description*}\n"
      ],
      "text/markdown": [
       "민감도\n",
       ":   0.833333333333333특이도\n",
       ":   0.703703703703704에러율\n",
       ":   0.276729559748428\n",
       "\n"
      ],
      "text/plain": [
       "   민감도    특이도    에러율 \n",
       "0.8333333 0.7037037 0.2767296 "
      ]
     },
     "metadata": {},
     "output_type": "display_data"
    }
   ],
   "source": [
    "res015 = c(민감도 = tab_015[2,2]/sum(tab_015[2,]), \n",
    "          특이도 = tab_015[1,1]/sum(tab_015[1,]),\n",
    "          에러율 = (tab_015[1,2] + tab_015[2,1])/sum(tab_015))\n",
    "res015"
   ]
  },
  {
   "cell_type": "code",
   "execution_count": 84,
   "metadata": {},
   "outputs": [
    {
     "data": {
      "text/html": [
       "<dl class=dl-horizontal>\n",
       "\t<dt>민감도</dt>\n",
       "\t\t<dd>0.5</dd>\n",
       "\t<dt>특이도</dt>\n",
       "\t\t<dd>0.792592592592593</dd>\n",
       "\t<dt>에러율</dt>\n",
       "\t\t<dd>0.251572327044025</dd>\n",
       "</dl>\n"
      ],
      "text/latex": [
       "\\begin{description*}\n",
       "\\item[민감도] 0.5\n",
       "\\item[특이도] 0.792592592592593\n",
       "\\item[에러율] 0.251572327044025\n",
       "\\end{description*}\n"
      ],
      "text/markdown": [
       "민감도\n",
       ":   0.5특이도\n",
       ":   0.792592592592593에러율\n",
       ":   0.251572327044025\n",
       "\n"
      ],
      "text/plain": [
       "   민감도    특이도    에러율 \n",
       "0.5000000 0.7925926 0.2515723 "
      ]
     },
     "metadata": {},
     "output_type": "display_data"
    }
   ],
   "source": [
    "res02 = c(민감도 = tab_02[2,2]/sum(tab_02[2,]), \n",
    "          특이도 = tab_02[1,1]/sum(tab_02[1,]),\n",
    "          에러율 = (tab_02[1,2] + tab_02[2,1])/sum(tab_02))\n",
    "res02 "
   ]
  },
  {
   "cell_type": "code",
   "execution_count": 85,
   "metadata": {},
   "outputs": [
    {
     "data": {
      "text/html": [
       "<dl class=dl-horizontal>\n",
       "\t<dt>민감도</dt>\n",
       "\t\t<dd>0.875</dd>\n",
       "\t<dt>특이도</dt>\n",
       "\t\t<dd>0.57037037037037</dd>\n",
       "\t<dt>에러율</dt>\n",
       "\t\t<dd>0.383647798742138</dd>\n",
       "</dl>\n"
      ],
      "text/latex": [
       "\\begin{description*}\n",
       "\\item[민감도] 0.875\n",
       "\\item[특이도] 0.57037037037037\n",
       "\\item[에러율] 0.383647798742138\n",
       "\\end{description*}\n"
      ],
      "text/markdown": [
       "민감도\n",
       ":   0.875특이도\n",
       ":   0.57037037037037에러율\n",
       ":   0.383647798742138\n",
       "\n"
      ],
      "text/plain": [
       "   민감도    특이도    에러율 \n",
       "0.8750000 0.5703704 0.3836478 "
      ]
     },
     "metadata": {},
     "output_type": "display_data"
    },
    {
     "data": {
      "text/html": [
       "<dl class=dl-horizontal>\n",
       "\t<dt>민감도</dt>\n",
       "\t\t<dd>0.833333333333333</dd>\n",
       "\t<dt>특이도</dt>\n",
       "\t\t<dd>0.703703703703704</dd>\n",
       "\t<dt>에러율</dt>\n",
       "\t\t<dd>0.276729559748428</dd>\n",
       "</dl>\n"
      ],
      "text/latex": [
       "\\begin{description*}\n",
       "\\item[민감도] 0.833333333333333\n",
       "\\item[특이도] 0.703703703703704\n",
       "\\item[에러율] 0.276729559748428\n",
       "\\end{description*}\n"
      ],
      "text/markdown": [
       "민감도\n",
       ":   0.833333333333333특이도\n",
       ":   0.703703703703704에러율\n",
       ":   0.276729559748428\n",
       "\n"
      ],
      "text/plain": [
       "   민감도    특이도    에러율 \n",
       "0.8333333 0.7037037 0.2767296 "
      ]
     },
     "metadata": {},
     "output_type": "display_data"
    },
    {
     "data": {
      "text/html": [
       "<dl class=dl-horizontal>\n",
       "\t<dt>민감도</dt>\n",
       "\t\t<dd>0.5</dd>\n",
       "\t<dt>특이도</dt>\n",
       "\t\t<dd>0.792592592592593</dd>\n",
       "\t<dt>에러율</dt>\n",
       "\t\t<dd>0.251572327044025</dd>\n",
       "</dl>\n"
      ],
      "text/latex": [
       "\\begin{description*}\n",
       "\\item[민감도] 0.5\n",
       "\\item[특이도] 0.792592592592593\n",
       "\\item[에러율] 0.251572327044025\n",
       "\\end{description*}\n"
      ],
      "text/markdown": [
       "민감도\n",
       ":   0.5특이도\n",
       ":   0.792592592592593에러율\n",
       ":   0.251572327044025\n",
       "\n"
      ],
      "text/plain": [
       "   민감도    특이도    에러율 \n",
       "0.5000000 0.7925926 0.2515723 "
      ]
     },
     "metadata": {},
     "output_type": "display_data"
    }
   ],
   "source": [
    "res01\n",
    "res015\n",
    "res02"
   ]
  },
  {
   "cell_type": "code",
   "execution_count": 86,
   "metadata": {},
   "outputs": [],
   "source": [
    "crime = read.csv(\"http://datasets.flowingdata.com/crimeRatesByState-formatted.csv\")"
   ]
  },
  {
   "cell_type": "code",
   "execution_count": 90,
   "metadata": {},
   "outputs": [
    {
     "data": {
      "text/html": [
       "<table>\n",
       "<thead><tr><th></th><th scope=col>state</th><th scope=col>murder</th><th scope=col>forcible_rape</th><th scope=col>robbery</th><th scope=col>aggravated_assault</th><th scope=col>burglary</th><th scope=col>larceny_theft</th><th scope=col>motor_vehicle_theft</th></tr></thead>\n",
       "<tbody>\n",
       "\t<tr><th scope=row>United States </th><td>United States </td><td>5.6           </td><td>31.7          </td><td>140.7         </td><td>291.1         </td><td> 726.7        </td><td>2286.3        </td><td>416.7         </td></tr>\n",
       "\t<tr><th scope=row>Alabama </th><td>Alabama       </td><td>8.2           </td><td>34.3          </td><td>141.4         </td><td>247.8         </td><td> 953.8        </td><td>2650.0        </td><td>288.3         </td></tr>\n",
       "\t<tr><th scope=row>Alaska </th><td>Alaska        </td><td>4.8           </td><td>81.1          </td><td> 80.9         </td><td>465.1         </td><td> 622.5        </td><td>2599.1        </td><td>391.0         </td></tr>\n",
       "\t<tr><th scope=row>Arizona </th><td>Arizona       </td><td>7.5           </td><td>33.8          </td><td>144.4         </td><td>327.4         </td><td> 948.4        </td><td>2965.2        </td><td>924.4         </td></tr>\n",
       "\t<tr><th scope=row>Arkansas</th><td>Arkansas      </td><td>6.7           </td><td>42.9          </td><td> 91.1         </td><td>386.8         </td><td>1084.6        </td><td>2711.2        </td><td>262.1         </td></tr>\n",
       "\t<tr><th scope=row>California </th><td>California    </td><td>6.9           </td><td>26.0          </td><td>176.1         </td><td>317.3         </td><td> 693.3        </td><td>1916.5        </td><td>712.8         </td></tr>\n",
       "</tbody>\n",
       "</table>\n"
      ],
      "text/latex": [
       "\\begin{tabular}{r|llllllll}\n",
       "  & state & murder & forcible\\_rape & robbery & aggravated\\_assault & burglary & larceny\\_theft & motor\\_vehicle\\_theft\\\\\n",
       "\\hline\n",
       "\tUnited States  & United States  & 5.6            & 31.7           & 140.7          & 291.1          &  726.7         & 2286.3         & 416.7         \\\\\n",
       "\tAlabama  & Alabama        & 8.2            & 34.3           & 141.4          & 247.8          &  953.8         & 2650.0         & 288.3         \\\\\n",
       "\tAlaska  & Alaska         & 4.8            & 81.1           &  80.9          & 465.1          &  622.5         & 2599.1         & 391.0         \\\\\n",
       "\tArizona  & Arizona        & 7.5            & 33.8           & 144.4          & 327.4          &  948.4         & 2965.2         & 924.4         \\\\\n",
       "\tArkansas & Arkansas       & 6.7            & 42.9           &  91.1          & 386.8          & 1084.6         & 2711.2         & 262.1         \\\\\n",
       "\tCalifornia  & California     & 6.9            & 26.0           & 176.1          & 317.3          &  693.3         & 1916.5         & 712.8         \\\\\n",
       "\\end{tabular}\n"
      ],
      "text/markdown": [
       "\n",
       "| <!--/--> | state | murder | forcible_rape | robbery | aggravated_assault | burglary | larceny_theft | motor_vehicle_theft |\n",
       "|---|---|---|---|---|---|---|---|---|\n",
       "| United States  | United States  | 5.6            | 31.7           | 140.7          | 291.1          |  726.7         | 2286.3         | 416.7          |\n",
       "| Alabama  | Alabama        | 8.2            | 34.3           | 141.4          | 247.8          |  953.8         | 2650.0         | 288.3          |\n",
       "| Alaska  | Alaska         | 4.8            | 81.1           |  80.9          | 465.1          |  622.5         | 2599.1         | 391.0          |\n",
       "| Arizona  | Arizona        | 7.5            | 33.8           | 144.4          | 327.4          |  948.4         | 2965.2         | 924.4          |\n",
       "| Arkansas | Arkansas       | 6.7            | 42.9           |  91.1          | 386.8          | 1084.6         | 2711.2         | 262.1          |\n",
       "| California  | California     | 6.9            | 26.0           | 176.1          | 317.3          |  693.3         | 1916.5         | 712.8          |\n",
       "\n"
      ],
      "text/plain": [
       "               state          murder forcible_rape robbery aggravated_assault\n",
       "United States  United States  5.6    31.7          140.7   291.1             \n",
       "Alabama        Alabama        8.2    34.3          141.4   247.8             \n",
       "Alaska         Alaska         4.8    81.1           80.9   465.1             \n",
       "Arizona        Arizona        7.5    33.8          144.4   327.4             \n",
       "Arkansas       Arkansas       6.7    42.9           91.1   386.8             \n",
       "California     California     6.9    26.0          176.1   317.3             \n",
       "               burglary larceny_theft motor_vehicle_theft\n",
       "United States   726.7   2286.3        416.7              \n",
       "Alabama         953.8   2650.0        288.3              \n",
       "Alaska          622.5   2599.1        391.0              \n",
       "Arizona         948.4   2965.2        924.4              \n",
       "Arkansas       1084.6   2711.2        262.1              \n",
       "California      693.3   1916.5        712.8              "
      ]
     },
     "metadata": {},
     "output_type": "display_data"
    }
   ],
   "source": [
    "head(crime)"
   ]
  },
  {
   "cell_type": "code",
   "execution_count": 89,
   "metadata": {},
   "outputs": [],
   "source": [
    "rownames(crime)=crime[,1]"
   ]
  },
  {
   "cell_type": "code",
   "execution_count": 91,
   "metadata": {},
   "outputs": [
    {
     "data": {
      "text/html": [
       "<ol class=list-inline>\n",
       "\t<li>'United States '</li>\n",
       "\t<li>'Alabama '</li>\n",
       "\t<li>'Alaska '</li>\n",
       "\t<li>'Arizona '</li>\n",
       "\t<li>'Arkansas'</li>\n",
       "\t<li>'California '</li>\n",
       "\t<li>'Colorado '</li>\n",
       "\t<li>'Connecticut '</li>\n",
       "\t<li>'Delaware '</li>\n",
       "\t<li>'District of Columbia'</li>\n",
       "\t<li>'Florida '</li>\n",
       "\t<li>'Georgia '</li>\n",
       "\t<li>'Hawaii '</li>\n",
       "\t<li>'Idaho '</li>\n",
       "\t<li>'Illinois '</li>\n",
       "\t<li>'Indiana '</li>\n",
       "\t<li>'Iowa '</li>\n",
       "\t<li><span style=white-space:pre-wrap>'Kansas  '</span></li>\n",
       "\t<li><span style=white-space:pre-wrap>'Kentucky  '</span></li>\n",
       "\t<li>'Louisiana '</li>\n",
       "\t<li>'Maine '</li>\n",
       "\t<li>'Maryland '</li>\n",
       "\t<li>'Massachusetts'</li>\n",
       "\t<li>'Michigan'</li>\n",
       "\t<li>'Minnesota '</li>\n",
       "\t<li>'Mississippi '</li>\n",
       "\t<li>'Missouri '</li>\n",
       "\t<li><span style=white-space:pre-wrap>'Montana  '</span></li>\n",
       "\t<li>'Nebraska '</li>\n",
       "\t<li>'Nevada '</li>\n",
       "\t<li>'New Hampshire '</li>\n",
       "\t<li>'New Jersey'</li>\n",
       "\t<li>'New Mexico '</li>\n",
       "\t<li>'New York'</li>\n",
       "\t<li>'North Carolina '</li>\n",
       "\t<li>'North Dakota '</li>\n",
       "\t<li>'Ohio '</li>\n",
       "\t<li>'Oklahoma '</li>\n",
       "\t<li>'Oregon '</li>\n",
       "\t<li>'Pennsylvania'</li>\n",
       "\t<li>'Rhode Island '</li>\n",
       "\t<li>'South Carolina '</li>\n",
       "\t<li>'South Dakota '</li>\n",
       "\t<li>'Tennessee '</li>\n",
       "\t<li>'Texas '</li>\n",
       "\t<li>'Utah'</li>\n",
       "\t<li>'Vermont '</li>\n",
       "\t<li>'Virginia '</li>\n",
       "\t<li>'Washington '</li>\n",
       "\t<li>'West Virginia '</li>\n",
       "\t<li>'Wisconsin '</li>\n",
       "\t<li>'Wyoming '</li>\n",
       "</ol>\n"
      ],
      "text/latex": [
       "\\begin{enumerate*}\n",
       "\\item 'United States '\n",
       "\\item 'Alabama '\n",
       "\\item 'Alaska '\n",
       "\\item 'Arizona '\n",
       "\\item 'Arkansas'\n",
       "\\item 'California '\n",
       "\\item 'Colorado '\n",
       "\\item 'Connecticut '\n",
       "\\item 'Delaware '\n",
       "\\item 'District of Columbia'\n",
       "\\item 'Florida '\n",
       "\\item 'Georgia '\n",
       "\\item 'Hawaii '\n",
       "\\item 'Idaho '\n",
       "\\item 'Illinois '\n",
       "\\item 'Indiana '\n",
       "\\item 'Iowa '\n",
       "\\item 'Kansas  '\n",
       "\\item 'Kentucky  '\n",
       "\\item 'Louisiana '\n",
       "\\item 'Maine '\n",
       "\\item 'Maryland '\n",
       "\\item 'Massachusetts'\n",
       "\\item 'Michigan'\n",
       "\\item 'Minnesota '\n",
       "\\item 'Mississippi '\n",
       "\\item 'Missouri '\n",
       "\\item 'Montana  '\n",
       "\\item 'Nebraska '\n",
       "\\item 'Nevada '\n",
       "\\item 'New Hampshire '\n",
       "\\item 'New Jersey'\n",
       "\\item 'New Mexico '\n",
       "\\item 'New York'\n",
       "\\item 'North Carolina '\n",
       "\\item 'North Dakota '\n",
       "\\item 'Ohio '\n",
       "\\item 'Oklahoma '\n",
       "\\item 'Oregon '\n",
       "\\item 'Pennsylvania'\n",
       "\\item 'Rhode Island '\n",
       "\\item 'South Carolina '\n",
       "\\item 'South Dakota '\n",
       "\\item 'Tennessee '\n",
       "\\item 'Texas '\n",
       "\\item 'Utah'\n",
       "\\item 'Vermont '\n",
       "\\item 'Virginia '\n",
       "\\item 'Washington '\n",
       "\\item 'West Virginia '\n",
       "\\item 'Wisconsin '\n",
       "\\item 'Wyoming '\n",
       "\\end{enumerate*}\n"
      ],
      "text/markdown": [
       "1. 'United States '\n",
       "2. 'Alabama '\n",
       "3. 'Alaska '\n",
       "4. 'Arizona '\n",
       "5. 'Arkansas'\n",
       "6. 'California '\n",
       "7. 'Colorado '\n",
       "8. 'Connecticut '\n",
       "9. 'Delaware '\n",
       "10. 'District of Columbia'\n",
       "11. 'Florida '\n",
       "12. 'Georgia '\n",
       "13. 'Hawaii '\n",
       "14. 'Idaho '\n",
       "15. 'Illinois '\n",
       "16. 'Indiana '\n",
       "17. 'Iowa '\n",
       "18. <span style=white-space:pre-wrap>'Kansas  '</span>\n",
       "19. <span style=white-space:pre-wrap>'Kentucky  '</span>\n",
       "20. 'Louisiana '\n",
       "21. 'Maine '\n",
       "22. 'Maryland '\n",
       "23. 'Massachusetts'\n",
       "24. 'Michigan'\n",
       "25. 'Minnesota '\n",
       "26. 'Mississippi '\n",
       "27. 'Missouri '\n",
       "28. <span style=white-space:pre-wrap>'Montana  '</span>\n",
       "29. 'Nebraska '\n",
       "30. 'Nevada '\n",
       "31. 'New Hampshire '\n",
       "32. 'New Jersey'\n",
       "33. 'New Mexico '\n",
       "34. 'New York'\n",
       "35. 'North Carolina '\n",
       "36. 'North Dakota '\n",
       "37. 'Ohio '\n",
       "38. 'Oklahoma '\n",
       "39. 'Oregon '\n",
       "40. 'Pennsylvania'\n",
       "41. 'Rhode Island '\n",
       "42. 'South Carolina '\n",
       "43. 'South Dakota '\n",
       "44. 'Tennessee '\n",
       "45. 'Texas '\n",
       "46. 'Utah'\n",
       "47. 'Vermont '\n",
       "48. 'Virginia '\n",
       "49. 'Washington '\n",
       "50. 'West Virginia '\n",
       "51. 'Wisconsin '\n",
       "52. 'Wyoming '\n",
       "\n",
       "\n"
      ],
      "text/plain": [
       " [1] \"United States \"       \"Alabama \"             \"Alaska \"             \n",
       " [4] \"Arizona \"             \"Arkansas\"             \"California \"         \n",
       " [7] \"Colorado \"            \"Connecticut \"         \"Delaware \"           \n",
       "[10] \"District of Columbia\" \"Florida \"             \"Georgia \"            \n",
       "[13] \"Hawaii \"              \"Idaho \"               \"Illinois \"           \n",
       "[16] \"Indiana \"             \"Iowa \"                \"Kansas  \"            \n",
       "[19] \"Kentucky  \"           \"Louisiana \"           \"Maine \"              \n",
       "[22] \"Maryland \"            \"Massachusetts\"        \"Michigan\"            \n",
       "[25] \"Minnesota \"           \"Mississippi \"         \"Missouri \"           \n",
       "[28] \"Montana  \"            \"Nebraska \"            \"Nevada \"             \n",
       "[31] \"New Hampshire \"       \"New Jersey\"           \"New Mexico \"         \n",
       "[34] \"New York\"             \"North Carolina \"      \"North Dakota \"       \n",
       "[37] \"Ohio \"                \"Oklahoma \"            \"Oregon \"             \n",
       "[40] \"Pennsylvania\"         \"Rhode Island \"        \"South Carolina \"     \n",
       "[43] \"South Dakota \"        \"Tennessee \"           \"Texas \"              \n",
       "[46] \"Utah\"                 \"Vermont \"             \"Virginia \"           \n",
       "[49] \"Washington \"          \"West Virginia \"       \"Wisconsin \"          \n",
       "[52] \"Wyoming \"            "
      ]
     },
     "metadata": {},
     "output_type": "display_data"
    }
   ],
   "source": [
    "rownames(crime)"
   ]
  },
  {
   "cell_type": "code",
   "execution_count": 95,
   "metadata": {},
   "outputs": [
    {
     "data": {
      "image/png": "[encoded data removed]",
      "text/plain": [
       "plot without title"
      ]
     },
     "metadata": {},
     "output_type": "display_data"
    }
   ],
   "source": [
    "stars(crime[,2:8], flip.labels = FALSE,\n",
    "      draw.segments = TRUE, key.loc = c(15, 2))"
   ]
  },
  {
   "cell_type": "code",
   "execution_count": 97,
   "metadata": {},
   "outputs": [
    {
     "name": "stdout",
     "output_type": "stream",
     "text": [
      "package 'aplpack' successfully unpacked and MD5 sums checked\n",
      "\n",
      "The downloaded binary packages are in\n",
      "\tC:\\Users\\15\\AppData\\Local\\Temp\\Rtmps5Sxj5\\downloaded_packages\n"
     ]
    }
   ],
   "source": [
    "install.packages('aplpack')"
   ]
  },
  {
   "cell_type": "code",
   "execution_count": 98,
   "metadata": {},
   "outputs": [],
   "source": [
    "library(aplpack)"
   ]
  },
  {
   "cell_type": "code",
   "execution_count": 100,
   "metadata": {},
   "outputs": [
    {
     "name": "stdout",
     "output_type": "stream",
     "text": [
      "effect of variables:\n",
      " modified item       Var                  \n",
      " \"height of face   \" \"murder\"             \n",
      " \"width of face    \" \"forcible_rape\"      \n",
      " \"structure of face\" \"robbery\"            \n",
      " \"height of mouth  \" \"aggravated_assault\" \n",
      " \"width of mouth   \" \"burglary\"           \n",
      " \"smiling          \" \"larceny_theft\"      \n",
      " \"height of eyes   \" \"motor_vehicle_theft\"\n",
      " \"width of eyes    \" \"murder\"             \n",
      " \"height of hair   \" \"forcible_rape\"      \n",
      " \"width of hair   \"  \"robbery\"            \n",
      " \"style of hair   \"  \"aggravated_assault\" \n",
      " \"height of nose  \"  \"burglary\"           \n",
      " \"width of nose   \"  \"larceny_theft\"      \n",
      " \"width of ear    \"  \"motor_vehicle_theft\"\n",
      " \"height of ear   \"  \"murder\"             \n"
     ]
    },
    {
     "data": {
      "image/png": "[encoded data removed]",
      "text/plain": [
       "Plot with title \"Wyoming \""
      ]
     },
     "metadata": {},
     "output_type": "display_data"
    }
   ],
   "source": [
    "faces(crime[,2:8])"
   ]
  },
  {
   "cell_type": "code",
   "execution_count": 104,
   "metadata": {},
   "outputs": [
    {
     "data": {
      "text/html": [
       "<table>\n",
       "<thead><tr><th scope=col>state</th><th scope=col>reading</th><th scope=col>math</th><th scope=col>writing</th><th scope=col>percent_graduates_sat</th><th scope=col>pupil_staff_ratio</th><th scope=col>dropout_rate</th></tr></thead>\n",
       "<tbody>\n",
       "\t<tr><td>United States</td><td>501          </td><td>515          </td><td>493          </td><td>46           </td><td> 7.9         </td><td>4.4          </td></tr>\n",
       "\t<tr><td>Alabama      </td><td>557          </td><td>552          </td><td>549          </td><td> 7           </td><td> 6.7         </td><td>2.3          </td></tr>\n",
       "\t<tr><td>Alaska       </td><td>520          </td><td>516          </td><td>492          </td><td>46           </td><td> 7.9         </td><td>7.3          </td></tr>\n",
       "\t<tr><td>Arizona      </td><td>516          </td><td>521          </td><td>497          </td><td>26           </td><td>10.4         </td><td>7.6          </td></tr>\n",
       "\t<tr><td>Arkansas     </td><td>572          </td><td>572          </td><td>556          </td><td> 5           </td><td> 6.8         </td><td>4.6          </td></tr>\n",
       "\t<tr><td>California   </td><td>500          </td><td>513          </td><td>498          </td><td>49           </td><td>10.9         </td><td>5.5          </td></tr>\n",
       "</tbody>\n",
       "</table>\n"
      ],
      "text/latex": [
       "\\begin{tabular}{r|lllllll}\n",
       " state & reading & math & writing & percent\\_graduates\\_sat & pupil\\_staff\\_ratio & dropout\\_rate\\\\\n",
       "\\hline\n",
       "\t United States & 501           & 515           & 493           & 46            &  7.9          & 4.4          \\\\\n",
       "\t Alabama       & 557           & 552           & 549           &  7            &  6.7          & 2.3          \\\\\n",
       "\t Alaska        & 520           & 516           & 492           & 46            &  7.9          & 7.3          \\\\\n",
       "\t Arizona       & 516           & 521           & 497           & 26            & 10.4          & 7.6          \\\\\n",
       "\t Arkansas      & 572           & 572           & 556           &  5            &  6.8          & 4.6          \\\\\n",
       "\t California    & 500           & 513           & 498           & 49            & 10.9          & 5.5          \\\\\n",
       "\\end{tabular}\n"
      ],
      "text/markdown": [
       "\n",
       "| state | reading | math | writing | percent_graduates_sat | pupil_staff_ratio | dropout_rate |\n",
       "|---|---|---|---|---|---|---|\n",
       "| United States | 501           | 515           | 493           | 46            |  7.9          | 4.4           |\n",
       "| Alabama       | 557           | 552           | 549           |  7            |  6.7          | 2.3           |\n",
       "| Alaska        | 520           | 516           | 492           | 46            |  7.9          | 7.3           |\n",
       "| Arizona       | 516           | 521           | 497           | 26            | 10.4          | 7.6           |\n",
       "| Arkansas      | 572           | 572           | 556           |  5            |  6.8          | 4.6           |\n",
       "| California    | 500           | 513           | 498           | 49            | 10.9          | 5.5           |\n",
       "\n"
      ],
      "text/plain": [
       "  state         reading math writing percent_graduates_sat pupil_staff_ratio\n",
       "1 United States 501     515  493     46                     7.9             \n",
       "2 Alabama       557     552  549      7                     6.7             \n",
       "3 Alaska        520     516  492     46                     7.9             \n",
       "4 Arizona       516     521  497     26                    10.4             \n",
       "5 Arkansas      572     572  556      5                     6.8             \n",
       "6 California    500     513  498     49                    10.9             \n",
       "  dropout_rate\n",
       "1 4.4         \n",
       "2 2.3         \n",
       "3 7.3         \n",
       "4 7.6         \n",
       "5 4.6         \n",
       "6 5.5         "
      ]
     },
     "metadata": {},
     "output_type": "display_data"
    }
   ],
   "source": [
    "education = read.csv('http://datasets.flowingdata.com/education.csv')\n",
    "head(education)"
   ]
  },
  {
   "cell_type": "code",
   "execution_count": 102,
   "metadata": {},
   "outputs": [],
   "source": [
    "library(lattice)"
   ]
  },
  {
   "cell_type": "code",
   "execution_count": 108,
   "metadata": {},
   "outputs": [
    {
     "name": "stderr",
     "output_type": "stream",
     "text": [
      "Warning message:\n",
      "\"'parallel' is deprecated.\n",
      "Use 'parallelplot' instead.\n",
      "See help(\"Deprecated\")\""
     ]
    },
    {
     "data": {
      "image/png": "[encoded data removed]",
      "text/plain": [
       "plot without title"
      ]
     },
     "metadata": {},
     "output_type": "display_data"
    }
   ],
   "source": [
    "parallel(education[,2:7], horizontal.axis=FALSE, col=1)"
   ]
  },
  {
   "cell_type": "code",
   "execution_count": 110,
   "metadata": {},
   "outputs": [
    {
     "data": {
      "text/plain": [
       "   Min. 1st Qu.  Median    Mean 3rd Qu.    Max. \n",
       "  466.0   497.8   523.0   533.8   571.2   610.0 "
      ]
     },
     "metadata": {},
     "output_type": "display_data"
    }
   ],
   "source": [
    "summary(education$reading)"
   ]
  },
  {
   "cell_type": "code",
   "execution_count": 112,
   "metadata": {},
   "outputs": [],
   "source": [
    "color = education$reading>523"
   ]
  },
  {
   "cell_type": "code",
   "execution_count": 113,
   "metadata": {},
   "outputs": [
    {
     "data": {
      "text/html": [
       "<ol class=list-inline>\n",
       "\t<li>FALSE</li>\n",
       "\t<li>TRUE</li>\n",
       "\t<li>FALSE</li>\n",
       "\t<li>FALSE</li>\n",
       "\t<li>TRUE</li>\n",
       "\t<li>FALSE</li>\n",
       "\t<li>TRUE</li>\n",
       "\t<li>FALSE</li>\n",
       "\t<li>FALSE</li>\n",
       "\t<li>FALSE</li>\n",
       "\t<li>FALSE</li>\n",
       "\t<li>FALSE</li>\n",
       "\t<li>FALSE</li>\n",
       "\t<li>TRUE</li>\n",
       "\t<li>TRUE</li>\n",
       "\t<li>FALSE</li>\n",
       "\t<li>TRUE</li>\n",
       "\t<li>TRUE</li>\n",
       "\t<li>TRUE</li>\n",
       "\t<li>TRUE</li>\n",
       "\t<li>FALSE</li>\n",
       "\t<li>FALSE</li>\n",
       "\t<li>FALSE</li>\n",
       "\t<li>TRUE</li>\n",
       "\t<li>TRUE</li>\n",
       "\t<li>TRUE</li>\n",
       "\t<li>TRUE</li>\n",
       "\t<li>TRUE</li>\n",
       "\t<li>TRUE</li>\n",
       "\t<li>FALSE</li>\n",
       "\t<li>FALSE</li>\n",
       "\t<li>FALSE</li>\n",
       "\t<li>TRUE</li>\n",
       "\t<li>FALSE</li>\n",
       "\t<li>FALSE</li>\n",
       "\t<li>TRUE</li>\n",
       "\t<li>TRUE</li>\n",
       "\t<li>TRUE</li>\n",
       "\t<li>FALSE</li>\n",
       "\t<li>FALSE</li>\n",
       "\t<li>FALSE</li>\n",
       "\t<li>FALSE</li>\n",
       "\t<li>TRUE</li>\n",
       "\t<li>TRUE</li>\n",
       "\t<li>FALSE</li>\n",
       "\t<li>TRUE</li>\n",
       "\t<li>FALSE</li>\n",
       "\t<li>FALSE</li>\n",
       "\t<li>TRUE</li>\n",
       "\t<li>FALSE</li>\n",
       "\t<li>TRUE</li>\n",
       "\t<li>TRUE</li>\n",
       "</ol>\n"
      ],
      "text/latex": [
       "\\begin{enumerate*}\n",
       "\\item FALSE\n",
       "\\item TRUE\n",
       "\\item FALSE\n",
       "\\item FALSE\n",
       "\\item TRUE\n",
       "\\item FALSE\n",
       "\\item TRUE\n",
       "\\item FALSE\n",
       "\\item FALSE\n",
       "\\item FALSE\n",
       "\\item FALSE\n",
       "\\item FALSE\n",
       "\\item FALSE\n",
       "\\item TRUE\n",
       "\\item TRUE\n",
       "\\item FALSE\n",
       "\\item TRUE\n",
       "\\item TRUE\n",
       "\\item TRUE\n",
       "\\item TRUE\n",
       "\\item FALSE\n",
       "\\item FALSE\n",
       "\\item FALSE\n",
       "\\item TRUE\n",
       "\\item TRUE\n",
       "\\item TRUE\n",
       "\\item TRUE\n",
       "\\item TRUE\n",
       "\\item TRUE\n",
       "\\item FALSE\n",
       "\\item FALSE\n",
       "\\item FALSE\n",
       "\\item TRUE\n",
       "\\item FALSE\n",
       "\\item FALSE\n",
       "\\item TRUE\n",
       "\\item TRUE\n",
       "\\item TRUE\n",
       "\\item FALSE\n",
       "\\item FALSE\n",
       "\\item FALSE\n",
       "\\item FALSE\n",
       "\\item TRUE\n",
       "\\item TRUE\n",
       "\\item FALSE\n",
       "\\item TRUE\n",
       "\\item FALSE\n",
       "\\item FALSE\n",
       "\\item TRUE\n",
       "\\item FALSE\n",
       "\\item TRUE\n",
       "\\item TRUE\n",
       "\\end{enumerate*}\n"
      ],
      "text/markdown": [
       "1. FALSE\n",
       "2. TRUE\n",
       "3. FALSE\n",
       "4. FALSE\n",
       "5. TRUE\n",
       "6. FALSE\n",
       "7. TRUE\n",
       "8. FALSE\n",
       "9. FALSE\n",
       "10. FALSE\n",
       "11. FALSE\n",
       "12. FALSE\n",
       "13. FALSE\n",
       "14. TRUE\n",
       "15. TRUE\n",
       "16. FALSE\n",
       "17. TRUE\n",
       "18. TRUE\n",
       "19. TRUE\n",
       "20. TRUE\n",
       "21. FALSE\n",
       "22. FALSE\n",
       "23. FALSE\n",
       "24. TRUE\n",
       "25. TRUE\n",
       "26. TRUE\n",
       "27. TRUE\n",
       "28. TRUE\n",
       "29. TRUE\n",
       "30. FALSE\n",
       "31. FALSE\n",
       "32. FALSE\n",
       "33. TRUE\n",
       "34. FALSE\n",
       "35. FALSE\n",
       "36. TRUE\n",
       "37. TRUE\n",
       "38. TRUE\n",
       "39. FALSE\n",
       "40. FALSE\n",
       "41. FALSE\n",
       "42. FALSE\n",
       "43. TRUE\n",
       "44. TRUE\n",
       "45. FALSE\n",
       "46. TRUE\n",
       "47. FALSE\n",
       "48. FALSE\n",
       "49. TRUE\n",
       "50. FALSE\n",
       "51. TRUE\n",
       "52. TRUE\n",
       "\n",
       "\n"
      ],
      "text/plain": [
       " [1] FALSE  TRUE FALSE FALSE  TRUE FALSE  TRUE FALSE FALSE FALSE FALSE FALSE\n",
       "[13] FALSE  TRUE  TRUE FALSE  TRUE  TRUE  TRUE  TRUE FALSE FALSE FALSE  TRUE\n",
       "[25]  TRUE  TRUE  TRUE  TRUE  TRUE FALSE FALSE FALSE  TRUE FALSE FALSE  TRUE\n",
       "[37]  TRUE  TRUE FALSE FALSE FALSE FALSE  TRUE  TRUE FALSE  TRUE FALSE FALSE\n",
       "[49]  TRUE FALSE  TRUE  TRUE"
      ]
     },
     "metadata": {},
     "output_type": "display_data"
    }
   ],
   "source": [
    "color"
   ]
  },
  {
   "cell_type": "code",
   "execution_count": 114,
   "metadata": {},
   "outputs": [
    {
     "data": {
      "text/html": [
       "<ol class=list-inline>\n",
       "\t<li>1</li>\n",
       "\t<li>2</li>\n",
       "\t<li>1</li>\n",
       "\t<li>1</li>\n",
       "\t<li>2</li>\n",
       "\t<li>1</li>\n",
       "\t<li>2</li>\n",
       "\t<li>1</li>\n",
       "\t<li>1</li>\n",
       "\t<li>1</li>\n",
       "\t<li>1</li>\n",
       "\t<li>1</li>\n",
       "\t<li>1</li>\n",
       "\t<li>2</li>\n",
       "\t<li>2</li>\n",
       "\t<li>1</li>\n",
       "\t<li>2</li>\n",
       "\t<li>2</li>\n",
       "\t<li>2</li>\n",
       "\t<li>2</li>\n",
       "\t<li>1</li>\n",
       "\t<li>1</li>\n",
       "\t<li>1</li>\n",
       "\t<li>2</li>\n",
       "\t<li>2</li>\n",
       "\t<li>2</li>\n",
       "\t<li>2</li>\n",
       "\t<li>2</li>\n",
       "\t<li>2</li>\n",
       "\t<li>1</li>\n",
       "\t<li>1</li>\n",
       "\t<li>1</li>\n",
       "\t<li>2</li>\n",
       "\t<li>1</li>\n",
       "\t<li>1</li>\n",
       "\t<li>2</li>\n",
       "\t<li>2</li>\n",
       "\t<li>2</li>\n",
       "\t<li>1</li>\n",
       "\t<li>1</li>\n",
       "\t<li>1</li>\n",
       "\t<li>1</li>\n",
       "\t<li>2</li>\n",
       "\t<li>2</li>\n",
       "\t<li>1</li>\n",
       "\t<li>2</li>\n",
       "\t<li>1</li>\n",
       "\t<li>1</li>\n",
       "\t<li>2</li>\n",
       "\t<li>1</li>\n",
       "\t<li>2</li>\n",
       "\t<li>2</li>\n",
       "</ol>\n"
      ],
      "text/latex": [
       "\\begin{enumerate*}\n",
       "\\item 1\n",
       "\\item 2\n",
       "\\item 1\n",
       "\\item 1\n",
       "\\item 2\n",
       "\\item 1\n",
       "\\item 2\n",
       "\\item 1\n",
       "\\item 1\n",
       "\\item 1\n",
       "\\item 1\n",
       "\\item 1\n",
       "\\item 1\n",
       "\\item 2\n",
       "\\item 2\n",
       "\\item 1\n",
       "\\item 2\n",
       "\\item 2\n",
       "\\item 2\n",
       "\\item 2\n",
       "\\item 1\n",
       "\\item 1\n",
       "\\item 1\n",
       "\\item 2\n",
       "\\item 2\n",
       "\\item 2\n",
       "\\item 2\n",
       "\\item 2\n",
       "\\item 2\n",
       "\\item 1\n",
       "\\item 1\n",
       "\\item 1\n",
       "\\item 2\n",
       "\\item 1\n",
       "\\item 1\n",
       "\\item 2\n",
       "\\item 2\n",
       "\\item 2\n",
       "\\item 1\n",
       "\\item 1\n",
       "\\item 1\n",
       "\\item 1\n",
       "\\item 2\n",
       "\\item 2\n",
       "\\item 1\n",
       "\\item 2\n",
       "\\item 1\n",
       "\\item 1\n",
       "\\item 2\n",
       "\\item 1\n",
       "\\item 2\n",
       "\\item 2\n",
       "\\end{enumerate*}\n"
      ],
      "text/markdown": [
       "1. 1\n",
       "2. 2\n",
       "3. 1\n",
       "4. 1\n",
       "5. 2\n",
       "6. 1\n",
       "7. 2\n",
       "8. 1\n",
       "9. 1\n",
       "10. 1\n",
       "11. 1\n",
       "12. 1\n",
       "13. 1\n",
       "14. 2\n",
       "15. 2\n",
       "16. 1\n",
       "17. 2\n",
       "18. 2\n",
       "19. 2\n",
       "20. 2\n",
       "21. 1\n",
       "22. 1\n",
       "23. 1\n",
       "24. 2\n",
       "25. 2\n",
       "26. 2\n",
       "27. 2\n",
       "28. 2\n",
       "29. 2\n",
       "30. 1\n",
       "31. 1\n",
       "32. 1\n",
       "33. 2\n",
       "34. 1\n",
       "35. 1\n",
       "36. 2\n",
       "37. 2\n",
       "38. 2\n",
       "39. 1\n",
       "40. 1\n",
       "41. 1\n",
       "42. 1\n",
       "43. 2\n",
       "44. 2\n",
       "45. 1\n",
       "46. 2\n",
       "47. 1\n",
       "48. 1\n",
       "49. 2\n",
       "50. 1\n",
       "51. 2\n",
       "52. 2\n",
       "\n",
       "\n"
      ],
      "text/plain": [
       " [1] 1 2 1 1 2 1 2 1 1 1 1 1 1 2 2 1 2 2 2 2 1 1 1 2 2 2 2 2 2 1 1 1 2 1 1 2 2 2\n",
       "[39] 1 1 1 1 2 2 1 2 1 1 2 1 2 2"
      ]
     },
     "metadata": {},
     "output_type": "display_data"
    }
   ],
   "source": [
    "color + 1"
   ]
  },
  {
   "cell_type": "code",
   "execution_count": 115,
   "metadata": {},
   "outputs": [
    {
     "name": "stderr",
     "output_type": "stream",
     "text": [
      "Warning message:\n",
      "\"'parallel' is deprecated.\n",
      "Use 'parallelplot' instead.\n",
      "See help(\"Deprecated\")\""
     ]
    },
    {
     "data": {
      "image/png": "[encoded data removed]",
      "text/plain": [
       "plot without title"
      ]
     },
     "metadata": {},
     "output_type": "display_data"
    }
   ],
   "source": [
    "parallel(education[,2:7], horizontal.axis=FALSE, col=color + 1)"
   ]
  },
  {
   "cell_type": "code",
   "execution_count": 116,
   "metadata": {},
   "outputs": [
    {
     "data": {
      "text/plain": [
       "   Min. 1st Qu.  Median    Mean 3rd Qu.    Max. \n",
       " -1.000   2.950   3.950   4.079   5.300   7.600 "
      ]
     },
     "metadata": {},
     "output_type": "display_data"
    }
   ],
   "source": [
    "summary(education$dropout_rate)"
   ]
  },
  {
   "cell_type": "code",
   "execution_count": 117,
   "metadata": {},
   "outputs": [
    {
     "data": {
      "text/html": [
       "<ol class=list-inline>\n",
       "\t<li>FALSE</li>\n",
       "\t<li>FALSE</li>\n",
       "\t<li>TRUE</li>\n",
       "\t<li>TRUE</li>\n",
       "\t<li>FALSE</li>\n",
       "\t<li>TRUE</li>\n",
       "\t<li>TRUE</li>\n",
       "\t<li>FALSE</li>\n",
       "\t<li>TRUE</li>\n",
       "\t<li>TRUE</li>\n",
       "\t<li>FALSE</li>\n",
       "\t<li>FALSE</li>\n",
       "\t<li>TRUE</li>\n",
       "\t<li>FALSE</li>\n",
       "\t<li>FALSE</li>\n",
       "\t<li>FALSE</li>\n",
       "\t<li>FALSE</li>\n",
       "\t<li>FALSE</li>\n",
       "\t<li>FALSE</li>\n",
       "\t<li>TRUE</li>\n",
       "\t<li>FALSE</li>\n",
       "\t<li>FALSE</li>\n",
       "\t<li>FALSE</li>\n",
       "\t<li>TRUE</li>\n",
       "\t<li>FALSE</li>\n",
       "\t<li>FALSE</li>\n",
       "\t<li>FALSE</li>\n",
       "\t<li>FALSE</li>\n",
       "\t<li>FALSE</li>\n",
       "\t<li>FALSE</li>\n",
       "\t<li>FALSE</li>\n",
       "\t<li>FALSE</li>\n",
       "\t<li>TRUE</li>\n",
       "\t<li>FALSE</li>\n",
       "\t<li>TRUE</li>\n",
       "\t<li>FALSE</li>\n",
       "\t<li>FALSE</li>\n",
       "\t<li>FALSE</li>\n",
       "\t<li>FALSE</li>\n",
       "\t<li>FALSE</li>\n",
       "\t<li>TRUE</li>\n",
       "\t<li>FALSE</li>\n",
       "\t<li>FALSE</li>\n",
       "\t<li>FALSE</li>\n",
       "\t<li>FALSE</li>\n",
       "\t<li>FALSE</li>\n",
       "\t<li>FALSE</li>\n",
       "\t<li>FALSE</li>\n",
       "\t<li>FALSE</li>\n",
       "\t<li>FALSE</li>\n",
       "\t<li>FALSE</li>\n",
       "\t<li>FALSE</li>\n",
       "</ol>\n"
      ],
      "text/latex": [
       "\\begin{enumerate*}\n",
       "\\item FALSE\n",
       "\\item FALSE\n",
       "\\item TRUE\n",
       "\\item TRUE\n",
       "\\item FALSE\n",
       "\\item TRUE\n",
       "\\item TRUE\n",
       "\\item FALSE\n",
       "\\item TRUE\n",
       "\\item TRUE\n",
       "\\item FALSE\n",
       "\\item FALSE\n",
       "\\item TRUE\n",
       "\\item FALSE\n",
       "\\item FALSE\n",
       "\\item FALSE\n",
       "\\item FALSE\n",
       "\\item FALSE\n",
       "\\item FALSE\n",
       "\\item TRUE\n",
       "\\item FALSE\n",
       "\\item FALSE\n",
       "\\item FALSE\n",
       "\\item TRUE\n",
       "\\item FALSE\n",
       "\\item FALSE\n",
       "\\item FALSE\n",
       "\\item FALSE\n",
       "\\item FALSE\n",
       "\\item FALSE\n",
       "\\item FALSE\n",
       "\\item FALSE\n",
       "\\item TRUE\n",
       "\\item FALSE\n",
       "\\item TRUE\n",
       "\\item FALSE\n",
       "\\item FALSE\n",
       "\\item FALSE\n",
       "\\item FALSE\n",
       "\\item FALSE\n",
       "\\item TRUE\n",
       "\\item FALSE\n",
       "\\item FALSE\n",
       "\\item FALSE\n",
       "\\item FALSE\n",
       "\\item FALSE\n",
       "\\item FALSE\n",
       "\\item FALSE\n",
       "\\item FALSE\n",
       "\\item FALSE\n",
       "\\item FALSE\n",
       "\\item FALSE\n",
       "\\end{enumerate*}\n"
      ],
      "text/markdown": [
       "1. FALSE\n",
       "2. FALSE\n",
       "3. TRUE\n",
       "4. TRUE\n",
       "5. FALSE\n",
       "6. TRUE\n",
       "7. TRUE\n",
       "8. FALSE\n",
       "9. TRUE\n",
       "10. TRUE\n",
       "11. FALSE\n",
       "12. FALSE\n",
       "13. TRUE\n",
       "14. FALSE\n",
       "15. FALSE\n",
       "16. FALSE\n",
       "17. FALSE\n",
       "18. FALSE\n",
       "19. FALSE\n",
       "20. TRUE\n",
       "21. FALSE\n",
       "22. FALSE\n",
       "23. FALSE\n",
       "24. TRUE\n",
       "25. FALSE\n",
       "26. FALSE\n",
       "27. FALSE\n",
       "28. FALSE\n",
       "29. FALSE\n",
       "30. FALSE\n",
       "31. FALSE\n",
       "32. FALSE\n",
       "33. TRUE\n",
       "34. FALSE\n",
       "35. TRUE\n",
       "36. FALSE\n",
       "37. FALSE\n",
       "38. FALSE\n",
       "39. FALSE\n",
       "40. FALSE\n",
       "41. TRUE\n",
       "42. FALSE\n",
       "43. FALSE\n",
       "44. FALSE\n",
       "45. FALSE\n",
       "46. FALSE\n",
       "47. FALSE\n",
       "48. FALSE\n",
       "49. FALSE\n",
       "50. FALSE\n",
       "51. FALSE\n",
       "52. FALSE\n",
       "\n",
       "\n"
      ],
      "text/plain": [
       " [1] FALSE FALSE  TRUE  TRUE FALSE  TRUE  TRUE FALSE  TRUE  TRUE FALSE FALSE\n",
       "[13]  TRUE FALSE FALSE FALSE FALSE FALSE FALSE  TRUE FALSE FALSE FALSE  TRUE\n",
       "[25] FALSE FALSE FALSE FALSE FALSE FALSE FALSE FALSE  TRUE FALSE  TRUE FALSE\n",
       "[37] FALSE FALSE FALSE FALSE  TRUE FALSE FALSE FALSE FALSE FALSE FALSE FALSE\n",
       "[49] FALSE FALSE FALSE FALSE"
      ]
     },
     "metadata": {},
     "output_type": "display_data"
    }
   ],
   "source": [
    "color = education$dropout_rate>5.3\n",
    "color"
   ]
  },
  {
   "cell_type": "code",
   "execution_count": 118,
   "metadata": {},
   "outputs": [
    {
     "data": {
      "text/html": [
       "<ol class=list-inline>\n",
       "\t<li>1</li>\n",
       "\t<li>1</li>\n",
       "\t<li>2</li>\n",
       "\t<li>2</li>\n",
       "\t<li>1</li>\n",
       "\t<li>2</li>\n",
       "\t<li>2</li>\n",
       "\t<li>1</li>\n",
       "\t<li>2</li>\n",
       "\t<li>2</li>\n",
       "\t<li>1</li>\n",
       "\t<li>1</li>\n",
       "\t<li>2</li>\n",
       "\t<li>1</li>\n",
       "\t<li>1</li>\n",
       "\t<li>1</li>\n",
       "\t<li>1</li>\n",
       "\t<li>1</li>\n",
       "\t<li>1</li>\n",
       "\t<li>2</li>\n",
       "\t<li>1</li>\n",
       "\t<li>1</li>\n",
       "\t<li>1</li>\n",
       "\t<li>2</li>\n",
       "\t<li>1</li>\n",
       "\t<li>1</li>\n",
       "\t<li>1</li>\n",
       "\t<li>1</li>\n",
       "\t<li>1</li>\n",
       "\t<li>1</li>\n",
       "\t<li>1</li>\n",
       "\t<li>1</li>\n",
       "\t<li>2</li>\n",
       "\t<li>1</li>\n",
       "\t<li>2</li>\n",
       "\t<li>1</li>\n",
       "\t<li>1</li>\n",
       "\t<li>1</li>\n",
       "\t<li>1</li>\n",
       "\t<li>1</li>\n",
       "\t<li>2</li>\n",
       "\t<li>1</li>\n",
       "\t<li>1</li>\n",
       "\t<li>1</li>\n",
       "\t<li>1</li>\n",
       "\t<li>1</li>\n",
       "\t<li>1</li>\n",
       "\t<li>1</li>\n",
       "\t<li>1</li>\n",
       "\t<li>1</li>\n",
       "\t<li>1</li>\n",
       "\t<li>1</li>\n",
       "</ol>\n"
      ],
      "text/latex": [
       "\\begin{enumerate*}\n",
       "\\item 1\n",
       "\\item 1\n",
       "\\item 2\n",
       "\\item 2\n",
       "\\item 1\n",
       "\\item 2\n",
       "\\item 2\n",
       "\\item 1\n",
       "\\item 2\n",
       "\\item 2\n",
       "\\item 1\n",
       "\\item 1\n",
       "\\item 2\n",
       "\\item 1\n",
       "\\item 1\n",
       "\\item 1\n",
       "\\item 1\n",
       "\\item 1\n",
       "\\item 1\n",
       "\\item 2\n",
       "\\item 1\n",
       "\\item 1\n",
       "\\item 1\n",
       "\\item 2\n",
       "\\item 1\n",
       "\\item 1\n",
       "\\item 1\n",
       "\\item 1\n",
       "\\item 1\n",
       "\\item 1\n",
       "\\item 1\n",
       "\\item 1\n",
       "\\item 2\n",
       "\\item 1\n",
       "\\item 2\n",
       "\\item 1\n",
       "\\item 1\n",
       "\\item 1\n",
       "\\item 1\n",
       "\\item 1\n",
       "\\item 2\n",
       "\\item 1\n",
       "\\item 1\n",
       "\\item 1\n",
       "\\item 1\n",
       "\\item 1\n",
       "\\item 1\n",
       "\\item 1\n",
       "\\item 1\n",
       "\\item 1\n",
       "\\item 1\n",
       "\\item 1\n",
       "\\end{enumerate*}\n"
      ],
      "text/markdown": [
       "1. 1\n",
       "2. 1\n",
       "3. 2\n",
       "4. 2\n",
       "5. 1\n",
       "6. 2\n",
       "7. 2\n",
       "8. 1\n",
       "9. 2\n",
       "10. 2\n",
       "11. 1\n",
       "12. 1\n",
       "13. 2\n",
       "14. 1\n",
       "15. 1\n",
       "16. 1\n",
       "17. 1\n",
       "18. 1\n",
       "19. 1\n",
       "20. 2\n",
       "21. 1\n",
       "22. 1\n",
       "23. 1\n",
       "24. 2\n",
       "25. 1\n",
       "26. 1\n",
       "27. 1\n",
       "28. 1\n",
       "29. 1\n",
       "30. 1\n",
       "31. 1\n",
       "32. 1\n",
       "33. 2\n",
       "34. 1\n",
       "35. 2\n",
       "36. 1\n",
       "37. 1\n",
       "38. 1\n",
       "39. 1\n",
       "40. 1\n",
       "41. 2\n",
       "42. 1\n",
       "43. 1\n",
       "44. 1\n",
       "45. 1\n",
       "46. 1\n",
       "47. 1\n",
       "48. 1\n",
       "49. 1\n",
       "50. 1\n",
       "51. 1\n",
       "52. 1\n",
       "\n",
       "\n"
      ],
      "text/plain": [
       " [1] 1 1 2 2 1 2 2 1 2 2 1 1 2 1 1 1 1 1 1 2 1 1 1 2 1 1 1 1 1 1 1 1 2 1 2 1 1 1\n",
       "[39] 1 1 2 1 1 1 1 1 1 1 1 1 1 1"
      ]
     },
     "metadata": {},
     "output_type": "display_data"
    }
   ],
   "source": [
    "color + 1"
   ]
  },
  {
   "cell_type": "code",
   "execution_count": 119,
   "metadata": {},
   "outputs": [
    {
     "name": "stderr",
     "output_type": "stream",
     "text": [
      "Warning message:\n",
      "\"'parallel' is deprecated.\n",
      "Use 'parallelplot' instead.\n",
      "See help(\"Deprecated\")\""
     ]
    },
    {
     "data": {
      "image/png": "[encoded data removed]",
      "text/plain": [
       "plot without title"
      ]
     },
     "metadata": {},
     "output_type": "display_data"
    }
   ],
   "source": [
    "parallel(education[,2:7], horizontal.axis=FALSE, col=color + 1)"
   ]
  },
  {
   "cell_type": "code",
   "execution_count": 121,
   "metadata": {},
   "outputs": [
    {
     "data": {
      "text/html": [
       "<table>\n",
       "<thead><tr><th scope=col>팀</th><th scope=col>승률</th><th scope=col>타율</th><th scope=col>장타율</th><th scope=col>출루율</th><th scope=col>평균자책</th></tr></thead>\n",
       "<tbody>\n",
       "\t<tr><td>KIA  </td><td>0.455</td><td>0.285</td><td>0.424</td><td>0.345</td><td>5.40 </td></tr>\n",
       "\t<tr><td>LG   </td><td>0.372</td><td>0.276</td><td>0.380</td><td>0.358</td><td>5.08 </td></tr>\n",
       "\t<tr><td>NC   </td><td>0.578</td><td>0.283</td><td>0.445</td><td>0.360</td><td>4.11 </td></tr>\n",
       "\t<tr><td>SK   </td><td>0.444</td><td>0.275</td><td>0.409</td><td>0.347</td><td>5.59 </td></tr>\n",
       "\t<tr><td>넥센 </td><td>0.545</td><td>0.283</td><td>0.471</td><td>0.372</td><td>5.44 </td></tr>\n",
       "\t<tr><td>두산 </td><td>0.568</td><td>0.307</td><td>0.468</td><td>0.378</td><td>5.03 </td></tr>\n",
       "</tbody>\n",
       "</table>\n"
      ],
      "text/latex": [
       "\\begin{tabular}{r|llllll}\n",
       " 팀 & 승률 & 타율 & 장타율 & 출루율 & 평균자책\\\\\n",
       "\\hline\n",
       "\t KIA   & 0.455 & 0.285 & 0.424 & 0.345 & 5.40 \\\\\n",
       "\t LG    & 0.372 & 0.276 & 0.380 & 0.358 & 5.08 \\\\\n",
       "\t NC    & 0.578 & 0.283 & 0.445 & 0.360 & 4.11 \\\\\n",
       "\t SK    & 0.444 & 0.275 & 0.409 & 0.347 & 5.59 \\\\\n",
       "\t 넥센  & 0.545 & 0.283 & 0.471 & 0.372 & 5.44 \\\\\n",
       "\t 두산  & 0.568 & 0.307 & 0.468 & 0.378 & 5.03 \\\\\n",
       "\\end{tabular}\n"
      ],
      "text/markdown": [
       "\n",
       "| 팀 | 승률 | 타율 | 장타율 | 출루율 | 평균자책 |\n",
       "|---|---|---|---|---|---|\n",
       "| KIA   | 0.455 | 0.285 | 0.424 | 0.345 | 5.40  |\n",
       "| LG    | 0.372 | 0.276 | 0.380 | 0.358 | 5.08  |\n",
       "| NC    | 0.578 | 0.283 | 0.445 | 0.360 | 4.11  |\n",
       "| SK    | 0.444 | 0.275 | 0.409 | 0.347 | 5.59  |\n",
       "| 넥센  | 0.545 | 0.283 | 0.471 | 0.372 | 5.44  |\n",
       "| 두산  | 0.568 | 0.307 | 0.468 | 0.378 | 5.03  |\n",
       "\n"
      ],
      "text/plain": [
       "  팀   승률  타율  장타율 출루율 평균자책\n",
       "1 KIA  0.455 0.285 0.424  0.345  5.40    \n",
       "2 LG   0.372 0.276 0.380  0.358  5.08    \n",
       "3 NC   0.578 0.283 0.445  0.360  4.11    \n",
       "4 SK   0.444 0.275 0.409  0.347  5.59    \n",
       "5 넥센 0.545 0.283 0.471  0.372  5.44    \n",
       "6 두산 0.568 0.307 0.468  0.378  5.03    "
      ]
     },
     "metadata": {},
     "output_type": "display_data"
    }
   ],
   "source": [
    "data = read.csv('20140528_baseball.csv')\n",
    "head(data)"
   ]
  },
  {
   "cell_type": "code",
   "execution_count": 124,
   "metadata": {},
   "outputs": [
    {
     "data": {
      "text/plain": [
       "Standard deviations (1, .., p=5):\n",
       "[1] 1.7459687 1.0357284 0.7145706 0.5838463 0.1654456\n",
       "\n",
       "Rotation (n x k) = (5 x 5):\n",
       "                PC1         PC2        PC3        PC4         PC5\n",
       "승률      0.5215895  0.33120383 -0.1748563  0.2606055  0.72094280\n",
       "타율      0.4462277 -0.38537741 -0.2716813 -0.7580688  0.06233844\n",
       "장타율    0.5212973 -0.09440319 -0.4035437  0.4505809 -0.59453048\n",
       "출루율    0.3756259 -0.50066425  0.7476766  0.2128245  0.06265704\n",
       "평균자책 -0.3405577 -0.69441459 -0.4168293  0.3303015  0.34491013"
      ]
     },
     "metadata": {},
     "output_type": "display_data"
    }
   ],
   "source": [
    "model = prcomp(data[,2:6], scale=T)\n",
    "model"
   ]
  },
  {
   "cell_type": "code",
   "execution_count": 125,
   "metadata": {},
   "outputs": [
    {
     "data": {
      "text/plain": [
       "Importance of components:\n",
       "                          PC1    PC2    PC3     PC4     PC5\n",
       "Standard deviation     1.7460 1.0357 0.7146 0.58385 0.16545\n",
       "Proportion of Variance 0.6097 0.2145 0.1021 0.06818 0.00547\n",
       "Cumulative Proportion  0.6097 0.8242 0.9264 0.99453 1.00000"
      ]
     },
     "metadata": {},
     "output_type": "display_data"
    }
   ],
   "source": [
    "summary(model)"
   ]
  },
  {
   "cell_type": "code",
   "execution_count": 126,
   "metadata": {},
   "outputs": [
    {
     "data": {
      "image/png": "[encoded data removed]",
      "text/plain": [
       "Plot with title \"model\""
      ]
     },
     "metadata": {},
     "output_type": "display_data"
    }
   ],
   "source": [
    "plot(model)"
   ]
  },
  {
   "cell_type": "code",
   "execution_count": 127,
   "metadata": {},
   "outputs": [
    {
     "data": {
      "text/html": [
       "<table>\n",
       "<thead><tr><th scope=col>팀</th><th scope=col>승률</th><th scope=col>타율</th><th scope=col>장타율</th><th scope=col>출루율</th><th scope=col>평균자책</th></tr></thead>\n",
       "<tbody>\n",
       "\t<tr><td>KIA  </td><td>0.455</td><td>0.285</td><td>0.424</td><td>0.345</td><td>5.40 </td></tr>\n",
       "\t<tr><td>LG   </td><td>0.372</td><td>0.276</td><td>0.380</td><td>0.358</td><td>5.08 </td></tr>\n",
       "\t<tr><td>NC   </td><td>0.578</td><td>0.283</td><td>0.445</td><td>0.360</td><td>4.11 </td></tr>\n",
       "\t<tr><td>SK   </td><td>0.444</td><td>0.275</td><td>0.409</td><td>0.347</td><td>5.59 </td></tr>\n",
       "\t<tr><td>넥센 </td><td>0.545</td><td>0.283</td><td>0.471</td><td>0.372</td><td>5.44 </td></tr>\n",
       "\t<tr><td>두산 </td><td>0.568</td><td>0.307</td><td>0.468</td><td>0.378</td><td>5.03 </td></tr>\n",
       "</tbody>\n",
       "</table>\n"
      ],
      "text/latex": [
       "\\begin{tabular}{r|llllll}\n",
       " 팀 & 승률 & 타율 & 장타율 & 출루율 & 평균자책\\\\\n",
       "\\hline\n",
       "\t KIA   & 0.455 & 0.285 & 0.424 & 0.345 & 5.40 \\\\\n",
       "\t LG    & 0.372 & 0.276 & 0.380 & 0.358 & 5.08 \\\\\n",
       "\t NC    & 0.578 & 0.283 & 0.445 & 0.360 & 4.11 \\\\\n",
       "\t SK    & 0.444 & 0.275 & 0.409 & 0.347 & 5.59 \\\\\n",
       "\t 넥센  & 0.545 & 0.283 & 0.471 & 0.372 & 5.44 \\\\\n",
       "\t 두산  & 0.568 & 0.307 & 0.468 & 0.378 & 5.03 \\\\\n",
       "\\end{tabular}\n"
      ],
      "text/markdown": [
       "\n",
       "| 팀 | 승률 | 타율 | 장타율 | 출루율 | 평균자책 |\n",
       "|---|---|---|---|---|---|\n",
       "| KIA   | 0.455 | 0.285 | 0.424 | 0.345 | 5.40  |\n",
       "| LG    | 0.372 | 0.276 | 0.380 | 0.358 | 5.08  |\n",
       "| NC    | 0.578 | 0.283 | 0.445 | 0.360 | 4.11  |\n",
       "| SK    | 0.444 | 0.275 | 0.409 | 0.347 | 5.59  |\n",
       "| 넥센  | 0.545 | 0.283 | 0.471 | 0.372 | 5.44  |\n",
       "| 두산  | 0.568 | 0.307 | 0.468 | 0.378 | 5.03  |\n",
       "\n"
      ],
      "text/plain": [
       "  팀   승률  타율  장타율 출루율 평균자책\n",
       "1 KIA  0.455 0.285 0.424  0.345  5.40    \n",
       "2 LG   0.372 0.276 0.380  0.358  5.08    \n",
       "3 NC   0.578 0.283 0.445  0.360  4.11    \n",
       "4 SK   0.444 0.275 0.409  0.347  5.59    \n",
       "5 넥센 0.545 0.283 0.471  0.372  5.44    \n",
       "6 두산 0.568 0.307 0.468  0.378  5.03    "
      ]
     },
     "metadata": {},
     "output_type": "display_data"
    }
   ],
   "source": [
    "head(data)"
   ]
  },
  {
   "cell_type": "code",
   "execution_count": 128,
   "metadata": {},
   "outputs": [],
   "source": [
    "rownames(data) = data[,1]"
   ]
  },
  {
   "cell_type": "code",
   "execution_count": 129,
   "metadata": {},
   "outputs": [
    {
     "data": {
      "text/html": [
       "<table>\n",
       "<thead><tr><th></th><th scope=col>팀</th><th scope=col>승률</th><th scope=col>타율</th><th scope=col>장타율</th><th scope=col>출루율</th><th scope=col>평균자책</th></tr></thead>\n",
       "<tbody>\n",
       "\t<tr><th scope=row>KIA</th><td>KIA  </td><td>0.455</td><td>0.285</td><td>0.424</td><td>0.345</td><td>5.40 </td></tr>\n",
       "\t<tr><th scope=row>LG</th><td>LG   </td><td>0.372</td><td>0.276</td><td>0.380</td><td>0.358</td><td>5.08 </td></tr>\n",
       "\t<tr><th scope=row>NC</th><td>NC   </td><td>0.578</td><td>0.283</td><td>0.445</td><td>0.360</td><td>4.11 </td></tr>\n",
       "\t<tr><th scope=row>SK</th><td>SK   </td><td>0.444</td><td>0.275</td><td>0.409</td><td>0.347</td><td>5.59 </td></tr>\n",
       "\t<tr><th scope=row>넥센</th><td>넥센 </td><td>0.545</td><td>0.283</td><td>0.471</td><td>0.372</td><td>5.44 </td></tr>\n",
       "\t<tr><th scope=row>두산</th><td>두산 </td><td>0.568</td><td>0.307</td><td>0.468</td><td>0.378</td><td>5.03 </td></tr>\n",
       "</tbody>\n",
       "</table>\n"
      ],
      "text/latex": [
       "\\begin{tabular}{r|llllll}\n",
       "  & 팀 & 승률 & 타율 & 장타율 & 출루율 & 평균자책\\\\\n",
       "\\hline\n",
       "\tKIA & KIA   & 0.455 & 0.285 & 0.424 & 0.345 & 5.40 \\\\\n",
       "\tLG & LG    & 0.372 & 0.276 & 0.380 & 0.358 & 5.08 \\\\\n",
       "\tNC & NC    & 0.578 & 0.283 & 0.445 & 0.360 & 4.11 \\\\\n",
       "\tSK & SK    & 0.444 & 0.275 & 0.409 & 0.347 & 5.59 \\\\\n",
       "\t넥센 & 넥센  & 0.545 & 0.283 & 0.471 & 0.372 & 5.44 \\\\\n",
       "\t두산 & 두산  & 0.568 & 0.307 & 0.468 & 0.378 & 5.03 \\\\\n",
       "\\end{tabular}\n"
      ],
      "text/markdown": [
       "\n",
       "| <!--/--> | 팀 | 승률 | 타율 | 장타율 | 출루율 | 평균자책 |\n",
       "|---|---|---|---|---|---|---|\n",
       "| KIA | KIA   | 0.455 | 0.285 | 0.424 | 0.345 | 5.40  |\n",
       "| LG | LG    | 0.372 | 0.276 | 0.380 | 0.358 | 5.08  |\n",
       "| NC | NC    | 0.578 | 0.283 | 0.445 | 0.360 | 4.11  |\n",
       "| SK | SK    | 0.444 | 0.275 | 0.409 | 0.347 | 5.59  |\n",
       "| 넥센 | 넥센  | 0.545 | 0.283 | 0.471 | 0.372 | 5.44  |\n",
       "| 두산 | 두산  | 0.568 | 0.307 | 0.468 | 0.378 | 5.03  |\n",
       "\n"
      ],
      "text/plain": [
       "     팀   승률  타율  장타율 출루율 평균자책\n",
       "KIA  KIA  0.455 0.285 0.424  0.345  5.40    \n",
       "LG   LG   0.372 0.276 0.380  0.358  5.08    \n",
       "NC   NC   0.578 0.283 0.445  0.360  4.11    \n",
       "SK   SK   0.444 0.275 0.409  0.347  5.59    \n",
       "넥센 넥센 0.545 0.283 0.471  0.372  5.44    \n",
       "두산 두산 0.568 0.307 0.468  0.378  5.03    "
      ]
     },
     "metadata": {},
     "output_type": "display_data"
    }
   ],
   "source": [
    "head(data)"
   ]
  },
  {
   "cell_type": "code",
   "execution_count": 130,
   "metadata": {},
   "outputs": [],
   "source": [
    "model = prcomp(data[,2:6], scale = T)"
   ]
  },
  {
   "cell_type": "code",
   "execution_count": 131,
   "metadata": {},
   "outputs": [
    {
     "data": {
      "image/png": "[encoded data removed]",
      "text/plain": [
       "plot without title"
      ]
     },
     "metadata": {},
     "output_type": "display_data"
    }
   ],
   "source": [
    "biplot(model)"
   ]
  },
  {
   "cell_type": "code",
   "execution_count": 132,
   "metadata": {},
   "outputs": [],
   "source": [
    "## 다변량 연습문제"
   ]
  },
  {
   "cell_type": "code",
   "execution_count": 133,
   "metadata": {},
   "outputs": [
    {
     "data": {
      "text/html": [
       "<table>\n",
       "<thead><tr><th scope=col>팀</th><th scope=col>승률</th><th scope=col>타율</th><th scope=col>장타율</th><th scope=col>출루율</th><th scope=col>평균자책</th></tr></thead>\n",
       "<tbody>\n",
       "\t<tr><td>KIA  </td><td>0.455</td><td>0.285</td><td>0.424</td><td>0.345</td><td>5.40 </td></tr>\n",
       "\t<tr><td>LG   </td><td>0.372</td><td>0.276</td><td>0.380</td><td>0.358</td><td>5.08 </td></tr>\n",
       "\t<tr><td>NC   </td><td>0.578</td><td>0.283</td><td>0.445</td><td>0.360</td><td>4.11 </td></tr>\n",
       "\t<tr><td>SK   </td><td>0.444</td><td>0.275</td><td>0.409</td><td>0.347</td><td>5.59 </td></tr>\n",
       "\t<tr><td>넥센 </td><td>0.545</td><td>0.283</td><td>0.471</td><td>0.372</td><td>5.44 </td></tr>\n",
       "\t<tr><td>두산 </td><td>0.568</td><td>0.307</td><td>0.468</td><td>0.378</td><td>5.03 </td></tr>\n",
       "</tbody>\n",
       "</table>\n"
      ],
      "text/latex": [
       "\\begin{tabular}{r|llllll}\n",
       " 팀 & 승률 & 타율 & 장타율 & 출루율 & 평균자책\\\\\n",
       "\\hline\n",
       "\t KIA   & 0.455 & 0.285 & 0.424 & 0.345 & 5.40 \\\\\n",
       "\t LG    & 0.372 & 0.276 & 0.380 & 0.358 & 5.08 \\\\\n",
       "\t NC    & 0.578 & 0.283 & 0.445 & 0.360 & 4.11 \\\\\n",
       "\t SK    & 0.444 & 0.275 & 0.409 & 0.347 & 5.59 \\\\\n",
       "\t 넥센  & 0.545 & 0.283 & 0.471 & 0.372 & 5.44 \\\\\n",
       "\t 두산  & 0.568 & 0.307 & 0.468 & 0.378 & 5.03 \\\\\n",
       "\\end{tabular}\n"
      ],
      "text/markdown": [
       "\n",
       "| 팀 | 승률 | 타율 | 장타율 | 출루율 | 평균자책 |\n",
       "|---|---|---|---|---|---|\n",
       "| KIA   | 0.455 | 0.285 | 0.424 | 0.345 | 5.40  |\n",
       "| LG    | 0.372 | 0.276 | 0.380 | 0.358 | 5.08  |\n",
       "| NC    | 0.578 | 0.283 | 0.445 | 0.360 | 4.11  |\n",
       "| SK    | 0.444 | 0.275 | 0.409 | 0.347 | 5.59  |\n",
       "| 넥센  | 0.545 | 0.283 | 0.471 | 0.372 | 5.44  |\n",
       "| 두산  | 0.568 | 0.307 | 0.468 | 0.378 | 5.03  |\n",
       "\n"
      ],
      "text/plain": [
       "  팀   승률  타율  장타율 출루율 평균자책\n",
       "1 KIA  0.455 0.285 0.424  0.345  5.40    \n",
       "2 LG   0.372 0.276 0.380  0.358  5.08    \n",
       "3 NC   0.578 0.283 0.445  0.360  4.11    \n",
       "4 SK   0.444 0.275 0.409  0.347  5.59    \n",
       "5 넥센 0.545 0.283 0.471  0.372  5.44    \n",
       "6 두산 0.568 0.307 0.468  0.378  5.03    "
      ]
     },
     "metadata": {},
     "output_type": "display_data"
    }
   ],
   "source": [
    "data = read.csv('20140528_baseball.csv')\n",
    "head(data)"
   ]
  },
  {
   "cell_type": "code",
   "execution_count": 135,
   "metadata": {},
   "outputs": [
    {
     "data": {
      "text/html": [
       "<table>\n",
       "<thead><tr><th></th><th scope=col>팀</th><th scope=col>승률</th><th scope=col>타율</th><th scope=col>장타율</th><th scope=col>출루율</th><th scope=col>평균자책</th></tr></thead>\n",
       "<tbody>\n",
       "\t<tr><th scope=row>KIA</th><td>KIA  </td><td>0.455</td><td>0.285</td><td>0.424</td><td>0.345</td><td>5.40 </td></tr>\n",
       "\t<tr><th scope=row>LG</th><td>LG   </td><td>0.372</td><td>0.276</td><td>0.380</td><td>0.358</td><td>5.08 </td></tr>\n",
       "\t<tr><th scope=row>NC</th><td>NC   </td><td>0.578</td><td>0.283</td><td>0.445</td><td>0.360</td><td>4.11 </td></tr>\n",
       "\t<tr><th scope=row>SK</th><td>SK   </td><td>0.444</td><td>0.275</td><td>0.409</td><td>0.347</td><td>5.59 </td></tr>\n",
       "\t<tr><th scope=row>넥센</th><td>넥센 </td><td>0.545</td><td>0.283</td><td>0.471</td><td>0.372</td><td>5.44 </td></tr>\n",
       "\t<tr><th scope=row>두산</th><td>두산 </td><td>0.568</td><td>0.307</td><td>0.468</td><td>0.378</td><td>5.03 </td></tr>\n",
       "</tbody>\n",
       "</table>\n"
      ],
      "text/latex": [
       "\\begin{tabular}{r|llllll}\n",
       "  & 팀 & 승률 & 타율 & 장타율 & 출루율 & 평균자책\\\\\n",
       "\\hline\n",
       "\tKIA & KIA   & 0.455 & 0.285 & 0.424 & 0.345 & 5.40 \\\\\n",
       "\tLG & LG    & 0.372 & 0.276 & 0.380 & 0.358 & 5.08 \\\\\n",
       "\tNC & NC    & 0.578 & 0.283 & 0.445 & 0.360 & 4.11 \\\\\n",
       "\tSK & SK    & 0.444 & 0.275 & 0.409 & 0.347 & 5.59 \\\\\n",
       "\t넥센 & 넥센  & 0.545 & 0.283 & 0.471 & 0.372 & 5.44 \\\\\n",
       "\t두산 & 두산  & 0.568 & 0.307 & 0.468 & 0.378 & 5.03 \\\\\n",
       "\\end{tabular}\n"
      ],
      "text/markdown": [
       "\n",
       "| <!--/--> | 팀 | 승률 | 타율 | 장타율 | 출루율 | 평균자책 |\n",
       "|---|---|---|---|---|---|---|\n",
       "| KIA | KIA   | 0.455 | 0.285 | 0.424 | 0.345 | 5.40  |\n",
       "| LG | LG    | 0.372 | 0.276 | 0.380 | 0.358 | 5.08  |\n",
       "| NC | NC    | 0.578 | 0.283 | 0.445 | 0.360 | 4.11  |\n",
       "| SK | SK    | 0.444 | 0.275 | 0.409 | 0.347 | 5.59  |\n",
       "| 넥센 | 넥센  | 0.545 | 0.283 | 0.471 | 0.372 | 5.44  |\n",
       "| 두산 | 두산  | 0.568 | 0.307 | 0.468 | 0.378 | 5.03  |\n",
       "\n"
      ],
      "text/plain": [
       "     팀   승률  타율  장타율 출루율 평균자책\n",
       "KIA  KIA  0.455 0.285 0.424  0.345  5.40    \n",
       "LG   LG   0.372 0.276 0.380  0.358  5.08    \n",
       "NC   NC   0.578 0.283 0.445  0.360  4.11    \n",
       "SK   SK   0.444 0.275 0.409  0.347  5.59    \n",
       "넥센 넥센 0.545 0.283 0.471  0.372  5.44    \n",
       "두산 두산 0.568 0.307 0.468  0.378  5.03    "
      ]
     },
     "metadata": {},
     "output_type": "display_data"
    }
   ],
   "source": [
    "rownames(data) = data[,1]\n",
    "head(data)"
   ]
  },
  {
   "cell_type": "code",
   "execution_count": 137,
   "metadata": {
    "scrolled": false
   },
   "outputs": [
    {
     "data": {
      "image/png": "[encoded data removed]",
      "text/plain": [
       "plot without title"
      ]
     },
     "metadata": {},
     "output_type": "display_data"
    },
    {
     "name": "stdout",
     "output_type": "stream",
     "text": [
      "effect of variables:\n",
      " modified item       Var       \n",
      " \"height of face   \" \"승률\"    \n",
      " \"width of face    \" \"타율\"    \n",
      " \"structure of face\" \"장타율\"  \n",
      " \"height of mouth  \" \"출루율\"  \n",
      " \"width of mouth   \" \"평균자책\"\n",
      " \"smiling          \" \"승률\"    \n",
      " \"height of eyes   \" \"타율\"    \n",
      " \"width of eyes    \" \"장타율\"  \n",
      " \"height of hair   \" \"출루율\"  \n",
      " \"width of hair   \"  \"평균자책\"\n",
      " \"style of hair   \"  \"승률\"    \n",
      " \"height of nose  \"  \"타율\"    \n",
      " \"width of nose   \"  \"장타율\"  \n",
      " \"width of ear    \"  \"출루율\"  \n",
      " \"height of ear   \"  \"평균자책\"\n"
     ]
    },
    {
     "data": {
      "image/png": "[encoded data removed]",
      "text/plain": [
       "Plot with title \"한화\""
      ]
     },
     "metadata": {},
     "output_type": "display_data"
    }
   ],
   "source": [
    "stars(data[,2:6],flip.labels = F, key.loc=c(9,3), draw.segments = )\n",
    "faces(data[,2:6])"
   ]
  },
  {
   "cell_type": "code",
   "execution_count": 138,
   "metadata": {},
   "outputs": [],
   "source": [
    "#2."
   ]
  },
  {
   "cell_type": "code",
   "execution_count": 139,
   "metadata": {},
   "outputs": [
    {
     "data": {
      "text/html": [
       "<table>\n",
       "<thead><tr><th scope=col>선수명</th><th scope=col>포지션</th><th scope=col>팀</th><th scope=col>홈런</th><th scope=col>타점</th><th scope=col>도루</th><th scope=col>볼넷</th><th scope=col>삼진</th><th scope=col>타율</th><th scope=col>장타율</th><th scope=col>출루율</th></tr></thead>\n",
       "<tbody>\n",
       "\t<tr><td>이병규</td><td>우익수</td><td>LG    </td><td> 5    </td><td>74    </td><td> 2    </td><td>22    </td><td>40    </td><td>0.348 </td><td>0.455 </td><td>0.384 </td></tr>\n",
       "\t<tr><td>손아섭</td><td>우익수</td><td>롯데  </td><td>11    </td><td>69    </td><td>36    </td><td>64    </td><td>88    </td><td>0.345 </td><td>0.474 </td><td>0.421 </td></tr>\n",
       "\t<tr><td>이진영</td><td>우익수</td><td>LG    </td><td> 3    </td><td>62    </td><td> 6    </td><td>37    </td><td>42    </td><td>0.329 </td><td>0.429 </td><td>0.390 </td></tr>\n",
       "\t<tr><td>박용택</td><td>중견수</td><td>LG    </td><td> 7    </td><td>67    </td><td>13    </td><td>52    </td><td>71    </td><td>0.328 </td><td>0.435 </td><td>0.393 </td></tr>\n",
       "\t<tr><td>김태균</td><td>1루수 </td><td>한화  </td><td>10    </td><td>52    </td><td> 0    </td><td>73    </td><td>67    </td><td>0.319 </td><td>0.475 </td><td>0.444 </td></tr>\n",
       "\t<tr><td>민병헌</td><td>우익수</td><td>두산  </td><td> 9    </td><td>65    </td><td>27    </td><td>40    </td><td>62    </td><td>0.319 </td><td>0.480 </td><td>0.387 </td></tr>\n",
       "</tbody>\n",
       "</table>\n"
      ],
      "text/latex": [
       "\\begin{tabular}{r|lllllllllll}\n",
       " 선수명 & 포지션 & 팀 & 홈런 & 타점 & 도루 & 볼넷 & 삼진 & 타율 & 장타율 & 출루율\\\\\n",
       "\\hline\n",
       "\t 이병규 & 우익수 & LG     &  5     & 74     &  2     & 22     & 40     & 0.348  & 0.455  & 0.384 \\\\\n",
       "\t 손아섭 & 우익수 & 롯데   & 11     & 69     & 36     & 64     & 88     & 0.345  & 0.474  & 0.421 \\\\\n",
       "\t 이진영 & 우익수 & LG     &  3     & 62     &  6     & 37     & 42     & 0.329  & 0.429  & 0.390 \\\\\n",
       "\t 박용택 & 중견수 & LG     &  7     & 67     & 13     & 52     & 71     & 0.328  & 0.435  & 0.393 \\\\\n",
       "\t 김태균 & 1루수  & 한화   & 10     & 52     &  0     & 73     & 67     & 0.319  & 0.475  & 0.444 \\\\\n",
       "\t 민병헌 & 우익수 & 두산   &  9     & 65     & 27     & 40     & 62     & 0.319  & 0.480  & 0.387 \\\\\n",
       "\\end{tabular}\n"
      ],
      "text/markdown": [
       "\n",
       "| 선수명 | 포지션 | 팀 | 홈런 | 타점 | 도루 | 볼넷 | 삼진 | 타율 | 장타율 | 출루율 |\n",
       "|---|---|---|---|---|---|---|---|---|---|---|\n",
       "| 이병규 | 우익수 | LG     |  5     | 74     |  2     | 22     | 40     | 0.348  | 0.455  | 0.384  |\n",
       "| 손아섭 | 우익수 | 롯데   | 11     | 69     | 36     | 64     | 88     | 0.345  | 0.474  | 0.421  |\n",
       "| 이진영 | 우익수 | LG     |  3     | 62     |  6     | 37     | 42     | 0.329  | 0.429  | 0.390  |\n",
       "| 박용택 | 중견수 | LG     |  7     | 67     | 13     | 52     | 71     | 0.328  | 0.435  | 0.393  |\n",
       "| 김태균 | 1루수  | 한화   | 10     | 52     |  0     | 73     | 67     | 0.319  | 0.475  | 0.444  |\n",
       "| 민병헌 | 우익수 | 두산   |  9     | 65     | 27     | 40     | 62     | 0.319  | 0.480  | 0.387  |\n",
       "\n"
      ],
      "text/plain": [
       "  선수명 포지션 팀   홈런 타점 도루 볼넷 삼진 타율  장타율 출루율\n",
       "1 이병규 우익수 LG    5   74    2   22   40   0.348 0.455  0.384 \n",
       "2 손아섭 우익수 롯데 11   69   36   64   88   0.345 0.474  0.421 \n",
       "3 이진영 우익수 LG    3   62    6   37   42   0.329 0.429  0.390 \n",
       "4 박용택 중견수 LG    7   67   13   52   71   0.328 0.435  0.393 \n",
       "5 김태균 1루수  한화 10   52    0   73   67   0.319 0.475  0.444 \n",
       "6 민병헌 우익수 두산  9   65   27   40   62   0.319 0.480  0.387 "
      ]
     },
     "metadata": {},
     "output_type": "display_data"
    }
   ],
   "source": [
    "bb2013 = read.csv('2013_baseball.csv')\n",
    "head(bb2013)"
   ]
  },
  {
   "cell_type": "code",
   "execution_count": 146,
   "metadata": {},
   "outputs": [
    {
     "data": {
      "text/html": [
       "<ol class=list-inline>\n",
       "\t<li>우익수</li>\n",
       "\t<li>우익수</li>\n",
       "\t<li>우익수</li>\n",
       "\t<li>중견수</li>\n",
       "\t<li>1루수</li>\n",
       "\t<li>우익수</li>\n",
       "</ol>\n",
       "\n",
       "<details>\n",
       "\t<summary style=display:list-item;cursor:pointer>\n",
       "\t\t<strong>Levels</strong>:\n",
       "\t</summary>\n",
       "\t<ol class=list-inline>\n",
       "\t\t<li>'1루수'</li>\n",
       "\t\t<li>'2루수'</li>\n",
       "\t\t<li>'3루수'</li>\n",
       "\t\t<li>'우익수'</li>\n",
       "\t\t<li>'유격수'</li>\n",
       "\t\t<li>'좌익수'</li>\n",
       "\t\t<li>'중견수'</li>\n",
       "\t\t<li>'포수'</li>\n",
       "\t</ol>\n",
       "</details>"
      ],
      "text/latex": [
       "\\begin{enumerate*}\n",
       "\\item 우익수\n",
       "\\item 우익수\n",
       "\\item 우익수\n",
       "\\item 중견수\n",
       "\\item 1루수\n",
       "\\item 우익수\n",
       "\\end{enumerate*}\n",
       "\n",
       "\\emph{Levels}: \\begin{enumerate*}\n",
       "\\item '1루수'\n",
       "\\item '2루수'\n",
       "\\item '3루수'\n",
       "\\item '우익수'\n",
       "\\item '유격수'\n",
       "\\item '좌익수'\n",
       "\\item '중견수'\n",
       "\\item '포수'\n",
       "\\end{enumerate*}\n"
      ],
      "text/markdown": [
       "1. 우익수\n",
       "2. 우익수\n",
       "3. 우익수\n",
       "4. 중견수\n",
       "5. 1루수\n",
       "6. 우익수\n",
       "\n",
       "\n",
       "\n",
       "**Levels**: 1. '1루수'\n",
       "2. '2루수'\n",
       "3. '3루수'\n",
       "4. '우익수'\n",
       "5. '유격수'\n",
       "6. '좌익수'\n",
       "7. '중견수'\n",
       "8. '포수'\n",
       "\n",
       "\n"
      ],
      "text/plain": [
       "[1] 우익수 우익수 우익수 중견수 1루수  우익수\n",
       "Levels: 1루수 2루수 3루수 우익수 유격수 좌익수 중견수 포수"
      ]
     },
     "metadata": {},
     "output_type": "display_data"
    }
   ],
   "source": [
    "position = bb2013$포지션\n",
    "head(position)"
   ]
  },
  {
   "cell_type": "code",
   "execution_count": 149,
   "metadata": {},
   "outputs": [],
   "source": [
    "base2_pos = bb2013[,c(2,4:11)]"
   ]
  },
  {
   "cell_type": "code",
   "execution_count": 154,
   "metadata": {},
   "outputs": [
    {
     "data": {
      "text/html": [
       "<table>\n",
       "<thead><tr><th scope=col>포지션</th><th scope=col>홈런</th><th scope=col>타점</th><th scope=col>도루</th><th scope=col>볼넷</th><th scope=col>삼진</th><th scope=col>타율</th><th scope=col>장타율</th><th scope=col>출루율</th></tr></thead>\n",
       "<tbody>\n",
       "\t<tr><td>1루수 </td><td>126   </td><td>564   </td><td> 32   </td><td>436   </td><td>650   </td><td>2.296 </td><td>3.683 </td><td>2.962 </td></tr>\n",
       "\t<tr><td>2루수 </td><td> 20   </td><td>152   </td><td> 60   </td><td>172   </td><td>239   </td><td>1.052 </td><td>1.435 </td><td>1.379 </td></tr>\n",
       "\t<tr><td>3루수 </td><td>113   </td><td>473   </td><td> 86   </td><td>367   </td><td>549   </td><td>2.026 </td><td>3.228 </td><td>2.658 </td></tr>\n",
       "\t<tr><td>우익수</td><td> 57   </td><td>497   </td><td>186   </td><td>420   </td><td>707   </td><td>2.958 </td><td>4.042 </td><td>3.690 </td></tr>\n",
       "\t<tr><td>유격수</td><td> 42   </td><td>229   </td><td> 70   </td><td>190   </td><td>354   </td><td>1.101 </td><td>1.661 </td><td>1.418 </td></tr>\n",
       "\t<tr><td>좌익수</td><td> 81   </td><td>414   </td><td> 36   </td><td>282   </td><td>467   </td><td>1.708 </td><td>2.608 </td><td>2.168 </td></tr>\n",
       "</tbody>\n",
       "</table>\n"
      ],
      "text/latex": [
       "\\begin{tabular}{r|lllllllll}\n",
       " 포지션 & 홈런 & 타점 & 도루 & 볼넷 & 삼진 & 타율 & 장타율 & 출루율\\\\\n",
       "\\hline\n",
       "\t 1루수  & 126    & 564    &  32    & 436    & 650    & 2.296  & 3.683  & 2.962 \\\\\n",
       "\t 2루수  &  20    & 152    &  60    & 172    & 239    & 1.052  & 1.435  & 1.379 \\\\\n",
       "\t 3루수  & 113    & 473    &  86    & 367    & 549    & 2.026  & 3.228  & 2.658 \\\\\n",
       "\t 우익수 &  57    & 497    & 186    & 420    & 707    & 2.958  & 4.042  & 3.690 \\\\\n",
       "\t 유격수 &  42    & 229    &  70    & 190    & 354    & 1.101  & 1.661  & 1.418 \\\\\n",
       "\t 좌익수 &  81    & 414    &  36    & 282    & 467    & 1.708  & 2.608  & 2.168 \\\\\n",
       "\\end{tabular}\n"
      ],
      "text/markdown": [
       "\n",
       "| 포지션 | 홈런 | 타점 | 도루 | 볼넷 | 삼진 | 타율 | 장타율 | 출루율 |\n",
       "|---|---|---|---|---|---|---|---|---|\n",
       "| 1루수  | 126    | 564    |  32    | 436    | 650    | 2.296  | 3.683  | 2.962  |\n",
       "| 2루수  |  20    | 152    |  60    | 172    | 239    | 1.052  | 1.435  | 1.379  |\n",
       "| 3루수  | 113    | 473    |  86    | 367    | 549    | 2.026  | 3.228  | 2.658  |\n",
       "| 우익수 |  57    | 497    | 186    | 420    | 707    | 2.958  | 4.042  | 3.690  |\n",
       "| 유격수 |  42    | 229    |  70    | 190    | 354    | 1.101  | 1.661  | 1.418  |\n",
       "| 좌익수 |  81    | 414    |  36    | 282    | 467    | 1.708  | 2.608  | 2.168  |\n",
       "\n"
      ],
      "text/plain": [
       "  포지션 홈런 타점 도루 볼넷 삼진 타율  장타율 출루율\n",
       "1 1루수  126  564   32  436  650  2.296 3.683  2.962 \n",
       "2 2루수   20  152   60  172  239  1.052 1.435  1.379 \n",
       "3 3루수  113  473   86  367  549  2.026 3.228  2.658 \n",
       "4 우익수  57  497  186  420  707  2.958 4.042  3.690 \n",
       "5 유격수  42  229   70  190  354  1.101 1.661  1.418 \n",
       "6 좌익수  81  414   36  282  467  1.708 2.608  2.168 "
      ]
     },
     "metadata": {},
     "output_type": "display_data"
    }
   ],
   "source": [
    "base2_pos2 = aggregate(base2_pos[,2:9], by = list(포지션 = base2_pos$포지션), sum)\n",
    "head(base2_pos2)"
   ]
  },
  {
   "cell_type": "code",
   "execution_count": 155,
   "metadata": {},
   "outputs": [
    {
     "data": {
      "text/html": [
       "<table>\n",
       "<thead><tr><th></th><th scope=col>포지션</th><th scope=col>홈런</th><th scope=col>타점</th><th scope=col>도루</th><th scope=col>볼넷</th><th scope=col>삼진</th><th scope=col>타율</th><th scope=col>장타율</th><th scope=col>출루율</th></tr></thead>\n",
       "<tbody>\n",
       "\t<tr><th scope=row>1루수</th><td>1루수 </td><td>126   </td><td>564   </td><td> 32   </td><td>436   </td><td>650   </td><td>2.296 </td><td>3.683 </td><td>2.962 </td></tr>\n",
       "\t<tr><th scope=row>2루수</th><td>2루수 </td><td> 20   </td><td>152   </td><td> 60   </td><td>172   </td><td>239   </td><td>1.052 </td><td>1.435 </td><td>1.379 </td></tr>\n",
       "\t<tr><th scope=row>3루수</th><td>3루수 </td><td>113   </td><td>473   </td><td> 86   </td><td>367   </td><td>549   </td><td>2.026 </td><td>3.228 </td><td>2.658 </td></tr>\n",
       "\t<tr><th scope=row>우익수</th><td>우익수</td><td> 57   </td><td>497   </td><td>186   </td><td>420   </td><td>707   </td><td>2.958 </td><td>4.042 </td><td>3.690 </td></tr>\n",
       "\t<tr><th scope=row>유격수</th><td>유격수</td><td> 42   </td><td>229   </td><td> 70   </td><td>190   </td><td>354   </td><td>1.101 </td><td>1.661 </td><td>1.418 </td></tr>\n",
       "\t<tr><th scope=row>좌익수</th><td>좌익수</td><td> 81   </td><td>414   </td><td> 36   </td><td>282   </td><td>467   </td><td>1.708 </td><td>2.608 </td><td>2.168 </td></tr>\n",
       "</tbody>\n",
       "</table>\n"
      ],
      "text/latex": [
       "\\begin{tabular}{r|lllllllll}\n",
       "  & 포지션 & 홈런 & 타점 & 도루 & 볼넷 & 삼진 & 타율 & 장타율 & 출루율\\\\\n",
       "\\hline\n",
       "\t1루수 & 1루수  & 126    & 564    &  32    & 436    & 650    & 2.296  & 3.683  & 2.962 \\\\\n",
       "\t2루수 & 2루수  &  20    & 152    &  60    & 172    & 239    & 1.052  & 1.435  & 1.379 \\\\\n",
       "\t3루수 & 3루수  & 113    & 473    &  86    & 367    & 549    & 2.026  & 3.228  & 2.658 \\\\\n",
       "\t우익수 & 우익수 &  57    & 497    & 186    & 420    & 707    & 2.958  & 4.042  & 3.690 \\\\\n",
       "\t유격수 & 유격수 &  42    & 229    &  70    & 190    & 354    & 1.101  & 1.661  & 1.418 \\\\\n",
       "\t좌익수 & 좌익수 &  81    & 414    &  36    & 282    & 467    & 1.708  & 2.608  & 2.168 \\\\\n",
       "\\end{tabular}\n"
      ],
      "text/markdown": [
       "\n",
       "| <!--/--> | 포지션 | 홈런 | 타점 | 도루 | 볼넷 | 삼진 | 타율 | 장타율 | 출루율 |\n",
       "|---|---|---|---|---|---|---|---|---|---|\n",
       "| 1루수 | 1루수  | 126    | 564    |  32    | 436    | 650    | 2.296  | 3.683  | 2.962  |\n",
       "| 2루수 | 2루수  |  20    | 152    |  60    | 172    | 239    | 1.052  | 1.435  | 1.379  |\n",
       "| 3루수 | 3루수  | 113    | 473    |  86    | 367    | 549    | 2.026  | 3.228  | 2.658  |\n",
       "| 우익수 | 우익수 |  57    | 497    | 186    | 420    | 707    | 2.958  | 4.042  | 3.690  |\n",
       "| 유격수 | 유격수 |  42    | 229    |  70    | 190    | 354    | 1.101  | 1.661  | 1.418  |\n",
       "| 좌익수 | 좌익수 |  81    | 414    |  36    | 282    | 467    | 1.708  | 2.608  | 2.168  |\n",
       "\n"
      ],
      "text/plain": [
       "       포지션 홈런 타점 도루 볼넷 삼진 타율  장타율 출루율\n",
       "1루수  1루수  126  564   32  436  650  2.296 3.683  2.962 \n",
       "2루수  2루수   20  152   60  172  239  1.052 1.435  1.379 \n",
       "3루수  3루수  113  473   86  367  549  2.026 3.228  2.658 \n",
       "우익수 우익수  57  497  186  420  707  2.958 4.042  3.690 \n",
       "유격수 유격수  42  229   70  190  354  1.101 1.661  1.418 \n",
       "좌익수 좌익수  81  414   36  282  467  1.708 2.608  2.168 "
      ]
     },
     "metadata": {},
     "output_type": "display_data"
    }
   ],
   "source": [
    "rownames(base2_pos2) = base2_pos2[,1]\n",
    "head(base2_pos2)"
   ]
  },
  {
   "cell_type": "code",
   "execution_count": 156,
   "metadata": {},
   "outputs": [],
   "source": [
    "library(lattice)"
   ]
  },
  {
   "cell_type": "code",
   "execution_count": 157,
   "metadata": {},
   "outputs": [
    {
     "name": "stderr",
     "output_type": "stream",
     "text": [
      "Warning message:\n",
      "\"'parallel' is deprecated.\n",
      "Use 'parallelplot' instead.\n",
      "See help(\"Deprecated\")\""
     ]
    },
    {
     "data": {
      "image/png": "[encoded data removed]",
      "text/plain": [
       "plot without title"
      ]
     },
     "metadata": {},
     "output_type": "display_data"
    }
   ],
   "source": [
    "parallel(base2_pos2[,2:9], horizontal.axis = F, col = 1)"
   ]
  },
  {
   "cell_type": "code",
   "execution_count": 158,
   "metadata": {},
   "outputs": [],
   "source": [
    "# 팀별 평행 좌표"
   ]
  },
  {
   "cell_type": "code",
   "execution_count": 159,
   "metadata": {},
   "outputs": [
    {
     "data": {
      "text/html": [
       "<ol class=list-inline>\n",
       "\t<li>LG</li>\n",
       "\t<li>롯데</li>\n",
       "\t<li>LG</li>\n",
       "\t<li>LG</li>\n",
       "\t<li>한화</li>\n",
       "\t<li>두산</li>\n",
       "</ol>\n",
       "\n",
       "<details>\n",
       "\t<summary style=display:list-item;cursor:pointer>\n",
       "\t\t<strong>Levels</strong>:\n",
       "\t</summary>\n",
       "\t<ol class=list-inline>\n",
       "\t\t<li>'KIA'</li>\n",
       "\t\t<li>'LG'</li>\n",
       "\t\t<li>'NC'</li>\n",
       "\t\t<li>'SK'</li>\n",
       "\t\t<li>'넥센'</li>\n",
       "\t\t<li>'두산'</li>\n",
       "\t\t<li>'롯데'</li>\n",
       "\t\t<li>'삼성'</li>\n",
       "\t\t<li>'한화'</li>\n",
       "\t</ol>\n",
       "</details>"
      ],
      "text/latex": [
       "\\begin{enumerate*}\n",
       "\\item LG\n",
       "\\item 롯데\n",
       "\\item LG\n",
       "\\item LG\n",
       "\\item 한화\n",
       "\\item 두산\n",
       "\\end{enumerate*}\n",
       "\n",
       "\\emph{Levels}: \\begin{enumerate*}\n",
       "\\item 'KIA'\n",
       "\\item 'LG'\n",
       "\\item 'NC'\n",
       "\\item 'SK'\n",
       "\\item '넥센'\n",
       "\\item '두산'\n",
       "\\item '롯데'\n",
       "\\item '삼성'\n",
       "\\item '한화'\n",
       "\\end{enumerate*}\n"
      ],
      "text/markdown": [
       "1. LG\n",
       "2. 롯데\n",
       "3. LG\n",
       "4. LG\n",
       "5. 한화\n",
       "6. 두산\n",
       "\n",
       "\n",
       "\n",
       "**Levels**: 1. 'KIA'\n",
       "2. 'LG'\n",
       "3. 'NC'\n",
       "4. 'SK'\n",
       "5. '넥센'\n",
       "6. '두산'\n",
       "7. '롯데'\n",
       "8. '삼성'\n",
       "9. '한화'\n",
       "\n",
       "\n"
      ],
      "text/plain": [
       "[1] LG   롯데 LG   LG   한화 두산\n",
       "Levels: KIA LG NC SK 넥센 두산 롯데 삼성 한화"
      ]
     },
     "metadata": {},
     "output_type": "display_data"
    }
   ],
   "source": [
    "team = bb2013$팀\n",
    "head(team)"
   ]
  },
  {
   "cell_type": "code",
   "execution_count": 163,
   "metadata": {},
   "outputs": [
    {
     "name": "stderr",
     "output_type": "stream",
     "text": [
      "Warning message:\n",
      "\"'parallel' is deprecated.\n",
      "Use 'parallelplot' instead.\n",
      "See help(\"Deprecated\")\""
     ]
    },
    {
     "data": {
      "image/png": "[encoded data removed]",
      "text/plain": [
       "plot without title"
      ]
     },
     "metadata": {},
     "output_type": "display_data"
    }
   ],
   "source": [
    "parallel(~bb2013[,4:11]|team,horizontal.axis = F, col = 1)"
   ]
  },
  {
   "cell_type": "code",
   "execution_count": 165,
   "metadata": {},
   "outputs": [
    {
     "name": "stderr",
     "output_type": "stream",
     "text": [
      "Warning message:\n",
      "\"'parallel' is deprecated.\n",
      "Use 'parallelplot' instead.\n",
      "See help(\"Deprecated\")\""
     ]
    },
    {
     "data": {
      "image/png": "[encoded data removed]",
      "text/plain": [
       "plot without title"
      ]
     },
     "metadata": {},
     "output_type": "display_data"
    }
   ],
   "source": [
    "parallel(~bb2013[,4:11]|position,horizontal.axis = F, col = 1)"
   ]
  },
  {
   "cell_type": "code",
   "execution_count": 166,
   "metadata": {},
   "outputs": [],
   "source": [
    "#3."
   ]
  },
  {
   "cell_type": "code",
   "execution_count": 167,
   "metadata": {},
   "outputs": [],
   "source": [
    "rownames(bb2013) = bb2013[,1]"
   ]
  },
  {
   "cell_type": "code",
   "execution_count": 169,
   "metadata": {},
   "outputs": [
    {
     "data": {
      "text/html": [
       "<ol class=list-inline>\n",
       "\t<li>'이병규'</li>\n",
       "\t<li>'손아섭'</li>\n",
       "\t<li>'이진영'</li>\n",
       "\t<li>'박용택'</li>\n",
       "\t<li>'김태균'</li>\n",
       "\t<li>'민병헌'</li>\n",
       "\t<li>'박석민'</li>\n",
       "\t<li>'박병호'</li>\n",
       "\t<li>'최정'</li>\n",
       "\t<li>'정성훈'</li>\n",
       "\t<li>'신종길'</li>\n",
       "\t<li>'이종욱'</li>\n",
       "\t<li>'최형우'</li>\n",
       "\t<li>'김현수'</li>\n",
       "\t<li>'김강민'</li>\n",
       "\t<li>'최진행'</li>\n",
       "\t<li>'홍성흔'</li>\n",
       "\t<li>'김상수'</li>\n",
       "\t<li>'배영섭'</li>\n",
       "\t<li>'이용규'</li>\n",
       "\t<li>'박정권'</li>\n",
       "\t<li>'강정호'</li>\n",
       "\t<li>'나지완'</li>\n",
       "\t<li>'이택근'</li>\n",
       "\t<li>'정현석'</li>\n",
       "\t<li>'박한이'</li>\n",
       "\t<li>'김민성'</li>\n",
       "\t<li>'조영훈'</li>\n",
       "\t<li>'정근우'</li>\n",
       "\t<li>'이호준'</li>\n",
       "\t<li>'김종호'</li>\n",
       "\t<li>'모창민'</li>\n",
       "\t<li>'전준우'</li>\n",
       "\t<li>'황재균'</li>\n",
       "\t<li>'정의윤'</li>\n",
       "\t<li>'손주인'</li>\n",
       "\t<li>'정훈'</li>\n",
       "\t<li>'이대수'</li>\n",
       "\t<li>'오지환'</li>\n",
       "\t<li>'조동화'</li>\n",
       "\t<li>'박종윤'</li>\n",
       "\t<li>'이승엽'</li>\n",
       "\t<li>'안치홍'</li>\n",
       "\t<li>'이범호'</li>\n",
       "\t<li>'나성범'</li>\n",
       "\t<li>'장기영'</li>\n",
       "\t<li>'강민호'</li>\n",
       "\t<li>'권희동'</li>\n",
       "</ol>\n"
      ],
      "text/latex": [
       "\\begin{enumerate*}\n",
       "\\item '이병규'\n",
       "\\item '손아섭'\n",
       "\\item '이진영'\n",
       "\\item '박용택'\n",
       "\\item '김태균'\n",
       "\\item '민병헌'\n",
       "\\item '박석민'\n",
       "\\item '박병호'\n",
       "\\item '최정'\n",
       "\\item '정성훈'\n",
       "\\item '신종길'\n",
       "\\item '이종욱'\n",
       "\\item '최형우'\n",
       "\\item '김현수'\n",
       "\\item '김강민'\n",
       "\\item '최진행'\n",
       "\\item '홍성흔'\n",
       "\\item '김상수'\n",
       "\\item '배영섭'\n",
       "\\item '이용규'\n",
       "\\item '박정권'\n",
       "\\item '강정호'\n",
       "\\item '나지완'\n",
       "\\item '이택근'\n",
       "\\item '정현석'\n",
       "\\item '박한이'\n",
       "\\item '김민성'\n",
       "\\item '조영훈'\n",
       "\\item '정근우'\n",
       "\\item '이호준'\n",
       "\\item '김종호'\n",
       "\\item '모창민'\n",
       "\\item '전준우'\n",
       "\\item '황재균'\n",
       "\\item '정의윤'\n",
       "\\item '손주인'\n",
       "\\item '정훈'\n",
       "\\item '이대수'\n",
       "\\item '오지환'\n",
       "\\item '조동화'\n",
       "\\item '박종윤'\n",
       "\\item '이승엽'\n",
       "\\item '안치홍'\n",
       "\\item '이범호'\n",
       "\\item '나성범'\n",
       "\\item '장기영'\n",
       "\\item '강민호'\n",
       "\\item '권희동'\n",
       "\\end{enumerate*}\n"
      ],
      "text/markdown": [
       "1. '이병규'\n",
       "2. '손아섭'\n",
       "3. '이진영'\n",
       "4. '박용택'\n",
       "5. '김태균'\n",
       "6. '민병헌'\n",
       "7. '박석민'\n",
       "8. '박병호'\n",
       "9. '최정'\n",
       "10. '정성훈'\n",
       "11. '신종길'\n",
       "12. '이종욱'\n",
       "13. '최형우'\n",
       "14. '김현수'\n",
       "15. '김강민'\n",
       "16. '최진행'\n",
       "17. '홍성흔'\n",
       "18. '김상수'\n",
       "19. '배영섭'\n",
       "20. '이용규'\n",
       "21. '박정권'\n",
       "22. '강정호'\n",
       "23. '나지완'\n",
       "24. '이택근'\n",
       "25. '정현석'\n",
       "26. '박한이'\n",
       "27. '김민성'\n",
       "28. '조영훈'\n",
       "29. '정근우'\n",
       "30. '이호준'\n",
       "31. '김종호'\n",
       "32. '모창민'\n",
       "33. '전준우'\n",
       "34. '황재균'\n",
       "35. '정의윤'\n",
       "36. '손주인'\n",
       "37. '정훈'\n",
       "38. '이대수'\n",
       "39. '오지환'\n",
       "40. '조동화'\n",
       "41. '박종윤'\n",
       "42. '이승엽'\n",
       "43. '안치홍'\n",
       "44. '이범호'\n",
       "45. '나성범'\n",
       "46. '장기영'\n",
       "47. '강민호'\n",
       "48. '권희동'\n",
       "\n",
       "\n"
      ],
      "text/plain": [
       " [1] \"이병규\" \"손아섭\" \"이진영\" \"박용택\" \"김태균\" \"민병헌\" \"박석민\" \"박병호\"\n",
       " [9] \"최정\"   \"정성훈\" \"신종길\" \"이종욱\" \"최형우\" \"김현수\" \"김강민\" \"최진행\"\n",
       "[17] \"홍성흔\" \"김상수\" \"배영섭\" \"이용규\" \"박정권\" \"강정호\" \"나지완\" \"이택근\"\n",
       "[25] \"정현석\" \"박한이\" \"김민성\" \"조영훈\" \"정근우\" \"이호준\" \"김종호\" \"모창민\"\n",
       "[33] \"전준우\" \"황재균\" \"정의윤\" \"손주인\" \"정훈\"   \"이대수\" \"오지환\" \"조동화\"\n",
       "[41] \"박종윤\" \"이승엽\" \"안치홍\" \"이범호\" \"나성범\" \"장기영\" \"강민호\" \"권희동\""
      ]
     },
     "metadata": {},
     "output_type": "display_data"
    }
   ],
   "source": [
    "rownames(bb2013)"
   ]
  },
  {
   "cell_type": "code",
   "execution_count": 171,
   "metadata": {},
   "outputs": [
    {
     "data": {
      "text/html": [
       "<table>\n",
       "<thead><tr><th></th><th scope=col>선수명</th><th scope=col>포지션</th><th scope=col>팀</th><th scope=col>홈런</th><th scope=col>타점</th><th scope=col>도루</th><th scope=col>볼넷</th><th scope=col>삼진</th><th scope=col>타율</th><th scope=col>장타율</th><th scope=col>출루율</th></tr></thead>\n",
       "<tbody>\n",
       "\t<tr><th scope=row>이병규</th><td>이병규</td><td>우익수</td><td>LG    </td><td> 5    </td><td>74    </td><td> 2    </td><td>22    </td><td>40    </td><td>0.348 </td><td>0.455 </td><td>0.384 </td></tr>\n",
       "\t<tr><th scope=row>손아섭</th><td>손아섭</td><td>우익수</td><td>롯데  </td><td>11    </td><td>69    </td><td>36    </td><td>64    </td><td>88    </td><td>0.345 </td><td>0.474 </td><td>0.421 </td></tr>\n",
       "\t<tr><th scope=row>이진영</th><td>이진영</td><td>우익수</td><td>LG    </td><td> 3    </td><td>62    </td><td> 6    </td><td>37    </td><td>42    </td><td>0.329 </td><td>0.429 </td><td>0.390 </td></tr>\n",
       "\t<tr><th scope=row>박용택</th><td>박용택</td><td>중견수</td><td>LG    </td><td> 7    </td><td>67    </td><td>13    </td><td>52    </td><td>71    </td><td>0.328 </td><td>0.435 </td><td>0.393 </td></tr>\n",
       "\t<tr><th scope=row>김태균</th><td>김태균</td><td>1루수 </td><td>한화  </td><td>10    </td><td>52    </td><td> 0    </td><td>73    </td><td>67    </td><td>0.319 </td><td>0.475 </td><td>0.444 </td></tr>\n",
       "\t<tr><th scope=row>민병헌</th><td>민병헌</td><td>우익수</td><td>두산  </td><td> 9    </td><td>65    </td><td>27    </td><td>40    </td><td>62    </td><td>0.319 </td><td>0.480 </td><td>0.387 </td></tr>\n",
       "</tbody>\n",
       "</table>\n"
      ],
      "text/latex": [
       "\\begin{tabular}{r|lllllllllll}\n",
       "  & 선수명 & 포지션 & 팀 & 홈런 & 타점 & 도루 & 볼넷 & 삼진 & 타율 & 장타율 & 출루율\\\\\n",
       "\\hline\n",
       "\t이병규 & 이병규 & 우익수 & LG     &  5     & 74     &  2     & 22     & 40     & 0.348  & 0.455  & 0.384 \\\\\n",
       "\t손아섭 & 손아섭 & 우익수 & 롯데   & 11     & 69     & 36     & 64     & 88     & 0.345  & 0.474  & 0.421 \\\\\n",
       "\t이진영 & 이진영 & 우익수 & LG     &  3     & 62     &  6     & 37     & 42     & 0.329  & 0.429  & 0.390 \\\\\n",
       "\t박용택 & 박용택 & 중견수 & LG     &  7     & 67     & 13     & 52     & 71     & 0.328  & 0.435  & 0.393 \\\\\n",
       "\t김태균 & 김태균 & 1루수  & 한화   & 10     & 52     &  0     & 73     & 67     & 0.319  & 0.475  & 0.444 \\\\\n",
       "\t민병헌 & 민병헌 & 우익수 & 두산   &  9     & 65     & 27     & 40     & 62     & 0.319  & 0.480  & 0.387 \\\\\n",
       "\\end{tabular}\n"
      ],
      "text/markdown": [
       "\n",
       "| <!--/--> | 선수명 | 포지션 | 팀 | 홈런 | 타점 | 도루 | 볼넷 | 삼진 | 타율 | 장타율 | 출루율 |\n",
       "|---|---|---|---|---|---|---|---|---|---|---|---|\n",
       "| 이병규 | 이병규 | 우익수 | LG     |  5     | 74     |  2     | 22     | 40     | 0.348  | 0.455  | 0.384  |\n",
       "| 손아섭 | 손아섭 | 우익수 | 롯데   | 11     | 69     | 36     | 64     | 88     | 0.345  | 0.474  | 0.421  |\n",
       "| 이진영 | 이진영 | 우익수 | LG     |  3     | 62     |  6     | 37     | 42     | 0.329  | 0.429  | 0.390  |\n",
       "| 박용택 | 박용택 | 중견수 | LG     |  7     | 67     | 13     | 52     | 71     | 0.328  | 0.435  | 0.393  |\n",
       "| 김태균 | 김태균 | 1루수  | 한화   | 10     | 52     |  0     | 73     | 67     | 0.319  | 0.475  | 0.444  |\n",
       "| 민병헌 | 민병헌 | 우익수 | 두산   |  9     | 65     | 27     | 40     | 62     | 0.319  | 0.480  | 0.387  |\n",
       "\n"
      ],
      "text/plain": [
       "       선수명 포지션 팀   홈런 타점 도루 볼넷 삼진 타율  장타율 출루율\n",
       "이병규 이병규 우익수 LG    5   74    2   22   40   0.348 0.455  0.384 \n",
       "손아섭 손아섭 우익수 롯데 11   69   36   64   88   0.345 0.474  0.421 \n",
       "이진영 이진영 우익수 LG    3   62    6   37   42   0.329 0.429  0.390 \n",
       "박용택 박용택 중견수 LG    7   67   13   52   71   0.328 0.435  0.393 \n",
       "김태균 김태균 1루수  한화 10   52    0   73   67   0.319 0.475  0.444 \n",
       "민병헌 민병헌 우익수 두산  9   65   27   40   62   0.319 0.480  0.387 "
      ]
     },
     "metadata": {},
     "output_type": "display_data"
    }
   ],
   "source": [
    "head(bb2013)"
   ]
  },
  {
   "cell_type": "code",
   "execution_count": 170,
   "metadata": {},
   "outputs": [],
   "source": [
    "model = prcomp(bb2013[,4:11], scale = T)"
   ]
  },
  {
   "cell_type": "code",
   "execution_count": 172,
   "metadata": {},
   "outputs": [
    {
     "data": {
      "image/png": "[encoded data removed]",
      "text/plain": [
       "Plot with title \"model\""
      ]
     },
     "metadata": {},
     "output_type": "display_data"
    }
   ],
   "source": [
    "plot(model)"
   ]
  },
  {
   "cell_type": "code",
   "execution_count": 173,
   "metadata": {},
   "outputs": [
    {
     "data": {
      "text/plain": [
       "Importance of components:\n",
       "                          PC1    PC2    PC3     PC4     PC5     PC6     PC7\n",
       "Standard deviation     1.9984 1.2933 1.1273 0.76071 0.53276 0.37904 0.17280\n",
       "Proportion of Variance 0.4992 0.2091 0.1588 0.07234 0.03548 0.01796 0.00373\n",
       "Cumulative Proportion  0.4992 0.7083 0.8671 0.93949 0.97497 0.99292 0.99666\n",
       "                           PC8\n",
       "Standard deviation     0.16352\n",
       "Proportion of Variance 0.00334\n",
       "Cumulative Proportion  1.00000"
      ]
     },
     "metadata": {},
     "output_type": "display_data"
    }
   ],
   "source": [
    "summary(model)"
   ]
  },
  {
   "cell_type": "code",
   "execution_count": 174,
   "metadata": {},
   "outputs": [
    {
     "data": {
      "image/png": "[encoded data removed]",
      "text/plain": [
       "plot without title"
      ]
     },
     "metadata": {},
     "output_type": "display_data"
    }
   ],
   "source": [
    "biplot(model)"
   ]
  },
  {
   "cell_type": "code",
   "execution_count": null,
   "metadata": {},
   "outputs": [],
   "source": []
  },
  {
   "cell_type": "code",
   "execution_count": null,
   "metadata": {},
   "outputs": [],
   "source": []
  },
  {
   "cell_type": "code",
   "execution_count": null,
   "metadata": {},
   "outputs": [],
   "source": []
  },
  {
   "cell_type": "code",
   "execution_count": null,
   "metadata": {},
   "outputs": [],
   "source": []
  },
  {
   "cell_type": "code",
   "execution_count": null,
   "metadata": {},
   "outputs": [],
   "source": []
  },
  {
   "cell_type": "code",
   "execution_count": null,
   "metadata": {},
   "outputs": [],
   "source": []
  },
  {
   "cell_type": "code",
   "execution_count": null,
   "metadata": {},
   "outputs": [],
   "source": []
  },
  {
   "cell_type": "code",
   "execution_count": null,
   "metadata": {},
   "outputs": [],
   "source": []
  },
  {
   "cell_type": "code",
   "execution_count": null,
   "metadata": {},
   "outputs": [],
   "source": []
  },
  {
   "cell_type": "code",
   "execution_count": null,
   "metadata": {},
   "outputs": [],
   "source": []
  },
  {
   "cell_type": "code",
   "execution_count": null,
   "metadata": {},
   "outputs": [],
   "source": []
  },
  {
   "cell_type": "code",
   "execution_count": null,
   "metadata": {},
   "outputs": [],
   "source": []
  },
  {
   "cell_type": "code",
   "execution_count": null,
   "metadata": {},
   "outputs": [],
   "source": []
  },
  {
   "cell_type": "code",
   "execution_count": null,
   "metadata": {},
   "outputs": [],
   "source": []
  },
  {
   "cell_type": "code",
   "execution_count": null,
   "metadata": {},
   "outputs": [],
   "source": []
  }
 ],
 "metadata": {
  "kernelspec": {
   "display_name": "R",
   "language": "R",
   "name": "ir"
  },
  "language_info": {
   "codemirror_mode": "r",
   "file_extension": ".r",
   "mimetype": "text/x-r-source",
   "name": "R",
   "pygments_lexer": "r",
   "version": "3.6.1"
  }
 },
 "nbformat": 4,
 "nbformat_minor": 4
}
