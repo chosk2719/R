{
 "cells": [
  {
   "cell_type": "code",
   "execution_count": 24,
   "metadata": {},
   "outputs": [],
   "source": [
    "mpg = as.data.frame(ggplot2::mpg)"
   ]
  },
  {
   "cell_type": "code",
   "execution_count": 25,
   "metadata": {},
   "outputs": [],
   "source": [
    "mpg[c(10, 14, 58, 93), \"drv\"] = 'k'\n",
    "mpg [c(29, 43, 129, 203), \"cty\"] = c(3, 4, 39, 42)"
   ]
  },
  {
   "cell_type": "code",
   "execution_count": 26,
   "metadata": {},
   "outputs": [
    {
     "data": {
      "text/html": [
       "<table>\n",
       "<thead><tr><th scope=col>manufacturer</th><th scope=col>model</th><th scope=col>displ</th><th scope=col>year</th><th scope=col>cyl</th><th scope=col>trans</th><th scope=col>drv</th><th scope=col>cty</th><th scope=col>hwy</th><th scope=col>fl</th><th scope=col>class</th></tr></thead>\n",
       "<tbody>\n",
       "\t<tr><td>audi              </td><td>a4                </td><td>1.8               </td><td>1999              </td><td>4                 </td><td>auto(l5)          </td><td>f                 </td><td>18                </td><td>29                </td><td>p                 </td><td>compact           </td></tr>\n",
       "\t<tr><td>audi              </td><td>a4                </td><td>1.8               </td><td>1999              </td><td>4                 </td><td>manual(m5)        </td><td>f                 </td><td>21                </td><td>29                </td><td>p                 </td><td>compact           </td></tr>\n",
       "\t<tr><td>audi              </td><td>a4                </td><td>2.0               </td><td>2008              </td><td>4                 </td><td>manual(m6)        </td><td>f                 </td><td>20                </td><td>31                </td><td>p                 </td><td>compact           </td></tr>\n",
       "\t<tr><td>audi              </td><td>a4                </td><td>2.0               </td><td>2008              </td><td>4                 </td><td>auto(av)          </td><td>f                 </td><td>21                </td><td>30                </td><td>p                 </td><td>compact           </td></tr>\n",
       "\t<tr><td>audi              </td><td>a4                </td><td>2.8               </td><td>1999              </td><td>6                 </td><td>auto(l5)          </td><td>f                 </td><td>16                </td><td>26                </td><td>p                 </td><td>compact           </td></tr>\n",
       "\t<tr><td>audi              </td><td>a4                </td><td>2.8               </td><td>1999              </td><td>6                 </td><td>manual(m5)        </td><td>f                 </td><td>18                </td><td>26                </td><td>p                 </td><td>compact           </td></tr>\n",
       "\t<tr><td>audi              </td><td>a4                </td><td>3.1               </td><td>2008              </td><td>6                 </td><td>auto(av)          </td><td>f                 </td><td>18                </td><td>27                </td><td>p                 </td><td>compact           </td></tr>\n",
       "\t<tr><td>audi              </td><td>a4 quattro        </td><td>1.8               </td><td>1999              </td><td>4                 </td><td>manual(m5)        </td><td>4                 </td><td>18                </td><td>26                </td><td>p                 </td><td>compact           </td></tr>\n",
       "\t<tr><td>audi              </td><td>a4 quattro        </td><td>1.8               </td><td>1999              </td><td>4                 </td><td>auto(l5)          </td><td>4                 </td><td>16                </td><td>25                </td><td>p                 </td><td>compact           </td></tr>\n",
       "\t<tr><td>audi              </td><td>a4 quattro        </td><td>2.0               </td><td>2008              </td><td>4                 </td><td>manual(m6)        </td><td>k                 </td><td>20                </td><td>28                </td><td>p                 </td><td>compact           </td></tr>\n",
       "\t<tr><td>audi              </td><td>a4 quattro        </td><td>2.0               </td><td>2008              </td><td>4                 </td><td>auto(s6)          </td><td>4                 </td><td>19                </td><td>27                </td><td>p                 </td><td>compact           </td></tr>\n",
       "\t<tr><td>audi              </td><td>a4 quattro        </td><td>2.8               </td><td>1999              </td><td>6                 </td><td>auto(l5)          </td><td>4                 </td><td>15                </td><td>25                </td><td>p                 </td><td>compact           </td></tr>\n",
       "\t<tr><td>audi              </td><td>a4 quattro        </td><td>2.8               </td><td>1999              </td><td>6                 </td><td>manual(m5)        </td><td>4                 </td><td>17                </td><td>25                </td><td>p                 </td><td>compact           </td></tr>\n",
       "\t<tr><td>audi              </td><td>a4 quattro        </td><td>3.1               </td><td>2008              </td><td>6                 </td><td>auto(s6)          </td><td>k                 </td><td>17                </td><td>25                </td><td>p                 </td><td>compact           </td></tr>\n",
       "\t<tr><td>audi              </td><td>a4 quattro        </td><td>3.1               </td><td>2008              </td><td>6                 </td><td>manual(m6)        </td><td>4                 </td><td>15                </td><td>25                </td><td>p                 </td><td>compact           </td></tr>\n",
       "\t<tr><td>audi              </td><td>a6 quattro        </td><td>2.8               </td><td>1999              </td><td>6                 </td><td>auto(l5)          </td><td>4                 </td><td>15                </td><td>24                </td><td>p                 </td><td>midsize           </td></tr>\n",
       "\t<tr><td>audi              </td><td>a6 quattro        </td><td>3.1               </td><td>2008              </td><td>6                 </td><td>auto(s6)          </td><td>4                 </td><td>17                </td><td>25                </td><td>p                 </td><td>midsize           </td></tr>\n",
       "\t<tr><td>audi              </td><td>a6 quattro        </td><td>4.2               </td><td>2008              </td><td>8                 </td><td>auto(s6)          </td><td>4                 </td><td>16                </td><td>23                </td><td>p                 </td><td>midsize           </td></tr>\n",
       "\t<tr><td>chevrolet         </td><td>c1500 suburban 2wd</td><td>5.3               </td><td>2008              </td><td>8                 </td><td>auto(l4)          </td><td>r                 </td><td>14                </td><td>20                </td><td>r                 </td><td>suv               </td></tr>\n",
       "\t<tr><td>chevrolet         </td><td>c1500 suburban 2wd</td><td>5.3               </td><td>2008              </td><td>8                 </td><td>auto(l4)          </td><td>r                 </td><td>11                </td><td>15                </td><td>e                 </td><td>suv               </td></tr>\n",
       "\t<tr><td>chevrolet         </td><td>c1500 suburban 2wd</td><td>5.3               </td><td>2008              </td><td>8                 </td><td>auto(l4)          </td><td>r                 </td><td>14                </td><td>20                </td><td>r                 </td><td>suv               </td></tr>\n",
       "\t<tr><td>chevrolet         </td><td>c1500 suburban 2wd</td><td>5.7               </td><td>1999              </td><td>8                 </td><td>auto(l4)          </td><td>r                 </td><td>13                </td><td>17                </td><td>r                 </td><td>suv               </td></tr>\n",
       "\t<tr><td>chevrolet         </td><td>c1500 suburban 2wd</td><td>6.0               </td><td>2008              </td><td>8                 </td><td>auto(l4)          </td><td>r                 </td><td>12                </td><td>17                </td><td>r                 </td><td>suv               </td></tr>\n",
       "\t<tr><td>chevrolet         </td><td>corvette          </td><td>5.7               </td><td>1999              </td><td>8                 </td><td>manual(m6)        </td><td>r                 </td><td>16                </td><td>26                </td><td>p                 </td><td>2seater           </td></tr>\n",
       "\t<tr><td>chevrolet         </td><td>corvette          </td><td>5.7               </td><td>1999              </td><td>8                 </td><td>auto(l4)          </td><td>r                 </td><td>15                </td><td>23                </td><td>p                 </td><td>2seater           </td></tr>\n",
       "\t<tr><td>chevrolet         </td><td>corvette          </td><td>6.2               </td><td>2008              </td><td>8                 </td><td>manual(m6)        </td><td>r                 </td><td>16                </td><td>26                </td><td>p                 </td><td>2seater           </td></tr>\n",
       "\t<tr><td>chevrolet         </td><td>corvette          </td><td>6.2               </td><td>2008              </td><td>8                 </td><td>auto(s6)          </td><td>r                 </td><td>15                </td><td>25                </td><td>p                 </td><td>2seater           </td></tr>\n",
       "\t<tr><td>chevrolet         </td><td>corvette          </td><td>7.0               </td><td>2008              </td><td>8                 </td><td>manual(m6)        </td><td>r                 </td><td>15                </td><td>24                </td><td>p                 </td><td>2seater           </td></tr>\n",
       "\t<tr><td>chevrolet         </td><td>k1500 tahoe 4wd   </td><td>5.3               </td><td>2008              </td><td>8                 </td><td>auto(l4)          </td><td>4                 </td><td> 3                </td><td>19                </td><td>r                 </td><td>suv               </td></tr>\n",
       "\t<tr><td>chevrolet         </td><td>k1500 tahoe 4wd   </td><td>5.3               </td><td>2008              </td><td>8                 </td><td>auto(l4)          </td><td>4                 </td><td>11                </td><td>14                </td><td>e                 </td><td>suv               </td></tr>\n",
       "\t<tr><td>...</td><td>...</td><td>...</td><td>...</td><td>...</td><td>...</td><td>...</td><td>...</td><td>...</td><td>...</td><td>...</td></tr>\n",
       "\t<tr><td>toyota           </td><td>toyota tacoma 4wd</td><td>3.4              </td><td>1999             </td><td>6                </td><td>auto(l4)         </td><td>4                </td><td>15               </td><td>19               </td><td>r                </td><td>pickup           </td></tr>\n",
       "\t<tr><td>toyota           </td><td>toyota tacoma 4wd</td><td>4.0              </td><td>2008             </td><td>6                </td><td>manual(m6)       </td><td>4                </td><td>15               </td><td>18               </td><td>r                </td><td>pickup           </td></tr>\n",
       "\t<tr><td>toyota           </td><td>toyota tacoma 4wd</td><td>4.0              </td><td>2008             </td><td>6                </td><td>auto(l5)         </td><td>4                </td><td>16               </td><td>20               </td><td>r                </td><td>pickup           </td></tr>\n",
       "\t<tr><td>volkswagen       </td><td>gti              </td><td>2.0              </td><td>1999             </td><td>4                </td><td>manual(m5)       </td><td>f                </td><td>21               </td><td>29               </td><td>r                </td><td>compact          </td></tr>\n",
       "\t<tr><td>volkswagen       </td><td>gti              </td><td>2.0              </td><td>1999             </td><td>4                </td><td>auto(l4)         </td><td>f                </td><td>19               </td><td>26               </td><td>r                </td><td>compact          </td></tr>\n",
       "\t<tr><td>volkswagen       </td><td>gti              </td><td>2.0              </td><td>2008             </td><td>4                </td><td>manual(m6)       </td><td>f                </td><td>21               </td><td>29               </td><td>p                </td><td>compact          </td></tr>\n",
       "\t<tr><td>volkswagen       </td><td>gti              </td><td>2.0              </td><td>2008             </td><td>4                </td><td>auto(s6)         </td><td>f                </td><td>22               </td><td>29               </td><td>p                </td><td>compact          </td></tr>\n",
       "\t<tr><td>volkswagen       </td><td>gti              </td><td>2.8              </td><td>1999             </td><td>6                </td><td>manual(m5)       </td><td>f                </td><td>17               </td><td>24               </td><td>r                </td><td>compact          </td></tr>\n",
       "\t<tr><td>volkswagen       </td><td>jetta            </td><td>1.9              </td><td>1999             </td><td>4                </td><td>manual(m5)       </td><td>f                </td><td>33               </td><td>44               </td><td>d                </td><td>compact          </td></tr>\n",
       "\t<tr><td>volkswagen       </td><td>jetta            </td><td>2.0              </td><td>1999             </td><td>4                </td><td>manual(m5)       </td><td>f                </td><td>21               </td><td>29               </td><td>r                </td><td>compact          </td></tr>\n",
       "\t<tr><td>volkswagen       </td><td>jetta            </td><td>2.0              </td><td>1999             </td><td>4                </td><td>auto(l4)         </td><td>f                </td><td>19               </td><td>26               </td><td>r                </td><td>compact          </td></tr>\n",
       "\t<tr><td>volkswagen       </td><td>jetta            </td><td>2.0              </td><td>2008             </td><td>4                </td><td>auto(s6)         </td><td>f                </td><td>22               </td><td>29               </td><td>p                </td><td>compact          </td></tr>\n",
       "\t<tr><td>volkswagen       </td><td>jetta            </td><td>2.0              </td><td>2008             </td><td>4                </td><td>manual(m6)       </td><td>f                </td><td>21               </td><td>29               </td><td>p                </td><td>compact          </td></tr>\n",
       "\t<tr><td>volkswagen       </td><td>jetta            </td><td>2.5              </td><td>2008             </td><td>5                </td><td>auto(s6)         </td><td>f                </td><td>21               </td><td>29               </td><td>r                </td><td>compact          </td></tr>\n",
       "\t<tr><td>volkswagen       </td><td>jetta            </td><td>2.5              </td><td>2008             </td><td>5                </td><td>manual(m5)       </td><td>f                </td><td>21               </td><td>29               </td><td>r                </td><td>compact          </td></tr>\n",
       "\t<tr><td>volkswagen       </td><td>jetta            </td><td>2.8              </td><td>1999             </td><td>6                </td><td>auto(l4)         </td><td>f                </td><td>16               </td><td>23               </td><td>r                </td><td>compact          </td></tr>\n",
       "\t<tr><td>volkswagen       </td><td>jetta            </td><td>2.8              </td><td>1999             </td><td>6                </td><td>manual(m5)       </td><td>f                </td><td>17               </td><td>24               </td><td>r                </td><td>compact          </td></tr>\n",
       "\t<tr><td>volkswagen       </td><td>new beetle       </td><td>1.9              </td><td>1999             </td><td>4                </td><td>manual(m5)       </td><td>f                </td><td>35               </td><td>44               </td><td>d                </td><td>subcompact       </td></tr>\n",
       "\t<tr><td>volkswagen       </td><td>new beetle       </td><td>1.9              </td><td>1999             </td><td>4                </td><td>auto(l4)         </td><td>f                </td><td>29               </td><td>41               </td><td>d                </td><td>subcompact       </td></tr>\n",
       "\t<tr><td>volkswagen       </td><td>new beetle       </td><td>2.0              </td><td>1999             </td><td>4                </td><td>manual(m5)       </td><td>f                </td><td>21               </td><td>29               </td><td>r                </td><td>subcompact       </td></tr>\n",
       "\t<tr><td>volkswagen       </td><td>new beetle       </td><td>2.0              </td><td>1999             </td><td>4                </td><td>auto(l4)         </td><td>f                </td><td>19               </td><td>26               </td><td>r                </td><td>subcompact       </td></tr>\n",
       "\t<tr><td>volkswagen       </td><td>new beetle       </td><td>2.5              </td><td>2008             </td><td>5                </td><td>manual(m5)       </td><td>f                </td><td>20               </td><td>28               </td><td>r                </td><td>subcompact       </td></tr>\n",
       "\t<tr><td>volkswagen       </td><td>new beetle       </td><td>2.5              </td><td>2008             </td><td>5                </td><td>auto(s6)         </td><td>f                </td><td>20               </td><td>29               </td><td>r                </td><td>subcompact       </td></tr>\n",
       "\t<tr><td>volkswagen       </td><td>passat           </td><td>1.8              </td><td>1999             </td><td>4                </td><td>manual(m5)       </td><td>f                </td><td>21               </td><td>29               </td><td>p                </td><td>midsize          </td></tr>\n",
       "\t<tr><td>volkswagen       </td><td>passat           </td><td>1.8              </td><td>1999             </td><td>4                </td><td>auto(l5)         </td><td>f                </td><td>18               </td><td>29               </td><td>p                </td><td>midsize          </td></tr>\n",
       "\t<tr><td>volkswagen       </td><td>passat           </td><td>2.0              </td><td>2008             </td><td>4                </td><td>auto(s6)         </td><td>f                </td><td>19               </td><td>28               </td><td>p                </td><td>midsize          </td></tr>\n",
       "\t<tr><td>volkswagen       </td><td>passat           </td><td>2.0              </td><td>2008             </td><td>4                </td><td>manual(m6)       </td><td>f                </td><td>21               </td><td>29               </td><td>p                </td><td>midsize          </td></tr>\n",
       "\t<tr><td>volkswagen       </td><td>passat           </td><td>2.8              </td><td>1999             </td><td>6                </td><td>auto(l5)         </td><td>f                </td><td>16               </td><td>26               </td><td>p                </td><td>midsize          </td></tr>\n",
       "\t<tr><td>volkswagen       </td><td>passat           </td><td>2.8              </td><td>1999             </td><td>6                </td><td>manual(m5)       </td><td>f                </td><td>18               </td><td>26               </td><td>p                </td><td>midsize          </td></tr>\n",
       "\t<tr><td>volkswagen       </td><td>passat           </td><td>3.6              </td><td>2008             </td><td>6                </td><td>auto(s6)         </td><td>f                </td><td>17               </td><td>26               </td><td>p                </td><td>midsize          </td></tr>\n",
       "</tbody>\n",
       "</table>\n"
      ],
      "text/latex": [
       "\\begin{tabular}{r|lllllllllll}\n",
       " manufacturer & model & displ & year & cyl & trans & drv & cty & hwy & fl & class\\\\\n",
       "\\hline\n",
       "\t audi               & a4                 & 1.8                & 1999               & 4                  & auto(l5)           & f                  & 18                 & 29                 & p                  & compact           \\\\\n",
       "\t audi               & a4                 & 1.8                & 1999               & 4                  & manual(m5)         & f                  & 21                 & 29                 & p                  & compact           \\\\\n",
       "\t audi               & a4                 & 2.0                & 2008               & 4                  & manual(m6)         & f                  & 20                 & 31                 & p                  & compact           \\\\\n",
       "\t audi               & a4                 & 2.0                & 2008               & 4                  & auto(av)           & f                  & 21                 & 30                 & p                  & compact           \\\\\n",
       "\t audi               & a4                 & 2.8                & 1999               & 6                  & auto(l5)           & f                  & 16                 & 26                 & p                  & compact           \\\\\n",
       "\t audi               & a4                 & 2.8                & 1999               & 6                  & manual(m5)         & f                  & 18                 & 26                 & p                  & compact           \\\\\n",
       "\t audi               & a4                 & 3.1                & 2008               & 6                  & auto(av)           & f                  & 18                 & 27                 & p                  & compact           \\\\\n",
       "\t audi               & a4 quattro         & 1.8                & 1999               & 4                  & manual(m5)         & 4                  & 18                 & 26                 & p                  & compact           \\\\\n",
       "\t audi               & a4 quattro         & 1.8                & 1999               & 4                  & auto(l5)           & 4                  & 16                 & 25                 & p                  & compact           \\\\\n",
       "\t audi               & a4 quattro         & 2.0                & 2008               & 4                  & manual(m6)         & k                  & 20                 & 28                 & p                  & compact           \\\\\n",
       "\t audi               & a4 quattro         & 2.0                & 2008               & 4                  & auto(s6)           & 4                  & 19                 & 27                 & p                  & compact           \\\\\n",
       "\t audi               & a4 quattro         & 2.8                & 1999               & 6                  & auto(l5)           & 4                  & 15                 & 25                 & p                  & compact           \\\\\n",
       "\t audi               & a4 quattro         & 2.8                & 1999               & 6                  & manual(m5)         & 4                  & 17                 & 25                 & p                  & compact           \\\\\n",
       "\t audi               & a4 quattro         & 3.1                & 2008               & 6                  & auto(s6)           & k                  & 17                 & 25                 & p                  & compact           \\\\\n",
       "\t audi               & a4 quattro         & 3.1                & 2008               & 6                  & manual(m6)         & 4                  & 15                 & 25                 & p                  & compact           \\\\\n",
       "\t audi               & a6 quattro         & 2.8                & 1999               & 6                  & auto(l5)           & 4                  & 15                 & 24                 & p                  & midsize           \\\\\n",
       "\t audi               & a6 quattro         & 3.1                & 2008               & 6                  & auto(s6)           & 4                  & 17                 & 25                 & p                  & midsize           \\\\\n",
       "\t audi               & a6 quattro         & 4.2                & 2008               & 8                  & auto(s6)           & 4                  & 16                 & 23                 & p                  & midsize           \\\\\n",
       "\t chevrolet          & c1500 suburban 2wd & 5.3                & 2008               & 8                  & auto(l4)           & r                  & 14                 & 20                 & r                  & suv               \\\\\n",
       "\t chevrolet          & c1500 suburban 2wd & 5.3                & 2008               & 8                  & auto(l4)           & r                  & 11                 & 15                 & e                  & suv               \\\\\n",
       "\t chevrolet          & c1500 suburban 2wd & 5.3                & 2008               & 8                  & auto(l4)           & r                  & 14                 & 20                 & r                  & suv               \\\\\n",
       "\t chevrolet          & c1500 suburban 2wd & 5.7                & 1999               & 8                  & auto(l4)           & r                  & 13                 & 17                 & r                  & suv               \\\\\n",
       "\t chevrolet          & c1500 suburban 2wd & 6.0                & 2008               & 8                  & auto(l4)           & r                  & 12                 & 17                 & r                  & suv               \\\\\n",
       "\t chevrolet          & corvette           & 5.7                & 1999               & 8                  & manual(m6)         & r                  & 16                 & 26                 & p                  & 2seater           \\\\\n",
       "\t chevrolet          & corvette           & 5.7                & 1999               & 8                  & auto(l4)           & r                  & 15                 & 23                 & p                  & 2seater           \\\\\n",
       "\t chevrolet          & corvette           & 6.2                & 2008               & 8                  & manual(m6)         & r                  & 16                 & 26                 & p                  & 2seater           \\\\\n",
       "\t chevrolet          & corvette           & 6.2                & 2008               & 8                  & auto(s6)           & r                  & 15                 & 25                 & p                  & 2seater           \\\\\n",
       "\t chevrolet          & corvette           & 7.0                & 2008               & 8                  & manual(m6)         & r                  & 15                 & 24                 & p                  & 2seater           \\\\\n",
       "\t chevrolet          & k1500 tahoe 4wd    & 5.3                & 2008               & 8                  & auto(l4)           & 4                  &  3                 & 19                 & r                  & suv               \\\\\n",
       "\t chevrolet          & k1500 tahoe 4wd    & 5.3                & 2008               & 8                  & auto(l4)           & 4                  & 11                 & 14                 & e                  & suv               \\\\\n",
       "\t ... & ... & ... & ... & ... & ... & ... & ... & ... & ... & ...\\\\\n",
       "\t toyota            & toyota tacoma 4wd & 3.4               & 1999              & 6                 & auto(l4)          & 4                 & 15                & 19                & r                 & pickup           \\\\\n",
       "\t toyota            & toyota tacoma 4wd & 4.0               & 2008              & 6                 & manual(m6)        & 4                 & 15                & 18                & r                 & pickup           \\\\\n",
       "\t toyota            & toyota tacoma 4wd & 4.0               & 2008              & 6                 & auto(l5)          & 4                 & 16                & 20                & r                 & pickup           \\\\\n",
       "\t volkswagen        & gti               & 2.0               & 1999              & 4                 & manual(m5)        & f                 & 21                & 29                & r                 & compact          \\\\\n",
       "\t volkswagen        & gti               & 2.0               & 1999              & 4                 & auto(l4)          & f                 & 19                & 26                & r                 & compact          \\\\\n",
       "\t volkswagen        & gti               & 2.0               & 2008              & 4                 & manual(m6)        & f                 & 21                & 29                & p                 & compact          \\\\\n",
       "\t volkswagen        & gti               & 2.0               & 2008              & 4                 & auto(s6)          & f                 & 22                & 29                & p                 & compact          \\\\\n",
       "\t volkswagen        & gti               & 2.8               & 1999              & 6                 & manual(m5)        & f                 & 17                & 24                & r                 & compact          \\\\\n",
       "\t volkswagen        & jetta             & 1.9               & 1999              & 4                 & manual(m5)        & f                 & 33                & 44                & d                 & compact          \\\\\n",
       "\t volkswagen        & jetta             & 2.0               & 1999              & 4                 & manual(m5)        & f                 & 21                & 29                & r                 & compact          \\\\\n",
       "\t volkswagen        & jetta             & 2.0               & 1999              & 4                 & auto(l4)          & f                 & 19                & 26                & r                 & compact          \\\\\n",
       "\t volkswagen        & jetta             & 2.0               & 2008              & 4                 & auto(s6)          & f                 & 22                & 29                & p                 & compact          \\\\\n",
       "\t volkswagen        & jetta             & 2.0               & 2008              & 4                 & manual(m6)        & f                 & 21                & 29                & p                 & compact          \\\\\n",
       "\t volkswagen        & jetta             & 2.5               & 2008              & 5                 & auto(s6)          & f                 & 21                & 29                & r                 & compact          \\\\\n",
       "\t volkswagen        & jetta             & 2.5               & 2008              & 5                 & manual(m5)        & f                 & 21                & 29                & r                 & compact          \\\\\n",
       "\t volkswagen        & jetta             & 2.8               & 1999              & 6                 & auto(l4)          & f                 & 16                & 23                & r                 & compact          \\\\\n",
       "\t volkswagen        & jetta             & 2.8               & 1999              & 6                 & manual(m5)        & f                 & 17                & 24                & r                 & compact          \\\\\n",
       "\t volkswagen        & new beetle        & 1.9               & 1999              & 4                 & manual(m5)        & f                 & 35                & 44                & d                 & subcompact       \\\\\n",
       "\t volkswagen        & new beetle        & 1.9               & 1999              & 4                 & auto(l4)          & f                 & 29                & 41                & d                 & subcompact       \\\\\n",
       "\t volkswagen        & new beetle        & 2.0               & 1999              & 4                 & manual(m5)        & f                 & 21                & 29                & r                 & subcompact       \\\\\n",
       "\t volkswagen        & new beetle        & 2.0               & 1999              & 4                 & auto(l4)          & f                 & 19                & 26                & r                 & subcompact       \\\\\n",
       "\t volkswagen        & new beetle        & 2.5               & 2008              & 5                 & manual(m5)        & f                 & 20                & 28                & r                 & subcompact       \\\\\n",
       "\t volkswagen        & new beetle        & 2.5               & 2008              & 5                 & auto(s6)          & f                 & 20                & 29                & r                 & subcompact       \\\\\n",
       "\t volkswagen        & passat            & 1.8               & 1999              & 4                 & manual(m5)        & f                 & 21                & 29                & p                 & midsize          \\\\\n",
       "\t volkswagen        & passat            & 1.8               & 1999              & 4                 & auto(l5)          & f                 & 18                & 29                & p                 & midsize          \\\\\n",
       "\t volkswagen        & passat            & 2.0               & 2008              & 4                 & auto(s6)          & f                 & 19                & 28                & p                 & midsize          \\\\\n",
       "\t volkswagen        & passat            & 2.0               & 2008              & 4                 & manual(m6)        & f                 & 21                & 29                & p                 & midsize          \\\\\n",
       "\t volkswagen        & passat            & 2.8               & 1999              & 6                 & auto(l5)          & f                 & 16                & 26                & p                 & midsize          \\\\\n",
       "\t volkswagen        & passat            & 2.8               & 1999              & 6                 & manual(m5)        & f                 & 18                & 26                & p                 & midsize          \\\\\n",
       "\t volkswagen        & passat            & 3.6               & 2008              & 6                 & auto(s6)          & f                 & 17                & 26                & p                 & midsize          \\\\\n",
       "\\end{tabular}\n"
      ],
      "text/markdown": [
       "\n",
       "| manufacturer | model | displ | year | cyl | trans | drv | cty | hwy | fl | class |\n",
       "|---|---|---|---|---|---|---|---|---|---|---|\n",
       "| audi               | a4                 | 1.8                | 1999               | 4                  | auto(l5)           | f                  | 18                 | 29                 | p                  | compact            |\n",
       "| audi               | a4                 | 1.8                | 1999               | 4                  | manual(m5)         | f                  | 21                 | 29                 | p                  | compact            |\n",
       "| audi               | a4                 | 2.0                | 2008               | 4                  | manual(m6)         | f                  | 20                 | 31                 | p                  | compact            |\n",
       "| audi               | a4                 | 2.0                | 2008               | 4                  | auto(av)           | f                  | 21                 | 30                 | p                  | compact            |\n",
       "| audi               | a4                 | 2.8                | 1999               | 6                  | auto(l5)           | f                  | 16                 | 26                 | p                  | compact            |\n",
       "| audi               | a4                 | 2.8                | 1999               | 6                  | manual(m5)         | f                  | 18                 | 26                 | p                  | compact            |\n",
       "| audi               | a4                 | 3.1                | 2008               | 6                  | auto(av)           | f                  | 18                 | 27                 | p                  | compact            |\n",
       "| audi               | a4 quattro         | 1.8                | 1999               | 4                  | manual(m5)         | 4                  | 18                 | 26                 | p                  | compact            |\n",
       "| audi               | a4 quattro         | 1.8                | 1999               | 4                  | auto(l5)           | 4                  | 16                 | 25                 | p                  | compact            |\n",
       "| audi               | a4 quattro         | 2.0                | 2008               | 4                  | manual(m6)         | k                  | 20                 | 28                 | p                  | compact            |\n",
       "| audi               | a4 quattro         | 2.0                | 2008               | 4                  | auto(s6)           | 4                  | 19                 | 27                 | p                  | compact            |\n",
       "| audi               | a4 quattro         | 2.8                | 1999               | 6                  | auto(l5)           | 4                  | 15                 | 25                 | p                  | compact            |\n",
       "| audi               | a4 quattro         | 2.8                | 1999               | 6                  | manual(m5)         | 4                  | 17                 | 25                 | p                  | compact            |\n",
       "| audi               | a4 quattro         | 3.1                | 2008               | 6                  | auto(s6)           | k                  | 17                 | 25                 | p                  | compact            |\n",
       "| audi               | a4 quattro         | 3.1                | 2008               | 6                  | manual(m6)         | 4                  | 15                 | 25                 | p                  | compact            |\n",
       "| audi               | a6 quattro         | 2.8                | 1999               | 6                  | auto(l5)           | 4                  | 15                 | 24                 | p                  | midsize            |\n",
       "| audi               | a6 quattro         | 3.1                | 2008               | 6                  | auto(s6)           | 4                  | 17                 | 25                 | p                  | midsize            |\n",
       "| audi               | a6 quattro         | 4.2                | 2008               | 8                  | auto(s6)           | 4                  | 16                 | 23                 | p                  | midsize            |\n",
       "| chevrolet          | c1500 suburban 2wd | 5.3                | 2008               | 8                  | auto(l4)           | r                  | 14                 | 20                 | r                  | suv                |\n",
       "| chevrolet          | c1500 suburban 2wd | 5.3                | 2008               | 8                  | auto(l4)           | r                  | 11                 | 15                 | e                  | suv                |\n",
       "| chevrolet          | c1500 suburban 2wd | 5.3                | 2008               | 8                  | auto(l4)           | r                  | 14                 | 20                 | r                  | suv                |\n",
       "| chevrolet          | c1500 suburban 2wd | 5.7                | 1999               | 8                  | auto(l4)           | r                  | 13                 | 17                 | r                  | suv                |\n",
       "| chevrolet          | c1500 suburban 2wd | 6.0                | 2008               | 8                  | auto(l4)           | r                  | 12                 | 17                 | r                  | suv                |\n",
       "| chevrolet          | corvette           | 5.7                | 1999               | 8                  | manual(m6)         | r                  | 16                 | 26                 | p                  | 2seater            |\n",
       "| chevrolet          | corvette           | 5.7                | 1999               | 8                  | auto(l4)           | r                  | 15                 | 23                 | p                  | 2seater            |\n",
       "| chevrolet          | corvette           | 6.2                | 2008               | 8                  | manual(m6)         | r                  | 16                 | 26                 | p                  | 2seater            |\n",
       "| chevrolet          | corvette           | 6.2                | 2008               | 8                  | auto(s6)           | r                  | 15                 | 25                 | p                  | 2seater            |\n",
       "| chevrolet          | corvette           | 7.0                | 2008               | 8                  | manual(m6)         | r                  | 15                 | 24                 | p                  | 2seater            |\n",
       "| chevrolet          | k1500 tahoe 4wd    | 5.3                | 2008               | 8                  | auto(l4)           | 4                  |  3                 | 19                 | r                  | suv                |\n",
       "| chevrolet          | k1500 tahoe 4wd    | 5.3                | 2008               | 8                  | auto(l4)           | 4                  | 11                 | 14                 | e                  | suv                |\n",
       "| ... | ... | ... | ... | ... | ... | ... | ... | ... | ... | ... |\n",
       "| toyota            | toyota tacoma 4wd | 3.4               | 1999              | 6                 | auto(l4)          | 4                 | 15                | 19                | r                 | pickup            |\n",
       "| toyota            | toyota tacoma 4wd | 4.0               | 2008              | 6                 | manual(m6)        | 4                 | 15                | 18                | r                 | pickup            |\n",
       "| toyota            | toyota tacoma 4wd | 4.0               | 2008              | 6                 | auto(l5)          | 4                 | 16                | 20                | r                 | pickup            |\n",
       "| volkswagen        | gti               | 2.0               | 1999              | 4                 | manual(m5)        | f                 | 21                | 29                | r                 | compact           |\n",
       "| volkswagen        | gti               | 2.0               | 1999              | 4                 | auto(l4)          | f                 | 19                | 26                | r                 | compact           |\n",
       "| volkswagen        | gti               | 2.0               | 2008              | 4                 | manual(m6)        | f                 | 21                | 29                | p                 | compact           |\n",
       "| volkswagen        | gti               | 2.0               | 2008              | 4                 | auto(s6)          | f                 | 22                | 29                | p                 | compact           |\n",
       "| volkswagen        | gti               | 2.8               | 1999              | 6                 | manual(m5)        | f                 | 17                | 24                | r                 | compact           |\n",
       "| volkswagen        | jetta             | 1.9               | 1999              | 4                 | manual(m5)        | f                 | 33                | 44                | d                 | compact           |\n",
       "| volkswagen        | jetta             | 2.0               | 1999              | 4                 | manual(m5)        | f                 | 21                | 29                | r                 | compact           |\n",
       "| volkswagen        | jetta             | 2.0               | 1999              | 4                 | auto(l4)          | f                 | 19                | 26                | r                 | compact           |\n",
       "| volkswagen        | jetta             | 2.0               | 2008              | 4                 | auto(s6)          | f                 | 22                | 29                | p                 | compact           |\n",
       "| volkswagen        | jetta             | 2.0               | 2008              | 4                 | manual(m6)        | f                 | 21                | 29                | p                 | compact           |\n",
       "| volkswagen        | jetta             | 2.5               | 2008              | 5                 | auto(s6)          | f                 | 21                | 29                | r                 | compact           |\n",
       "| volkswagen        | jetta             | 2.5               | 2008              | 5                 | manual(m5)        | f                 | 21                | 29                | r                 | compact           |\n",
       "| volkswagen        | jetta             | 2.8               | 1999              | 6                 | auto(l4)          | f                 | 16                | 23                | r                 | compact           |\n",
       "| volkswagen        | jetta             | 2.8               | 1999              | 6                 | manual(m5)        | f                 | 17                | 24                | r                 | compact           |\n",
       "| volkswagen        | new beetle        | 1.9               | 1999              | 4                 | manual(m5)        | f                 | 35                | 44                | d                 | subcompact        |\n",
       "| volkswagen        | new beetle        | 1.9               | 1999              | 4                 | auto(l4)          | f                 | 29                | 41                | d                 | subcompact        |\n",
       "| volkswagen        | new beetle        | 2.0               | 1999              | 4                 | manual(m5)        | f                 | 21                | 29                | r                 | subcompact        |\n",
       "| volkswagen        | new beetle        | 2.0               | 1999              | 4                 | auto(l4)          | f                 | 19                | 26                | r                 | subcompact        |\n",
       "| volkswagen        | new beetle        | 2.5               | 2008              | 5                 | manual(m5)        | f                 | 20                | 28                | r                 | subcompact        |\n",
       "| volkswagen        | new beetle        | 2.5               | 2008              | 5                 | auto(s6)          | f                 | 20                | 29                | r                 | subcompact        |\n",
       "| volkswagen        | passat            | 1.8               | 1999              | 4                 | manual(m5)        | f                 | 21                | 29                | p                 | midsize           |\n",
       "| volkswagen        | passat            | 1.8               | 1999              | 4                 | auto(l5)          | f                 | 18                | 29                | p                 | midsize           |\n",
       "| volkswagen        | passat            | 2.0               | 2008              | 4                 | auto(s6)          | f                 | 19                | 28                | p                 | midsize           |\n",
       "| volkswagen        | passat            | 2.0               | 2008              | 4                 | manual(m6)        | f                 | 21                | 29                | p                 | midsize           |\n",
       "| volkswagen        | passat            | 2.8               | 1999              | 6                 | auto(l5)          | f                 | 16                | 26                | p                 | midsize           |\n",
       "| volkswagen        | passat            | 2.8               | 1999              | 6                 | manual(m5)        | f                 | 18                | 26                | p                 | midsize           |\n",
       "| volkswagen        | passat            | 3.6               | 2008              | 6                 | auto(s6)          | f                 | 17                | 26                | p                 | midsize           |\n",
       "\n"
      ],
      "text/plain": [
       "    manufacturer model              displ year cyl trans      drv cty hwy fl \n",
       "1   audi         a4                 1.8   1999 4   auto(l5)   f   18  29  p  \n",
       "2   audi         a4                 1.8   1999 4   manual(m5) f   21  29  p  \n",
       "3   audi         a4                 2.0   2008 4   manual(m6) f   20  31  p  \n",
       "4   audi         a4                 2.0   2008 4   auto(av)   f   21  30  p  \n",
       "5   audi         a4                 2.8   1999 6   auto(l5)   f   16  26  p  \n",
       "6   audi         a4                 2.8   1999 6   manual(m5) f   18  26  p  \n",
       "7   audi         a4                 3.1   2008 6   auto(av)   f   18  27  p  \n",
       "8   audi         a4 quattro         1.8   1999 4   manual(m5) 4   18  26  p  \n",
       "9   audi         a4 quattro         1.8   1999 4   auto(l5)   4   16  25  p  \n",
       "10  audi         a4 quattro         2.0   2008 4   manual(m6) k   20  28  p  \n",
       "11  audi         a4 quattro         2.0   2008 4   auto(s6)   4   19  27  p  \n",
       "12  audi         a4 quattro         2.8   1999 6   auto(l5)   4   15  25  p  \n",
       "13  audi         a4 quattro         2.8   1999 6   manual(m5) 4   17  25  p  \n",
       "14  audi         a4 quattro         3.1   2008 6   auto(s6)   k   17  25  p  \n",
       "15  audi         a4 quattro         3.1   2008 6   manual(m6) 4   15  25  p  \n",
       "16  audi         a6 quattro         2.8   1999 6   auto(l5)   4   15  24  p  \n",
       "17  audi         a6 quattro         3.1   2008 6   auto(s6)   4   17  25  p  \n",
       "18  audi         a6 quattro         4.2   2008 8   auto(s6)   4   16  23  p  \n",
       "19  chevrolet    c1500 suburban 2wd 5.3   2008 8   auto(l4)   r   14  20  r  \n",
       "20  chevrolet    c1500 suburban 2wd 5.3   2008 8   auto(l4)   r   11  15  e  \n",
       "21  chevrolet    c1500 suburban 2wd 5.3   2008 8   auto(l4)   r   14  20  r  \n",
       "22  chevrolet    c1500 suburban 2wd 5.7   1999 8   auto(l4)   r   13  17  r  \n",
       "23  chevrolet    c1500 suburban 2wd 6.0   2008 8   auto(l4)   r   12  17  r  \n",
       "24  chevrolet    corvette           5.7   1999 8   manual(m6) r   16  26  p  \n",
       "25  chevrolet    corvette           5.7   1999 8   auto(l4)   r   15  23  p  \n",
       "26  chevrolet    corvette           6.2   2008 8   manual(m6) r   16  26  p  \n",
       "27  chevrolet    corvette           6.2   2008 8   auto(s6)   r   15  25  p  \n",
       "28  chevrolet    corvette           7.0   2008 8   manual(m6) r   15  24  p  \n",
       "29  chevrolet    k1500 tahoe 4wd    5.3   2008 8   auto(l4)   4    3  19  r  \n",
       "30  chevrolet    k1500 tahoe 4wd    5.3   2008 8   auto(l4)   4   11  14  e  \n",
       "... ...          ...                ...   ...  ... ...        ... ... ... ...\n",
       "205 toyota       toyota tacoma 4wd  3.4   1999 6   auto(l4)   4   15  19  r  \n",
       "206 toyota       toyota tacoma 4wd  4.0   2008 6   manual(m6) 4   15  18  r  \n",
       "207 toyota       toyota tacoma 4wd  4.0   2008 6   auto(l5)   4   16  20  r  \n",
       "208 volkswagen   gti                2.0   1999 4   manual(m5) f   21  29  r  \n",
       "209 volkswagen   gti                2.0   1999 4   auto(l4)   f   19  26  r  \n",
       "210 volkswagen   gti                2.0   2008 4   manual(m6) f   21  29  p  \n",
       "211 volkswagen   gti                2.0   2008 4   auto(s6)   f   22  29  p  \n",
       "212 volkswagen   gti                2.8   1999 6   manual(m5) f   17  24  r  \n",
       "213 volkswagen   jetta              1.9   1999 4   manual(m5) f   33  44  d  \n",
       "214 volkswagen   jetta              2.0   1999 4   manual(m5) f   21  29  r  \n",
       "215 volkswagen   jetta              2.0   1999 4   auto(l4)   f   19  26  r  \n",
       "216 volkswagen   jetta              2.0   2008 4   auto(s6)   f   22  29  p  \n",
       "217 volkswagen   jetta              2.0   2008 4   manual(m6) f   21  29  p  \n",
       "218 volkswagen   jetta              2.5   2008 5   auto(s6)   f   21  29  r  \n",
       "219 volkswagen   jetta              2.5   2008 5   manual(m5) f   21  29  r  \n",
       "220 volkswagen   jetta              2.8   1999 6   auto(l4)   f   16  23  r  \n",
       "221 volkswagen   jetta              2.8   1999 6   manual(m5) f   17  24  r  \n",
       "222 volkswagen   new beetle         1.9   1999 4   manual(m5) f   35  44  d  \n",
       "223 volkswagen   new beetle         1.9   1999 4   auto(l4)   f   29  41  d  \n",
       "224 volkswagen   new beetle         2.0   1999 4   manual(m5) f   21  29  r  \n",
       "225 volkswagen   new beetle         2.0   1999 4   auto(l4)   f   19  26  r  \n",
       "226 volkswagen   new beetle         2.5   2008 5   manual(m5) f   20  28  r  \n",
       "227 volkswagen   new beetle         2.5   2008 5   auto(s6)   f   20  29  r  \n",
       "228 volkswagen   passat             1.8   1999 4   manual(m5) f   21  29  p  \n",
       "229 volkswagen   passat             1.8   1999 4   auto(l5)   f   18  29  p  \n",
       "230 volkswagen   passat             2.0   2008 4   auto(s6)   f   19  28  p  \n",
       "231 volkswagen   passat             2.0   2008 4   manual(m6) f   21  29  p  \n",
       "232 volkswagen   passat             2.8   1999 6   auto(l5)   f   16  26  p  \n",
       "233 volkswagen   passat             2.8   1999 6   manual(m5) f   18  26  p  \n",
       "234 volkswagen   passat             3.6   2008 6   auto(s6)   f   17  26  p  \n",
       "    class     \n",
       "1   compact   \n",
       "2   compact   \n",
       "3   compact   \n",
       "4   compact   \n",
       "5   compact   \n",
       "6   compact   \n",
       "7   compact   \n",
       "8   compact   \n",
       "9   compact   \n",
       "10  compact   \n",
       "11  compact   \n",
       "12  compact   \n",
       "13  compact   \n",
       "14  compact   \n",
       "15  compact   \n",
       "16  midsize   \n",
       "17  midsize   \n",
       "18  midsize   \n",
       "19  suv       \n",
       "20  suv       \n",
       "21  suv       \n",
       "22  suv       \n",
       "23  suv       \n",
       "24  2seater   \n",
       "25  2seater   \n",
       "26  2seater   \n",
       "27  2seater   \n",
       "28  2seater   \n",
       "29  suv       \n",
       "30  suv       \n",
       "... ...       \n",
       "205 pickup    \n",
       "206 pickup    \n",
       "207 pickup    \n",
       "208 compact   \n",
       "209 compact   \n",
       "210 compact   \n",
       "211 compact   \n",
       "212 compact   \n",
       "213 compact   \n",
       "214 compact   \n",
       "215 compact   \n",
       "216 compact   \n",
       "217 compact   \n",
       "218 compact   \n",
       "219 compact   \n",
       "220 compact   \n",
       "221 compact   \n",
       "222 subcompact\n",
       "223 subcompact\n",
       "224 subcompact\n",
       "225 subcompact\n",
       "226 subcompact\n",
       "227 subcompact\n",
       "228 midsize   \n",
       "229 midsize   \n",
       "230 midsize   \n",
       "231 midsize   \n",
       "232 midsize   \n",
       "233 midsize   \n",
       "234 midsize   "
      ]
     },
     "metadata": {},
     "output_type": "display_data"
    }
   ],
   "source": [
    "mpg"
   ]
  },
  {
   "cell_type": "code",
   "execution_count": 27,
   "metadata": {},
   "outputs": [
    {
     "data": {
      "text/plain": [
       "\n",
       "  4   f   k   r \n",
       "100 106   4  24 "
      ]
     },
     "metadata": {},
     "output_type": "display_data"
    }
   ],
   "source": [
    "table(mpg$drv)"
   ]
  },
  {
   "cell_type": "code",
   "execution_count": 28,
   "metadata": {},
   "outputs": [],
   "source": [
    "mpg$drv = ifelse(mpg$drv %in% c('4', 'f', 'r'), mpg$drv, NA)"
   ]
  },
  {
   "cell_type": "code",
   "execution_count": 29,
   "metadata": {},
   "outputs": [
    {
     "data": {
      "text/plain": [
       "\n",
       "  4   f   r \n",
       "100 106  24 "
      ]
     },
     "metadata": {},
     "output_type": "display_data"
    }
   ],
   "source": [
    "table(mpg$drv)"
   ]
  },
  {
   "cell_type": "code",
   "execution_count": 30,
   "metadata": {},
   "outputs": [
    {
     "data": {
      "text/plain": [
       "\n",
       " 3  4  9 11 12 13 14 15 16 17 18 19 20 21 22 23 24 25 26 28 29 33 35 39 42 \n",
       " 1  1  5 20  8 20 18 24 19 14 26 20 11 23  4  3  5  2  3  2  1  1  1  1  1 "
      ]
     },
     "metadata": {},
     "output_type": "display_data"
    }
   ],
   "source": [
    "table(mpg$cty)"
   ]
  },
  {
   "cell_type": "code",
   "execution_count": 31,
   "metadata": {
    "scrolled": false
   },
   "outputs": [
    {
     "data": {
      "text/html": [
       "<table>\n",
       "<tbody>\n",
       "\t<tr><td> 9</td></tr>\n",
       "\t<tr><td>14</td></tr>\n",
       "\t<tr><td>17</td></tr>\n",
       "\t<tr><td>19</td></tr>\n",
       "\t<tr><td>26</td></tr>\n",
       "</tbody>\n",
       "</table>\n"
      ],
      "text/latex": [
       "\\begin{tabular}{l}\n",
       "\t  9\\\\\n",
       "\t 14\\\\\n",
       "\t 17\\\\\n",
       "\t 19\\\\\n",
       "\t 26\\\\\n",
       "\\end{tabular}\n"
      ],
      "text/markdown": [
       "\n",
       "|  9 |\n",
       "| 14 |\n",
       "| 17 |\n",
       "| 19 |\n",
       "| 26 |\n",
       "\n"
      ],
      "text/plain": [
       "     [,1]\n",
       "[1,]  9  \n",
       "[2,] 14  \n",
       "[3,] 17  \n",
       "[4,] 19  \n",
       "[5,] 26  "
      ]
     },
     "metadata": {},
     "output_type": "display_data"
    },
    {
     "data": {
      "image/png": "[encoded data removed]",
      "text/plain": [
       "plot without title"
      ]
     },
     "metadata": {},
     "output_type": "display_data"
    }
   ],
   "source": [
    "boxplot(mpg$cty)$stats"
   ]
  },
  {
   "cell_type": "code",
   "execution_count": 32,
   "metadata": {},
   "outputs": [],
   "source": [
    "mpg$cty = ifelse(mpg$cty < 9 | mpg$cty > 26, NA, mpg$cty)"
   ]
  },
  {
   "cell_type": "code",
   "execution_count": 33,
   "metadata": {
    "scrolled": false
   },
   "outputs": [
    {
     "data": {
      "image/png": "[encoded data removed]",
      "text/plain": [
       "plot without title"
      ]
     },
     "metadata": {},
     "output_type": "display_data"
    }
   ],
   "source": [
    "boxplot(mpg$cty)"
   ]
  },
  {
   "cell_type": "code",
   "execution_count": 39,
   "metadata": {},
   "outputs": [
    {
     "name": "stderr",
     "output_type": "stream",
     "text": [
      "also installing the dependency 'crosstalk'\n",
      "\n"
     ]
    },
    {
     "name": "stdout",
     "output_type": "stream",
     "text": [
      "package 'crosstalk' successfully unpacked and MD5 sums checked\n",
      "package 'plotly' successfully unpacked and MD5 sums checked\n",
      "\n",
      "The downloaded binary packages are in\n",
      "\tC:\\Users\\15\\AppData\\Local\\Temp\\Rtmp8uT1xk\\downloaded_packages\n"
     ]
    }
   ],
   "source": [
    "install.packages('plotly')"
   ]
  },
  {
   "cell_type": "code",
   "execution_count": 40,
   "metadata": {},
   "outputs": [
    {
     "name": "stderr",
     "output_type": "stream",
     "text": [
      "Warning message:\n",
      "\"package 'plotly' was built under R version 3.6.3\"Loading required package: ggplot2\n",
      "\n",
      "Attaching package: 'ggplot2'\n",
      "\n",
      "The following object is masked _by_ '.GlobalEnv':\n",
      "\n",
      "    mpg\n",
      "\n",
      "\n",
      "Attaching package: 'plotly'\n",
      "\n",
      "The following object is masked from 'package:ggplot2':\n",
      "\n",
      "    last_plot\n",
      "\n",
      "The following object is masked from 'package:stats':\n",
      "\n",
      "    filter\n",
      "\n",
      "The following object is masked from 'package:graphics':\n",
      "\n",
      "    layout\n",
      "\n"
     ]
    }
   ],
   "source": [
    "library('plotly')"
   ]
  },
  {
   "cell_type": "code",
   "execution_count": 41,
   "metadata": {},
   "outputs": [],
   "source": [
    "library(dplyr)"
   ]
  },
  {
   "cell_type": "code",
   "execution_count": 44,
   "metadata": {},
   "outputs": [],
   "source": [
    "df_mpg = mpg %>% \n",
    "filter(!is.na(drv) & !is.na(cty)) %>% \n",
    "group_by(drv) %>% \n",
    "summarise(mean_hwy = mean(cty))\n"
   ]
  },
  {
   "cell_type": "code",
   "execution_count": 45,
   "metadata": {},
   "outputs": [
    {
     "data": {
      "text/html": [
       "<table>\n",
       "<thead><tr><th scope=col>drv</th><th scope=col>mean_hwy</th></tr></thead>\n",
       "<tbody>\n",
       "\t<tr><td>4       </td><td>14.24742</td></tr>\n",
       "\t<tr><td>f       </td><td>19.47000</td></tr>\n",
       "\t<tr><td>r       </td><td>13.95833</td></tr>\n",
       "</tbody>\n",
       "</table>\n"
      ],
      "text/latex": [
       "\\begin{tabular}{r|ll}\n",
       " drv & mean\\_hwy\\\\\n",
       "\\hline\n",
       "\t 4        & 14.24742\\\\\n",
       "\t f        & 19.47000\\\\\n",
       "\t r        & 13.95833\\\\\n",
       "\\end{tabular}\n"
      ],
      "text/markdown": [
       "\n",
       "| drv | mean_hwy |\n",
       "|---|---|\n",
       "| 4        | 14.24742 |\n",
       "| f        | 19.47000 |\n",
       "| r        | 13.95833 |\n",
       "\n"
      ],
      "text/plain": [
       "  drv mean_hwy\n",
       "1 4   14.24742\n",
       "2 f   19.47000\n",
       "3 r   13.95833"
      ]
     },
     "metadata": {},
     "output_type": "display_data"
    }
   ],
   "source": [
    "df_mpg"
   ]
  },
  {
   "cell_type": "code",
   "execution_count": 50,
   "metadata": {},
   "outputs": [],
   "source": [
    "tt = ggplot(data=df_mpg, aes(x=reorder(drv, -mean_cty), y=mean_cty)) +\n",
    "geom_col(fill=rainbow(3))+coord_flip()"
   ]
  },
  {
   "cell_type": "code",
   "execution_count": 51,
   "metadata": {},
   "outputs": [
    {
     "ename": "ERROR",
     "evalue": "Error in tapply(X = X, INDEX = x, FUN = FUN, ...): 객체 'mean_cty'를 찾을 수 없습니다\n",
     "output_type": "error",
     "traceback": [
      "Error in tapply(X = X, INDEX = x, FUN = FUN, ...): 객체 'mean_cty'를 찾을 수 없습니다\nTraceback:\n",
      "1. ggplotly(tt)",
      "2. ggplotly.ggplot(tt)",
      "3. gg2list(p, width = width, height = height, tooltip = tooltip, \n .     dynamicTicks = dynamicTicks, layerData = layerData, originalData = originalData, \n .     source = source, ...)",
      "4. by_layer(function(l, d) l$compute_aesthetics(d, plot))",
      "5. f(l = layers[[i]], d = data[[i]])",
      "6. l$compute_aesthetics(d, plot)",
      "7. f(..., self = self)",
      "8. scales_add_defaults(plot$scales, data, aesthetics, plot$plot_env)",
      "9. lapply(aesthetics[new_aesthetics], rlang::eval_tidy, data = data)",
      "10. FUN(X[[i]], ...)",
      "11. reorder(drv, mean_cty)",
      "12. reorder.default(drv, mean_cty)",
      "13. tapply(X = X, INDEX = x, FUN = FUN, ...)"
     ]
    }
   ],
   "source": [
    "ggplotly(tt)"
   ]
  },
  {
   "cell_type": "code",
   "execution_count": null,
   "metadata": {},
   "outputs": [],
   "source": []
  },
  {
   "cell_type": "code",
   "execution_count": null,
   "metadata": {},
   "outputs": [],
   "source": []
  },
  {
   "cell_type": "code",
   "execution_count": null,
   "metadata": {},
   "outputs": [],
   "source": []
  },
  {
   "cell_type": "code",
   "execution_count": null,
   "metadata": {},
   "outputs": [],
   "source": []
  },
  {
   "cell_type": "code",
   "execution_count": null,
   "metadata": {},
   "outputs": [],
   "source": []
  },
  {
   "cell_type": "code",
   "execution_count": null,
   "metadata": {},
   "outputs": [],
   "source": []
  },
  {
   "cell_type": "code",
   "execution_count": null,
   "metadata": {},
   "outputs": [],
   "source": []
  },
  {
   "cell_type": "code",
   "execution_count": null,
   "metadata": {},
   "outputs": [],
   "source": []
  },
  {
   "cell_type": "code",
   "execution_count": null,
   "metadata": {},
   "outputs": [],
   "source": []
  },
  {
   "cell_type": "code",
   "execution_count": null,
   "metadata": {},
   "outputs": [],
   "source": []
  },
  {
   "cell_type": "code",
   "execution_count": null,
   "metadata": {},
   "outputs": [],
   "source": []
  },
  {
   "cell_type": "code",
   "execution_count": null,
   "metadata": {},
   "outputs": [],
   "source": []
  },
  {
   "cell_type": "code",
   "execution_count": null,
   "metadata": {},
   "outputs": [],
   "source": []
  },
  {
   "cell_type": "code",
   "execution_count": null,
   "metadata": {},
   "outputs": [],
   "source": []
  },
  {
   "cell_type": "code",
   "execution_count": null,
   "metadata": {},
   "outputs": [],
   "source": []
  },
  {
   "cell_type": "code",
   "execution_count": null,
   "metadata": {},
   "outputs": [],
   "source": []
  },
  {
   "cell_type": "code",
   "execution_count": null,
   "metadata": {},
   "outputs": [],
   "source": []
  }
 ],
 "metadata": {
  "kernelspec": {
   "display_name": "R",
   "language": "R",
   "name": "ir"
  },
  "language_info": {
   "codemirror_mode": "r",
   "file_extension": ".r",
   "mimetype": "text/x-r-source",
   "name": "R",
   "pygments_lexer": "r",
   "version": "3.6.1"
  }
 },
 "nbformat": 4,
 "nbformat_minor": 4
}
