{
 "cells": [
  {
   "cell_type": "code",
   "execution_count": 1,
   "metadata": {},
   "outputs": [],
   "source": [
    "setwd('D:/Workspace/R')"
   ]
  },
  {
   "cell_type": "code",
   "execution_count": 2,
   "metadata": {},
   "outputs": [
    {
     "name": "stderr",
     "output_type": "stream",
     "text": [
      "Warning message:\n",
      "\"package 'dplyr' was built under R version 3.6.3\"\n",
      "Attaching package: 'dplyr'\n",
      "\n",
      "The following objects are masked from 'package:stats':\n",
      "\n",
      "    filter, lag\n",
      "\n",
      "The following objects are masked from 'package:base':\n",
      "\n",
      "    intersect, setdiff, setequal, union\n",
      "\n",
      "Registered S3 methods overwritten by 'ggplot2':\n",
      "  method         from \n",
      "  [.quosures     rlang\n",
      "  c.quosures     rlang\n",
      "  print.quosures rlang\n"
     ]
    }
   ],
   "source": [
    "library(dplyr)\n",
    "library(ggplot2)"
   ]
  },
  {
   "cell_type": "code",
   "execution_count": 3,
   "metadata": {},
   "outputs": [],
   "source": [
    "df = read.csv('sales_data.csv')"
   ]
  },
  {
   "cell_type": "code",
   "execution_count": 4,
   "metadata": {},
   "outputs": [
    {
     "data": {
      "text/html": [
       "<table>\n",
       "<thead><tr><th scope=col>YM</th><th scope=col>CATEGORY</th><th scope=col>ITEM_CNT</th><th scope=col>QTY</th><th scope=col>PRICE</th><th scope=col>MAXTEMP</th><th scope=col>SALEDAY</th><th scope=col>RAIN_DAY</th><th scope=col>HOLIDAY</th></tr></thead>\n",
       "<tbody>\n",
       "\t<tr><td>200901  </td><td>건강음료</td><td>37      </td><td>1410    </td><td>1543    </td><td> 4      </td><td>126753  </td><td> 151    </td><td>12      </td></tr>\n",
       "\t<tr><td>200902  </td><td>건강음료</td><td>37      </td><td>1209    </td><td>1543    </td><td> 9      </td><td>113399  </td><td>3014    </td><td> 8      </td></tr>\n",
       "\t<tr><td>200903  </td><td>건강음료</td><td>38      </td><td>1348    </td><td>1547    </td><td>12      </td><td>129162  </td><td>1383    </td><td> 9      </td></tr>\n",
       "\t<tr><td>200904  </td><td>건강음료</td><td>38      </td><td>1377    </td><td>1500    </td><td>19      </td><td>126277  </td><td>3564    </td><td> 8      </td></tr>\n",
       "\t<tr><td>200905  </td><td>건강음료</td><td>40      </td><td>1406    </td><td>1528    </td><td>25      </td><td>129584  </td><td>9288    </td><td>12      </td></tr>\n",
       "\t<tr><td>200906  </td><td>건강음료</td><td>39      </td><td>1343    </td><td>1623    </td><td>27      </td><td>123218  </td><td>9998    </td><td> 8      </td></tr>\n",
       "</tbody>\n",
       "</table>\n"
      ],
      "text/latex": [
       "\\begin{tabular}{r|lllllllll}\n",
       " YM & CATEGORY & ITEM\\_CNT & QTY & PRICE & MAXTEMP & SALEDAY & RAIN\\_DAY & HOLIDAY\\\\\n",
       "\\hline\n",
       "\t 200901   & 건강음료 & 37       & 1410     & 1543     &  4       & 126753   &  151     & 12      \\\\\n",
       "\t 200902   & 건강음료 & 37       & 1209     & 1543     &  9       & 113399   & 3014     &  8      \\\\\n",
       "\t 200903   & 건강음료 & 38       & 1348     & 1547     & 12       & 129162   & 1383     &  9      \\\\\n",
       "\t 200904   & 건강음료 & 38       & 1377     & 1500     & 19       & 126277   & 3564     &  8      \\\\\n",
       "\t 200905   & 건강음료 & 40       & 1406     & 1528     & 25       & 129584   & 9288     & 12      \\\\\n",
       "\t 200906   & 건강음료 & 39       & 1343     & 1623     & 27       & 123218   & 9998     &  8      \\\\\n",
       "\\end{tabular}\n"
      ],
      "text/markdown": [
       "\n",
       "| YM | CATEGORY | ITEM_CNT | QTY | PRICE | MAXTEMP | SALEDAY | RAIN_DAY | HOLIDAY |\n",
       "|---|---|---|---|---|---|---|---|---|\n",
       "| 200901   | 건강음료 | 37       | 1410     | 1543     |  4       | 126753   |  151     | 12       |\n",
       "| 200902   | 건강음료 | 37       | 1209     | 1543     |  9       | 113399   | 3014     |  8       |\n",
       "| 200903   | 건강음료 | 38       | 1348     | 1547     | 12       | 129162   | 1383     |  9       |\n",
       "| 200904   | 건강음료 | 38       | 1377     | 1500     | 19       | 126277   | 3564     |  8       |\n",
       "| 200905   | 건강음료 | 40       | 1406     | 1528     | 25       | 129584   | 9288     | 12       |\n",
       "| 200906   | 건강음료 | 39       | 1343     | 1623     | 27       | 123218   | 9998     |  8       |\n",
       "\n"
      ],
      "text/plain": [
       "  YM     CATEGORY ITEM_CNT QTY  PRICE MAXTEMP SALEDAY RAIN_DAY HOLIDAY\n",
       "1 200901 건강음료 37       1410 1543   4      126753   151     12     \n",
       "2 200902 건강음료 37       1209 1543   9      113399  3014      8     \n",
       "3 200903 건강음료 38       1348 1547  12      129162  1383      9     \n",
       "4 200904 건강음료 38       1377 1500  19      126277  3564      8     \n",
       "5 200905 건강음료 40       1406 1528  25      129584  9288     12     \n",
       "6 200906 건강음료 39       1343 1623  27      123218  9998      8     "
      ]
     },
     "metadata": {},
     "output_type": "display_data"
    }
   ],
   "source": [
    "head(df)"
   ]
  },
  {
   "cell_type": "code",
   "execution_count": 5,
   "metadata": {},
   "outputs": [
    {
     "data": {
      "text/plain": [
       "       YM                    CATEGORY     ITEM_CNT          QTY      \n",
       " Min.   :200901   건강음료       :60   Min.   : 1.00   Min.   :  24  \n",
       " 1st Qu.:201005   과즙음료       :60   1st Qu.:16.00   1st Qu.:1088  \n",
       " Median :201108   비타민음료     :60   Median :38.00   Median :1756  \n",
       " Mean   :201113   스포츠,이온음료:60   Mean   :33.63   Mean   :2057  \n",
       " 3rd Qu.:201210   에너지음료     :46   3rd Qu.:47.50   3rd Qu.:2568  \n",
       " Max.   :201312   일반탄산음료   :60   Max.   :83.00   Max.   :9079  \n",
       "                  차음료         :60                                 \n",
       "     PRICE          MAXTEMP         SALEDAY          RAIN_DAY    \n",
       " Min.   :  800   Min.   :-1.00   Min.   :113399   Min.   :    0  \n",
       " 1st Qu.: 1419   1st Qu.:10.00   1st Qu.:145035   1st Qu.: 2824  \n",
       " Median : 1554   Median :20.00   Median :183473   Median : 5973  \n",
       " Mean   : 2178   Mean   :17.59   Mean   :183373   Mean   : 9458  \n",
       " 3rd Qu.: 1935   3rd Qu.:27.00   3rd Qu.:228142   3rd Qu.:13699  \n",
       " Max.   :12456   Max.   :31.00   Max.   :245068   Max.   :43058  \n",
       "                                                                 \n",
       "    HOLIDAY      \n",
       " Min.   : 8.000  \n",
       " 1st Qu.: 9.000  \n",
       " Median : 9.000  \n",
       " Mean   : 9.505  \n",
       " 3rd Qu.:10.000  \n",
       " Max.   :12.000  \n",
       "                 "
      ]
     },
     "metadata": {},
     "output_type": "display_data"
    }
   ],
   "source": [
    "summary(df)"
   ]
  },
  {
   "cell_type": "code",
   "execution_count": 6,
   "metadata": {},
   "outputs": [],
   "source": [
    "product1 = df %>% filter(df$CATEGORY == '과즙음료')\n",
    "product2 = df %>% filter(df$CATEGORY == '비타민음료')\n",
    "product3 = df %>% filter(df$CATEGORY == '차음료')\n",
    "\n",
    "product1 = product1[-c(2, 3)]\n",
    "product2 = product2[-c(2, 3)]\n",
    "product3 = product3[-c(2, 3)]"
   ]
  },
  {
   "cell_type": "code",
   "execution_count": 7,
   "metadata": {},
   "outputs": [
    {
     "data": {
      "text/plain": [
       "\n",
       "\tShapiro-Wilk normality test\n",
       "\n",
       "data:  product1$QTY\n",
       "W = 0.97503, p-value = 0.255\n"
      ]
     },
     "metadata": {},
     "output_type": "display_data"
    },
    {
     "data": {
      "text/plain": [
       "\n",
       "\tShapiro-Wilk normality test\n",
       "\n",
       "data:  product2$QTY\n",
       "W = 0.95973, p-value = 0.04565\n"
      ]
     },
     "metadata": {},
     "output_type": "display_data"
    },
    {
     "data": {
      "text/plain": [
       "\n",
       "\tShapiro-Wilk normality test\n",
       "\n",
       "data:  product3$QTY\n",
       "W = 0.96497, p-value = 0.0825\n"
      ]
     },
     "metadata": {},
     "output_type": "display_data"
    }
   ],
   "source": [
    "shapiro.test(product1$QTY)\n",
    "shapiro.test(product2$QTY)\n",
    "shapiro.test(product3$QTY)"
   ]
  },
  {
   "cell_type": "code",
   "execution_count": 8,
   "metadata": {},
   "outputs": [
    {
     "data": {
      "image/png": "[encoded data removed]",
      "text/plain": [
       "Plot with title \"Histogram of product1$QTY\""
      ]
     },
     "metadata": {},
     "output_type": "display_data"
    },
    {
     "data": {
      "image/png": "[encoded data removed]",
      "text/plain": [
       "Plot with title \"Histogram of product2$QTY\""
      ]
     },
     "metadata": {},
     "output_type": "display_data"
    },
    {
     "data": {
      "image/png": "[encoded data removed]",
      "text/plain": [
       "Plot with title \"Histogram of product3$QTY\""
      ]
     },
     "metadata": {},
     "output_type": "display_data"
    }
   ],
   "source": [
    "hist(product1$QTY)\n",
    "hist(product2$QTY)\n",
    "hist(product3$QTY)"
   ]
  },
  {
   "cell_type": "code",
   "execution_count": 9,
   "metadata": {},
   "outputs": [
    {
     "data": {
      "text/html": [
       "<table>\n",
       "<thead><tr><th></th><th scope=col>YM</th><th scope=col>QTY</th><th scope=col>PRICE</th><th scope=col>MAXTEMP</th><th scope=col>SALEDAY</th><th scope=col>RAIN_DAY</th><th scope=col>HOLIDAY</th></tr></thead>\n",
       "<tbody>\n",
       "\t<tr><th scope=row>YM</th><td> 1.00000000  </td><td> 0.48166634  </td><td>-0.59583153  </td><td>-0.0213870757</td><td> 0.96415953  </td><td> 0.19579703  </td><td> 0.1477518768</td></tr>\n",
       "\t<tr><th scope=row>QTY</th><td> 0.48166634  </td><td> 1.00000000  </td><td>-0.09838038  </td><td> 0.7071806840</td><td> 0.50189095  </td><td> 0.47567660  </td><td> 0.1367153610</td></tr>\n",
       "\t<tr><th scope=row>PRICE</th><td>-0.59583153  </td><td>-0.09838038  </td><td> 1.00000000  </td><td>-0.0843639944</td><td>-0.61948901  </td><td>-0.21129511  </td><td>-0.1157278564</td></tr>\n",
       "\t<tr><th scope=row>MAXTEMP</th><td>-0.02138708  </td><td> 0.70718068  </td><td>-0.08436399  </td><td> 1.0000000000</td><td> 0.02615313  </td><td> 0.67485293  </td><td>-0.0007330759</td></tr>\n",
       "\t<tr><th scope=row>SALEDAY</th><td> 0.96415953  </td><td> 0.50189095  </td><td>-0.61948901  </td><td> 0.0261531274</td><td> 1.00000000  </td><td> 0.21351983  </td><td> 0.1509168646</td></tr>\n",
       "\t<tr><th scope=row>RAIN_DAY</th><td> 0.19579703  </td><td> 0.47567660  </td><td>-0.21129511  </td><td> 0.6748529252</td><td> 0.21351983  </td><td> 1.00000000  </td><td>-0.0513513553</td></tr>\n",
       "\t<tr><th scope=row>HOLIDAY</th><td> 0.14775188  </td><td> 0.13671536  </td><td>-0.11572786  </td><td>-0.0007330759</td><td> 0.15091686  </td><td>-0.05135136  </td><td> 1.0000000000</td></tr>\n",
       "</tbody>\n",
       "</table>\n"
      ],
      "text/latex": [
       "\\begin{tabular}{r|lllllll}\n",
       "  & YM & QTY & PRICE & MAXTEMP & SALEDAY & RAIN\\_DAY & HOLIDAY\\\\\n",
       "\\hline\n",
       "\tYM &  1.00000000   &  0.48166634   & -0.59583153   & -0.0213870757 &  0.96415953   &  0.19579703   &  0.1477518768\\\\\n",
       "\tQTY &  0.48166634   &  1.00000000   & -0.09838038   &  0.7071806840 &  0.50189095   &  0.47567660   &  0.1367153610\\\\\n",
       "\tPRICE & -0.59583153   & -0.09838038   &  1.00000000   & -0.0843639944 & -0.61948901   & -0.21129511   & -0.1157278564\\\\\n",
       "\tMAXTEMP & -0.02138708   &  0.70718068   & -0.08436399   &  1.0000000000 &  0.02615313   &  0.67485293   & -0.0007330759\\\\\n",
       "\tSALEDAY &  0.96415953   &  0.50189095   & -0.61948901   &  0.0261531274 &  1.00000000   &  0.21351983   &  0.1509168646\\\\\n",
       "\tRAIN\\_DAY &  0.19579703   &  0.47567660   & -0.21129511   &  0.6748529252 &  0.21351983   &  1.00000000   & -0.0513513553\\\\\n",
       "\tHOLIDAY &  0.14775188   &  0.13671536   & -0.11572786   & -0.0007330759 &  0.15091686   & -0.05135136   &  1.0000000000\\\\\n",
       "\\end{tabular}\n"
      ],
      "text/markdown": [
       "\n",
       "| <!--/--> | YM | QTY | PRICE | MAXTEMP | SALEDAY | RAIN_DAY | HOLIDAY |\n",
       "|---|---|---|---|---|---|---|---|\n",
       "| YM |  1.00000000   |  0.48166634   | -0.59583153   | -0.0213870757 |  0.96415953   |  0.19579703   |  0.1477518768 |\n",
       "| QTY |  0.48166634   |  1.00000000   | -0.09838038   |  0.7071806840 |  0.50189095   |  0.47567660   |  0.1367153610 |\n",
       "| PRICE | -0.59583153   | -0.09838038   |  1.00000000   | -0.0843639944 | -0.61948901   | -0.21129511   | -0.1157278564 |\n",
       "| MAXTEMP | -0.02138708   |  0.70718068   | -0.08436399   |  1.0000000000 |  0.02615313   |  0.67485293   | -0.0007330759 |\n",
       "| SALEDAY |  0.96415953   |  0.50189095   | -0.61948901   |  0.0261531274 |  1.00000000   |  0.21351983   |  0.1509168646 |\n",
       "| RAIN_DAY |  0.19579703   |  0.47567660   | -0.21129511   |  0.6748529252 |  0.21351983   |  1.00000000   | -0.0513513553 |\n",
       "| HOLIDAY |  0.14775188   |  0.13671536   | -0.11572786   | -0.0007330759 |  0.15091686   | -0.05135136   |  1.0000000000 |\n",
       "\n"
      ],
      "text/plain": [
       "         YM          QTY         PRICE       MAXTEMP       SALEDAY    \n",
       "YM        1.00000000  0.48166634 -0.59583153 -0.0213870757  0.96415953\n",
       "QTY       0.48166634  1.00000000 -0.09838038  0.7071806840  0.50189095\n",
       "PRICE    -0.59583153 -0.09838038  1.00000000 -0.0843639944 -0.61948901\n",
       "MAXTEMP  -0.02138708  0.70718068 -0.08436399  1.0000000000  0.02615313\n",
       "SALEDAY   0.96415953  0.50189095 -0.61948901  0.0261531274  1.00000000\n",
       "RAIN_DAY  0.19579703  0.47567660 -0.21129511  0.6748529252  0.21351983\n",
       "HOLIDAY   0.14775188  0.13671536 -0.11572786 -0.0007330759  0.15091686\n",
       "         RAIN_DAY    HOLIDAY      \n",
       "YM        0.19579703  0.1477518768\n",
       "QTY       0.47567660  0.1367153610\n",
       "PRICE    -0.21129511 -0.1157278564\n",
       "MAXTEMP   0.67485293 -0.0007330759\n",
       "SALEDAY   0.21351983  0.1509168646\n",
       "RAIN_DAY  1.00000000 -0.0513513553\n",
       "HOLIDAY  -0.05135136  1.0000000000"
      ]
     },
     "metadata": {},
     "output_type": "display_data"
    },
    {
     "data": {
      "text/html": [
       "<table>\n",
       "<thead><tr><th></th><th scope=col>YM</th><th scope=col>QTY</th><th scope=col>PRICE</th><th scope=col>MAXTEMP</th><th scope=col>SALEDAY</th><th scope=col>RAIN_DAY</th><th scope=col>HOLIDAY</th></tr></thead>\n",
       "<tbody>\n",
       "\t<tr><th scope=row>YM</th><td> 1.00000000  </td><td>0.6973076    </td><td> 0.86444562  </td><td>-0.0213870757</td><td>0.96415953   </td><td> 0.19579703  </td><td> 0.1477518768</td></tr>\n",
       "\t<tr><th scope=row>QTY</th><td> 0.69730757  </td><td>1.0000000    </td><td> 0.72105041  </td><td> 0.3615501216</td><td>0.71192476   </td><td> 0.51181463  </td><td> 0.1201901927</td></tr>\n",
       "\t<tr><th scope=row>PRICE</th><td> 0.86444562  </td><td>0.7210504    </td><td> 1.00000000  </td><td>-0.0447921578</td><td>0.82446317   </td><td> 0.20432138  </td><td> 0.1188034038</td></tr>\n",
       "\t<tr><th scope=row>MAXTEMP</th><td>-0.02138708  </td><td>0.3615501    </td><td>-0.04479216  </td><td> 1.0000000000</td><td>0.02615313   </td><td> 0.67485293  </td><td>-0.0007330759</td></tr>\n",
       "\t<tr><th scope=row>SALEDAY</th><td> 0.96415953  </td><td>0.7119248    </td><td> 0.82446317  </td><td> 0.0261531274</td><td>1.00000000   </td><td> 0.21351983  </td><td> 0.1509168646</td></tr>\n",
       "\t<tr><th scope=row>RAIN_DAY</th><td> 0.19579703  </td><td>0.5118146    </td><td> 0.20432138  </td><td> 0.6748529252</td><td>0.21351983   </td><td> 1.00000000  </td><td>-0.0513513553</td></tr>\n",
       "\t<tr><th scope=row>HOLIDAY</th><td> 0.14775188  </td><td>0.1201902    </td><td> 0.11880340  </td><td>-0.0007330759</td><td>0.15091686   </td><td>-0.05135136  </td><td> 1.0000000000</td></tr>\n",
       "</tbody>\n",
       "</table>\n"
      ],
      "text/latex": [
       "\\begin{tabular}{r|lllllll}\n",
       "  & YM & QTY & PRICE & MAXTEMP & SALEDAY & RAIN\\_DAY & HOLIDAY\\\\\n",
       "\\hline\n",
       "\tYM &  1.00000000   & 0.6973076     &  0.86444562   & -0.0213870757 & 0.96415953    &  0.19579703   &  0.1477518768\\\\\n",
       "\tQTY &  0.69730757   & 1.0000000     &  0.72105041   &  0.3615501216 & 0.71192476    &  0.51181463   &  0.1201901927\\\\\n",
       "\tPRICE &  0.86444562   & 0.7210504     &  1.00000000   & -0.0447921578 & 0.82446317    &  0.20432138   &  0.1188034038\\\\\n",
       "\tMAXTEMP & -0.02138708   & 0.3615501     & -0.04479216   &  1.0000000000 & 0.02615313    &  0.67485293   & -0.0007330759\\\\\n",
       "\tSALEDAY &  0.96415953   & 0.7119248     &  0.82446317   &  0.0261531274 & 1.00000000    &  0.21351983   &  0.1509168646\\\\\n",
       "\tRAIN\\_DAY &  0.19579703   & 0.5118146     &  0.20432138   &  0.6748529252 & 0.21351983    &  1.00000000   & -0.0513513553\\\\\n",
       "\tHOLIDAY &  0.14775188   & 0.1201902     &  0.11880340   & -0.0007330759 & 0.15091686    & -0.05135136   &  1.0000000000\\\\\n",
       "\\end{tabular}\n"
      ],
      "text/markdown": [
       "\n",
       "| <!--/--> | YM | QTY | PRICE | MAXTEMP | SALEDAY | RAIN_DAY | HOLIDAY |\n",
       "|---|---|---|---|---|---|---|---|\n",
       "| YM |  1.00000000   | 0.6973076     |  0.86444562   | -0.0213870757 | 0.96415953    |  0.19579703   |  0.1477518768 |\n",
       "| QTY |  0.69730757   | 1.0000000     |  0.72105041   |  0.3615501216 | 0.71192476    |  0.51181463   |  0.1201901927 |\n",
       "| PRICE |  0.86444562   | 0.7210504     |  1.00000000   | -0.0447921578 | 0.82446317    |  0.20432138   |  0.1188034038 |\n",
       "| MAXTEMP | -0.02138708   | 0.3615501     | -0.04479216   |  1.0000000000 | 0.02615313    |  0.67485293   | -0.0007330759 |\n",
       "| SALEDAY |  0.96415953   | 0.7119248     |  0.82446317   |  0.0261531274 | 1.00000000    |  0.21351983   |  0.1509168646 |\n",
       "| RAIN_DAY |  0.19579703   | 0.5118146     |  0.20432138   |  0.6748529252 | 0.21351983    |  1.00000000   | -0.0513513553 |\n",
       "| HOLIDAY |  0.14775188   | 0.1201902     |  0.11880340   | -0.0007330759 | 0.15091686    | -0.05135136   |  1.0000000000 |\n",
       "\n"
      ],
      "text/plain": [
       "         YM          QTY       PRICE       MAXTEMP       SALEDAY    RAIN_DAY   \n",
       "YM        1.00000000 0.6973076  0.86444562 -0.0213870757 0.96415953  0.19579703\n",
       "QTY       0.69730757 1.0000000  0.72105041  0.3615501216 0.71192476  0.51181463\n",
       "PRICE     0.86444562 0.7210504  1.00000000 -0.0447921578 0.82446317  0.20432138\n",
       "MAXTEMP  -0.02138708 0.3615501 -0.04479216  1.0000000000 0.02615313  0.67485293\n",
       "SALEDAY   0.96415953 0.7119248  0.82446317  0.0261531274 1.00000000  0.21351983\n",
       "RAIN_DAY  0.19579703 0.5118146  0.20432138  0.6748529252 0.21351983  1.00000000\n",
       "HOLIDAY   0.14775188 0.1201902  0.11880340 -0.0007330759 0.15091686 -0.05135136\n",
       "         HOLIDAY      \n",
       "YM        0.1477518768\n",
       "QTY       0.1201901927\n",
       "PRICE     0.1188034038\n",
       "MAXTEMP  -0.0007330759\n",
       "SALEDAY   0.1509168646\n",
       "RAIN_DAY -0.0513513553\n",
       "HOLIDAY   1.0000000000"
      ]
     },
     "metadata": {},
     "output_type": "display_data"
    },
    {
     "data": {
      "text/html": [
       "<table>\n",
       "<thead><tr><th></th><th scope=col>YM</th><th scope=col>QTY</th><th scope=col>PRICE</th><th scope=col>MAXTEMP</th><th scope=col>SALEDAY</th><th scope=col>RAIN_DAY</th><th scope=col>HOLIDAY</th></tr></thead>\n",
       "<tbody>\n",
       "\t<tr><th scope=row>YM</th><td> 1.00000000  </td><td>0.6126286    </td><td> 0.75571298  </td><td>-0.0213870757</td><td>0.96415953   </td><td> 0.19579703  </td><td> 0.1477518768</td></tr>\n",
       "\t<tr><th scope=row>QTY</th><td> 0.61262860  </td><td>1.0000000    </td><td> 0.51443998  </td><td> 0.6762249882</td><td>0.66706580   </td><td> 0.53253647  </td><td> 0.1490117845</td></tr>\n",
       "\t<tr><th scope=row>PRICE</th><td> 0.75571298  </td><td>0.5144400    </td><td> 1.00000000  </td><td>-0.0209906744</td><td>0.79781578   </td><td> 0.11965126  </td><td> 0.1516141402</td></tr>\n",
       "\t<tr><th scope=row>MAXTEMP</th><td>-0.02138708  </td><td>0.6762250    </td><td>-0.02099067  </td><td> 1.0000000000</td><td>0.02615313   </td><td> 0.67485293  </td><td>-0.0007330759</td></tr>\n",
       "\t<tr><th scope=row>SALEDAY</th><td> 0.96415953  </td><td>0.6670658    </td><td> 0.79781578  </td><td> 0.0261531274</td><td>1.00000000   </td><td> 0.21351983  </td><td> 0.1509168646</td></tr>\n",
       "\t<tr><th scope=row>RAIN_DAY</th><td> 0.19579703  </td><td>0.5325365    </td><td> 0.11965126  </td><td> 0.6748529252</td><td>0.21351983   </td><td> 1.00000000  </td><td>-0.0513513553</td></tr>\n",
       "\t<tr><th scope=row>HOLIDAY</th><td> 0.14775188  </td><td>0.1490118    </td><td> 0.15161414  </td><td>-0.0007330759</td><td>0.15091686   </td><td>-0.05135136  </td><td> 1.0000000000</td></tr>\n",
       "</tbody>\n",
       "</table>\n"
      ],
      "text/latex": [
       "\\begin{tabular}{r|lllllll}\n",
       "  & YM & QTY & PRICE & MAXTEMP & SALEDAY & RAIN\\_DAY & HOLIDAY\\\\\n",
       "\\hline\n",
       "\tYM &  1.00000000   & 0.6126286     &  0.75571298   & -0.0213870757 & 0.96415953    &  0.19579703   &  0.1477518768\\\\\n",
       "\tQTY &  0.61262860   & 1.0000000     &  0.51443998   &  0.6762249882 & 0.66706580    &  0.53253647   &  0.1490117845\\\\\n",
       "\tPRICE &  0.75571298   & 0.5144400     &  1.00000000   & -0.0209906744 & 0.79781578    &  0.11965126   &  0.1516141402\\\\\n",
       "\tMAXTEMP & -0.02138708   & 0.6762250     & -0.02099067   &  1.0000000000 & 0.02615313    &  0.67485293   & -0.0007330759\\\\\n",
       "\tSALEDAY &  0.96415953   & 0.6670658     &  0.79781578   &  0.0261531274 & 1.00000000    &  0.21351983   &  0.1509168646\\\\\n",
       "\tRAIN\\_DAY &  0.19579703   & 0.5325365     &  0.11965126   &  0.6748529252 & 0.21351983    &  1.00000000   & -0.0513513553\\\\\n",
       "\tHOLIDAY &  0.14775188   & 0.1490118     &  0.15161414   & -0.0007330759 & 0.15091686    & -0.05135136   &  1.0000000000\\\\\n",
       "\\end{tabular}\n"
      ],
      "text/markdown": [
       "\n",
       "| <!--/--> | YM | QTY | PRICE | MAXTEMP | SALEDAY | RAIN_DAY | HOLIDAY |\n",
       "|---|---|---|---|---|---|---|---|\n",
       "| YM |  1.00000000   | 0.6126286     |  0.75571298   | -0.0213870757 | 0.96415953    |  0.19579703   |  0.1477518768 |\n",
       "| QTY |  0.61262860   | 1.0000000     |  0.51443998   |  0.6762249882 | 0.66706580    |  0.53253647   |  0.1490117845 |\n",
       "| PRICE |  0.75571298   | 0.5144400     |  1.00000000   | -0.0209906744 | 0.79781578    |  0.11965126   |  0.1516141402 |\n",
       "| MAXTEMP | -0.02138708   | 0.6762250     | -0.02099067   |  1.0000000000 | 0.02615313    |  0.67485293   | -0.0007330759 |\n",
       "| SALEDAY |  0.96415953   | 0.6670658     |  0.79781578   |  0.0261531274 | 1.00000000    |  0.21351983   |  0.1509168646 |\n",
       "| RAIN_DAY |  0.19579703   | 0.5325365     |  0.11965126   |  0.6748529252 | 0.21351983    |  1.00000000   | -0.0513513553 |\n",
       "| HOLIDAY |  0.14775188   | 0.1490118     |  0.15161414   | -0.0007330759 | 0.15091686    | -0.05135136   |  1.0000000000 |\n",
       "\n"
      ],
      "text/plain": [
       "         YM          QTY       PRICE       MAXTEMP       SALEDAY    RAIN_DAY   \n",
       "YM        1.00000000 0.6126286  0.75571298 -0.0213870757 0.96415953  0.19579703\n",
       "QTY       0.61262860 1.0000000  0.51443998  0.6762249882 0.66706580  0.53253647\n",
       "PRICE     0.75571298 0.5144400  1.00000000 -0.0209906744 0.79781578  0.11965126\n",
       "MAXTEMP  -0.02138708 0.6762250 -0.02099067  1.0000000000 0.02615313  0.67485293\n",
       "SALEDAY   0.96415953 0.6670658  0.79781578  0.0261531274 1.00000000  0.21351983\n",
       "RAIN_DAY  0.19579703 0.5325365  0.11965126  0.6748529252 0.21351983  1.00000000\n",
       "HOLIDAY   0.14775188 0.1490118  0.15161414 -0.0007330759 0.15091686 -0.05135136\n",
       "         HOLIDAY      \n",
       "YM        0.1477518768\n",
       "QTY       0.1490117845\n",
       "PRICE     0.1516141402\n",
       "MAXTEMP  -0.0007330759\n",
       "SALEDAY   0.1509168646\n",
       "RAIN_DAY -0.0513513553\n",
       "HOLIDAY   1.0000000000"
      ]
     },
     "metadata": {},
     "output_type": "display_data"
    }
   ],
   "source": [
    "cor(product1)\n",
    "cor(product2)\n",
    "cor(product3)"
   ]
  },
  {
   "cell_type": "code",
   "execution_count": 10,
   "metadata": {},
   "outputs": [],
   "source": [
    "out1 = lm(QTY~., data=product1)\n",
    "out2 = lm(QTY~., data=product2)\n",
    "out3 = lm(QTY~., data=product3)"
   ]
  },
  {
   "cell_type": "code",
   "execution_count": 11,
   "metadata": {},
   "outputs": [],
   "source": [
    "both1 = step(out1, direction = 'both', trace = FALSE)\n",
    "both2 = step(out2, direction = 'both', trace = FALSE)\n",
    "both3 = step(out3, direction = 'both', trace = FALSE)"
   ]
  },
  {
   "cell_type": "code",
   "execution_count": 12,
   "metadata": {},
   "outputs": [
    {
     "data": {
      "text/plain": [
       "\n",
       "Call:\n",
       "lm(formula = QTY ~ ., data = product1)\n",
       "\n",
       "Coefficients:\n",
       "(Intercept)           YM        PRICE      MAXTEMP      SALEDAY     RAIN_DAY  \n",
       " -4.500e+05    2.229e+00    7.346e-01    5.585e+01    4.160e-03   -1.073e-02  \n",
       "    HOLIDAY  \n",
       "  3.189e+01  \n"
      ]
     },
     "metadata": {},
     "output_type": "display_data"
    },
    {
     "data": {
      "text/plain": [
       "\n",
       "Call:\n",
       "lm(formula = QTY ~ ., data = product2)\n",
       "\n",
       "Coefficients:\n",
       "(Intercept)           YM        PRICE      MAXTEMP      SALEDAY     RAIN_DAY  \n",
       "  6.987e+04   -3.565e-01    8.435e-01    9.028e+00    3.458e-03    7.280e-03  \n",
       "    HOLIDAY  \n",
       "  1.081e+01  \n"
      ]
     },
     "metadata": {},
     "output_type": "display_data"
    },
    {
     "data": {
      "text/plain": [
       "\n",
       "Call:\n",
       "lm(formula = QTY ~ ., data = product3)\n",
       "\n",
       "Coefficients:\n",
       "(Intercept)           YM        PRICE      MAXTEMP      SALEDAY     RAIN_DAY  \n",
       " -3.272e+04    1.604e-01    1.076e-01    4.848e+01    9.387e-03   -6.021e-03  \n",
       "    HOLIDAY  \n",
       "  2.427e+01  \n"
      ]
     },
     "metadata": {},
     "output_type": "display_data"
    }
   ],
   "source": [
    "out1\n",
    "out2\n",
    "out3"
   ]
  },
  {
   "cell_type": "code",
   "execution_count": 13,
   "metadata": {},
   "outputs": [
    {
     "data": {
      "text/plain": [
       "\n",
       "Call:\n",
       "lm(formula = QTY ~ YM + PRICE + MAXTEMP + SALEDAY + RAIN_DAY, \n",
       "    data = product1)\n",
       "\n",
       "Residuals:\n",
       "    Min      1Q  Median      3Q     Max \n",
       "-478.59 -143.21  -14.38  154.11  652.86 \n",
       "\n",
       "Coefficients:\n",
       "              Estimate Std. Error t value Pr(>|t|)    \n",
       "(Intercept) -4.540e+05  1.642e+05  -2.766  0.00776 ** \n",
       "YM           2.250e+00  8.186e-01   2.749  0.00812 ** \n",
       "PRICE        7.298e-01  1.080e-01   6.760 1.01e-08 ***\n",
       "MAXTEMP      5.626e+01  4.364e+00  12.892  < 2e-16 ***\n",
       "SALEDAY      4.230e-03  2.785e-03   1.519  0.13460    \n",
       "RAIN_DAY    -1.134e-02  4.197e-03  -2.702  0.00919 ** \n",
       "---\n",
       "Signif. codes:  0 '***' 0.001 '**' 0.01 '*' 0.05 '.' 0.1 ' ' 1\n",
       "\n",
       "Residual standard error: 232.8 on 54 degrees of freedom\n",
       "Multiple R-squared:  0.8752,\tAdjusted R-squared:  0.8636 \n",
       "F-statistic: 75.74 on 5 and 54 DF,  p-value: < 2.2e-16\n"
      ]
     },
     "metadata": {},
     "output_type": "display_data"
    }
   ],
   "source": [
    "summary(both1)"
   ]
  },
  {
   "cell_type": "code",
   "execution_count": 14,
   "metadata": {},
   "outputs": [
    {
     "data": {
      "text/plain": [
       "\n",
       "Call:\n",
       "lm(formula = QTY ~ PRICE + MAXTEMP + SALEDAY + RAIN_DAY, data = product2)\n",
       "\n",
       "Residuals:\n",
       "    Min      1Q  Median      3Q     Max \n",
       "-374.17 -135.59  -35.96   82.13  638.34 \n",
       "\n",
       "Coefficients:\n",
       "              Estimate Std. Error t value Pr(>|t|)    \n",
       "(Intercept) -1.484e+03  2.664e+02  -5.568 7.93e-07 ***\n",
       "PRICE        7.950e-01  2.267e-01   3.507  0.00091 ***\n",
       "MAXTEMP      9.379e+00  3.841e+00   2.442  0.01785 *  \n",
       "SALEDAY      2.562e-03  1.114e-03   2.300  0.02529 *  \n",
       "RAIN_DAY     7.018e-03  3.723e-03   1.885  0.06470 .  \n",
       "---\n",
       "Signif. codes:  0 '***' 0.001 '**' 0.01 '*' 0.05 '.' 0.1 ' ' 1\n",
       "\n",
       "Residual standard error: 204.7 on 55 degrees of freedom\n",
       "Multiple R-squared:  0.7205,\tAdjusted R-squared:  0.7002 \n",
       "F-statistic: 35.44 on 4 and 55 DF,  p-value: 1.243e-14\n"
      ]
     },
     "metadata": {},
     "output_type": "display_data"
    }
   ],
   "source": [
    "summary(both2)"
   ]
  },
  {
   "cell_type": "code",
   "execution_count": 15,
   "metadata": {},
   "outputs": [
    {
     "data": {
      "text/plain": [
       "\n",
       "Call:\n",
       "lm(formula = QTY ~ MAXTEMP + SALEDAY + RAIN_DAY, data = product3)\n",
       "\n",
       "Residuals:\n",
       "   Min     1Q Median     3Q    Max \n",
       "-461.8 -118.3  -23.7  112.5  871.5 \n",
       "\n",
       "Coefficients:\n",
       "              Estimate Std. Error t value Pr(>|t|)    \n",
       "(Intercept) -2.451e+02  1.469e+02  -1.669    0.101    \n",
       "MAXTEMP      4.859e+01  4.172e+00  11.647   <2e-16 ***\n",
       "SALEDAY      1.026e-02  7.222e-04  14.205   <2e-16 ***\n",
       "RAIN_DAY    -6.429e-03  4.067e-03  -1.581    0.120    \n",
       "---\n",
       "Signif. codes:  0 '***' 0.001 '**' 0.01 '*' 0.05 '.' 0.1 ' ' 1\n",
       "\n",
       "Residual standard error: 227.4 on 56 degrees of freedom\n",
       "Multiple R-squared:  0.8844,\tAdjusted R-squared:  0.8782 \n",
       "F-statistic: 142.8 on 3 and 56 DF,  p-value: < 2.2e-16\n"
      ]
     },
     "metadata": {},
     "output_type": "display_data"
    }
   ],
   "source": [
    "summary(both3)"
   ]
  },
  {
   "cell_type": "code",
   "execution_count": 16,
   "metadata": {},
   "outputs": [
    {
     "data": {
      "text/html": [
       "<table>\n",
       "<thead><tr><th></th><th scope=col>Df</th><th scope=col>Sum Sq</th><th scope=col>Mean Sq</th><th scope=col>F value</th><th scope=col>Pr(&gt;F)</th></tr></thead>\n",
       "<tbody>\n",
       "\t<tr><th scope=row>YM</th><td> 1          </td><td> 5438592.4  </td><td> 5438592.41 </td><td>100.385750  </td><td>6.387889e-14</td></tr>\n",
       "\t<tr><th scope=row>PRICE</th><td> 1          </td><td> 1292948.7  </td><td> 1292948.68 </td><td> 23.865297  </td><td>9.610942e-06</td></tr>\n",
       "\t<tr><th scope=row>MAXTEMP</th><td> 1          </td><td>13241238.3  </td><td>13241238.25 </td><td>244.407290  </td><td>1.071913e-21</td></tr>\n",
       "\t<tr><th scope=row>SALEDAY</th><td> 1          </td><td>  148078.9  </td><td>  148078.88 </td><td>  2.733246  </td><td>1.040822e-01</td></tr>\n",
       "\t<tr><th scope=row>RAIN_DAY</th><td> 1          </td><td>  395547.4  </td><td>  395547.38 </td><td>  7.301029  </td><td>9.190442e-03</td></tr>\n",
       "\t<tr><th scope=row>Residuals</th><td>54          </td><td> 2925554.6  </td><td>   54176.94 </td><td>        NA  </td><td>          NA</td></tr>\n",
       "</tbody>\n",
       "</table>\n"
      ],
      "text/latex": [
       "\\begin{tabular}{r|lllll}\n",
       "  & Df & Sum Sq & Mean Sq & F value & Pr(>F)\\\\\n",
       "\\hline\n",
       "\tYM &  1           &  5438592.4   &  5438592.41  & 100.385750   & 6.387889e-14\\\\\n",
       "\tPRICE &  1           &  1292948.7   &  1292948.68  &  23.865297   & 9.610942e-06\\\\\n",
       "\tMAXTEMP &  1           & 13241238.3   & 13241238.25  & 244.407290   & 1.071913e-21\\\\\n",
       "\tSALEDAY &  1           &   148078.9   &   148078.88  &   2.733246   & 1.040822e-01\\\\\n",
       "\tRAIN\\_DAY &  1           &   395547.4   &   395547.38  &   7.301029   & 9.190442e-03\\\\\n",
       "\tResiduals & 54           &  2925554.6   &    54176.94  &         NA   &           NA\\\\\n",
       "\\end{tabular}\n"
      ],
      "text/markdown": [
       "\n",
       "| <!--/--> | Df | Sum Sq | Mean Sq | F value | Pr(>F) |\n",
       "|---|---|---|---|---|---|\n",
       "| YM |  1           |  5438592.4   |  5438592.41  | 100.385750   | 6.387889e-14 |\n",
       "| PRICE |  1           |  1292948.7   |  1292948.68  |  23.865297   | 9.610942e-06 |\n",
       "| MAXTEMP |  1           | 13241238.3   | 13241238.25  | 244.407290   | 1.071913e-21 |\n",
       "| SALEDAY |  1           |   148078.9   |   148078.88  |   2.733246   | 1.040822e-01 |\n",
       "| RAIN_DAY |  1           |   395547.4   |   395547.38  |   7.301029   | 9.190442e-03 |\n",
       "| Residuals | 54           |  2925554.6   |    54176.94  |         NA   |           NA |\n",
       "\n"
      ],
      "text/plain": [
       "          Df Sum Sq     Mean Sq     F value    Pr(>F)      \n",
       "YM         1  5438592.4  5438592.41 100.385750 6.387889e-14\n",
       "PRICE      1  1292948.7  1292948.68  23.865297 9.610942e-06\n",
       "MAXTEMP    1 13241238.3 13241238.25 244.407290 1.071913e-21\n",
       "SALEDAY    1   148078.9   148078.88   2.733246 1.040822e-01\n",
       "RAIN_DAY   1   395547.4   395547.38   7.301029 9.190442e-03\n",
       "Residuals 54  2925554.6    54176.94         NA           NA"
      ]
     },
     "metadata": {},
     "output_type": "display_data"
    }
   ],
   "source": [
    "anova(both1)"
   ]
  },
  {
   "cell_type": "code",
   "execution_count": 17,
   "metadata": {},
   "outputs": [
    {
     "data": {
      "text/html": [
       "<table>\n",
       "<thead><tr><th></th><th scope=col>Df</th><th scope=col>Sum Sq</th><th scope=col>Mean Sq</th><th scope=col>F value</th><th scope=col>Pr(&gt;F)</th></tr></thead>\n",
       "<tbody>\n",
       "\t<tr><th scope=row>PRICE</th><td> 1          </td><td>4286276.4   </td><td>4286276.39  </td><td>102.302949  </td><td>3.706056e-14</td></tr>\n",
       "\t<tr><th scope=row>MAXTEMP</th><td> 1          </td><td>1281378.3   </td><td>1281378.34  </td><td> 30.583371  </td><td>9.114061e-07</td></tr>\n",
       "\t<tr><th scope=row>SALEDAY</th><td> 1          </td><td> 223276.5   </td><td> 223276.53  </td><td>  5.329065  </td><td>2.475744e-02</td></tr>\n",
       "\t<tr><th scope=row>RAIN_DAY</th><td> 1          </td><td> 148893.1   </td><td> 148893.08  </td><td>  3.553714  </td><td>6.469945e-02</td></tr>\n",
       "\t<tr><th scope=row>Residuals</th><td>55          </td><td>2304383.3   </td><td>  41897.88  </td><td>        NA  </td><td>          NA</td></tr>\n",
       "</tbody>\n",
       "</table>\n"
      ],
      "text/latex": [
       "\\begin{tabular}{r|lllll}\n",
       "  & Df & Sum Sq & Mean Sq & F value & Pr(>F)\\\\\n",
       "\\hline\n",
       "\tPRICE &  1           & 4286276.4    & 4286276.39   & 102.302949   & 3.706056e-14\\\\\n",
       "\tMAXTEMP &  1           & 1281378.3    & 1281378.34   &  30.583371   & 9.114061e-07\\\\\n",
       "\tSALEDAY &  1           &  223276.5    &  223276.53   &   5.329065   & 2.475744e-02\\\\\n",
       "\tRAIN\\_DAY &  1           &  148893.1    &  148893.08   &   3.553714   & 6.469945e-02\\\\\n",
       "\tResiduals & 55           & 2304383.3    &   41897.88   &         NA   &           NA\\\\\n",
       "\\end{tabular}\n"
      ],
      "text/markdown": [
       "\n",
       "| <!--/--> | Df | Sum Sq | Mean Sq | F value | Pr(>F) |\n",
       "|---|---|---|---|---|---|\n",
       "| PRICE |  1           | 4286276.4    | 4286276.39   | 102.302949   | 3.706056e-14 |\n",
       "| MAXTEMP |  1           | 1281378.3    | 1281378.34   |  30.583371   | 9.114061e-07 |\n",
       "| SALEDAY |  1           |  223276.5    |  223276.53   |   5.329065   | 2.475744e-02 |\n",
       "| RAIN_DAY |  1           |  148893.1    |  148893.08   |   3.553714   | 6.469945e-02 |\n",
       "| Residuals | 55           | 2304383.3    |   41897.88   |         NA   |           NA |\n",
       "\n"
      ],
      "text/plain": [
       "          Df Sum Sq    Mean Sq    F value    Pr(>F)      \n",
       "PRICE      1 4286276.4 4286276.39 102.302949 3.706056e-14\n",
       "MAXTEMP    1 1281378.3 1281378.34  30.583371 9.114061e-07\n",
       "SALEDAY    1  223276.5  223276.53   5.329065 2.475744e-02\n",
       "RAIN_DAY   1  148893.1  148893.08   3.553714 6.469945e-02\n",
       "Residuals 55 2304383.3   41897.88         NA           NA"
      ]
     },
     "metadata": {},
     "output_type": "display_data"
    }
   ],
   "source": [
    "anova(both2)"
   ]
  },
  {
   "cell_type": "code",
   "execution_count": 18,
   "metadata": {},
   "outputs": [
    {
     "data": {
      "text/html": [
       "<table>\n",
       "<thead><tr><th></th><th scope=col>Df</th><th scope=col>Sum Sq</th><th scope=col>Mean Sq</th><th scope=col>F value</th><th scope=col>Pr(&gt;F)</th></tr></thead>\n",
       "<tbody>\n",
       "\t<tr><th scope=row>MAXTEMP</th><td> 1          </td><td>11456238.0  </td><td>11456238.03 </td><td>221.561761  </td><td>4.056595e-21</td></tr>\n",
       "\t<tr><th scope=row>SALEDAY</th><td> 1          </td><td>10571950.1  </td><td>10571950.15 </td><td>204.459778  </td><td>2.426452e-20</td></tr>\n",
       "\t<tr><th scope=row>RAIN_DAY</th><td> 1          </td><td>  129225.9  </td><td>  129225.89 </td><td>  2.499208  </td><td>1.195359e-01</td></tr>\n",
       "\t<tr><th scope=row>Residuals</th><td>56          </td><td> 2895577.9  </td><td>   51706.75 </td><td>        NA  </td><td>          NA</td></tr>\n",
       "</tbody>\n",
       "</table>\n"
      ],
      "text/latex": [
       "\\begin{tabular}{r|lllll}\n",
       "  & Df & Sum Sq & Mean Sq & F value & Pr(>F)\\\\\n",
       "\\hline\n",
       "\tMAXTEMP &  1           & 11456238.0   & 11456238.03  & 221.561761   & 4.056595e-21\\\\\n",
       "\tSALEDAY &  1           & 10571950.1   & 10571950.15  & 204.459778   & 2.426452e-20\\\\\n",
       "\tRAIN\\_DAY &  1           &   129225.9   &   129225.89  &   2.499208   & 1.195359e-01\\\\\n",
       "\tResiduals & 56           &  2895577.9   &    51706.75  &         NA   &           NA\\\\\n",
       "\\end{tabular}\n"
      ],
      "text/markdown": [
       "\n",
       "| <!--/--> | Df | Sum Sq | Mean Sq | F value | Pr(>F) |\n",
       "|---|---|---|---|---|---|\n",
       "| MAXTEMP |  1           | 11456238.0   | 11456238.03  | 221.561761   | 4.056595e-21 |\n",
       "| SALEDAY |  1           | 10571950.1   | 10571950.15  | 204.459778   | 2.426452e-20 |\n",
       "| RAIN_DAY |  1           |   129225.9   |   129225.89  |   2.499208   | 1.195359e-01 |\n",
       "| Residuals | 56           |  2895577.9   |    51706.75  |         NA   |           NA |\n",
       "\n"
      ],
      "text/plain": [
       "          Df Sum Sq     Mean Sq     F value    Pr(>F)      \n",
       "MAXTEMP    1 11456238.0 11456238.03 221.561761 4.056595e-21\n",
       "SALEDAY    1 10571950.1 10571950.15 204.459778 2.426452e-20\n",
       "RAIN_DAY   1   129225.9   129225.89   2.499208 1.195359e-01\n",
       "Residuals 56  2895577.9    51706.75         NA           NA"
      ]
     },
     "metadata": {},
     "output_type": "display_data"
    }
   ],
   "source": [
    "anova(both3)"
   ]
  },
  {
   "cell_type": "code",
   "execution_count": null,
   "metadata": {},
   "outputs": [],
   "source": []
  }
 ],
 "metadata": {
  "kernelspec": {
   "display_name": "R",
   "language": "R",
   "name": "ir"
  },
  "language_info": {
   "codemirror_mode": "r",
   "file_extension": ".r",
   "mimetype": "text/x-r-source",
   "name": "R",
   "pygments_lexer": "r",
   "version": "3.6.1"
  }
 },
 "nbformat": 4,
 "nbformat_minor": 4
}
