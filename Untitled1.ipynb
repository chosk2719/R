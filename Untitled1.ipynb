{
 "cells": [
  {
   "cell_type": "code",
   "execution_count": 28,
   "metadata": {},
   "outputs": [
    {
     "name": "stderr",
     "output_type": "stream",
     "text": [
      "Downloading GitHub repo haven-jeon/KoNLP@master\n",
      "Installing 2 packages: rJava, lifecycle\n",
      "also installing the dependency 'rlang'\n",
      "\n"
     ]
    },
    {
     "name": "stdout",
     "output_type": "stream",
     "text": [
      "package 'rlang' successfully unpacked and MD5 sums checked\n"
     ]
    },
    {
     "ename": "ERROR",
     "evalue": "Error: Failed to install 'KoNLP' from GitHub:\n  (converted from warning) cannot remove prior installation of package 'rlang'\n",
     "output_type": "error",
     "traceback": [
      "Error: Failed to install 'KoNLP' from GitHub:\n  (converted from warning) cannot remove prior installation of package 'rlang'\nTraceback:\n",
      "1. remotes::install_github(\"haven-jeon/KoNLP\", upgrade = \"never\", \n .     INSTALL_opts = c(\"--no-multiarch\"))",
      "2. install_remotes(remotes, auth_token = auth_token, host = host, \n .     dependencies = dependencies, upgrade = upgrade, force = force, \n .     quiet = quiet, build = build, build_opts = build_opts, build_manual = build_manual, \n .     build_vignettes = build_vignettes, repos = repos, type = type, \n .     ...)",
      "3. tryCatch(res[[i]] <- install_remote(remotes[[i]], ...), error = function(e) {\n .     stop(remote_install_error(remotes[[i]], e))\n . })",
      "4. tryCatchList(expr, classes, parentenv, handlers)",
      "5. tryCatchOne(expr, names, parentenv, handlers[[1L]])",
      "6. value[[3L]](cond)"
     ]
    }
   ],
   "source": [
    "# install.packages(\"multilinguer\")\n",
    "# library(multilinguer)\n",
    "# install_jdk()\n",
    "# install.packages(c('stringr', 'hash', 'tau', 'Sejong', 'RSQLite', 'devtools'))\n",
    "# install.packages(\"remotes\")\n",
    "remotes::install_github('haven-jeon/KoNLP', upgrade = \"never\", \n",
    "INSTALL_opts=c(\"--no-multiarch\"))\n",
    "# library(KoNLP)"
   ]
  },
  {
   "cell_type": "code",
   "execution_count": 29,
   "metadata": {},
   "outputs": [
    {
     "name": "stderr",
     "output_type": "stream",
     "text": [
      "Warning message:\n",
      "\"package 'KoNLP' is not available (for R version 3.6.1)\"Warning message:\n",
      "\"package 'wordcloud' is in use and will not be installed\""
     ]
    },
    {
     "ename": "ERROR",
     "evalue": "Error in library(KoNLP): there is no package called 'KoNLP'\n",
     "output_type": "error",
     "traceback": [
      "Error in library(KoNLP): there is no package called 'KoNLP'\nTraceback:\n",
      "1. library(KoNLP)"
     ]
    }
   ],
   "source": [
    "# Step 1 . 작업용 디렉터리를 먼저 지정합니다.\n",
    "# 이 디렉터리에 분석할 데이터를 가져다 놓고 결과물을 생성합니다.\n",
    "\n",
    "setwd(\"c:/rdata\")  # <-- 작업 디렉토리는 임의로 지정하세요 \n",
    "\n",
    "#Step 2. 필요한 패키지를 설치 한 후 R 에 loading 합니다\n",
    "\n",
    "install.packages(\"KoNLP\") # 한국어 관련 작업을 할 때 꼭 필요한 기능을 가진 패키지 입니다\n",
    "install.packages(\"wordcloud\") # Word Cloud 작업을 해 주는 패키지 입니다\n",
    "\n",
    "library(KoNLP)  # 설치된 패키지를 Loading 합니다.\n",
    "library(wordcloud)\n",
    "\n",
    "#Step 3. 분석용 데이터를 변수로 읽어 들입니다.\n",
    "\n",
    "txt <- readLines(\"hong.txt\") # txt 라는 변수에 한 줄 씩 읽어 들입니다.\n",
    "\n",
    "#Step 4. 데이터 중에서 명사만 골라낸 후 nouns 변수에 할당합니다.\n",
    "\n",
    "txt <- gsub(\"저\",\"\",txt)  # 제거할 글자를 지정합니다\n",
    "txt <- gsub(\"수\",\"\",txt)  # 제거할 글자를 지정합니다\n",
    "txt <- gsub(\"들\",\"\",txt)  # 제거할 글자를 지정합니다\n",
    "\n",
    "nouns <- sapply(txt,extractNoun,USE.NAMES=F)\n",
    "\n",
    "#Step 5. 추출된 명사를 상위 30 개만 출력해서 확인합니다.\n",
    "\n",
    "head(unlist(nouns), 30)\n",
    "\n",
    "#Step 6. 파일에 저장해 둡니다. \n",
    "\n",
    "write(unlist(nouns),\"hong_2.txt\") \n",
    "\n",
    "#Step 7. 수정 완료된 파일을 다시 table 형식으로 변환해서 변수에 불러들입니다.\n",
    "\n",
    " rev <- read.table(\"hong_2.txt\")\n",
    "\n",
    "\n",
    "#Step 8. 화면에 그래픽으로 출력하기 전에 text 형태로 결과를 확인해 봅니다\n",
    "\n",
    "nrow(rev) # rev 변수에 몇건의 데이터가 있는지 확인해 봅니다\n",
    "wordcount <- table(rev)\n",
    "head(sort(wordcount, decreasing=T),30)\n",
    "\n",
    "#Step 9. Word Cloud 형태로 그래픽으로 출력합니다\n",
    "\n",
    "library(RColorBrewer) # 화면에 출력할 컬러를 사용할 라이브러리를 Loading 합니다.\n",
    "palete <- brewer.pal(9,\"Set1\") # 글자 색깔을 지정합니다.\n",
    "\n",
    "wordcloud(names(wordcount),freq=wordcount,scale=c(5,0.5),rot.per=0.25,min.freq=1,\n",
    "random.order=F,random.color=T,colors=palete)\n",
    "\n",
    "#Step 10. 그림으로 저장합니다.\n",
    "\n",
    "savePlot(\"hong.png\", type=\"png\")"
   ]
  },
  {
   "cell_type": "code",
   "execution_count": 4,
   "metadata": {},
   "outputs": [],
   "source": [
    "setwd('c:/rdata')"
   ]
  },
  {
   "cell_type": "code",
   "execution_count": 8,
   "metadata": {},
   "outputs": [
    {
     "name": "stderr",
     "output_type": "stream",
     "text": [
      "Warning message:\n",
      "\"package 'wordcloud' was built under R version 3.6.3\"Loading required package: RColorBrewer\n"
     ]
    },
    {
     "ename": "ERROR",
     "evalue": "Error in library(wordcloud2): there is no package called 'wordcloud2'\n",
     "output_type": "error",
     "traceback": [
      "Error in library(wordcloud2): there is no package called 'wordcloud2'\nTraceback:\n",
      "1. library(wordcloud2)"
     ]
    }
   ],
   "source": [
    "library(rvest)\n",
    "library(stringr)\n",
    "library(ggplot2)\n",
    "library(wordcloud)\n",
    "library(wordcloud2)"
   ]
  },
  {
   "cell_type": "code",
   "execution_count": 21,
   "metadata": {},
   "outputs": [
    {
     "ename": "ERROR",
     "evalue": "Error in match.fun(FUN): 객체 'extractNoun'를 찾을 수 없습니다\n",
     "output_type": "error",
     "traceback": [
      "Error in match.fun(FUN): 객체 'extractNoun'를 찾을 수 없습니다\nTraceback:\n",
      "1. sapply(cnt, extractNoun, USE, NAMES = F)",
      "2. match.fun(FUN)"
     ]
    }
   ],
   "source": [
    "cnt = c()\n",
    "b_url = 'https://www.bskorea.or.kr/bible/korbibReadpage.php?version=GAE&book=gen&chap='\n",
    "\n",
    "\n",
    "for(i in 1:50){\n",
    "cr_url=paste0(b_url, i)\n",
    "t_css = '#tdBible1 span'\n",
    "hdoc = read_html(cr_url, encoding = 'UTF-8')\n",
    "n_css=html_nodes(hdoc, t_css)\n",
    "cnt_part=html_text(n_css)\n",
    "cnt_part=gsub('\\\\d+', '', cnt_part)\n",
    "cnt_part=str_trim(cnt_part, side='both')\n",
    "cnt = c(cnt, cnt_part)\n",
    "}\n",
    "# library(KoNLP)\n",
    "txt=sapply(cnt, extractNoun, USE, NAMES = F)\n",
    "txt=unlist(txt)\n",
    "count=Filter(function(x){nchar(x)>=2},txt)\n",
    "word=table(count)\n",
    "kk = head(sort(word, decreasing = T), 20)\n",
    "kk\n",
    "tt = barplot(kk, col = rainbow(20), ylim=c(0,300), lae=2)\n",
    "text(tt, kk, label=paste0(kk,'개'), pos=3, col=2)\n",
    "\n",
    "library(RColorBrewer)\n",
    "display.brewer.all()\n",
    "palate = brewer.pal(9, 'Greens')\n",
    "wordcloud(names(word),\n",
    "         freq=word,\n",
    "         min.freq = 2,\n",
    "         scale = c(5,0,5),\n",
    "         random.order = F,\n",
    "         random.color = T,\n",
    "         color = palate)\n"
   ]
  },
  {
   "cell_type": "code",
   "execution_count": 23,
   "metadata": {},
   "outputs": [
    {
     "name": "stderr",
     "output_type": "stream",
     "text": [
      "Warning message:\n",
      "\"package 'wordcloud2' is in use and will not be installed\""
     ]
    },
    {
     "ename": "ERROR",
     "evalue": "Error in library(KoNLP): there is no package called 'KoNLP'\n",
     "output_type": "error",
     "traceback": [
      "Error in library(KoNLP): there is no package called 'KoNLP'\nTraceback:\n",
      "1. library(KoNLP)"
     ]
    }
   ],
   "source": [
    "setwd(\"c:/rdata\")\n",
    "library(rvest)\n",
    "library(stringr)\n",
    "library(dplyr)\n",
    "library(ggplot2)\n",
    "library(wordcloud)\n",
    "install.packages(\"wordcloud2\")\n",
    "library(wordcloud2)\n",
    "\n",
    "cnt=c()\n",
    "b_url=\"https://www.bskorea.or.kr/bible/korbibReadpage.php?version=GAE&book=gen&chap=\"\n",
    "for(i in 1:50){\n",
    "cr_url=paste0(b_url,i)\n",
    "t_css=\"#tdBible1 span\"\n",
    "hdoc=read_html(cr_url,encoding = \"UTF-8\")\n",
    "n_css=html_nodes(hdoc,t_css)\n",
    "cnt_part=html_text(n_css)\n",
    "cnt_part=gsub(\"\\\\d+\",\"\",cnt_part)\n",
    "cnt_part\n",
    "cnt_part=str_trim(cnt_part,side=\"both\")\n",
    "cnt_part\n",
    "cnt=c(cnt,cnt_part)\n",
    "}\n",
    "library(KoNLP)\n",
    "txt=sapply(cnt,extractNoun,USE.NAMES = F)\n",
    "txt=unlist(txt)\n",
    "count=Filter(function(x){nchar(x)>=2},txt)\n",
    "word=table(count)\n",
    "\n",
    "kk=head(sort(word,decreasing = T),20)\n",
    "kk\n",
    "tt=barplot(kk,col=rainbow(20),ylim=c(0,300),las=2)\n",
    "text(tt,kk,label=paste0(kk,\"개\"),pos=3,col=2)\n",
    "\n",
    "library(RColorBrewer)\n",
    "display.brewer.all()\n",
    "palate=brewer.pal(9,\"Greens\")\n",
    "wordcloud(names(word),\n",
    "          freq=word,\n",
    "          min.freq = 2,\n",
    "          scale=c(5,0.5),\n",
    "          random.order = F,\n",
    "          random.color = T,\n",
    "          colors=palate)\n",
    "?wordcloud2()\n",
    "wordcloud2(data=word,\n",
    "           size=0.4,\n",
    "           shape='diamond')"
   ]
  },
  {
   "cell_type": "code",
   "execution_count": null,
   "metadata": {},
   "outputs": [],
   "source": []
  },
  {
   "cell_type": "code",
   "execution_count": null,
   "metadata": {},
   "outputs": [],
   "source": []
  },
  {
   "cell_type": "code",
   "execution_count": null,
   "metadata": {},
   "outputs": [],
   "source": []
  },
  {
   "cell_type": "code",
   "execution_count": null,
   "metadata": {},
   "outputs": [],
   "source": []
  },
  {
   "cell_type": "code",
   "execution_count": null,
   "metadata": {},
   "outputs": [],
   "source": []
  },
  {
   "cell_type": "code",
   "execution_count": null,
   "metadata": {},
   "outputs": [],
   "source": []
  },
  {
   "cell_type": "code",
   "execution_count": null,
   "metadata": {},
   "outputs": [],
   "source": []
  },
  {
   "cell_type": "code",
   "execution_count": null,
   "metadata": {},
   "outputs": [],
   "source": []
  },
  {
   "cell_type": "code",
   "execution_count": null,
   "metadata": {},
   "outputs": [],
   "source": []
  },
  {
   "cell_type": "code",
   "execution_count": null,
   "metadata": {},
   "outputs": [],
   "source": []
  },
  {
   "cell_type": "code",
   "execution_count": null,
   "metadata": {},
   "outputs": [],
   "source": []
  },
  {
   "cell_type": "code",
   "execution_count": null,
   "metadata": {},
   "outputs": [],
   "source": []
  },
  {
   "cell_type": "code",
   "execution_count": null,
   "metadata": {},
   "outputs": [],
   "source": []
  },
  {
   "cell_type": "code",
   "execution_count": null,
   "metadata": {},
   "outputs": [],
   "source": []
  },
  {
   "cell_type": "code",
   "execution_count": null,
   "metadata": {},
   "outputs": [],
   "source": []
  },
  {
   "cell_type": "code",
   "execution_count": null,
   "metadata": {},
   "outputs": [],
   "source": []
  },
  {
   "cell_type": "code",
   "execution_count": null,
   "metadata": {},
   "outputs": [],
   "source": []
  },
  {
   "cell_type": "code",
   "execution_count": null,
   "metadata": {},
   "outputs": [],
   "source": []
  },
  {
   "cell_type": "code",
   "execution_count": null,
   "metadata": {},
   "outputs": [],
   "source": []
  },
  {
   "cell_type": "code",
   "execution_count": null,
   "metadata": {},
   "outputs": [],
   "source": []
  }
 ],
 "metadata": {
  "kernelspec": {
   "display_name": "R",
   "language": "R",
   "name": "ir"
  },
  "language_info": {
   "codemirror_mode": "r",
   "file_extension": ".r",
   "mimetype": "text/x-r-source",
   "name": "R",
   "pygments_lexer": "r",
   "version": "3.6.1"
  }
 },
 "nbformat": 4,
 "nbformat_minor": 4
}
