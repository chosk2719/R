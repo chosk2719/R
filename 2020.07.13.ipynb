{
 "cells": [
  {
   "cell_type": "code",
   "execution_count": 1,
   "metadata": {},
   "outputs": [],
   "source": [
    "setwd('c:/rdata')"
   ]
  },
  {
   "cell_type": "code",
   "execution_count": 2,
   "metadata": {},
   "outputs": [
    {
     "data": {
      "text/html": [
       "150"
      ],
      "text/latex": [
       "150"
      ],
      "text/markdown": [
       "150"
      ],
      "text/plain": [
       "[1] 150"
      ]
     },
     "metadata": {},
     "output_type": "display_data"
    }
   ],
   "source": [
    "nrow(iris)"
   ]
  },
  {
   "cell_type": "code",
   "execution_count": 4,
   "metadata": {},
   "outputs": [
    {
     "data": {
      "text/html": [
       "105"
      ],
      "text/latex": [
       "105"
      ],
      "text/markdown": [
       "105"
      ],
      "text/plain": [
       "[1] 105"
      ]
     },
     "metadata": {},
     "output_type": "display_data"
    }
   ],
   "source": [
    "150*0.7"
   ]
  },
  {
   "cell_type": "code",
   "execution_count": 5,
   "metadata": {},
   "outputs": [],
   "source": [
    "iris_train = iris[1:105,]"
   ]
  },
  {
   "cell_type": "code",
   "execution_count": 6,
   "metadata": {},
   "outputs": [],
   "source": [
    "iris_test = iris[106:150,]"
   ]
  },
  {
   "cell_type": "code",
   "execution_count": 7,
   "metadata": {},
   "outputs": [
    {
     "data": {
      "text/html": [
       "105"
      ],
      "text/latex": [
       "105"
      ],
      "text/markdown": [
       "105"
      ],
      "text/plain": [
       "[1] 105"
      ]
     },
     "metadata": {},
     "output_type": "display_data"
    },
    {
     "data": {
      "text/html": [
       "45"
      ],
      "text/latex": [
       "45"
      ],
      "text/markdown": [
       "45"
      ],
      "text/plain": [
       "[1] 45"
      ]
     },
     "metadata": {},
     "output_type": "display_data"
    }
   ],
   "source": [
    "nrow(iris_train)\n",
    "nrow(iris_test)"
   ]
  },
  {
   "cell_type": "code",
   "execution_count": 8,
   "metadata": {},
   "outputs": [
    {
     "data": {
      "text/html": [
       "<table>\n",
       "<thead><tr><th scope=col>Sepal.Length</th><th scope=col>Sepal.Width</th><th scope=col>Petal.Length</th><th scope=col>Petal.Width</th><th scope=col>Species</th></tr></thead>\n",
       "<tbody>\n",
       "\t<tr><td>5.1   </td><td>3.5   </td><td>1.4   </td><td>0.2   </td><td>setosa</td></tr>\n",
       "\t<tr><td>4.9   </td><td>3.0   </td><td>1.4   </td><td>0.2   </td><td>setosa</td></tr>\n",
       "\t<tr><td>4.7   </td><td>3.2   </td><td>1.3   </td><td>0.2   </td><td>setosa</td></tr>\n",
       "\t<tr><td>4.6   </td><td>3.1   </td><td>1.5   </td><td>0.2   </td><td>setosa</td></tr>\n",
       "\t<tr><td>5.0   </td><td>3.6   </td><td>1.4   </td><td>0.2   </td><td>setosa</td></tr>\n",
       "\t<tr><td>5.4   </td><td>3.9   </td><td>1.7   </td><td>0.4   </td><td>setosa</td></tr>\n",
       "</tbody>\n",
       "</table>\n"
      ],
      "text/latex": [
       "\\begin{tabular}{r|lllll}\n",
       " Sepal.Length & Sepal.Width & Petal.Length & Petal.Width & Species\\\\\n",
       "\\hline\n",
       "\t 5.1    & 3.5    & 1.4    & 0.2    & setosa\\\\\n",
       "\t 4.9    & 3.0    & 1.4    & 0.2    & setosa\\\\\n",
       "\t 4.7    & 3.2    & 1.3    & 0.2    & setosa\\\\\n",
       "\t 4.6    & 3.1    & 1.5    & 0.2    & setosa\\\\\n",
       "\t 5.0    & 3.6    & 1.4    & 0.2    & setosa\\\\\n",
       "\t 5.4    & 3.9    & 1.7    & 0.4    & setosa\\\\\n",
       "\\end{tabular}\n"
      ],
      "text/markdown": [
       "\n",
       "| Sepal.Length | Sepal.Width | Petal.Length | Petal.Width | Species |\n",
       "|---|---|---|---|---|\n",
       "| 5.1    | 3.5    | 1.4    | 0.2    | setosa |\n",
       "| 4.9    | 3.0    | 1.4    | 0.2    | setosa |\n",
       "| 4.7    | 3.2    | 1.3    | 0.2    | setosa |\n",
       "| 4.6    | 3.1    | 1.5    | 0.2    | setosa |\n",
       "| 5.0    | 3.6    | 1.4    | 0.2    | setosa |\n",
       "| 5.4    | 3.9    | 1.7    | 0.4    | setosa |\n",
       "\n"
      ],
      "text/plain": [
       "  Sepal.Length Sepal.Width Petal.Length Petal.Width Species\n",
       "1 5.1          3.5         1.4          0.2         setosa \n",
       "2 4.9          3.0         1.4          0.2         setosa \n",
       "3 4.7          3.2         1.3          0.2         setosa \n",
       "4 4.6          3.1         1.5          0.2         setosa \n",
       "5 5.0          3.6         1.4          0.2         setosa \n",
       "6 5.4          3.9         1.7          0.4         setosa "
      ]
     },
     "metadata": {},
     "output_type": "display_data"
    }
   ],
   "source": [
    "head(iris)"
   ]
  },
  {
   "cell_type": "code",
   "execution_count": 10,
   "metadata": {},
   "outputs": [
    {
     "data": {
      "text/html": [
       "<ol class=list-inline>\n",
       "\t<li>133</li>\n",
       "\t<li>74</li>\n",
       "\t<li>75</li>\n",
       "\t<li>66</li>\n",
       "\t<li>93</li>\n",
       "\t<li>150</li>\n",
       "\t<li>148</li>\n",
       "\t<li>7</li>\n",
       "\t<li>34</li>\n",
       "\t<li>120</li>\n",
       "\t<li>32</li>\n",
       "\t<li>3</li>\n",
       "\t<li>110</li>\n",
       "\t<li>97</li>\n",
       "\t<li>63</li>\n",
       "\t<li>139</li>\n",
       "\t<li>84</li>\n",
       "\t<li>27</li>\n",
       "\t<li>131</li>\n",
       "\t<li>18</li>\n",
       "\t<li>46</li>\n",
       "\t<li>10</li>\n",
       "\t<li>85</li>\n",
       "\t<li>101</li>\n",
       "\t<li>16</li>\n",
       "\t<li>8</li>\n",
       "\t<li>138</li>\n",
       "\t<li>125</li>\n",
       "\t<li>45</li>\n",
       "\t<li>100</li>\n",
       "\t<li>149</li>\n",
       "\t<li>60</li>\n",
       "\t<li>83</li>\n",
       "\t<li>20</li>\n",
       "\t<li>103</li>\n",
       "\t<li>65</li>\n",
       "\t<li>107</li>\n",
       "\t<li>88</li>\n",
       "\t<li>135</li>\n",
       "\t<li>64</li>\n",
       "\t<li>22</li>\n",
       "\t<li>87</li>\n",
       "\t<li>132</li>\n",
       "\t<li>54</li>\n",
       "\t<li>102</li>\n",
       "\t<li>111</li>\n",
       "\t<li>115</li>\n",
       "\t<li>95</li>\n",
       "\t<li>141</li>\n",
       "\t<li>117</li>\n",
       "\t<li>130</li>\n",
       "\t<li>41</li>\n",
       "\t<li>98</li>\n",
       "\t<li>68</li>\n",
       "\t<li>79</li>\n",
       "\t<li>86</li>\n",
       "\t<li>126</li>\n",
       "\t<li>80</li>\n",
       "\t<li>37</li>\n",
       "\t<li>82</li>\n",
       "\t<li>24</li>\n",
       "\t<li>143</li>\n",
       "\t<li>128</li>\n",
       "\t<li>38</li>\n",
       "\t<li>72</li>\n",
       "\t<li>58</li>\n",
       "\t<li>77</li>\n",
       "\t<li>109</li>\n",
       "\t<li>12</li>\n",
       "\t<li>94</li>\n",
       "\t<li>119</li>\n",
       "\t<li>122</li>\n",
       "\t<li>81</li>\n",
       "\t<li>50</li>\n",
       "\t<li>127</li>\n",
       "\t<li>89</li>\n",
       "\t<li>113</li>\n",
       "\t<li>43</li>\n",
       "\t<li>121</li>\n",
       "\t<li>13</li>\n",
       "\t<li>134</li>\n",
       "\t<li>104</li>\n",
       "\t<li>147</li>\n",
       "\t<li>33</li>\n",
       "\t<li>96</li>\n",
       "\t<li>90</li>\n",
       "\t<li>31</li>\n",
       "\t<li>140</li>\n",
       "\t<li>11</li>\n",
       "\t<li>118</li>\n",
       "\t<li>73</li>\n",
       "\t<li>51</li>\n",
       "\t<li>2</li>\n",
       "\t<li>129</li>\n",
       "\t<li>39</li>\n",
       "\t<li>70</li>\n",
       "\t<li>71</li>\n",
       "\t<li>78</li>\n",
       "\t<li>144</li>\n",
       "\t<li>49</li>\n",
       "\t<li>105</li>\n",
       "\t<li>44</li>\n",
       "\t<li>40</li>\n",
       "\t<li>145</li>\n",
       "\t<li>52</li>\n",
       "</ol>\n"
      ],
      "text/latex": [
       "\\begin{enumerate*}\n",
       "\\item 133\n",
       "\\item 74\n",
       "\\item 75\n",
       "\\item 66\n",
       "\\item 93\n",
       "\\item 150\n",
       "\\item 148\n",
       "\\item 7\n",
       "\\item 34\n",
       "\\item 120\n",
       "\\item 32\n",
       "\\item 3\n",
       "\\item 110\n",
       "\\item 97\n",
       "\\item 63\n",
       "\\item 139\n",
       "\\item 84\n",
       "\\item 27\n",
       "\\item 131\n",
       "\\item 18\n",
       "\\item 46\n",
       "\\item 10\n",
       "\\item 85\n",
       "\\item 101\n",
       "\\item 16\n",
       "\\item 8\n",
       "\\item 138\n",
       "\\item 125\n",
       "\\item 45\n",
       "\\item 100\n",
       "\\item 149\n",
       "\\item 60\n",
       "\\item 83\n",
       "\\item 20\n",
       "\\item 103\n",
       "\\item 65\n",
       "\\item 107\n",
       "\\item 88\n",
       "\\item 135\n",
       "\\item 64\n",
       "\\item 22\n",
       "\\item 87\n",
       "\\item 132\n",
       "\\item 54\n",
       "\\item 102\n",
       "\\item 111\n",
       "\\item 115\n",
       "\\item 95\n",
       "\\item 141\n",
       "\\item 117\n",
       "\\item 130\n",
       "\\item 41\n",
       "\\item 98\n",
       "\\item 68\n",
       "\\item 79\n",
       "\\item 86\n",
       "\\item 126\n",
       "\\item 80\n",
       "\\item 37\n",
       "\\item 82\n",
       "\\item 24\n",
       "\\item 143\n",
       "\\item 128\n",
       "\\item 38\n",
       "\\item 72\n",
       "\\item 58\n",
       "\\item 77\n",
       "\\item 109\n",
       "\\item 12\n",
       "\\item 94\n",
       "\\item 119\n",
       "\\item 122\n",
       "\\item 81\n",
       "\\item 50\n",
       "\\item 127\n",
       "\\item 89\n",
       "\\item 113\n",
       "\\item 43\n",
       "\\item 121\n",
       "\\item 13\n",
       "\\item 134\n",
       "\\item 104\n",
       "\\item 147\n",
       "\\item 33\n",
       "\\item 96\n",
       "\\item 90\n",
       "\\item 31\n",
       "\\item 140\n",
       "\\item 11\n",
       "\\item 118\n",
       "\\item 73\n",
       "\\item 51\n",
       "\\item 2\n",
       "\\item 129\n",
       "\\item 39\n",
       "\\item 70\n",
       "\\item 71\n",
       "\\item 78\n",
       "\\item 144\n",
       "\\item 49\n",
       "\\item 105\n",
       "\\item 44\n",
       "\\item 40\n",
       "\\item 145\n",
       "\\item 52\n",
       "\\end{enumerate*}\n"
      ],
      "text/markdown": [
       "1. 133\n",
       "2. 74\n",
       "3. 75\n",
       "4. 66\n",
       "5. 93\n",
       "6. 150\n",
       "7. 148\n",
       "8. 7\n",
       "9. 34\n",
       "10. 120\n",
       "11. 32\n",
       "12. 3\n",
       "13. 110\n",
       "14. 97\n",
       "15. 63\n",
       "16. 139\n",
       "17. 84\n",
       "18. 27\n",
       "19. 131\n",
       "20. 18\n",
       "21. 46\n",
       "22. 10\n",
       "23. 85\n",
       "24. 101\n",
       "25. 16\n",
       "26. 8\n",
       "27. 138\n",
       "28. 125\n",
       "29. 45\n",
       "30. 100\n",
       "31. 149\n",
       "32. 60\n",
       "33. 83\n",
       "34. 20\n",
       "35. 103\n",
       "36. 65\n",
       "37. 107\n",
       "38. 88\n",
       "39. 135\n",
       "40. 64\n",
       "41. 22\n",
       "42. 87\n",
       "43. 132\n",
       "44. 54\n",
       "45. 102\n",
       "46. 111\n",
       "47. 115\n",
       "48. 95\n",
       "49. 141\n",
       "50. 117\n",
       "51. 130\n",
       "52. 41\n",
       "53. 98\n",
       "54. 68\n",
       "55. 79\n",
       "56. 86\n",
       "57. 126\n",
       "58. 80\n",
       "59. 37\n",
       "60. 82\n",
       "61. 24\n",
       "62. 143\n",
       "63. 128\n",
       "64. 38\n",
       "65. 72\n",
       "66. 58\n",
       "67. 77\n",
       "68. 109\n",
       "69. 12\n",
       "70. 94\n",
       "71. 119\n",
       "72. 122\n",
       "73. 81\n",
       "74. 50\n",
       "75. 127\n",
       "76. 89\n",
       "77. 113\n",
       "78. 43\n",
       "79. 121\n",
       "80. 13\n",
       "81. 134\n",
       "82. 104\n",
       "83. 147\n",
       "84. 33\n",
       "85. 96\n",
       "86. 90\n",
       "87. 31\n",
       "88. 140\n",
       "89. 11\n",
       "90. 118\n",
       "91. 73\n",
       "92. 51\n",
       "93. 2\n",
       "94. 129\n",
       "95. 39\n",
       "96. 70\n",
       "97. 71\n",
       "98. 78\n",
       "99. 144\n",
       "100. 49\n",
       "101. 105\n",
       "102. 44\n",
       "103. 40\n",
       "104. 145\n",
       "105. 52\n",
       "\n",
       "\n"
      ],
      "text/plain": [
       "  [1] 133  74  75  66  93 150 148   7  34 120  32   3 110  97  63 139  84  27\n",
       " [19] 131  18  46  10  85 101  16   8 138 125  45 100 149  60  83  20 103  65\n",
       " [37] 107  88 135  64  22  87 132  54 102 111 115  95 141 117 130  41  98  68\n",
       " [55]  79  86 126  80  37  82  24 143 128  38  72  58  77 109  12  94 119 122\n",
       " [73]  81  50 127  89 113  43 121  13 134 104 147  33  96  90  31 140  11 118\n",
       " [91]  73  51   2 129  39  70  71  78 144  49 105  44  40 145  52"
      ]
     },
     "metadata": {},
     "output_type": "display_data"
    }
   ],
   "source": [
    "idx = sample(1:nrow(iris), size = nrow(iris)*0.7, replace =  F)\n",
    "idx"
   ]
  },
  {
   "cell_type": "code",
   "execution_count": 11,
   "metadata": {},
   "outputs": [],
   "source": [
    "iris_train = iris[idx,]"
   ]
  },
  {
   "cell_type": "code",
   "execution_count": 12,
   "metadata": {},
   "outputs": [],
   "source": [
    "iris_test = iris[-idx,]"
   ]
  },
  {
   "cell_type": "code",
   "execution_count": 13,
   "metadata": {},
   "outputs": [
    {
     "data": {
      "text/html": [
       "105"
      ],
      "text/latex": [
       "105"
      ],
      "text/markdown": [
       "105"
      ],
      "text/plain": [
       "[1] 105"
      ]
     },
     "metadata": {},
     "output_type": "display_data"
    },
    {
     "data": {
      "text/html": [
       "45"
      ],
      "text/latex": [
       "45"
      ],
      "text/markdown": [
       "45"
      ],
      "text/plain": [
       "[1] 45"
      ]
     },
     "metadata": {},
     "output_type": "display_data"
    }
   ],
   "source": [
    "nrow(iris_train)\n",
    "nrow(iris_test)"
   ]
  },
  {
   "cell_type": "code",
   "execution_count": 14,
   "metadata": {},
   "outputs": [
    {
     "data": {
      "text/html": [
       "<table>\n",
       "<thead><tr><th scope=col>Sepal.Length</th><th scope=col>Sepal.Width</th><th scope=col>Petal.Length</th><th scope=col>Petal.Width</th><th scope=col>Species</th></tr></thead>\n",
       "<tbody>\n",
       "\t<tr><td>5.1   </td><td>3.5   </td><td>1.4   </td><td>0.2   </td><td>setosa</td></tr>\n",
       "\t<tr><td>4.9   </td><td>3.0   </td><td>1.4   </td><td>0.2   </td><td>setosa</td></tr>\n",
       "\t<tr><td>4.7   </td><td>3.2   </td><td>1.3   </td><td>0.2   </td><td>setosa</td></tr>\n",
       "\t<tr><td>4.6   </td><td>3.1   </td><td>1.5   </td><td>0.2   </td><td>setosa</td></tr>\n",
       "\t<tr><td>5.0   </td><td>3.6   </td><td>1.4   </td><td>0.2   </td><td>setosa</td></tr>\n",
       "\t<tr><td>5.4   </td><td>3.9   </td><td>1.7   </td><td>0.4   </td><td>setosa</td></tr>\n",
       "</tbody>\n",
       "</table>\n"
      ],
      "text/latex": [
       "\\begin{tabular}{r|lllll}\n",
       " Sepal.Length & Sepal.Width & Petal.Length & Petal.Width & Species\\\\\n",
       "\\hline\n",
       "\t 5.1    & 3.5    & 1.4    & 0.2    & setosa\\\\\n",
       "\t 4.9    & 3.0    & 1.4    & 0.2    & setosa\\\\\n",
       "\t 4.7    & 3.2    & 1.3    & 0.2    & setosa\\\\\n",
       "\t 4.6    & 3.1    & 1.5    & 0.2    & setosa\\\\\n",
       "\t 5.0    & 3.6    & 1.4    & 0.2    & setosa\\\\\n",
       "\t 5.4    & 3.9    & 1.7    & 0.4    & setosa\\\\\n",
       "\\end{tabular}\n"
      ],
      "text/markdown": [
       "\n",
       "| Sepal.Length | Sepal.Width | Petal.Length | Petal.Width | Species |\n",
       "|---|---|---|---|---|\n",
       "| 5.1    | 3.5    | 1.4    | 0.2    | setosa |\n",
       "| 4.9    | 3.0    | 1.4    | 0.2    | setosa |\n",
       "| 4.7    | 3.2    | 1.3    | 0.2    | setosa |\n",
       "| 4.6    | 3.1    | 1.5    | 0.2    | setosa |\n",
       "| 5.0    | 3.6    | 1.4    | 0.2    | setosa |\n",
       "| 5.4    | 3.9    | 1.7    | 0.4    | setosa |\n",
       "\n"
      ],
      "text/plain": [
       "  Sepal.Length Sepal.Width Petal.Length Petal.Width Species\n",
       "1 5.1          3.5         1.4          0.2         setosa \n",
       "2 4.9          3.0         1.4          0.2         setosa \n",
       "3 4.7          3.2         1.3          0.2         setosa \n",
       "4 4.6          3.1         1.5          0.2         setosa \n",
       "5 5.0          3.6         1.4          0.2         setosa \n",
       "6 5.4          3.9         1.7          0.4         setosa "
      ]
     },
     "metadata": {},
     "output_type": "display_data"
    }
   ],
   "source": [
    "head(iris)"
   ]
  },
  {
   "cell_type": "code",
   "execution_count": 15,
   "metadata": {},
   "outputs": [
    {
     "data": {
      "text/plain": [
       "\n",
       "    setosa versicolor  virginica \n",
       "        50         50         50 "
      ]
     },
     "metadata": {},
     "output_type": "display_data"
    }
   ],
   "source": [
    "table(iris$Species)"
   ]
  },
  {
   "cell_type": "code",
   "execution_count": 16,
   "metadata": {},
   "outputs": [
    {
     "data": {
      "text/plain": [
       "\n",
       "    setosa versicolor  virginica \n",
       "        29         37         39 "
      ]
     },
     "metadata": {},
     "output_type": "display_data"
    }
   ],
   "source": [
    "table(iris_train$Species)"
   ]
  },
  {
   "cell_type": "code",
   "execution_count": 17,
   "metadata": {},
   "outputs": [
    {
     "data": {
      "text/plain": [
       "\n",
       "    setosa versicolor  virginica \n",
       "        21         13         11 "
      ]
     },
     "metadata": {},
     "output_type": "display_data"
    }
   ],
   "source": [
    "table(iris_test$Species)"
   ]
  },
  {
   "cell_type": "code",
   "execution_count": 30,
   "metadata": {},
   "outputs": [
    {
     "name": "stderr",
     "output_type": "stream",
     "text": [
      "also installing the dependencies 'tidyr', 'ModelMetrics', 'recipes', 'pROC'\n",
      "\n"
     ]
    },
    {
     "name": "stdout",
     "output_type": "stream",
     "text": [
      "package 'tidyr' successfully unpacked and MD5 sums checked\n",
      "package 'ModelMetrics' successfully unpacked and MD5 sums checked\n",
      "package 'recipes' successfully unpacked and MD5 sums checked\n",
      "package 'pROC' successfully unpacked and MD5 sums checked\n",
      "package 'caret' successfully unpacked and MD5 sums checked\n",
      "\n",
      "The downloaded binary packages are in\n",
      "\tC:\\Users\\15\\AppData\\Local\\Temp\\Rtmp6PdMLG\\downloaded_packages\n"
     ]
    }
   ],
   "source": [
    "install.packages('caret')"
   ]
  },
  {
   "cell_type": "code",
   "execution_count": 32,
   "metadata": {},
   "outputs": [
    {
     "name": "stderr",
     "output_type": "stream",
     "text": [
      "Warning message:\n",
      "\"package 'caret' was built under R version 3.6.3\"Loading required package: lattice\n",
      "Loading required package: ggplot2\n",
      "Warning message:\n",
      "\"package 'ggplot2' was built under R version 3.6.3\""
     ]
    }
   ],
   "source": [
    "library(caret)"
   ]
  },
  {
   "cell_type": "code",
   "execution_count": 37,
   "metadata": {},
   "outputs": [],
   "source": [
    "train.idx = createDataPartition(iris$Species, p=0.7, list = F)"
   ]
  },
  {
   "cell_type": "code",
   "execution_count": 111,
   "metadata": {},
   "outputs": [],
   "source": [
    "iris_train = iris[train.idx,]"
   ]
  },
  {
   "cell_type": "code",
   "execution_count": 39,
   "metadata": {},
   "outputs": [
    {
     "data": {
      "text/plain": [
       "\n",
       "    setosa versicolor  virginica \n",
       "        35         35         35 "
      ]
     },
     "metadata": {},
     "output_type": "display_data"
    }
   ],
   "source": [
    "table(iris_train$Species)"
   ]
  },
  {
   "cell_type": "code",
   "execution_count": 112,
   "metadata": {},
   "outputs": [],
   "source": [
    "iris_test = iris[-train.idx,]"
   ]
  },
  {
   "cell_type": "code",
   "execution_count": 41,
   "metadata": {
    "scrolled": true
   },
   "outputs": [
    {
     "data": {
      "text/plain": [
       "\n",
       "    setosa versicolor  virginica \n",
       "        15         15         15 "
      ]
     },
     "metadata": {},
     "output_type": "display_data"
    }
   ],
   "source": [
    "table(iris_test$Species)"
   ]
  },
  {
   "cell_type": "code",
   "execution_count": 50,
   "metadata": {
    "scrolled": true
   },
   "outputs": [
    {
     "name": "stderr",
     "output_type": "stream",
     "text": [
      "Warning message:\n",
      "\"package 'e1071' is in use and will not be installed\""
     ]
    }
   ],
   "source": [
    "install.packages('e1071')"
   ]
  },
  {
   "cell_type": "markdown",
   "metadata": {},
   "source": [
    "# naive Bayes Model method"
   ]
  },
  {
   "cell_type": "code",
   "execution_count": 48,
   "metadata": {},
   "outputs": [],
   "source": [
    "library(e1071)"
   ]
  },
  {
   "cell_type": "code",
   "execution_count": 49,
   "metadata": {},
   "outputs": [],
   "source": [
    "naive.result = naiveBayes(iris_train, iris_train$Species, laplace = 1)"
   ]
  },
  {
   "cell_type": "code",
   "execution_count": 54,
   "metadata": {},
   "outputs": [],
   "source": [
    "naive.pred = predict(naive.result, iris_test, type = 'class')"
   ]
  },
  {
   "cell_type": "code",
   "execution_count": 55,
   "metadata": {},
   "outputs": [
    {
     "data": {
      "text/plain": [
       "            \n",
       "naive.pred   setosa versicolor virginica\n",
       "  setosa         15          0         0\n",
       "  versicolor      0         15         0\n",
       "  virginica       0          0        15"
      ]
     },
     "metadata": {},
     "output_type": "display_data"
    }
   ],
   "source": [
    "table(naive.pred, iris_test$Species)"
   ]
  },
  {
   "cell_type": "code",
   "execution_count": 62,
   "metadata": {},
   "outputs": [
    {
     "data": {
      "text/plain": [
       "Confusion Matrix and Statistics\n",
       "\n",
       "            Reference\n",
       "Prediction   setosa versicolor virginica\n",
       "  setosa         15          0         0\n",
       "  versicolor      0         15         0\n",
       "  virginica       0          0        15\n",
       "\n",
       "Overall Statistics\n",
       "                                     \n",
       "               Accuracy : 1          \n",
       "                 95% CI : (0.9213, 1)\n",
       "    No Information Rate : 0.3333     \n",
       "    P-Value [Acc > NIR] : < 2.2e-16  \n",
       "                                     \n",
       "                  Kappa : 1          \n",
       "                                     \n",
       " Mcnemar's Test P-Value : NA         \n",
       "\n",
       "Statistics by Class:\n",
       "\n",
       "                     Class: setosa Class: versicolor Class: virginica\n",
       "Sensitivity                 1.0000            1.0000           1.0000\n",
       "Specificity                 1.0000            1.0000           1.0000\n",
       "Pos Pred Value              1.0000            1.0000           1.0000\n",
       "Neg Pred Value              1.0000            1.0000           1.0000\n",
       "Prevalence                  0.3333            0.3333           0.3333\n",
       "Detection Rate              0.3333            0.3333           0.3333\n",
       "Detection Prevalence        0.3333            0.3333           0.3333\n",
       "Balanced Accuracy           1.0000            1.0000           1.0000"
      ]
     },
     "metadata": {},
     "output_type": "display_data"
    }
   ],
   "source": [
    "confusionMatrix(naive.pred, iris_test$Species)"
   ]
  },
  {
   "cell_type": "markdown",
   "metadata": {},
   "source": [
    "# Logistic Regression Method"
   ]
  },
  {
   "cell_type": "code",
   "execution_count": 63,
   "metadata": {},
   "outputs": [],
   "source": [
    "library(nnet)"
   ]
  },
  {
   "cell_type": "code",
   "execution_count": 64,
   "metadata": {},
   "outputs": [
    {
     "name": "stdout",
     "output_type": "stream",
     "text": [
      "# weights:  18 (10 variable)\n",
      "initial  value 115.354290 \n",
      "iter  10 value 11.948022\n",
      "iter  20 value 6.173074\n",
      "iter  30 value 6.036251\n",
      "iter  40 value 5.888685\n",
      "iter  50 value 5.866781\n",
      "iter  60 value 5.859691\n",
      "iter  70 value 5.857429\n",
      "iter  80 value 5.856311\n",
      "final  value 5.856309 \n",
      "converged\n"
     ]
    }
   ],
   "source": [
    "multi.result = multinom(Species~.,iris_train)"
   ]
  },
  {
   "cell_type": "code",
   "execution_count": 65,
   "metadata": {},
   "outputs": [],
   "source": [
    "multi.pred = predict(multi.result, iris_test)"
   ]
  },
  {
   "cell_type": "code",
   "execution_count": 66,
   "metadata": {},
   "outputs": [
    {
     "data": {
      "text/plain": [
       "            \n",
       "multi.pred   setosa versicolor virginica\n",
       "  setosa         15          0         0\n",
       "  versicolor      0         15         0\n",
       "  virginica       0          0        15"
      ]
     },
     "metadata": {},
     "output_type": "display_data"
    }
   ],
   "source": [
    "table(multi.pred, iris_test$Species)"
   ]
  },
  {
   "cell_type": "code",
   "execution_count": 67,
   "metadata": {},
   "outputs": [
    {
     "data": {
      "text/plain": [
       "Confusion Matrix and Statistics\n",
       "\n",
       "            Reference\n",
       "Prediction   setosa versicolor virginica\n",
       "  setosa         15          0         0\n",
       "  versicolor      0         15         0\n",
       "  virginica       0          0        15\n",
       "\n",
       "Overall Statistics\n",
       "                                     \n",
       "               Accuracy : 1          \n",
       "                 95% CI : (0.9213, 1)\n",
       "    No Information Rate : 0.3333     \n",
       "    P-Value [Acc > NIR] : < 2.2e-16  \n",
       "                                     \n",
       "                  Kappa : 1          \n",
       "                                     \n",
       " Mcnemar's Test P-Value : NA         \n",
       "\n",
       "Statistics by Class:\n",
       "\n",
       "                     Class: setosa Class: versicolor Class: virginica\n",
       "Sensitivity                 1.0000            1.0000           1.0000\n",
       "Specificity                 1.0000            1.0000           1.0000\n",
       "Pos Pred Value              1.0000            1.0000           1.0000\n",
       "Neg Pred Value              1.0000            1.0000           1.0000\n",
       "Prevalence                  0.3333            0.3333           0.3333\n",
       "Detection Rate              0.3333            0.3333           0.3333\n",
       "Detection Prevalence        0.3333            0.3333           0.3333\n",
       "Balanced Accuracy           1.0000            1.0000           1.0000"
      ]
     },
     "metadata": {},
     "output_type": "display_data"
    }
   ],
   "source": [
    "confusionMatrix(multi.pred, iris_test$Species)"
   ]
  },
  {
   "cell_type": "markdown",
   "metadata": {},
   "source": [
    "# Decision Tree model method"
   ]
  },
  {
   "cell_type": "code",
   "execution_count": 68,
   "metadata": {},
   "outputs": [],
   "source": [
    "library(rpart)"
   ]
  },
  {
   "cell_type": "code",
   "execution_count": 69,
   "metadata": {},
   "outputs": [],
   "source": [
    "rpart.result = rpart(Species~.,data=iris_train)"
   ]
  },
  {
   "cell_type": "code",
   "execution_count": 70,
   "metadata": {},
   "outputs": [],
   "source": [
    "rpart.pred = predict(rpart.result, iris_test, type = 'class')"
   ]
  },
  {
   "cell_type": "code",
   "execution_count": 71,
   "metadata": {},
   "outputs": [
    {
     "data": {
      "text/plain": [
       "            \n",
       "rpart.pred   setosa versicolor virginica\n",
       "  setosa         15          0         0\n",
       "  versicolor      0         15         1\n",
       "  virginica       0          0        14"
      ]
     },
     "metadata": {},
     "output_type": "display_data"
    }
   ],
   "source": [
    "table(rpart.pred, iris_test$Species)"
   ]
  },
  {
   "cell_type": "code",
   "execution_count": 72,
   "metadata": {},
   "outputs": [
    {
     "data": {
      "text/plain": [
       "Confusion Matrix and Statistics\n",
       "\n",
       "            Reference\n",
       "Prediction   setosa versicolor virginica\n",
       "  setosa         15          0         0\n",
       "  versicolor      0         15         1\n",
       "  virginica       0          0        14\n",
       "\n",
       "Overall Statistics\n",
       "                                          \n",
       "               Accuracy : 0.9778          \n",
       "                 95% CI : (0.8823, 0.9994)\n",
       "    No Information Rate : 0.3333          \n",
       "    P-Value [Acc > NIR] : < 2.2e-16       \n",
       "                                          \n",
       "                  Kappa : 0.9667          \n",
       "                                          \n",
       " Mcnemar's Test P-Value : NA              \n",
       "\n",
       "Statistics by Class:\n",
       "\n",
       "                     Class: setosa Class: versicolor Class: virginica\n",
       "Sensitivity                 1.0000            1.0000           0.9333\n",
       "Specificity                 1.0000            0.9667           1.0000\n",
       "Pos Pred Value              1.0000            0.9375           1.0000\n",
       "Neg Pred Value              1.0000            1.0000           0.9677\n",
       "Prevalence                  0.3333            0.3333           0.3333\n",
       "Detection Rate              0.3333            0.3333           0.3111\n",
       "Detection Prevalence        0.3333            0.3556           0.3111\n",
       "Balanced Accuracy           1.0000            0.9833           0.9667"
      ]
     },
     "metadata": {},
     "output_type": "display_data"
    }
   ],
   "source": [
    "confusionMatrix(rpart.pred, iris_test$Species)"
   ]
  },
  {
   "cell_type": "code",
   "execution_count": 73,
   "metadata": {},
   "outputs": [
    {
     "name": "stdout",
     "output_type": "stream",
     "text": [
      "package 'rpart.plot' successfully unpacked and MD5 sums checked\n",
      "\n",
      "The downloaded binary packages are in\n",
      "\tC:\\Users\\15\\AppData\\Local\\Temp\\Rtmp6PdMLG\\downloaded_packages\n"
     ]
    }
   ],
   "source": [
    "install.packages('rpart.plot')"
   ]
  },
  {
   "cell_type": "code",
   "execution_count": 75,
   "metadata": {},
   "outputs": [],
   "source": [
    "library(rpart.plot)"
   ]
  },
  {
   "cell_type": "code",
   "execution_count": 76,
   "metadata": {},
   "outputs": [
    {
     "data": {
      "image/png": "[encoded data removed]",
      "text/plain": [
       "plot without title"
      ]
     },
     "metadata": {},
     "output_type": "display_data"
    }
   ],
   "source": [
    "rpart.plot(rpart.result)"
   ]
  },
  {
   "cell_type": "markdown",
   "metadata": {},
   "source": [
    "# ANN Model Method"
   ]
  },
  {
   "cell_type": "code",
   "execution_count": 77,
   "metadata": {},
   "outputs": [],
   "source": [
    "library(nnet)"
   ]
  },
  {
   "cell_type": "code",
   "execution_count": 79,
   "metadata": {},
   "outputs": [],
   "source": [
    "iris_train_scale = as.data.frame(sapply(iris_train[, -5], scale))"
   ]
  },
  {
   "cell_type": "code",
   "execution_count": 81,
   "metadata": {
    "scrolled": false
   },
   "outputs": [
    {
     "data": {
      "text/html": [
       "<table>\n",
       "<thead><tr><th></th><th scope=col>Sepal.Length</th><th scope=col>Sepal.Width</th><th scope=col>Petal.Length</th><th scope=col>Petal.Width</th><th scope=col>Species</th></tr></thead>\n",
       "<tbody>\n",
       "\t<tr><th scope=row>2</th><td>4.9   </td><td>3.0   </td><td>1.4   </td><td>0.2   </td><td>setosa</td></tr>\n",
       "\t<tr><th scope=row>3</th><td>4.7   </td><td>3.2   </td><td>1.3   </td><td>0.2   </td><td>setosa</td></tr>\n",
       "\t<tr><th scope=row>4</th><td>4.6   </td><td>3.1   </td><td>1.5   </td><td>0.2   </td><td>setosa</td></tr>\n",
       "\t<tr><th scope=row>5</th><td>5.0   </td><td>3.6   </td><td>1.4   </td><td>0.2   </td><td>setosa</td></tr>\n",
       "\t<tr><th scope=row>6</th><td>5.4   </td><td>3.9   </td><td>1.7   </td><td>0.4   </td><td>setosa</td></tr>\n",
       "\t<tr><th scope=row>7</th><td>4.6   </td><td>3.4   </td><td>1.4   </td><td>0.3   </td><td>setosa</td></tr>\n",
       "</tbody>\n",
       "</table>\n"
      ],
      "text/latex": [
       "\\begin{tabular}{r|lllll}\n",
       "  & Sepal.Length & Sepal.Width & Petal.Length & Petal.Width & Species\\\\\n",
       "\\hline\n",
       "\t2 & 4.9    & 3.0    & 1.4    & 0.2    & setosa\\\\\n",
       "\t3 & 4.7    & 3.2    & 1.3    & 0.2    & setosa\\\\\n",
       "\t4 & 4.6    & 3.1    & 1.5    & 0.2    & setosa\\\\\n",
       "\t5 & 5.0    & 3.6    & 1.4    & 0.2    & setosa\\\\\n",
       "\t6 & 5.4    & 3.9    & 1.7    & 0.4    & setosa\\\\\n",
       "\t7 & 4.6    & 3.4    & 1.4    & 0.3    & setosa\\\\\n",
       "\\end{tabular}\n"
      ],
      "text/markdown": [
       "\n",
       "| <!--/--> | Sepal.Length | Sepal.Width | Petal.Length | Petal.Width | Species |\n",
       "|---|---|---|---|---|---|\n",
       "| 2 | 4.9    | 3.0    | 1.4    | 0.2    | setosa |\n",
       "| 3 | 4.7    | 3.2    | 1.3    | 0.2    | setosa |\n",
       "| 4 | 4.6    | 3.1    | 1.5    | 0.2    | setosa |\n",
       "| 5 | 5.0    | 3.6    | 1.4    | 0.2    | setosa |\n",
       "| 6 | 5.4    | 3.9    | 1.7    | 0.4    | setosa |\n",
       "| 7 | 4.6    | 3.4    | 1.4    | 0.3    | setosa |\n",
       "\n"
      ],
      "text/plain": [
       "  Sepal.Length Sepal.Width Petal.Length Petal.Width Species\n",
       "2 4.9          3.0         1.4          0.2         setosa \n",
       "3 4.7          3.2         1.3          0.2         setosa \n",
       "4 4.6          3.1         1.5          0.2         setosa \n",
       "5 5.0          3.6         1.4          0.2         setosa \n",
       "6 5.4          3.9         1.7          0.4         setosa \n",
       "7 4.6          3.4         1.4          0.3         setosa "
      ]
     },
     "metadata": {},
     "output_type": "display_data"
    }
   ],
   "source": [
    "head(iris_train)"
   ]
  },
  {
   "cell_type": "code",
   "execution_count": 83,
   "metadata": {},
   "outputs": [],
   "source": [
    "iris_test_scale = as.data.frame(sapply(iris_test[,-5], scale))"
   ]
  },
  {
   "cell_type": "code",
   "execution_count": 84,
   "metadata": {
    "scrolled": true
   },
   "outputs": [
    {
     "data": {
      "text/html": [
       "<table>\n",
       "<thead><tr><th scope=col>Sepal.Length</th><th scope=col>Sepal.Width</th><th scope=col>Petal.Length</th><th scope=col>Petal.Width</th></tr></thead>\n",
       "<tbody>\n",
       "\t<tr><td>-0.93177190</td><td> 0.81166460</td><td>-1.26389962</td><td>-1.26464235</td></tr>\n",
       "\t<tr><td>-1.17205691</td><td>-0.01844692</td><td>-1.20968086</td><td>-1.39427539</td></tr>\n",
       "\t<tr><td>-1.89291196</td><td>-0.22597480</td><td>-1.42655591</td><td>-1.39427539</td></tr>\n",
       "\t<tr><td>-0.09077434</td><td> 1.84930400</td><td>-1.37233715</td><td>-1.26464235</td></tr>\n",
       "\t<tr><td>-0.93177190</td><td> 0.81166460</td><td>-1.26389962</td><td>-1.13500930</td></tr>\n",
       "\t<tr><td>-0.21091685</td><td> 1.43424824</td><td>-1.10124333</td><td>-1.13500930</td></tr>\n",
       "\t<tr><td>-1.53248444</td><td> 1.01919248</td><td>-1.48077468</td><td>-1.26464235</td></tr>\n",
       "\t<tr><td>-0.81162939</td><td> 0.81166460</td><td>-1.20968086</td><td>-1.26464235</td></tr>\n",
       "\t<tr><td>-0.45120186</td><td> 2.26435976</td><td>-1.26389962</td><td>-1.26464235</td></tr>\n",
       "\t<tr><td>-0.93177190</td><td> 0.60413672</td><td>-1.20968086</td><td>-1.26464235</td></tr>\n",
       "\t<tr><td>-1.05191440</td><td> 0.81166460</td><td>-1.31811838</td><td>-1.13500930</td></tr>\n",
       "\t<tr><td>-1.05191440</td><td> 0.81166460</td><td>-1.15546209</td><td>-0.74611018</td></tr>\n",
       "\t<tr><td>-0.93177190</td><td> 1.43424824</td><td>-1.15546209</td><td>-1.26464235</td></tr>\n",
       "\t<tr><td>-0.69148688</td><td> 1.22672036</td><td>-1.20968086</td><td>-1.26464235</td></tr>\n",
       "\t<tr><td>-1.05191440</td><td> 0.39660884</td><td>-1.26389962</td><td>-1.26464235</td></tr>\n",
       "\t<tr><td>-0.45120186</td><td>-1.67866996</td><td> 0.14578823</td><td> 0.16132112</td></tr>\n",
       "\t<tr><td> 0.50993820</td><td> 0.39660884</td><td> 0.52531958</td><td> 0.55022025</td></tr>\n",
       "\t<tr><td>-1.05191440</td><td>-2.30125360</td><td>-0.12530559</td><td>-0.22757801</td></tr>\n",
       "\t<tr><td> 0.14951068</td><td>-1.88619784</td><td> 0.14578823</td><td>-0.22757801</td></tr>\n",
       "\t<tr><td>-0.33105936</td><td>-0.43350268</td><td>-0.07108682</td><td> 0.16132112</td></tr>\n",
       "\t<tr><td> 0.99050823</td><td>-0.01844692</td><td> 0.36266329</td><td> 0.29095416</td></tr>\n",
       "\t<tr><td> 0.63008071</td><td>-0.43350268</td><td> 0.30844452</td><td> 0.16132112</td></tr>\n",
       "\t<tr><td> 1.11065074</td><td>-0.64103056</td><td> 0.57953834</td><td> 0.29095416</td></tr>\n",
       "\t<tr><td>-0.45120186</td><td>-1.47114208</td><td> 0.03735070</td><td>-0.09794497</td></tr>\n",
       "\t<tr><td>-0.45120186</td><td>-1.47114208</td><td>-0.01686806</td><td>-0.22757801</td></tr>\n",
       "\t<tr><td>-0.57134437</td><td>-0.22597480</td><td> 0.41688205</td><td> 0.42058720</td></tr>\n",
       "\t<tr><td> 0.26965318</td><td>-0.22597480</td><td> 0.47110081</td><td> 0.29095416</td></tr>\n",
       "\t<tr><td>-0.09077434</td><td>-1.05608632</td><td> 0.14578823</td><td> 0.03168808</td></tr>\n",
       "\t<tr><td>-0.93177190</td><td>-1.26361420</td><td>-0.39639940</td><td>-0.09794497</td></tr>\n",
       "\t<tr><td>-0.21091685</td><td>-0.64103056</td><td> 0.20000699</td><td> 0.16132112</td></tr>\n",
       "\t<tr><td> 0.50993820</td><td> 0.39660884</td><td> 1.23016350</td><td> 1.71691763</td></tr>\n",
       "\t<tr><td> 0.50993820</td><td>-0.43350268</td><td> 1.01328845</td><td> 0.80948633</td></tr>\n",
       "\t<tr><td> 2.07179080</td><td>-0.22597480</td><td> 1.55547608</td><td> 1.19838546</td></tr>\n",
       "\t<tr><td> 0.75022322</td><td> 0.18908096</td><td> 0.74219463</td><td> 1.06875242</td></tr>\n",
       "\t<tr><td> 1.11065074</td><td>-0.22597480</td><td> 0.95906968</td><td> 1.19838546</td></tr>\n",
       "\t<tr><td> 0.75022322</td><td>-0.22597480</td><td> 0.95906968</td><td> 0.80948633</td></tr>\n",
       "\t<tr><td> 2.19193331</td><td>-0.64103056</td><td> 1.60969485</td><td> 1.06875242</td></tr>\n",
       "\t<tr><td> 1.59122077</td><td>-0.22597480</td><td> 1.12172597</td><td> 0.55022025</td></tr>\n",
       "\t<tr><td> 2.43221833</td><td> 1.43424824</td><td> 1.44703856</td><td> 1.06875242</td></tr>\n",
       "\t<tr><td> 0.63008071</td><td>-0.64103056</td><td> 1.01328845</td><td> 1.32801850</td></tr>\n",
       "\t<tr><td> 0.50993820</td><td> 0.60413672</td><td> 1.01328845</td><td> 1.58728459</td></tr>\n",
       "\t<tr><td> 0.63008071</td><td>-0.01844692</td><td> 0.95906968</td><td> 0.80948633</td></tr>\n",
       "\t<tr><td>-0.09077434</td><td>-0.84855844</td><td> 0.74219463</td><td> 0.93911937</td></tr>\n",
       "\t<tr><td> 0.99050823</td><td> 0.39660884</td><td> 1.06750721</td><td> 1.71691763</td></tr>\n",
       "\t<tr><td> 0.02936817</td><td>-0.22597480</td><td> 0.74219463</td><td> 0.80948633</td></tr>\n",
       "</tbody>\n",
       "</table>\n"
      ],
      "text/latex": [
       "\\begin{tabular}{r|llll}\n",
       " Sepal.Length & Sepal.Width & Petal.Length & Petal.Width\\\\\n",
       "\\hline\n",
       "\t -0.93177190 &  0.81166460 & -1.26389962 & -1.26464235\\\\\n",
       "\t -1.17205691 & -0.01844692 & -1.20968086 & -1.39427539\\\\\n",
       "\t -1.89291196 & -0.22597480 & -1.42655591 & -1.39427539\\\\\n",
       "\t -0.09077434 &  1.84930400 & -1.37233715 & -1.26464235\\\\\n",
       "\t -0.93177190 &  0.81166460 & -1.26389962 & -1.13500930\\\\\n",
       "\t -0.21091685 &  1.43424824 & -1.10124333 & -1.13500930\\\\\n",
       "\t -1.53248444 &  1.01919248 & -1.48077468 & -1.26464235\\\\\n",
       "\t -0.81162939 &  0.81166460 & -1.20968086 & -1.26464235\\\\\n",
       "\t -0.45120186 &  2.26435976 & -1.26389962 & -1.26464235\\\\\n",
       "\t -0.93177190 &  0.60413672 & -1.20968086 & -1.26464235\\\\\n",
       "\t -1.05191440 &  0.81166460 & -1.31811838 & -1.13500930\\\\\n",
       "\t -1.05191440 &  0.81166460 & -1.15546209 & -0.74611018\\\\\n",
       "\t -0.93177190 &  1.43424824 & -1.15546209 & -1.26464235\\\\\n",
       "\t -0.69148688 &  1.22672036 & -1.20968086 & -1.26464235\\\\\n",
       "\t -1.05191440 &  0.39660884 & -1.26389962 & -1.26464235\\\\\n",
       "\t -0.45120186 & -1.67866996 &  0.14578823 &  0.16132112\\\\\n",
       "\t  0.50993820 &  0.39660884 &  0.52531958 &  0.55022025\\\\\n",
       "\t -1.05191440 & -2.30125360 & -0.12530559 & -0.22757801\\\\\n",
       "\t  0.14951068 & -1.88619784 &  0.14578823 & -0.22757801\\\\\n",
       "\t -0.33105936 & -0.43350268 & -0.07108682 &  0.16132112\\\\\n",
       "\t  0.99050823 & -0.01844692 &  0.36266329 &  0.29095416\\\\\n",
       "\t  0.63008071 & -0.43350268 &  0.30844452 &  0.16132112\\\\\n",
       "\t  1.11065074 & -0.64103056 &  0.57953834 &  0.29095416\\\\\n",
       "\t -0.45120186 & -1.47114208 &  0.03735070 & -0.09794497\\\\\n",
       "\t -0.45120186 & -1.47114208 & -0.01686806 & -0.22757801\\\\\n",
       "\t -0.57134437 & -0.22597480 &  0.41688205 &  0.42058720\\\\\n",
       "\t  0.26965318 & -0.22597480 &  0.47110081 &  0.29095416\\\\\n",
       "\t -0.09077434 & -1.05608632 &  0.14578823 &  0.03168808\\\\\n",
       "\t -0.93177190 & -1.26361420 & -0.39639940 & -0.09794497\\\\\n",
       "\t -0.21091685 & -0.64103056 &  0.20000699 &  0.16132112\\\\\n",
       "\t  0.50993820 &  0.39660884 &  1.23016350 &  1.71691763\\\\\n",
       "\t  0.50993820 & -0.43350268 &  1.01328845 &  0.80948633\\\\\n",
       "\t  2.07179080 & -0.22597480 &  1.55547608 &  1.19838546\\\\\n",
       "\t  0.75022322 &  0.18908096 &  0.74219463 &  1.06875242\\\\\n",
       "\t  1.11065074 & -0.22597480 &  0.95906968 &  1.19838546\\\\\n",
       "\t  0.75022322 & -0.22597480 &  0.95906968 &  0.80948633\\\\\n",
       "\t  2.19193331 & -0.64103056 &  1.60969485 &  1.06875242\\\\\n",
       "\t  1.59122077 & -0.22597480 &  1.12172597 &  0.55022025\\\\\n",
       "\t  2.43221833 &  1.43424824 &  1.44703856 &  1.06875242\\\\\n",
       "\t  0.63008071 & -0.64103056 &  1.01328845 &  1.32801850\\\\\n",
       "\t  0.50993820 &  0.60413672 &  1.01328845 &  1.58728459\\\\\n",
       "\t  0.63008071 & -0.01844692 &  0.95906968 &  0.80948633\\\\\n",
       "\t -0.09077434 & -0.84855844 &  0.74219463 &  0.93911937\\\\\n",
       "\t  0.99050823 &  0.39660884 &  1.06750721 &  1.71691763\\\\\n",
       "\t  0.02936817 & -0.22597480 &  0.74219463 &  0.80948633\\\\\n",
       "\\end{tabular}\n"
      ],
      "text/markdown": [
       "\n",
       "| Sepal.Length | Sepal.Width | Petal.Length | Petal.Width |\n",
       "|---|---|---|---|\n",
       "| -0.93177190 |  0.81166460 | -1.26389962 | -1.26464235 |\n",
       "| -1.17205691 | -0.01844692 | -1.20968086 | -1.39427539 |\n",
       "| -1.89291196 | -0.22597480 | -1.42655591 | -1.39427539 |\n",
       "| -0.09077434 |  1.84930400 | -1.37233715 | -1.26464235 |\n",
       "| -0.93177190 |  0.81166460 | -1.26389962 | -1.13500930 |\n",
       "| -0.21091685 |  1.43424824 | -1.10124333 | -1.13500930 |\n",
       "| -1.53248444 |  1.01919248 | -1.48077468 | -1.26464235 |\n",
       "| -0.81162939 |  0.81166460 | -1.20968086 | -1.26464235 |\n",
       "| -0.45120186 |  2.26435976 | -1.26389962 | -1.26464235 |\n",
       "| -0.93177190 |  0.60413672 | -1.20968086 | -1.26464235 |\n",
       "| -1.05191440 |  0.81166460 | -1.31811838 | -1.13500930 |\n",
       "| -1.05191440 |  0.81166460 | -1.15546209 | -0.74611018 |\n",
       "| -0.93177190 |  1.43424824 | -1.15546209 | -1.26464235 |\n",
       "| -0.69148688 |  1.22672036 | -1.20968086 | -1.26464235 |\n",
       "| -1.05191440 |  0.39660884 | -1.26389962 | -1.26464235 |\n",
       "| -0.45120186 | -1.67866996 |  0.14578823 |  0.16132112 |\n",
       "|  0.50993820 |  0.39660884 |  0.52531958 |  0.55022025 |\n",
       "| -1.05191440 | -2.30125360 | -0.12530559 | -0.22757801 |\n",
       "|  0.14951068 | -1.88619784 |  0.14578823 | -0.22757801 |\n",
       "| -0.33105936 | -0.43350268 | -0.07108682 |  0.16132112 |\n",
       "|  0.99050823 | -0.01844692 |  0.36266329 |  0.29095416 |\n",
       "|  0.63008071 | -0.43350268 |  0.30844452 |  0.16132112 |\n",
       "|  1.11065074 | -0.64103056 |  0.57953834 |  0.29095416 |\n",
       "| -0.45120186 | -1.47114208 |  0.03735070 | -0.09794497 |\n",
       "| -0.45120186 | -1.47114208 | -0.01686806 | -0.22757801 |\n",
       "| -0.57134437 | -0.22597480 |  0.41688205 |  0.42058720 |\n",
       "|  0.26965318 | -0.22597480 |  0.47110081 |  0.29095416 |\n",
       "| -0.09077434 | -1.05608632 |  0.14578823 |  0.03168808 |\n",
       "| -0.93177190 | -1.26361420 | -0.39639940 | -0.09794497 |\n",
       "| -0.21091685 | -0.64103056 |  0.20000699 |  0.16132112 |\n",
       "|  0.50993820 |  0.39660884 |  1.23016350 |  1.71691763 |\n",
       "|  0.50993820 | -0.43350268 |  1.01328845 |  0.80948633 |\n",
       "|  2.07179080 | -0.22597480 |  1.55547608 |  1.19838546 |\n",
       "|  0.75022322 |  0.18908096 |  0.74219463 |  1.06875242 |\n",
       "|  1.11065074 | -0.22597480 |  0.95906968 |  1.19838546 |\n",
       "|  0.75022322 | -0.22597480 |  0.95906968 |  0.80948633 |\n",
       "|  2.19193331 | -0.64103056 |  1.60969485 |  1.06875242 |\n",
       "|  1.59122077 | -0.22597480 |  1.12172597 |  0.55022025 |\n",
       "|  2.43221833 |  1.43424824 |  1.44703856 |  1.06875242 |\n",
       "|  0.63008071 | -0.64103056 |  1.01328845 |  1.32801850 |\n",
       "|  0.50993820 |  0.60413672 |  1.01328845 |  1.58728459 |\n",
       "|  0.63008071 | -0.01844692 |  0.95906968 |  0.80948633 |\n",
       "| -0.09077434 | -0.84855844 |  0.74219463 |  0.93911937 |\n",
       "|  0.99050823 |  0.39660884 |  1.06750721 |  1.71691763 |\n",
       "|  0.02936817 | -0.22597480 |  0.74219463 |  0.80948633 |\n",
       "\n"
      ],
      "text/plain": [
       "   Sepal.Length Sepal.Width Petal.Length Petal.Width\n",
       "1  -0.93177190   0.81166460 -1.26389962  -1.26464235\n",
       "2  -1.17205691  -0.01844692 -1.20968086  -1.39427539\n",
       "3  -1.89291196  -0.22597480 -1.42655591  -1.39427539\n",
       "4  -0.09077434   1.84930400 -1.37233715  -1.26464235\n",
       "5  -0.93177190   0.81166460 -1.26389962  -1.13500930\n",
       "6  -0.21091685   1.43424824 -1.10124333  -1.13500930\n",
       "7  -1.53248444   1.01919248 -1.48077468  -1.26464235\n",
       "8  -0.81162939   0.81166460 -1.20968086  -1.26464235\n",
       "9  -0.45120186   2.26435976 -1.26389962  -1.26464235\n",
       "10 -0.93177190   0.60413672 -1.20968086  -1.26464235\n",
       "11 -1.05191440   0.81166460 -1.31811838  -1.13500930\n",
       "12 -1.05191440   0.81166460 -1.15546209  -0.74611018\n",
       "13 -0.93177190   1.43424824 -1.15546209  -1.26464235\n",
       "14 -0.69148688   1.22672036 -1.20968086  -1.26464235\n",
       "15 -1.05191440   0.39660884 -1.26389962  -1.26464235\n",
       "16 -0.45120186  -1.67866996  0.14578823   0.16132112\n",
       "17  0.50993820   0.39660884  0.52531958   0.55022025\n",
       "18 -1.05191440  -2.30125360 -0.12530559  -0.22757801\n",
       "19  0.14951068  -1.88619784  0.14578823  -0.22757801\n",
       "20 -0.33105936  -0.43350268 -0.07108682   0.16132112\n",
       "21  0.99050823  -0.01844692  0.36266329   0.29095416\n",
       "22  0.63008071  -0.43350268  0.30844452   0.16132112\n",
       "23  1.11065074  -0.64103056  0.57953834   0.29095416\n",
       "24 -0.45120186  -1.47114208  0.03735070  -0.09794497\n",
       "25 -0.45120186  -1.47114208 -0.01686806  -0.22757801\n",
       "26 -0.57134437  -0.22597480  0.41688205   0.42058720\n",
       "27  0.26965318  -0.22597480  0.47110081   0.29095416\n",
       "28 -0.09077434  -1.05608632  0.14578823   0.03168808\n",
       "29 -0.93177190  -1.26361420 -0.39639940  -0.09794497\n",
       "30 -0.21091685  -0.64103056  0.20000699   0.16132112\n",
       "31  0.50993820   0.39660884  1.23016350   1.71691763\n",
       "32  0.50993820  -0.43350268  1.01328845   0.80948633\n",
       "33  2.07179080  -0.22597480  1.55547608   1.19838546\n",
       "34  0.75022322   0.18908096  0.74219463   1.06875242\n",
       "35  1.11065074  -0.22597480  0.95906968   1.19838546\n",
       "36  0.75022322  -0.22597480  0.95906968   0.80948633\n",
       "37  2.19193331  -0.64103056  1.60969485   1.06875242\n",
       "38  1.59122077  -0.22597480  1.12172597   0.55022025\n",
       "39  2.43221833   1.43424824  1.44703856   1.06875242\n",
       "40  0.63008071  -0.64103056  1.01328845   1.32801850\n",
       "41  0.50993820   0.60413672  1.01328845   1.58728459\n",
       "42  0.63008071  -0.01844692  0.95906968   0.80948633\n",
       "43 -0.09077434  -0.84855844  0.74219463   0.93911937\n",
       "44  0.99050823   0.39660884  1.06750721   1.71691763\n",
       "45  0.02936817  -0.22597480  0.74219463   0.80948633"
      ]
     },
     "metadata": {},
     "output_type": "display_data"
    }
   ],
   "source": [
    "iris_test_scale"
   ]
  },
  {
   "cell_type": "code",
   "execution_count": 87,
   "metadata": {},
   "outputs": [],
   "source": [
    "iris_train_scale$Species = iris_train$Species"
   ]
  },
  {
   "cell_type": "code",
   "execution_count": 88,
   "metadata": {},
   "outputs": [],
   "source": [
    "iris_test_scale$Species = iris_test$Species"
   ]
  },
  {
   "cell_type": "code",
   "execution_count": 89,
   "metadata": {},
   "outputs": [
    {
     "data": {
      "text/html": [
       "<table>\n",
       "<thead><tr><th scope=col>Sepal.Length</th><th scope=col>Sepal.Width</th><th scope=col>Petal.Length</th><th scope=col>Petal.Width</th><th scope=col>Species</th></tr></thead>\n",
       "<tbody>\n",
       "\t<tr><td>-1.1201203</td><td>-0.0848916</td><td>-1.362375 </td><td>-1.325235 </td><td>setosa    </td></tr>\n",
       "\t<tr><td>-1.3611297</td><td> 0.3969256</td><td>-1.419871 </td><td>-1.325235 </td><td>setosa    </td></tr>\n",
       "\t<tr><td>-1.4816345</td><td> 0.1560170</td><td>-1.304879 </td><td>-1.325235 </td><td>setosa    </td></tr>\n",
       "\t<tr><td>-0.9996155</td><td> 1.3605599</td><td>-1.362375 </td><td>-1.325235 </td><td>setosa    </td></tr>\n",
       "\t<tr><td>-0.5175966</td><td> 2.0832857</td><td>-1.189888 </td><td>-1.062688 </td><td>setosa    </td></tr>\n",
       "\t<tr><td>-1.4816345</td><td> 0.8787428</td><td>-1.362375 </td><td>-1.193962 </td><td>setosa    </td></tr>\n",
       "</tbody>\n",
       "</table>\n"
      ],
      "text/latex": [
       "\\begin{tabular}{r|lllll}\n",
       " Sepal.Length & Sepal.Width & Petal.Length & Petal.Width & Species\\\\\n",
       "\\hline\n",
       "\t -1.1201203 & -0.0848916 & -1.362375  & -1.325235  & setosa    \\\\\n",
       "\t -1.3611297 &  0.3969256 & -1.419871  & -1.325235  & setosa    \\\\\n",
       "\t -1.4816345 &  0.1560170 & -1.304879  & -1.325235  & setosa    \\\\\n",
       "\t -0.9996155 &  1.3605599 & -1.362375  & -1.325235  & setosa    \\\\\n",
       "\t -0.5175966 &  2.0832857 & -1.189888  & -1.062688  & setosa    \\\\\n",
       "\t -1.4816345 &  0.8787428 & -1.362375  & -1.193962  & setosa    \\\\\n",
       "\\end{tabular}\n"
      ],
      "text/markdown": [
       "\n",
       "| Sepal.Length | Sepal.Width | Petal.Length | Petal.Width | Species |\n",
       "|---|---|---|---|---|\n",
       "| -1.1201203 | -0.0848916 | -1.362375  | -1.325235  | setosa     |\n",
       "| -1.3611297 |  0.3969256 | -1.419871  | -1.325235  | setosa     |\n",
       "| -1.4816345 |  0.1560170 | -1.304879  | -1.325235  | setosa     |\n",
       "| -0.9996155 |  1.3605599 | -1.362375  | -1.325235  | setosa     |\n",
       "| -0.5175966 |  2.0832857 | -1.189888  | -1.062688  | setosa     |\n",
       "| -1.4816345 |  0.8787428 | -1.362375  | -1.193962  | setosa     |\n",
       "\n"
      ],
      "text/plain": [
       "  Sepal.Length Sepal.Width Petal.Length Petal.Width Species\n",
       "1 -1.1201203   -0.0848916  -1.362375    -1.325235   setosa \n",
       "2 -1.3611297    0.3969256  -1.419871    -1.325235   setosa \n",
       "3 -1.4816345    0.1560170  -1.304879    -1.325235   setosa \n",
       "4 -0.9996155    1.3605599  -1.362375    -1.325235   setosa \n",
       "5 -0.5175966    2.0832857  -1.189888    -1.062688   setosa \n",
       "6 -1.4816345    0.8787428  -1.362375    -1.193962   setosa "
      ]
     },
     "metadata": {},
     "output_type": "display_data"
    }
   ],
   "source": [
    "head(iris_train_scale)"
   ]
  },
  {
   "cell_type": "code",
   "execution_count": 90,
   "metadata": {},
   "outputs": [
    {
     "data": {
      "text/html": [
       "<table>\n",
       "<thead><tr><th scope=col>Sepal.Length</th><th scope=col>Sepal.Width</th><th scope=col>Petal.Length</th><th scope=col>Petal.Width</th><th scope=col>Species</th></tr></thead>\n",
       "<tbody>\n",
       "\t<tr><td>-0.93177190</td><td> 0.81166460</td><td>-1.263900  </td><td>-1.264642  </td><td>setosa     </td></tr>\n",
       "\t<tr><td>-1.17205691</td><td>-0.01844692</td><td>-1.209681  </td><td>-1.394275  </td><td>setosa     </td></tr>\n",
       "\t<tr><td>-1.89291196</td><td>-0.22597480</td><td>-1.426556  </td><td>-1.394275  </td><td>setosa     </td></tr>\n",
       "\t<tr><td>-0.09077434</td><td> 1.84930400</td><td>-1.372337  </td><td>-1.264642  </td><td>setosa     </td></tr>\n",
       "\t<tr><td>-0.93177190</td><td> 0.81166460</td><td>-1.263900  </td><td>-1.135009  </td><td>setosa     </td></tr>\n",
       "\t<tr><td>-0.21091685</td><td> 1.43424824</td><td>-1.101243  </td><td>-1.135009  </td><td>setosa     </td></tr>\n",
       "</tbody>\n",
       "</table>\n"
      ],
      "text/latex": [
       "\\begin{tabular}{r|lllll}\n",
       " Sepal.Length & Sepal.Width & Petal.Length & Petal.Width & Species\\\\\n",
       "\\hline\n",
       "\t -0.93177190 &  0.81166460 & -1.263900   & -1.264642   & setosa     \\\\\n",
       "\t -1.17205691 & -0.01844692 & -1.209681   & -1.394275   & setosa     \\\\\n",
       "\t -1.89291196 & -0.22597480 & -1.426556   & -1.394275   & setosa     \\\\\n",
       "\t -0.09077434 &  1.84930400 & -1.372337   & -1.264642   & setosa     \\\\\n",
       "\t -0.93177190 &  0.81166460 & -1.263900   & -1.135009   & setosa     \\\\\n",
       "\t -0.21091685 &  1.43424824 & -1.101243   & -1.135009   & setosa     \\\\\n",
       "\\end{tabular}\n"
      ],
      "text/markdown": [
       "\n",
       "| Sepal.Length | Sepal.Width | Petal.Length | Petal.Width | Species |\n",
       "|---|---|---|---|---|\n",
       "| -0.93177190 |  0.81166460 | -1.263900   | -1.264642   | setosa      |\n",
       "| -1.17205691 | -0.01844692 | -1.209681   | -1.394275   | setosa      |\n",
       "| -1.89291196 | -0.22597480 | -1.426556   | -1.394275   | setosa      |\n",
       "| -0.09077434 |  1.84930400 | -1.372337   | -1.264642   | setosa      |\n",
       "| -0.93177190 |  0.81166460 | -1.263900   | -1.135009   | setosa      |\n",
       "| -0.21091685 |  1.43424824 | -1.101243   | -1.135009   | setosa      |\n",
       "\n"
      ],
      "text/plain": [
       "  Sepal.Length Sepal.Width Petal.Length Petal.Width Species\n",
       "1 -0.93177190   0.81166460 -1.263900    -1.264642   setosa \n",
       "2 -1.17205691  -0.01844692 -1.209681    -1.394275   setosa \n",
       "3 -1.89291196  -0.22597480 -1.426556    -1.394275   setosa \n",
       "4 -0.09077434   1.84930400 -1.372337    -1.264642   setosa \n",
       "5 -0.93177190   0.81166460 -1.263900    -1.135009   setosa \n",
       "6 -0.21091685   1.43424824 -1.101243    -1.135009   setosa "
      ]
     },
     "metadata": {},
     "output_type": "display_data"
    }
   ],
   "source": [
    "head(iris_test_scale)"
   ]
  },
  {
   "cell_type": "code",
   "execution_count": 91,
   "metadata": {},
   "outputs": [
    {
     "name": "stdout",
     "output_type": "stream",
     "text": [
      "# weights:  27\n",
      "initial  value 140.056175 \n",
      "iter  10 value 9.489417\n",
      "iter  20 value 5.568767\n",
      "iter  30 value 5.196210\n",
      "iter  40 value 4.944893\n",
      "iter  50 value 4.747177\n",
      "iter  60 value 4.341064\n",
      "iter  70 value 4.294809\n",
      "iter  80 value 4.203796\n",
      "iter  90 value 4.193121\n",
      "iter 100 value 4.164955\n",
      "final  value 4.164955 \n",
      "stopped after 100 iterations\n"
     ]
    }
   ],
   "source": [
    "nnet.result = nnet(Species~.,iris_train_scale, size = 3)"
   ]
  },
  {
   "cell_type": "code",
   "execution_count": 97,
   "metadata": {},
   "outputs": [],
   "source": [
    "nnet.pred = predict(nnet.result, iris_test_scale, type = 'class')"
   ]
  },
  {
   "cell_type": "code",
   "execution_count": 100,
   "metadata": {},
   "outputs": [
    {
     "data": {
      "text/plain": [
       "            \n",
       "nnet.pred    setosa versicolor virginica\n",
       "  setosa         15          0         0\n",
       "  versicolor      0         15         1\n",
       "  virginica       0          0        14"
      ]
     },
     "metadata": {},
     "output_type": "display_data"
    }
   ],
   "source": [
    "table(nnet.pred, iris_test$Species)"
   ]
  },
  {
   "cell_type": "code",
   "execution_count": 98,
   "metadata": {},
   "outputs": [
    {
     "data": {
      "text/plain": [
       "            \n",
       "nnet.pred    setosa versicolor virginica\n",
       "  setosa         15          0         0\n",
       "  versicolor      0         15         1\n",
       "  virginica       0          0        14"
      ]
     },
     "metadata": {},
     "output_type": "display_data"
    }
   ],
   "source": [
    "table(nnet.pred, iris_test_scale$Species)"
   ]
  },
  {
   "cell_type": "code",
   "execution_count": 102,
   "metadata": {},
   "outputs": [
    {
     "ename": "ERROR",
     "evalue": "Error: `data` and `reference` should be factors with the same levels.\n",
     "output_type": "error",
     "traceback": [
      "Error: `data` and `reference` should be factors with the same levels.\nTraceback:\n",
      "1. confusionMatrix(nnet.pred, iris_test$Species)",
      "2. confusionMatrix.default(nnet.pred, iris_test$Species)",
      "3. stop(\"`data` and `reference` should be factors with the same levels.\", \n .     call. = FALSE)"
     ]
    }
   ],
   "source": [
    "confusionMatrix(nnet.pred, iris_test$Species)"
   ]
  },
  {
   "cell_type": "markdown",
   "metadata": {},
   "source": [
    "# SVM model method"
   ]
  },
  {
   "cell_type": "code",
   "execution_count": 103,
   "metadata": {},
   "outputs": [
    {
     "name": "stdout",
     "output_type": "stream",
     "text": [
      "package 'kernlab' successfully unpacked and MD5 sums checked\n",
      "\n",
      "The downloaded binary packages are in\n",
      "\tC:\\Users\\15\\AppData\\Local\\Temp\\Rtmp6PdMLG\\downloaded_packages\n"
     ]
    },
    {
     "name": "stderr",
     "output_type": "stream",
     "text": [
      "\n",
      "Attaching package: 'kernlab'\n",
      "\n",
      "The following object is masked from 'package:ggplot2':\n",
      "\n",
      "    alpha\n",
      "\n"
     ]
    }
   ],
   "source": [
    "install.packages('kernlab')\n",
    "library(kernlab)"
   ]
  },
  {
   "cell_type": "code",
   "execution_count": 106,
   "metadata": {},
   "outputs": [],
   "source": [
    "svm.result = ksvm(Species~.,data=iris_train, kernel = 'rbfdot')"
   ]
  },
  {
   "cell_type": "code",
   "execution_count": 108,
   "metadata": {},
   "outputs": [],
   "source": [
    "svm.pred = predict(svm.result, iris_test, type = 'response')"
   ]
  },
  {
   "cell_type": "code",
   "execution_count": 113,
   "metadata": {},
   "outputs": [
    {
     "data": {
      "text/plain": [
       "            \n",
       "svm.pred     setosa versicolor virginica\n",
       "  setosa         15          0         0\n",
       "  versicolor      0         15         0\n",
       "  virginica       0          0        15"
      ]
     },
     "metadata": {},
     "output_type": "display_data"
    }
   ],
   "source": [
    "table(svm.pred, iris_test$Species)"
   ]
  },
  {
   "cell_type": "code",
   "execution_count": 114,
   "metadata": {
    "scrolled": true
   },
   "outputs": [
    {
     "data": {
      "text/plain": [
       "Confusion Matrix and Statistics\n",
       "\n",
       "            Reference\n",
       "Prediction   setosa versicolor virginica\n",
       "  setosa         15          0         0\n",
       "  versicolor      0         15         0\n",
       "  virginica       0          0        15\n",
       "\n",
       "Overall Statistics\n",
       "                                     \n",
       "               Accuracy : 1          \n",
       "                 95% CI : (0.9213, 1)\n",
       "    No Information Rate : 0.3333     \n",
       "    P-Value [Acc > NIR] : < 2.2e-16  \n",
       "                                     \n",
       "                  Kappa : 1          \n",
       "                                     \n",
       " Mcnemar's Test P-Value : NA         \n",
       "\n",
       "Statistics by Class:\n",
       "\n",
       "                     Class: setosa Class: versicolor Class: virginica\n",
       "Sensitivity                 1.0000            1.0000           1.0000\n",
       "Specificity                 1.0000            1.0000           1.0000\n",
       "Pos Pred Value              1.0000            1.0000           1.0000\n",
       "Neg Pred Value              1.0000            1.0000           1.0000\n",
       "Prevalence                  0.3333            0.3333           0.3333\n",
       "Detection Rate              0.3333            0.3333           0.3333\n",
       "Detection Prevalence        0.3333            0.3333           0.3333\n",
       "Balanced Accuracy           1.0000            1.0000           1.0000"
      ]
     },
     "metadata": {},
     "output_type": "display_data"
    }
   ],
   "source": [
    "confusionMatrix(svm.pred, iris_test$Species)"
   ]
  },
  {
   "cell_type": "markdown",
   "metadata": {},
   "source": [
    "# Random Forest Method"
   ]
  },
  {
   "cell_type": "code",
   "execution_count": 119,
   "metadata": {},
   "outputs": [
    {
     "name": "stderr",
     "output_type": "stream",
     "text": [
      "Warning message:\n",
      "\"package 'randomForest' is in use and will not be installed\""
     ]
    }
   ],
   "source": [
    "install.packages('randomForest')"
   ]
  },
  {
   "cell_type": "code",
   "execution_count": 120,
   "metadata": {},
   "outputs": [],
   "source": [
    "library(randomForest)"
   ]
  },
  {
   "cell_type": "code",
   "execution_count": 123,
   "metadata": {},
   "outputs": [],
   "source": [
    "rf.result = randomForest(Species~.,data = iris_train, ntree=500)"
   ]
  },
  {
   "cell_type": "code",
   "execution_count": 124,
   "metadata": {},
   "outputs": [],
   "source": [
    "rf.pred = predict(rf.result, iris_test, type = 'response')"
   ]
  },
  {
   "cell_type": "code",
   "execution_count": 125,
   "metadata": {},
   "outputs": [
    {
     "data": {
      "text/plain": [
       "            \n",
       "rf.pred      setosa versicolor virginica\n",
       "  setosa         15          0         0\n",
       "  versicolor      0         15         0\n",
       "  virginica       0          0        15"
      ]
     },
     "metadata": {},
     "output_type": "display_data"
    }
   ],
   "source": [
    "table(rf.pred, iris_test$Species)"
   ]
  },
  {
   "cell_type": "code",
   "execution_count": 126,
   "metadata": {},
   "outputs": [
    {
     "data": {
      "text/plain": [
       "Confusion Matrix and Statistics\n",
       "\n",
       "            Reference\n",
       "Prediction   setosa versicolor virginica\n",
       "  setosa         15          0         0\n",
       "  versicolor      0         15         0\n",
       "  virginica       0          0        15\n",
       "\n",
       "Overall Statistics\n",
       "                                     \n",
       "               Accuracy : 1          \n",
       "                 95% CI : (0.9213, 1)\n",
       "    No Information Rate : 0.3333     \n",
       "    P-Value [Acc > NIR] : < 2.2e-16  \n",
       "                                     \n",
       "                  Kappa : 1          \n",
       "                                     \n",
       " Mcnemar's Test P-Value : NA         \n",
       "\n",
       "Statistics by Class:\n",
       "\n",
       "                     Class: setosa Class: versicolor Class: virginica\n",
       "Sensitivity                 1.0000            1.0000           1.0000\n",
       "Specificity                 1.0000            1.0000           1.0000\n",
       "Pos Pred Value              1.0000            1.0000           1.0000\n",
       "Neg Pred Value              1.0000            1.0000           1.0000\n",
       "Prevalence                  0.3333            0.3333           0.3333\n",
       "Detection Rate              0.3333            0.3333           0.3333\n",
       "Detection Prevalence        0.3333            0.3333           0.3333\n",
       "Balanced Accuracy           1.0000            1.0000           1.0000"
      ]
     },
     "metadata": {},
     "output_type": "display_data"
    }
   ],
   "source": [
    "confusionMatrix(rf.pred, iris_test$Species)"
   ]
  },
  {
   "cell_type": "markdown",
   "metadata": {},
   "source": [
    "# package 안의 데이터?"
   ]
  },
  {
   "cell_type": "markdown",
   "metadata": {},
   "source": [
    "## 수치해석에서 ML의 다중회귀분석"
   ]
  },
  {
   "cell_type": "code",
   "execution_count": 127,
   "metadata": {},
   "outputs": [],
   "source": [
    "data(package ='MASS')"
   ]
  },
  {
   "cell_type": "code",
   "execution_count": 128,
   "metadata": {},
   "outputs": [],
   "source": [
    "Boston = as.data.frame(MASS::Boston)"
   ]
  },
  {
   "cell_type": "code",
   "execution_count": 129,
   "metadata": {},
   "outputs": [
    {
     "data": {
      "text/html": [
       "<ol class=list-inline>\n",
       "\t<li>'crim'</li>\n",
       "\t<li>'zn'</li>\n",
       "\t<li>'indus'</li>\n",
       "\t<li>'chas'</li>\n",
       "\t<li>'nox'</li>\n",
       "\t<li>'rm'</li>\n",
       "\t<li>'age'</li>\n",
       "\t<li>'dis'</li>\n",
       "\t<li>'rad'</li>\n",
       "\t<li>'tax'</li>\n",
       "\t<li>'ptratio'</li>\n",
       "\t<li>'black'</li>\n",
       "\t<li>'lstat'</li>\n",
       "\t<li>'medv'</li>\n",
       "</ol>\n"
      ],
      "text/latex": [
       "\\begin{enumerate*}\n",
       "\\item 'crim'\n",
       "\\item 'zn'\n",
       "\\item 'indus'\n",
       "\\item 'chas'\n",
       "\\item 'nox'\n",
       "\\item 'rm'\n",
       "\\item 'age'\n",
       "\\item 'dis'\n",
       "\\item 'rad'\n",
       "\\item 'tax'\n",
       "\\item 'ptratio'\n",
       "\\item 'black'\n",
       "\\item 'lstat'\n",
       "\\item 'medv'\n",
       "\\end{enumerate*}\n"
      ],
      "text/markdown": [
       "1. 'crim'\n",
       "2. 'zn'\n",
       "3. 'indus'\n",
       "4. 'chas'\n",
       "5. 'nox'\n",
       "6. 'rm'\n",
       "7. 'age'\n",
       "8. 'dis'\n",
       "9. 'rad'\n",
       "10. 'tax'\n",
       "11. 'ptratio'\n",
       "12. 'black'\n",
       "13. 'lstat'\n",
       "14. 'medv'\n",
       "\n",
       "\n"
      ],
      "text/plain": [
       " [1] \"crim\"    \"zn\"      \"indus\"   \"chas\"    \"nox\"     \"rm\"      \"age\"    \n",
       " [8] \"dis\"     \"rad\"     \"tax\"     \"ptratio\" \"black\"   \"lstat\"   \"medv\"   "
      ]
     },
     "metadata": {},
     "output_type": "display_data"
    }
   ],
   "source": [
    "names(Boston)"
   ]
  },
  {
   "cell_type": "code",
   "execution_count": 130,
   "metadata": {},
   "outputs": [
    {
     "data": {
      "text/html": [
       "506"
      ],
      "text/latex": [
       "506"
      ],
      "text/markdown": [
       "506"
      ],
      "text/plain": [
       "[1] 506"
      ]
     },
     "metadata": {},
     "output_type": "display_data"
    }
   ],
   "source": [
    "nrow(Boston)"
   ]
  },
  {
   "cell_type": "code",
   "execution_count": 131,
   "metadata": {},
   "outputs": [],
   "source": [
    "idx = sample(1:nrow(Boston), size = nrow(Boston)*0.7, replace = F)"
   ]
  },
  {
   "cell_type": "code",
   "execution_count": 132,
   "metadata": {},
   "outputs": [
    {
     "data": {
      "text/html": [
       "<ol class=list-inline>\n",
       "\t<li>363</li>\n",
       "\t<li>197</li>\n",
       "\t<li>49</li>\n",
       "\t<li>490</li>\n",
       "\t<li>404</li>\n",
       "\t<li>224</li>\n",
       "\t<li>443</li>\n",
       "\t<li>96</li>\n",
       "\t<li>223</li>\n",
       "\t<li>218</li>\n",
       "\t<li>181</li>\n",
       "\t<li>150</li>\n",
       "\t<li>94</li>\n",
       "\t<li>139</li>\n",
       "\t<li>289</li>\n",
       "\t<li>414</li>\n",
       "\t<li>194</li>\n",
       "\t<li>503</li>\n",
       "\t<li>71</li>\n",
       "\t<li>120</li>\n",
       "\t<li>259</li>\n",
       "\t<li>285</li>\n",
       "\t<li>376</li>\n",
       "\t<li>482</li>\n",
       "\t<li>16</li>\n",
       "\t<li>296</li>\n",
       "\t<li>70</li>\n",
       "\t<li>410</li>\n",
       "\t<li>32</li>\n",
       "\t<li>18</li>\n",
       "\t<li>327</li>\n",
       "\t<li>310</li>\n",
       "\t<li>51</li>\n",
       "\t<li>9</li>\n",
       "\t<li>314</li>\n",
       "\t<li>502</li>\n",
       "\t<li>2</li>\n",
       "\t<li>387</li>\n",
       "\t<li>12</li>\n",
       "\t<li>260</li>\n",
       "\t<li>362</li>\n",
       "\t<li>301</li>\n",
       "\t<li>209</li>\n",
       "\t<li>158</li>\n",
       "\t<li>367</li>\n",
       "\t<li>283</li>\n",
       "\t<li>195</li>\n",
       "\t<li>145</li>\n",
       "\t<li>409</li>\n",
       "\t<li>56</li>\n",
       "\t<li>385</li>\n",
       "\t<li>436</li>\n",
       "\t<li>263</li>\n",
       "\t<li>240</li>\n",
       "\t<li>406</li>\n",
       "\t<li>475</li>\n",
       "\t<li>422</li>\n",
       "\t<li>255</li>\n",
       "\t<li>154</li>\n",
       "\t<li>168</li>\n",
       "\t<li>206</li>\n",
       "\t<li>399</li>\n",
       "\t<li>182</li>\n",
       "\t<li>169</li>\n",
       "\t<li>412</li>\n",
       "\t<li>277</li>\n",
       "\t<li>323</li>\n",
       "\t<li>60</li>\n",
       "\t<li>491</li>\n",
       "\t<li>470</li>\n",
       "\t<li>17</li>\n",
       "\t<li>440</li>\n",
       "\t<li>497</li>\n",
       "\t<li>95</li>\n",
       "\t<li>354</li>\n",
       "\t<li>26</li>\n",
       "\t<li>199</li>\n",
       "\t<li>424</li>\n",
       "\t<li>403</li>\n",
       "\t<li>478</li>\n",
       "\t<li>504</li>\n",
       "\t<li>155</li>\n",
       "\t<li>365</li>\n",
       "\t<li>276</li>\n",
       "\t<li>353</li>\n",
       "\t<li>19</li>\n",
       "\t<li>317</li>\n",
       "\t<li>239</li>\n",
       "\t<li>378</li>\n",
       "\t<li>88</li>\n",
       "\t<li>493</li>\n",
       "\t<li>388</li>\n",
       "\t<li>463</li>\n",
       "\t<li>413</li>\n",
       "\t<li>481</li>\n",
       "\t<li>173</li>\n",
       "\t<li>79</li>\n",
       "\t<li>4</li>\n",
       "\t<li>506</li>\n",
       "\t<li>76</li>\n",
       "\t<li>78</li>\n",
       "\t<li>1</li>\n",
       "\t<li>229</li>\n",
       "\t<li>6</li>\n",
       "\t<li>477</li>\n",
       "\t<li>213</li>\n",
       "\t<li>429</li>\n",
       "\t<li>68</li>\n",
       "\t<li>505</li>\n",
       "\t<li>231</li>\n",
       "\t<li>270</li>\n",
       "\t<li>172</li>\n",
       "\t<li>389</li>\n",
       "\t<li>448</li>\n",
       "\t<li>395</li>\n",
       "\t<li>77</li>\n",
       "\t<li>370</li>\n",
       "\t<li>393</li>\n",
       "\t<li>69</li>\n",
       "\t<li>89</li>\n",
       "\t<li>114</li>\n",
       "\t<li>179</li>\n",
       "\t<li>221</li>\n",
       "\t<li>58</li>\n",
       "\t<li>151</li>\n",
       "\t<li>303</li>\n",
       "\t<li>290</li>\n",
       "\t<li>205</li>\n",
       "\t<li>29</li>\n",
       "\t<li>165</li>\n",
       "\t<li>500</li>\n",
       "\t<li>483</li>\n",
       "\t<li>328</li>\n",
       "\t<li>352</li>\n",
       "\t<li>265</li>\n",
       "\t<li>428</li>\n",
       "\t<li>27</li>\n",
       "\t<li>50</li>\n",
       "\t<li>480</li>\n",
       "\t<li>128</li>\n",
       "\t<li>43</li>\n",
       "\t<li>186</li>\n",
       "\t<li>129</li>\n",
       "\t<li>452</li>\n",
       "\t<li>280</li>\n",
       "\t<li>454</li>\n",
       "\t<li>380</li>\n",
       "\t<li>351</li>\n",
       "\t<li>459</li>\n",
       "\t<li>116</li>\n",
       "\t<li>5</li>\n",
       "\t<li>228</li>\n",
       "\t<li>434</li>\n",
       "\t<li>247</li>\n",
       "\t<li>84</li>\n",
       "\t<li>83</li>\n",
       "\t<li>85</li>\n",
       "\t<li>34</li>\n",
       "\t<li>441</li>\n",
       "\t<li>162</li>\n",
       "\t<li>242</li>\n",
       "\t<li>453</li>\n",
       "\t<li>196</li>\n",
       "\t<li>330</li>\n",
       "\t<li>344</li>\n",
       "\t<li>466</li>\n",
       "\t<li>180</li>\n",
       "\t<li>358</li>\n",
       "\t<li>304</li>\n",
       "\t<li>219</li>\n",
       "\t<li>400</li>\n",
       "\t<li>461</li>\n",
       "\t<li>360</li>\n",
       "\t<li>316</li>\n",
       "\t<li>125</li>\n",
       "\t<li>100</li>\n",
       "\t<li>312</li>\n",
       "\t<li>302</li>\n",
       "\t<li>141</li>\n",
       "\t<li>35</li>\n",
       "\t<li>37</li>\n",
       "\t<li>189</li>\n",
       "\t<li>267</li>\n",
       "\t<li>392</li>\n",
       "\t<li>421</li>\n",
       "\t<li>449</li>\n",
       "\t<li>416</li>\n",
       "\t<li>67</li>\n",
       "\t<li>447</li>\n",
       "\t<li>458</li>\n",
       "\t<li>298</li>\n",
       "\t<li>63</li>\n",
       "\t<li>246</li>\n",
       "\t<li>131</li>\n",
       "\t<li>472</li>\n",
       "\t<li>281</li>\n",
       "\t<li>417</li>\n",
       "\t<li>411</li>\n",
       "\t<li>36</li>\n",
       "\t<li>99</li>\n",
       "\t<li>282</li>\n",
       "\t<li>396</li>\n",
       "\t<li>320</li>\n",
       "\t<li>73</li>\n",
       "\t<li>372</li>\n",
       "\t<li>204</li>\n",
       "\t<li>11</li>\n",
       "\t<li>110</li>\n",
       "\t<li>254</li>\n",
       "\t<li>476</li>\n",
       "\t<li>336</li>\n",
       "\t<li>275</li>\n",
       "\t<li>347</li>\n",
       "\t<li>456</li>\n",
       "\t<li>364</li>\n",
       "\t<li>486</li>\n",
       "\t<li>203</li>\n",
       "\t<li>152</li>\n",
       "\t<li>65</li>\n",
       "\t<li>22</li>\n",
       "\t<li>253</li>\n",
       "\t<li>183</li>\n",
       "\t<li>124</li>\n",
       "\t<li>44</li>\n",
       "\t<li>268</li>\n",
       "\t<li>495</li>\n",
       "\t<li>210</li>\n",
       "\t<li>341</li>\n",
       "\t<li>164</li>\n",
       "\t<li>127</li>\n",
       "\t<li>80</li>\n",
       "\t<li>193</li>\n",
       "\t<li>279</li>\n",
       "\t<li>187</li>\n",
       "\t<li>230</li>\n",
       "\t<li>427</li>\n",
       "\t<li>238</li>\n",
       "\t<li>334</li>\n",
       "\t<li>333</li>\n",
       "\t<li>252</li>\n",
       "\t<li>200</li>\n",
       "\t<li>178</li>\n",
       "\t<li>192</li>\n",
       "\t<li>113</li>\n",
       "\t<li>134</li>\n",
       "\t<li>494</li>\n",
       "\t<li>373</li>\n",
       "\t<li>332</li>\n",
       "\t<li>130</li>\n",
       "\t<li>137</li>\n",
       "\t<li>379</li>\n",
       "\t<li>147</li>\n",
       "\t<li>306</li>\n",
       "\t<li>294</li>\n",
       "\t<li>121</li>\n",
       "\t<li>142</li>\n",
       "\t<li>212</li>\n",
       "\t<li>419</li>\n",
       "\t<li>156</li>\n",
       "\t<li>295</li>\n",
       "\t<li>474</li>\n",
       "\t<li>170</li>\n",
       "\t<li>258</li>\n",
       "\t<li>401</li>\n",
       "\t<li>106</li>\n",
       "\t<li>198</li>\n",
       "\t<li>451</li>\n",
       "\t<li>346</li>\n",
       "\t<li>266</li>\n",
       "\t<li>243</li>\n",
       "\t<li>499</li>\n",
       "\t<li>160</li>\n",
       "\t<li>3</li>\n",
       "\t<li>264</li>\n",
       "\t<li>138</li>\n",
       "\t<li>356</li>\n",
       "\t<li>171</li>\n",
       "\t<li>226</li>\n",
       "\t<li>498</li>\n",
       "\t<li>297</li>\n",
       "\t<li>98</li>\n",
       "\t<li>496</li>\n",
       "\t<li>426</li>\n",
       "\t<li>331</li>\n",
       "\t<li>342</li>\n",
       "\t<li>41</li>\n",
       "\t<li>136</li>\n",
       "\t<li>311</li>\n",
       "\t<li>153</li>\n",
       "\t<li>235</li>\n",
       "\t<li>340</li>\n",
       "\t<li>62</li>\n",
       "\t<li>72</li>\n",
       "\t<li>57</li>\n",
       "\t<li>390</li>\n",
       "\t<li>215</li>\n",
       "\t<li>109</li>\n",
       "\t<li>161</li>\n",
       "\t<li>262</li>\n",
       "\t<li>25</li>\n",
       "\t<li>489</li>\n",
       "\t<li>307</li>\n",
       "\t<li>374</li>\n",
       "\t<li>345</li>\n",
       "\t<li>38</li>\n",
       "\t<li>369</li>\n",
       "\t<li>431</li>\n",
       "\t<li>437</li>\n",
       "\t<li>479</li>\n",
       "\t<li>93</li>\n",
       "\t<li>33</li>\n",
       "\t<li>418</li>\n",
       "\t<li>286</li>\n",
       "\t<li>261</li>\n",
       "\t<li>287</li>\n",
       "\t<li>319</li>\n",
       "\t<li>309</li>\n",
       "\t<li>222</li>\n",
       "\t<li>256</li>\n",
       "\t<li>118</li>\n",
       "\t<li>383</li>\n",
       "\t<li>47</li>\n",
       "\t<li>405</li>\n",
       "\t<li>444</li>\n",
       "\t<li>108</li>\n",
       "\t<li>104</li>\n",
       "\t<li>299</li>\n",
       "\t<li>31</li>\n",
       "\t<li>382</li>\n",
       "\t<li>432</li>\n",
       "\t<li>438</li>\n",
       "\t<li>148</li>\n",
       "\t<li>248</li>\n",
       "\t<li>468</li>\n",
       "\t<li>326</li>\n",
       "\t<li>190</li>\n",
       "\t<li>112</li>\n",
       "\t<li>384</li>\n",
       "\t<li>149</li>\n",
       "\t<li>394</li>\n",
       "\t<li>442</li>\n",
       "\t<li>232</li>\n",
       "\t<li>361</li>\n",
       "\t<li>146</li>\n",
       "\t<li>439</li>\n",
       "\t<li>269</li>\n",
       "\t<li>107</li>\n",
       "\t<li>13</li>\n",
       "\t<li>471</li>\n",
       "\t<li>391</li>\n",
       "\t<li>272</li>\n",
       "\t<li>92</li>\n",
       "\t<li>469</li>\n",
       "\t<li>407</li>\n",
       "</ol>\n"
      ],
      "text/latex": [
       "\\begin{enumerate*}\n",
       "\\item 363\n",
       "\\item 197\n",
       "\\item 49\n",
       "\\item 490\n",
       "\\item 404\n",
       "\\item 224\n",
       "\\item 443\n",
       "\\item 96\n",
       "\\item 223\n",
       "\\item 218\n",
       "\\item 181\n",
       "\\item 150\n",
       "\\item 94\n",
       "\\item 139\n",
       "\\item 289\n",
       "\\item 414\n",
       "\\item 194\n",
       "\\item 503\n",
       "\\item 71\n",
       "\\item 120\n",
       "\\item 259\n",
       "\\item 285\n",
       "\\item 376\n",
       "\\item 482\n",
       "\\item 16\n",
       "\\item 296\n",
       "\\item 70\n",
       "\\item 410\n",
       "\\item 32\n",
       "\\item 18\n",
       "\\item 327\n",
       "\\item 310\n",
       "\\item 51\n",
       "\\item 9\n",
       "\\item 314\n",
       "\\item 502\n",
       "\\item 2\n",
       "\\item 387\n",
       "\\item 12\n",
       "\\item 260\n",
       "\\item 362\n",
       "\\item 301\n",
       "\\item 209\n",
       "\\item 158\n",
       "\\item 367\n",
       "\\item 283\n",
       "\\item 195\n",
       "\\item 145\n",
       "\\item 409\n",
       "\\item 56\n",
       "\\item 385\n",
       "\\item 436\n",
       "\\item 263\n",
       "\\item 240\n",
       "\\item 406\n",
       "\\item 475\n",
       "\\item 422\n",
       "\\item 255\n",
       "\\item 154\n",
       "\\item 168\n",
       "\\item 206\n",
       "\\item 399\n",
       "\\item 182\n",
       "\\item 169\n",
       "\\item 412\n",
       "\\item 277\n",
       "\\item 323\n",
       "\\item 60\n",
       "\\item 491\n",
       "\\item 470\n",
       "\\item 17\n",
       "\\item 440\n",
       "\\item 497\n",
       "\\item 95\n",
       "\\item 354\n",
       "\\item 26\n",
       "\\item 199\n",
       "\\item 424\n",
       "\\item 403\n",
       "\\item 478\n",
       "\\item 504\n",
       "\\item 155\n",
       "\\item 365\n",
       "\\item 276\n",
       "\\item 353\n",
       "\\item 19\n",
       "\\item 317\n",
       "\\item 239\n",
       "\\item 378\n",
       "\\item 88\n",
       "\\item 493\n",
       "\\item 388\n",
       "\\item 463\n",
       "\\item 413\n",
       "\\item 481\n",
       "\\item 173\n",
       "\\item 79\n",
       "\\item 4\n",
       "\\item 506\n",
       "\\item 76\n",
       "\\item 78\n",
       "\\item 1\n",
       "\\item 229\n",
       "\\item 6\n",
       "\\item 477\n",
       "\\item 213\n",
       "\\item 429\n",
       "\\item 68\n",
       "\\item 505\n",
       "\\item 231\n",
       "\\item 270\n",
       "\\item 172\n",
       "\\item 389\n",
       "\\item 448\n",
       "\\item 395\n",
       "\\item 77\n",
       "\\item 370\n",
       "\\item 393\n",
       "\\item 69\n",
       "\\item 89\n",
       "\\item 114\n",
       "\\item 179\n",
       "\\item 221\n",
       "\\item 58\n",
       "\\item 151\n",
       "\\item 303\n",
       "\\item 290\n",
       "\\item 205\n",
       "\\item 29\n",
       "\\item 165\n",
       "\\item 500\n",
       "\\item 483\n",
       "\\item 328\n",
       "\\item 352\n",
       "\\item 265\n",
       "\\item 428\n",
       "\\item 27\n",
       "\\item 50\n",
       "\\item 480\n",
       "\\item 128\n",
       "\\item 43\n",
       "\\item 186\n",
       "\\item 129\n",
       "\\item 452\n",
       "\\item 280\n",
       "\\item 454\n",
       "\\item 380\n",
       "\\item 351\n",
       "\\item 459\n",
       "\\item 116\n",
       "\\item 5\n",
       "\\item 228\n",
       "\\item 434\n",
       "\\item 247\n",
       "\\item 84\n",
       "\\item 83\n",
       "\\item 85\n",
       "\\item 34\n",
       "\\item 441\n",
       "\\item 162\n",
       "\\item 242\n",
       "\\item 453\n",
       "\\item 196\n",
       "\\item 330\n",
       "\\item 344\n",
       "\\item 466\n",
       "\\item 180\n",
       "\\item 358\n",
       "\\item 304\n",
       "\\item 219\n",
       "\\item 400\n",
       "\\item 461\n",
       "\\item 360\n",
       "\\item 316\n",
       "\\item 125\n",
       "\\item 100\n",
       "\\item 312\n",
       "\\item 302\n",
       "\\item 141\n",
       "\\item 35\n",
       "\\item 37\n",
       "\\item 189\n",
       "\\item 267\n",
       "\\item 392\n",
       "\\item 421\n",
       "\\item 449\n",
       "\\item 416\n",
       "\\item 67\n",
       "\\item 447\n",
       "\\item 458\n",
       "\\item 298\n",
       "\\item 63\n",
       "\\item 246\n",
       "\\item 131\n",
       "\\item 472\n",
       "\\item 281\n",
       "\\item 417\n",
       "\\item 411\n",
       "\\item 36\n",
       "\\item 99\n",
       "\\item 282\n",
       "\\item 396\n",
       "\\item 320\n",
       "\\item 73\n",
       "\\item 372\n",
       "\\item 204\n",
       "\\item 11\n",
       "\\item 110\n",
       "\\item 254\n",
       "\\item 476\n",
       "\\item 336\n",
       "\\item 275\n",
       "\\item 347\n",
       "\\item 456\n",
       "\\item 364\n",
       "\\item 486\n",
       "\\item 203\n",
       "\\item 152\n",
       "\\item 65\n",
       "\\item 22\n",
       "\\item 253\n",
       "\\item 183\n",
       "\\item 124\n",
       "\\item 44\n",
       "\\item 268\n",
       "\\item 495\n",
       "\\item 210\n",
       "\\item 341\n",
       "\\item 164\n",
       "\\item 127\n",
       "\\item 80\n",
       "\\item 193\n",
       "\\item 279\n",
       "\\item 187\n",
       "\\item 230\n",
       "\\item 427\n",
       "\\item 238\n",
       "\\item 334\n",
       "\\item 333\n",
       "\\item 252\n",
       "\\item 200\n",
       "\\item 178\n",
       "\\item 192\n",
       "\\item 113\n",
       "\\item 134\n",
       "\\item 494\n",
       "\\item 373\n",
       "\\item 332\n",
       "\\item 130\n",
       "\\item 137\n",
       "\\item 379\n",
       "\\item 147\n",
       "\\item 306\n",
       "\\item 294\n",
       "\\item 121\n",
       "\\item 142\n",
       "\\item 212\n",
       "\\item 419\n",
       "\\item 156\n",
       "\\item 295\n",
       "\\item 474\n",
       "\\item 170\n",
       "\\item 258\n",
       "\\item 401\n",
       "\\item 106\n",
       "\\item 198\n",
       "\\item 451\n",
       "\\item 346\n",
       "\\item 266\n",
       "\\item 243\n",
       "\\item 499\n",
       "\\item 160\n",
       "\\item 3\n",
       "\\item 264\n",
       "\\item 138\n",
       "\\item 356\n",
       "\\item 171\n",
       "\\item 226\n",
       "\\item 498\n",
       "\\item 297\n",
       "\\item 98\n",
       "\\item 496\n",
       "\\item 426\n",
       "\\item 331\n",
       "\\item 342\n",
       "\\item 41\n",
       "\\item 136\n",
       "\\item 311\n",
       "\\item 153\n",
       "\\item 235\n",
       "\\item 340\n",
       "\\item 62\n",
       "\\item 72\n",
       "\\item 57\n",
       "\\item 390\n",
       "\\item 215\n",
       "\\item 109\n",
       "\\item 161\n",
       "\\item 262\n",
       "\\item 25\n",
       "\\item 489\n",
       "\\item 307\n",
       "\\item 374\n",
       "\\item 345\n",
       "\\item 38\n",
       "\\item 369\n",
       "\\item 431\n",
       "\\item 437\n",
       "\\item 479\n",
       "\\item 93\n",
       "\\item 33\n",
       "\\item 418\n",
       "\\item 286\n",
       "\\item 261\n",
       "\\item 287\n",
       "\\item 319\n",
       "\\item 309\n",
       "\\item 222\n",
       "\\item 256\n",
       "\\item 118\n",
       "\\item 383\n",
       "\\item 47\n",
       "\\item 405\n",
       "\\item 444\n",
       "\\item 108\n",
       "\\item 104\n",
       "\\item 299\n",
       "\\item 31\n",
       "\\item 382\n",
       "\\item 432\n",
       "\\item 438\n",
       "\\item 148\n",
       "\\item 248\n",
       "\\item 468\n",
       "\\item 326\n",
       "\\item 190\n",
       "\\item 112\n",
       "\\item 384\n",
       "\\item 149\n",
       "\\item 394\n",
       "\\item 442\n",
       "\\item 232\n",
       "\\item 361\n",
       "\\item 146\n",
       "\\item 439\n",
       "\\item 269\n",
       "\\item 107\n",
       "\\item 13\n",
       "\\item 471\n",
       "\\item 391\n",
       "\\item 272\n",
       "\\item 92\n",
       "\\item 469\n",
       "\\item 407\n",
       "\\end{enumerate*}\n"
      ],
      "text/markdown": [
       "1. 363\n",
       "2. 197\n",
       "3. 49\n",
       "4. 490\n",
       "5. 404\n",
       "6. 224\n",
       "7. 443\n",
       "8. 96\n",
       "9. 223\n",
       "10. 218\n",
       "11. 181\n",
       "12. 150\n",
       "13. 94\n",
       "14. 139\n",
       "15. 289\n",
       "16. 414\n",
       "17. 194\n",
       "18. 503\n",
       "19. 71\n",
       "20. 120\n",
       "21. 259\n",
       "22. 285\n",
       "23. 376\n",
       "24. 482\n",
       "25. 16\n",
       "26. 296\n",
       "27. 70\n",
       "28. 410\n",
       "29. 32\n",
       "30. 18\n",
       "31. 327\n",
       "32. 310\n",
       "33. 51\n",
       "34. 9\n",
       "35. 314\n",
       "36. 502\n",
       "37. 2\n",
       "38. 387\n",
       "39. 12\n",
       "40. 260\n",
       "41. 362\n",
       "42. 301\n",
       "43. 209\n",
       "44. 158\n",
       "45. 367\n",
       "46. 283\n",
       "47. 195\n",
       "48. 145\n",
       "49. 409\n",
       "50. 56\n",
       "51. 385\n",
       "52. 436\n",
       "53. 263\n",
       "54. 240\n",
       "55. 406\n",
       "56. 475\n",
       "57. 422\n",
       "58. 255\n",
       "59. 154\n",
       "60. 168\n",
       "61. 206\n",
       "62. 399\n",
       "63. 182\n",
       "64. 169\n",
       "65. 412\n",
       "66. 277\n",
       "67. 323\n",
       "68. 60\n",
       "69. 491\n",
       "70. 470\n",
       "71. 17\n",
       "72. 440\n",
       "73. 497\n",
       "74. 95\n",
       "75. 354\n",
       "76. 26\n",
       "77. 199\n",
       "78. 424\n",
       "79. 403\n",
       "80. 478\n",
       "81. 504\n",
       "82. 155\n",
       "83. 365\n",
       "84. 276\n",
       "85. 353\n",
       "86. 19\n",
       "87. 317\n",
       "88. 239\n",
       "89. 378\n",
       "90. 88\n",
       "91. 493\n",
       "92. 388\n",
       "93. 463\n",
       "94. 413\n",
       "95. 481\n",
       "96. 173\n",
       "97. 79\n",
       "98. 4\n",
       "99. 506\n",
       "100. 76\n",
       "101. 78\n",
       "102. 1\n",
       "103. 229\n",
       "104. 6\n",
       "105. 477\n",
       "106. 213\n",
       "107. 429\n",
       "108. 68\n",
       "109. 505\n",
       "110. 231\n",
       "111. 270\n",
       "112. 172\n",
       "113. 389\n",
       "114. 448\n",
       "115. 395\n",
       "116. 77\n",
       "117. 370\n",
       "118. 393\n",
       "119. 69\n",
       "120. 89\n",
       "121. 114\n",
       "122. 179\n",
       "123. 221\n",
       "124. 58\n",
       "125. 151\n",
       "126. 303\n",
       "127. 290\n",
       "128. 205\n",
       "129. 29\n",
       "130. 165\n",
       "131. 500\n",
       "132. 483\n",
       "133. 328\n",
       "134. 352\n",
       "135. 265\n",
       "136. 428\n",
       "137. 27\n",
       "138. 50\n",
       "139. 480\n",
       "140. 128\n",
       "141. 43\n",
       "142. 186\n",
       "143. 129\n",
       "144. 452\n",
       "145. 280\n",
       "146. 454\n",
       "147. 380\n",
       "148. 351\n",
       "149. 459\n",
       "150. 116\n",
       "151. 5\n",
       "152. 228\n",
       "153. 434\n",
       "154. 247\n",
       "155. 84\n",
       "156. 83\n",
       "157. 85\n",
       "158. 34\n",
       "159. 441\n",
       "160. 162\n",
       "161. 242\n",
       "162. 453\n",
       "163. 196\n",
       "164. 330\n",
       "165. 344\n",
       "166. 466\n",
       "167. 180\n",
       "168. 358\n",
       "169. 304\n",
       "170. 219\n",
       "171. 400\n",
       "172. 461\n",
       "173. 360\n",
       "174. 316\n",
       "175. 125\n",
       "176. 100\n",
       "177. 312\n",
       "178. 302\n",
       "179. 141\n",
       "180. 35\n",
       "181. 37\n",
       "182. 189\n",
       "183. 267\n",
       "184. 392\n",
       "185. 421\n",
       "186. 449\n",
       "187. 416\n",
       "188. 67\n",
       "189. 447\n",
       "190. 458\n",
       "191. 298\n",
       "192. 63\n",
       "193. 246\n",
       "194. 131\n",
       "195. 472\n",
       "196. 281\n",
       "197. 417\n",
       "198. 411\n",
       "199. 36\n",
       "200. 99\n",
       "201. 282\n",
       "202. 396\n",
       "203. 320\n",
       "204. 73\n",
       "205. 372\n",
       "206. 204\n",
       "207. 11\n",
       "208. 110\n",
       "209. 254\n",
       "210. 476\n",
       "211. 336\n",
       "212. 275\n",
       "213. 347\n",
       "214. 456\n",
       "215. 364\n",
       "216. 486\n",
       "217. 203\n",
       "218. 152\n",
       "219. 65\n",
       "220. 22\n",
       "221. 253\n",
       "222. 183\n",
       "223. 124\n",
       "224. 44\n",
       "225. 268\n",
       "226. 495\n",
       "227. 210\n",
       "228. 341\n",
       "229. 164\n",
       "230. 127\n",
       "231. 80\n",
       "232. 193\n",
       "233. 279\n",
       "234. 187\n",
       "235. 230\n",
       "236. 427\n",
       "237. 238\n",
       "238. 334\n",
       "239. 333\n",
       "240. 252\n",
       "241. 200\n",
       "242. 178\n",
       "243. 192\n",
       "244. 113\n",
       "245. 134\n",
       "246. 494\n",
       "247. 373\n",
       "248. 332\n",
       "249. 130\n",
       "250. 137\n",
       "251. 379\n",
       "252. 147\n",
       "253. 306\n",
       "254. 294\n",
       "255. 121\n",
       "256. 142\n",
       "257. 212\n",
       "258. 419\n",
       "259. 156\n",
       "260. 295\n",
       "261. 474\n",
       "262. 170\n",
       "263. 258\n",
       "264. 401\n",
       "265. 106\n",
       "266. 198\n",
       "267. 451\n",
       "268. 346\n",
       "269. 266\n",
       "270. 243\n",
       "271. 499\n",
       "272. 160\n",
       "273. 3\n",
       "274. 264\n",
       "275. 138\n",
       "276. 356\n",
       "277. 171\n",
       "278. 226\n",
       "279. 498\n",
       "280. 297\n",
       "281. 98\n",
       "282. 496\n",
       "283. 426\n",
       "284. 331\n",
       "285. 342\n",
       "286. 41\n",
       "287. 136\n",
       "288. 311\n",
       "289. 153\n",
       "290. 235\n",
       "291. 340\n",
       "292. 62\n",
       "293. 72\n",
       "294. 57\n",
       "295. 390\n",
       "296. 215\n",
       "297. 109\n",
       "298. 161\n",
       "299. 262\n",
       "300. 25\n",
       "301. 489\n",
       "302. 307\n",
       "303. 374\n",
       "304. 345\n",
       "305. 38\n",
       "306. 369\n",
       "307. 431\n",
       "308. 437\n",
       "309. 479\n",
       "310. 93\n",
       "311. 33\n",
       "312. 418\n",
       "313. 286\n",
       "314. 261\n",
       "315. 287\n",
       "316. 319\n",
       "317. 309\n",
       "318. 222\n",
       "319. 256\n",
       "320. 118\n",
       "321. 383\n",
       "322. 47\n",
       "323. 405\n",
       "324. 444\n",
       "325. 108\n",
       "326. 104\n",
       "327. 299\n",
       "328. 31\n",
       "329. 382\n",
       "330. 432\n",
       "331. 438\n",
       "332. 148\n",
       "333. 248\n",
       "334. 468\n",
       "335. 326\n",
       "336. 190\n",
       "337. 112\n",
       "338. 384\n",
       "339. 149\n",
       "340. 394\n",
       "341. 442\n",
       "342. 232\n",
       "343. 361\n",
       "344. 146\n",
       "345. 439\n",
       "346. 269\n",
       "347. 107\n",
       "348. 13\n",
       "349. 471\n",
       "350. 391\n",
       "351. 272\n",
       "352. 92\n",
       "353. 469\n",
       "354. 407\n",
       "\n",
       "\n"
      ],
      "text/plain": [
       "  [1] 363 197  49 490 404 224 443  96 223 218 181 150  94 139 289 414 194 503\n",
       " [19]  71 120 259 285 376 482  16 296  70 410  32  18 327 310  51   9 314 502\n",
       " [37]   2 387  12 260 362 301 209 158 367 283 195 145 409  56 385 436 263 240\n",
       " [55] 406 475 422 255 154 168 206 399 182 169 412 277 323  60 491 470  17 440\n",
       " [73] 497  95 354  26 199 424 403 478 504 155 365 276 353  19 317 239 378  88\n",
       " [91] 493 388 463 413 481 173  79   4 506  76  78   1 229   6 477 213 429  68\n",
       "[109] 505 231 270 172 389 448 395  77 370 393  69  89 114 179 221  58 151 303\n",
       "[127] 290 205  29 165 500 483 328 352 265 428  27  50 480 128  43 186 129 452\n",
       "[145] 280 454 380 351 459 116   5 228 434 247  84  83  85  34 441 162 242 453\n",
       "[163] 196 330 344 466 180 358 304 219 400 461 360 316 125 100 312 302 141  35\n",
       "[181]  37 189 267 392 421 449 416  67 447 458 298  63 246 131 472 281 417 411\n",
       "[199]  36  99 282 396 320  73 372 204  11 110 254 476 336 275 347 456 364 486\n",
       "[217] 203 152  65  22 253 183 124  44 268 495 210 341 164 127  80 193 279 187\n",
       "[235] 230 427 238 334 333 252 200 178 192 113 134 494 373 332 130 137 379 147\n",
       "[253] 306 294 121 142 212 419 156 295 474 170 258 401 106 198 451 346 266 243\n",
       "[271] 499 160   3 264 138 356 171 226 498 297  98 496 426 331 342  41 136 311\n",
       "[289] 153 235 340  62  72  57 390 215 109 161 262  25 489 307 374 345  38 369\n",
       "[307] 431 437 479  93  33 418 286 261 287 319 309 222 256 118 383  47 405 444\n",
       "[325] 108 104 299  31 382 432 438 148 248 468 326 190 112 384 149 394 442 232\n",
       "[343] 361 146 439 269 107  13 471 391 272  92 469 407"
      ]
     },
     "metadata": {},
     "output_type": "display_data"
    }
   ],
   "source": [
    "idx"
   ]
  },
  {
   "cell_type": "code",
   "execution_count": 134,
   "metadata": {},
   "outputs": [],
   "source": [
    "Boston_train = Boston[idx,]"
   ]
  },
  {
   "cell_type": "code",
   "execution_count": 135,
   "metadata": {},
   "outputs": [],
   "source": [
    "Boston_test = Boston[-idx,]"
   ]
  },
  {
   "cell_type": "code",
   "execution_count": 136,
   "metadata": {},
   "outputs": [],
   "source": [
    "lm.fit = lm(medv~.,data = Boston_train)"
   ]
  },
  {
   "cell_type": "code",
   "execution_count": 137,
   "metadata": {},
   "outputs": [
    {
     "data": {
      "text/plain": [
       "\n",
       "Call:\n",
       "lm(formula = medv ~ ., data = Boston_train)\n",
       "\n",
       "Residuals:\n",
       "     Min       1Q   Median       3Q      Max \n",
       "-15.5517  -2.7188  -0.6602   2.0459  27.9604 \n",
       "\n",
       "Coefficients:\n",
       "              Estimate Std. Error t value Pr(>|t|)    \n",
       "(Intercept)  33.900596   6.560454   5.167 4.06e-07 ***\n",
       "crim         -0.114172   0.043456  -2.627 0.008996 ** \n",
       "zn            0.040498   0.018326   2.210 0.027777 *  \n",
       "indus        -0.020266   0.078344  -0.259 0.796039    \n",
       "chas          2.273943   1.095107   2.076 0.038602 *  \n",
       "nox         -16.504518   4.487698  -3.678 0.000273 ***\n",
       "rm            4.240070   0.542910   7.810 7.18e-14 ***\n",
       "age          -0.016614   0.016456  -1.010 0.313397    \n",
       "dis          -1.556750   0.248946  -6.253 1.21e-09 ***\n",
       "rad           0.292602   0.083919   3.487 0.000553 ***\n",
       "tax          -0.012276   0.004855  -2.529 0.011899 *  \n",
       "ptratio      -0.938345   0.164368  -5.709 2.48e-08 ***\n",
       "black         0.009959   0.003455   2.883 0.004194 ** \n",
       "lstat        -0.456952   0.062030  -7.367 1.34e-12 ***\n",
       "---\n",
       "Signif. codes:  0 '***' 0.001 '**' 0.01 '*' 0.05 '.' 0.1 ' ' 1\n",
       "\n",
       "Residual standard error: 4.93 on 340 degrees of freedom\n",
       "Multiple R-squared:  0.7426,\tAdjusted R-squared:  0.7327 \n",
       "F-statistic: 75.45 on 13 and 340 DF,  p-value: < 2.2e-16\n"
      ]
     },
     "metadata": {},
     "output_type": "display_data"
    }
   ],
   "source": [
    "summary(lm.fit)"
   ]
  },
  {
   "cell_type": "code",
   "execution_count": 138,
   "metadata": {},
   "outputs": [
    {
     "name": "stdout",
     "output_type": "stream",
     "text": [
      "Start:  AIC=1143.2\n",
      "medv ~ crim + zn + indus + chas + nox + rm + age + dis + rad + \n",
      "    tax + ptratio + black + lstat\n",
      "\n",
      "          Df Sum of Sq    RSS    AIC\n",
      "- indus    1      1.63 8264.9 1141.3\n",
      "- age      1     24.77 8288.1 1142.3\n",
      "<none>                 8263.3 1143.2\n",
      "- chas     1    104.79 8368.1 1145.7\n",
      "- zn       1    118.69 8382.0 1146.2\n",
      "- tax      1    155.41 8418.7 1147.8\n",
      "- crim     1    167.77 8431.1 1148.3\n",
      "- black    1    201.96 8465.2 1149.8\n",
      "- rad      1    295.47 8558.8 1153.6\n",
      "- nox      1    328.72 8592.0 1155.0\n",
      "- ptratio  1    792.07 9055.4 1173.6\n",
      "- dis      1    950.39 9213.7 1179.7\n",
      "- lstat    1   1318.89 9582.2 1193.6\n",
      "- rm       1   1482.40 9745.7 1199.6\n",
      "\n",
      "Step:  AIC=1141.27\n",
      "medv ~ crim + zn + chas + nox + rm + age + dis + rad + tax + \n",
      "    ptratio + black + lstat\n",
      "\n",
      "          Df Sum of Sq    RSS    AIC\n",
      "- age      1     24.84 8289.8 1140.3\n",
      "<none>                 8264.9 1141.3\n",
      "- chas     1    103.28 8368.2 1143.7\n",
      "- zn       1    124.27 8389.2 1144.5\n",
      "- crim     1    166.64 8431.5 1146.3\n",
      "- black    1    203.96 8468.9 1147.9\n",
      "- tax      1    225.90 8490.8 1148.8\n",
      "- rad      1    345.23 8610.1 1153.8\n",
      "- nox      1    361.96 8626.9 1154.4\n",
      "- ptratio  1    810.34 9075.3 1172.4\n",
      "- dis      1    972.32 9237.2 1178.6\n",
      "- lstat    1   1337.14 9602.1 1192.3\n",
      "- rm       1   1508.73 9773.6 1198.6\n",
      "\n",
      "Step:  AIC=1140.33\n",
      "medv ~ crim + zn + chas + nox + rm + dis + rad + tax + ptratio + \n",
      "    black + lstat\n",
      "\n",
      "          Df Sum of Sq    RSS    AIC\n",
      "<none>                 8289.8 1140.3\n",
      "- chas     1     97.34 8387.1 1142.5\n",
      "- zn       1    137.27 8427.0 1144.2\n",
      "- crim     1    170.76 8460.5 1145.5\n",
      "- black    1    192.21 8482.0 1146.5\n",
      "- tax      1    232.74 8522.5 1148.1\n",
      "- rad      1    360.35 8650.1 1153.4\n",
      "- nox      1    452.60 8742.4 1157.2\n",
      "- ptratio  1    836.88 9126.6 1172.4\n",
      "- dis      1    963.24 9253.0 1177.2\n",
      "- rm       1   1500.50 9790.2 1197.2\n",
      "- lstat    1   1681.10 9970.8 1203.7\n"
     ]
    }
   ],
   "source": [
    "lm.fit2 = step(lm.fit, method = 'both')"
   ]
  },
  {
   "cell_type": "code",
   "execution_count": 139,
   "metadata": {},
   "outputs": [
    {
     "data": {
      "text/plain": [
       "\n",
       "Call:\n",
       "lm(formula = medv ~ ., data = Boston_train)\n",
       "\n",
       "Residuals:\n",
       "     Min       1Q   Median       3Q      Max \n",
       "-15.5517  -2.7188  -0.6602   2.0459  27.9604 \n",
       "\n",
       "Coefficients:\n",
       "              Estimate Std. Error t value Pr(>|t|)    \n",
       "(Intercept)  33.900596   6.560454   5.167 4.06e-07 ***\n",
       "crim         -0.114172   0.043456  -2.627 0.008996 ** \n",
       "zn            0.040498   0.018326   2.210 0.027777 *  \n",
       "indus        -0.020266   0.078344  -0.259 0.796039    \n",
       "chas          2.273943   1.095107   2.076 0.038602 *  \n",
       "nox         -16.504518   4.487698  -3.678 0.000273 ***\n",
       "rm            4.240070   0.542910   7.810 7.18e-14 ***\n",
       "age          -0.016614   0.016456  -1.010 0.313397    \n",
       "dis          -1.556750   0.248946  -6.253 1.21e-09 ***\n",
       "rad           0.292602   0.083919   3.487 0.000553 ***\n",
       "tax          -0.012276   0.004855  -2.529 0.011899 *  \n",
       "ptratio      -0.938345   0.164368  -5.709 2.48e-08 ***\n",
       "black         0.009959   0.003455   2.883 0.004194 ** \n",
       "lstat        -0.456952   0.062030  -7.367 1.34e-12 ***\n",
       "---\n",
       "Signif. codes:  0 '***' 0.001 '**' 0.01 '*' 0.05 '.' 0.1 ' ' 1\n",
       "\n",
       "Residual standard error: 4.93 on 340 degrees of freedom\n",
       "Multiple R-squared:  0.7426,\tAdjusted R-squared:  0.7327 \n",
       "F-statistic: 75.45 on 13 and 340 DF,  p-value: < 2.2e-16\n"
      ]
     },
     "metadata": {},
     "output_type": "display_data"
    }
   ],
   "source": [
    "summary(lm.fit)"
   ]
  },
  {
   "cell_type": "code",
   "execution_count": 142,
   "metadata": {},
   "outputs": [],
   "source": [
    "lm.yhat2 = predict(lm.fit2, newdata = Boston_test)\n",
    "kk = mean((lm.yhat2-Boston_test$medv)^2)"
   ]
  },
  {
   "cell_type": "code",
   "execution_count": 143,
   "metadata": {},
   "outputs": [
    {
     "data": {
      "text/html": [
       "4.32254991675151"
      ],
      "text/latex": [
       "4.32254991675151"
      ],
      "text/markdown": [
       "4.32254991675151"
      ],
      "text/plain": [
       "[1] 4.32255"
      ]
     },
     "metadata": {},
     "output_type": "display_data"
    }
   ],
   "source": [
    "sqrt(kk)"
   ]
  },
  {
   "cell_type": "code",
   "execution_count": 147,
   "metadata": {},
   "outputs": [
    {
     "data": {
      "image/png": "[encoded data removed]",
      "text/plain": [
       "plot without title"
      ]
     },
     "metadata": {},
     "output_type": "display_data"
    }
   ],
   "source": [
    "plot(lm.yhat2, Boston_test$medv)\n",
    "abline(a=0, b=1, col=2)"
   ]
  },
  {
   "cell_type": "code",
   "execution_count": 149,
   "metadata": {},
   "outputs": [
    {
     "name": "stdout",
     "output_type": "stream",
     "text": [
      "package 'tree' successfully unpacked and MD5 sums checked\n",
      "\n",
      "The downloaded binary packages are in\n",
      "\tC:\\Users\\15\\AppData\\Local\\Temp\\Rtmp6PdMLG\\downloaded_packages\n"
     ]
    },
    {
     "name": "stderr",
     "output_type": "stream",
     "text": [
      "Warning message:\n",
      "\"package 'tree' was built under R version 3.6.3\""
     ]
    }
   ],
   "source": [
    "install.packages('tree')\n",
    "library(tree)"
   ]
  },
  {
   "cell_type": "code",
   "execution_count": 152,
   "metadata": {},
   "outputs": [],
   "source": [
    "tree.fit = tree(medv~.,data=Boston_train)"
   ]
  },
  {
   "cell_type": "code",
   "execution_count": 153,
   "metadata": {},
   "outputs": [
    {
     "data": {
      "text/plain": [
       "\n",
       "Regression tree:\n",
       "tree(formula = medv ~ ., data = Boston_train)\n",
       "Variables actually used in tree construction:\n",
       "[1] \"lstat\" \"rm\"    \"dis\"   \"crim\"  \"nox\"  \n",
       "Number of terminal nodes:  9 \n",
       "Residual mean deviance:  16.01 = 5523 / 345 \n",
       "Distribution of residuals:\n",
       "    Min.  1st Qu.   Median     Mean  3rd Qu.     Max. \n",
       "-23.4000  -2.0680  -0.1376   0.0000   2.1380  17.9200 "
      ]
     },
     "metadata": {},
     "output_type": "display_data"
    }
   ],
   "source": [
    "summary(tree.fit)"
   ]
  },
  {
   "cell_type": "code",
   "execution_count": 156,
   "metadata": {},
   "outputs": [
    {
     "data": {
      "image/png": "[encoded data removed]",
      "text/plain": [
       "plot without title"
      ]
     },
     "metadata": {},
     "output_type": "display_data"
    }
   ],
   "source": [
    "plot(tree.fit)\n",
    "text(tree.fit, pretty = 0)"
   ]
  },
  {
   "cell_type": "code",
   "execution_count": 157,
   "metadata": {},
   "outputs": [],
   "source": [
    "tree.yhat = predict(tree.fit, newdata = Boston_test)"
   ]
  },
  {
   "cell_type": "code",
   "execution_count": 159,
   "metadata": {},
   "outputs": [],
   "source": [
    "kk = mean((tree.yhat - Boston_test$medv)^2)"
   ]
  },
  {
   "cell_type": "code",
   "execution_count": 160,
   "metadata": {},
   "outputs": [
    {
     "data": {
      "text/html": [
       "4.46457215472669"
      ],
      "text/latex": [
       "4.46457215472669"
      ],
      "text/markdown": [
       "4.46457215472669"
      ],
      "text/plain": [
       "[1] 4.464572"
      ]
     },
     "metadata": {},
     "output_type": "display_data"
    }
   ],
   "source": [
    "sqrt(kk)"
   ]
  },
  {
   "cell_type": "markdown",
   "metadata": {},
   "source": [
    "## rpart 를 통한 의사 결정트리 분석 방법"
   ]
  },
  {
   "cell_type": "code",
   "execution_count": 161,
   "metadata": {},
   "outputs": [],
   "source": [
    "library(rpart)"
   ]
  },
  {
   "cell_type": "code",
   "execution_count": 163,
   "metadata": {},
   "outputs": [
    {
     "name": "stdout",
     "output_type": "stream",
     "text": [
      "Call:\n",
      "rpart(formula = medv ~ ., data = Boston_train)\n",
      "  n= 354 \n",
      "\n",
      "          CP nsplit rel error    xerror       xstd\n",
      "1 0.46317841      0 1.0000000 1.0132815 0.09641918\n",
      "2 0.17511916      1 0.5368216 0.6301001 0.06906904\n",
      "3 0.05774666      2 0.3617024 0.3992560 0.05114722\n",
      "4 0.05349561      3 0.3039558 0.3631436 0.05166558\n",
      "5 0.02941044      4 0.2504602 0.3634108 0.05322147\n",
      "6 0.01770400      5 0.2210497 0.3497887 0.05306159\n",
      "7 0.01032140      6 0.2033457 0.3175118 0.04991595\n",
      "8 0.01000000      7 0.1930243 0.3088903 0.04906006\n",
      "\n",
      "Variable importance\n",
      "  lstat      rm    crim   indus     nox     age     rad     tax     dis ptratio \n",
      "     23      20      14      13      12      10       3       2       2       1 \n",
      "\n",
      "Node number 1: 354 observations,    complexity param=0.4631784\n",
      "  mean=22.42542, MSE=90.68218 \n",
      "  left son=2 (208 obs) right son=3 (146 obs)\n",
      "  Primary splits:\n",
      "      lstat   < 9.725    to the right, improve=0.4631784, (0 missing)\n",
      "      rm      < 6.797    to the left,  improve=0.4615951, (0 missing)\n",
      "      indus   < 6.66     to the right, improve=0.3022900, (0 missing)\n",
      "      ptratio < 18.75    to the right, improve=0.2605747, (0 missing)\n",
      "      nox     < 0.6695   to the right, improve=0.2228030, (0 missing)\n",
      "  Surrogate splits:\n",
      "      indus < 7.625    to the right, agree=0.831, adj=0.589, (0 split)\n",
      "      nox   < 0.5175   to the right, agree=0.799, adj=0.514, (0 split)\n",
      "      crim  < 0.09674  to the right, agree=0.797, adj=0.507, (0 split)\n",
      "      rm    < 6.414    to the left,  agree=0.785, adj=0.479, (0 split)\n",
      "      age   < 58.75    to the right, agree=0.771, adj=0.445, (0 split)\n",
      "\n",
      "Node number 2: 208 observations,    complexity param=0.05774666\n",
      "  mean=16.99567, MSE=23.88061 \n",
      "  left son=4 (65 obs) right son=5 (143 obs)\n",
      "  Primary splits:\n",
      "      crim    < 6.68632  to the right, improve=0.3732015, (0 missing)\n",
      "      lstat   < 16.215   to the right, improve=0.3598189, (0 missing)\n",
      "      dis     < 2.0754   to the left,  improve=0.3351014, (0 missing)\n",
      "      nox     < 0.657    to the right, improve=0.2950595, (0 missing)\n",
      "      ptratio < 19.65    to the right, improve=0.2712750, (0 missing)\n",
      "  Surrogate splits:\n",
      "      rad < 16       to the right, agree=0.885, adj=0.631, (0 split)\n",
      "      tax < 551.5    to the right, agree=0.865, adj=0.569, (0 split)\n",
      "      nox < 0.657    to the right, agree=0.793, adj=0.338, (0 split)\n",
      "      dis < 2.06855  to the left,  agree=0.793, adj=0.338, (0 split)\n",
      "      age < 98.6     to the right, agree=0.769, adj=0.262, (0 split)\n",
      "\n",
      "Node number 3: 146 observations,    complexity param=0.1751192\n",
      "  mean=30.16096, MSE=84.01101 \n",
      "  left son=6 (125 obs) right son=7 (21 obs)\n",
      "  Primary splits:\n",
      "      rm      < 7.445    to the left,  improve=0.4583211, (0 missing)\n",
      "      lstat   < 4.915    to the right, improve=0.3218014, (0 missing)\n",
      "      ptratio < 15       to the right, improve=0.2264853, (0 missing)\n",
      "      nox     < 0.574    to the left,  improve=0.2025550, (0 missing)\n",
      "      age     < 89.35    to the left,  improve=0.1564140, (0 missing)\n",
      "  Surrogate splits:\n",
      "      lstat   < 3.21     to the right, agree=0.870, adj=0.095, (0 split)\n",
      "      ptratio < 14.75    to the right, agree=0.863, adj=0.048, (0 split)\n",
      "\n",
      "Node number 4: 65 observations,    complexity param=0.0103214\n",
      "  mean=12.56769, MSE=16.34557 \n",
      "  left son=8 (49 obs) right son=9 (16 obs)\n",
      "  Primary splits:\n",
      "      nox   < 0.6365   to the right, improve=0.3118534, (0 missing)\n",
      "      lstat < 20.195   to the right, improve=0.2899120, (0 missing)\n",
      "      crim  < 15.718   to the right, improve=0.1681379, (0 missing)\n",
      "      dis   < 1.9434   to the left,  improve=0.1294939, (0 missing)\n",
      "      rm    < 6.226    to the left,  improve=0.1103660, (0 missing)\n",
      "  Surrogate splits:\n",
      "      age   < 74.4     to the right, agree=0.800, adj=0.188, (0 split)\n",
      "      dis   < 2.8034   to the left,  agree=0.785, adj=0.125, (0 split)\n",
      "      lstat < 13.275   to the right, agree=0.785, adj=0.125, (0 split)\n",
      "      black < 3.05     to the right, agree=0.769, adj=0.063, (0 split)\n",
      "\n",
      "Node number 5: 143 observations,    complexity param=0.017704\n",
      "  mean=19.00839, MSE=14.34231 \n",
      "  left son=10 (52 obs) right son=11 (91 obs)\n",
      "  Primary splits:\n",
      "      lstat < 16.215   to the right, improve=0.2771032, (0 missing)\n",
      "      age   < 85.45    to the right, improve=0.2178627, (0 missing)\n",
      "      dis   < 1.9832   to the left,  improve=0.1768372, (0 missing)\n",
      "      indus < 4.22     to the right, improve=0.1394886, (0 missing)\n",
      "      black < 371.53   to the left,  improve=0.1326540, (0 missing)\n",
      "  Surrogate splits:\n",
      "      age   < 91.25    to the right, agree=0.762, adj=0.346, (0 split)\n",
      "      rm    < 5.703    to the left,  agree=0.713, adj=0.212, (0 split)\n",
      "      crim  < 4.30505  to the right, agree=0.699, adj=0.173, (0 split)\n",
      "      dis   < 2.0754   to the left,  agree=0.699, adj=0.173, (0 split)\n",
      "      indus < 20.735   to the right, agree=0.685, adj=0.135, (0 split)\n",
      "\n",
      "Node number 6: 125 observations,    complexity param=0.05349561\n",
      "  mean=27.6176, MSE=46.36321 \n",
      "  left son=12 (74 obs) right son=13 (51 obs)\n",
      "  Primary splits:\n",
      "      rm    < 6.6385   to the left,  improve=0.2963192, (0 missing)\n",
      "      dis   < 1.9704   to the right, improve=0.2758054, (0 missing)\n",
      "      age   < 89.45    to the left,  improve=0.2469021, (0 missing)\n",
      "      lstat < 5.44     to the right, improve=0.2414014, (0 missing)\n",
      "      nox   < 0.589    to the left,  improve=0.2351549, (0 missing)\n",
      "  Surrogate splits:\n",
      "      lstat   < 5.44     to the right, agree=0.720, adj=0.314, (0 split)\n",
      "      indus   < 4.01     to the right, agree=0.688, adj=0.235, (0 split)\n",
      "      ptratio < 15.25    to the right, agree=0.680, adj=0.216, (0 split)\n",
      "      tax     < 264.5    to the right, agree=0.648, adj=0.137, (0 split)\n",
      "      crim    < 0.034125 to the right, agree=0.640, adj=0.118, (0 split)\n",
      "\n",
      "Node number 7: 21 observations\n",
      "  mean=45.3, MSE=40.41048 \n",
      "\n",
      "Node number 8: 49 observations\n",
      "  mean=11.27755, MSE=9.611537 \n",
      "\n",
      "Node number 9: 16 observations\n",
      "  mean=16.51875, MSE=16.26027 \n",
      "\n",
      "Node number 10: 52 observations\n",
      "  mean=16.37115, MSE=11.39705 \n",
      "\n",
      "Node number 11: 91 observations\n",
      "  mean=20.51538, MSE=9.779983 \n",
      "\n",
      "Node number 12: 74 observations,    complexity param=0.02941044\n",
      "  mean=24.54054, MSE=39.06133 \n",
      "  left son=24 (66 obs) right son=25 (8 obs)\n",
      "  Primary splits:\n",
      "      rad   < 7.5      to the left,  improve=0.3266239, (0 missing)\n",
      "      crim  < 0.92217  to the left,  improve=0.3204214, (0 missing)\n",
      "      age   < 82.65    to the left,  improve=0.3079977, (0 missing)\n",
      "      indus < 14.48    to the left,  improve=0.2865477, (0 missing)\n",
      "      dis   < 2.4918   to the right, improve=0.2791831, (0 missing)\n",
      "  Surrogate splits:\n",
      "      crim  < 2.98347  to the left,  agree=0.946, adj=0.500, (0 split)\n",
      "      tax   < 548      to the left,  agree=0.946, adj=0.500, (0 split)\n",
      "      nox   < 0.618    to the left,  agree=0.932, adj=0.375, (0 split)\n",
      "      dis   < 1.5492   to the right, agree=0.932, adj=0.375, (0 split)\n",
      "      indus < 16.57    to the left,  agree=0.919, adj=0.250, (0 split)\n",
      "\n",
      "Node number 13: 51 observations\n",
      "  mean=32.08235, MSE=23.28577 \n",
      "\n",
      "Node number 24: 66 observations\n",
      "  mean=23.29697, MSE=11.12848 \n",
      "\n",
      "Node number 25: 8 observations\n",
      "  mean=34.8, MSE=151.4925 \n",
      "\n"
     ]
    }
   ],
   "source": [
    "rpart.fit = rpart(medv~.,data=Boston_train)\n",
    "summary(rpart.fit)"
   ]
  },
  {
   "cell_type": "code",
   "execution_count": 164,
   "metadata": {},
   "outputs": [],
   "source": [
    "library(rpart.plot)"
   ]
  },
  {
   "cell_type": "code",
   "execution_count": 167,
   "metadata": {},
   "outputs": [
    {
     "data": {
      "image/png": "[encoded data removed]",
      "text/plain": [
       "plot without title"
      ]
     },
     "metadata": {},
     "output_type": "display_data"
    }
   ],
   "source": [
    "rpart.plot(rpart.fit, digits = 3, type = 0, extra = 1, fallen.leaves = F, cex = 1)"
   ]
  },
  {
   "cell_type": "code",
   "execution_count": 169,
   "metadata": {},
   "outputs": [],
   "source": [
    "rpart.yhat = predict(rpart.fit, nwedata = Boston_test)"
   ]
  },
  {
   "cell_type": "code",
   "execution_count": 172,
   "metadata": {},
   "outputs": [
    {
     "name": "stderr",
     "output_type": "stream",
     "text": [
      "Warning message in rpart.yhat - Boston_test$medv:\n",
      "\"두 객체의 길이가 서로 배수관계에 있지 않습니다\""
     ]
    }
   ],
   "source": [
    "kk = mean((rpart.yhat - Boston_test$medv)^2)"
   ]
  },
  {
   "cell_type": "code",
   "execution_count": 173,
   "metadata": {},
   "outputs": [
    {
     "data": {
      "text/html": [
       "11.4698686981045"
      ],
      "text/latex": [
       "11.4698686981045"
      ],
      "text/markdown": [
       "11.4698686981045"
      ],
      "text/plain": [
       "[1] 11.46987"
      ]
     },
     "metadata": {},
     "output_type": "display_data"
    }
   ],
   "source": [
    "sqrt(kk)"
   ]
  },
  {
   "cell_type": "markdown",
   "metadata": {},
   "source": [
    "## ANN 수치예측 모형의 머신러닝알고리즘 방법"
   ]
  },
  {
   "cell_type": "code",
   "execution_count": 184,
   "metadata": {},
   "outputs": [],
   "source": [
    "normalize = function(x){return((x-min(x))/max(x-min(x)))}"
   ]
  },
  {
   "cell_type": "code",
   "execution_count": 185,
   "metadata": {},
   "outputs": [],
   "source": [
    "Boston_train_norm = as.data.frame(sapply(Boston_train, normalize))"
   ]
  },
  {
   "cell_type": "code",
   "execution_count": 186,
   "metadata": {},
   "outputs": [],
   "source": [
    "Boston_test_norm = as.data.frame(sapply(Boston_test, normalize))"
   ]
  },
  {
   "cell_type": "code",
   "execution_count": 187,
   "metadata": {},
   "outputs": [],
   "source": [
    "library(nnet)"
   ]
  },
  {
   "cell_type": "code",
   "execution_count": 189,
   "metadata": {},
   "outputs": [
    {
     "name": "stdout",
     "output_type": "stream",
     "text": [
      "# weights:  76\n",
      "initial  value 16.786966 \n",
      "iter  10 value 3.419558\n",
      "iter  20 value 2.089911\n",
      "iter  30 value 1.470293\n",
      "iter  40 value 1.126347\n",
      "iter  50 value 1.005296\n",
      "iter  60 value 0.946894\n",
      "iter  70 value 0.891602\n",
      "iter  80 value 0.853883\n",
      "iter  90 value 0.823972\n",
      "iter 100 value 0.789363\n",
      "final  value 0.789363 \n",
      "stopped after 100 iterations\n"
     ]
    }
   ],
   "source": [
    "nnet.fit = nnet(medv~.,data=Boston_train_norm, size = 5)"
   ]
  },
  {
   "cell_type": "code",
   "execution_count": 195,
   "metadata": {},
   "outputs": [],
   "source": [
    "nnet.yhat = predict(nnet.fit, newdata = Boston_test_norm, type = 'raw')"
   ]
  },
  {
   "cell_type": "code",
   "execution_count": 197,
   "metadata": {},
   "outputs": [],
   "source": [
    "kk = mean((nnet.yhat - Boston_test_norm$medv)^2)"
   ]
  },
  {
   "cell_type": "code",
   "execution_count": 198,
   "metadata": {},
   "outputs": [
    {
     "data": {
      "text/html": [
       "0.132834447985451"
      ],
      "text/latex": [
       "0.132834447985451"
      ],
      "text/markdown": [
       "0.132834447985451"
      ],
      "text/plain": [
       "[1] 0.1328344"
      ]
     },
     "metadata": {},
     "output_type": "display_data"
    }
   ],
   "source": [
    "sqrt(kk)"
   ]
  },
  {
   "cell_type": "markdown",
   "metadata": {},
   "source": [
    "# ANN의 시각화를 위해서 사용하는 알고리즘 방법"
   ]
  },
  {
   "cell_type": "code",
   "execution_count": 200,
   "metadata": {},
   "outputs": [
    {
     "name": "stderr",
     "output_type": "stream",
     "text": [
      "also installing the dependency 'Deriv'\n",
      "\n"
     ]
    },
    {
     "name": "stdout",
     "output_type": "stream",
     "text": [
      "package 'Deriv' successfully unpacked and MD5 sums checked\n",
      "package 'neuralnet' successfully unpacked and MD5 sums checked\n",
      "\n",
      "The downloaded binary packages are in\n",
      "\tC:\\Users\\15\\AppData\\Local\\Temp\\Rtmp6PdMLG\\downloaded_packages\n"
     ]
    },
    {
     "name": "stderr",
     "output_type": "stream",
     "text": [
      "Warning message:\n",
      "\"package 'neuralnet' was built under R version 3.6.3\""
     ]
    }
   ],
   "source": [
    "install.packages('neuralnet')\n",
    "library(neuralnet)"
   ]
  },
  {
   "cell_type": "code",
   "execution_count": 210,
   "metadata": {},
   "outputs": [],
   "source": [
    "neural.fit = neuralnet(medv~crim+zn+indus+chas+nox+rm+age+tax+ptratio+black+lstat,\n",
    "                       data = Boston_train_norm, hidden=5)"
   ]
  },
  {
   "cell_type": "code",
   "execution_count": 211,
   "metadata": {},
   "outputs": [],
   "source": [
    "neural.result = compute(neural.fit, Boston_test_norm[1:13])"
   ]
  },
  {
   "cell_type": "code",
   "execution_count": 212,
   "metadata": {},
   "outputs": [],
   "source": [
    "neural.yhat = neural.result$net.result"
   ]
  },
  {
   "cell_type": "code",
   "execution_count": 213,
   "metadata": {},
   "outputs": [],
   "source": [
    "kk = mean((neural.yhat = Boston_test_norm$medv)^2)"
   ]
  },
  {
   "cell_type": "code",
   "execution_count": 214,
   "metadata": {},
   "outputs": [
    {
     "data": {
      "text/html": [
       "0.415260938421196"
      ],
      "text/latex": [
       "0.415260938421196"
      ],
      "text/markdown": [
       "0.415260938421196"
      ],
      "text/plain": [
       "[1] 0.4152609"
      ]
     },
     "metadata": {},
     "output_type": "display_data"
    }
   ],
   "source": [
    "sqrt(kk)"
   ]
  },
  {
   "cell_type": "code",
   "execution_count": 215,
   "metadata": {},
   "outputs": [],
   "source": [
    "plot(neural.fit)"
   ]
  },
  {
   "cell_type": "markdown",
   "metadata": {},
   "source": [
    "# RF model(앙상블) Method 수치머신러닝"
   ]
  },
  {
   "cell_type": "code",
   "execution_count": 216,
   "metadata": {},
   "outputs": [],
   "source": [
    "library(randomForest)"
   ]
  },
  {
   "cell_type": "code",
   "execution_count": 217,
   "metadata": {},
   "outputs": [],
   "source": [
    "set.seed(1)\n",
    "rf.fit = randomForest(medv~.,data = Boston_train, mtry = 6, importance = T)"
   ]
  },
  {
   "cell_type": "code",
   "execution_count": 218,
   "metadata": {},
   "outputs": [
    {
     "data": {
      "text/plain": [
       "\n",
       "Call:\n",
       " randomForest(formula = medv ~ ., data = Boston_train, mtry = 6,      importance = T) \n",
       "               Type of random forest: regression\n",
       "                     Number of trees: 500\n",
       "No. of variables tried at each split: 6\n",
       "\n",
       "          Mean of squared residuals: 11.54506\n",
       "                    % Var explained: 87.27"
      ]
     },
     "metadata": {},
     "output_type": "display_data"
    }
   ],
   "source": [
    "rf.fit"
   ]
  },
  {
   "cell_type": "code",
   "execution_count": 219,
   "metadata": {},
   "outputs": [
    {
     "data": {
      "image/png": "[encoded data removed]",
      "text/plain": [
       "Plot with title \"rf.fit\""
      ]
     },
     "metadata": {},
     "output_type": "display_data"
    }
   ],
   "source": [
    "plot(rf.fit)"
   ]
  },
  {
   "cell_type": "code",
   "execution_count": 220,
   "metadata": {},
   "outputs": [
    {
     "data": {
      "text/html": [
       "<table>\n",
       "<thead><tr><th></th><th scope=col>%IncMSE</th><th scope=col>IncNodePurity</th></tr></thead>\n",
       "<tbody>\n",
       "\t<tr><th scope=row>crim</th><td>15.354201  </td><td> 1679.55775</td></tr>\n",
       "\t<tr><th scope=row>zn</th><td> 2.725179  </td><td>  140.22757</td></tr>\n",
       "\t<tr><th scope=row>indus</th><td>11.727265  </td><td> 1785.88581</td></tr>\n",
       "\t<tr><th scope=row>chas</th><td> 2.911793  </td><td>   78.84189</td></tr>\n",
       "\t<tr><th scope=row>nox</th><td>15.676355  </td><td> 1323.70238</td></tr>\n",
       "\t<tr><th scope=row>rm</th><td>38.311365  </td><td>10396.88312</td></tr>\n",
       "\t<tr><th scope=row>age</th><td>12.792631  </td><td>  766.53926</td></tr>\n",
       "\t<tr><th scope=row>dis</th><td>18.739419  </td><td> 2071.97170</td></tr>\n",
       "\t<tr><th scope=row>rad</th><td> 6.124113  </td><td>  183.62235</td></tr>\n",
       "\t<tr><th scope=row>tax</th><td>10.833208  </td><td>  748.20436</td></tr>\n",
       "\t<tr><th scope=row>ptratio</th><td>14.389517  </td><td> 1478.48222</td></tr>\n",
       "\t<tr><th scope=row>black</th><td> 8.402416  </td><td>  488.69622</td></tr>\n",
       "\t<tr><th scope=row>lstat</th><td>31.893301  </td><td>10341.95399</td></tr>\n",
       "</tbody>\n",
       "</table>\n"
      ],
      "text/latex": [
       "\\begin{tabular}{r|ll}\n",
       "  & \\%IncMSE & IncNodePurity\\\\\n",
       "\\hline\n",
       "\tcrim & 15.354201   &  1679.55775\\\\\n",
       "\tzn &  2.725179   &   140.22757\\\\\n",
       "\tindus & 11.727265   &  1785.88581\\\\\n",
       "\tchas &  2.911793   &    78.84189\\\\\n",
       "\tnox & 15.676355   &  1323.70238\\\\\n",
       "\trm & 38.311365   & 10396.88312\\\\\n",
       "\tage & 12.792631   &   766.53926\\\\\n",
       "\tdis & 18.739419   &  2071.97170\\\\\n",
       "\trad &  6.124113   &   183.62235\\\\\n",
       "\ttax & 10.833208   &   748.20436\\\\\n",
       "\tptratio & 14.389517   &  1478.48222\\\\\n",
       "\tblack &  8.402416   &   488.69622\\\\\n",
       "\tlstat & 31.893301   & 10341.95399\\\\\n",
       "\\end{tabular}\n"
      ],
      "text/markdown": [
       "\n",
       "| <!--/--> | %IncMSE | IncNodePurity |\n",
       "|---|---|---|\n",
       "| crim | 15.354201   |  1679.55775 |\n",
       "| zn |  2.725179   |   140.22757 |\n",
       "| indus | 11.727265   |  1785.88581 |\n",
       "| chas |  2.911793   |    78.84189 |\n",
       "| nox | 15.676355   |  1323.70238 |\n",
       "| rm | 38.311365   | 10396.88312 |\n",
       "| age | 12.792631   |   766.53926 |\n",
       "| dis | 18.739419   |  2071.97170 |\n",
       "| rad |  6.124113   |   183.62235 |\n",
       "| tax | 10.833208   |   748.20436 |\n",
       "| ptratio | 14.389517   |  1478.48222 |\n",
       "| black |  8.402416   |   488.69622 |\n",
       "| lstat | 31.893301   | 10341.95399 |\n",
       "\n"
      ],
      "text/plain": [
       "        %IncMSE   IncNodePurity\n",
       "crim    15.354201  1679.55775  \n",
       "zn       2.725179   140.22757  \n",
       "indus   11.727265  1785.88581  \n",
       "chas     2.911793    78.84189  \n",
       "nox     15.676355  1323.70238  \n",
       "rm      38.311365 10396.88312  \n",
       "age     12.792631   766.53926  \n",
       "dis     18.739419  2071.97170  \n",
       "rad      6.124113   183.62235  \n",
       "tax     10.833208   748.20436  \n",
       "ptratio 14.389517  1478.48222  \n",
       "black    8.402416   488.69622  \n",
       "lstat   31.893301 10341.95399  "
      ]
     },
     "metadata": {},
     "output_type": "display_data"
    }
   ],
   "source": [
    "importance(rf.fit)"
   ]
  },
  {
   "cell_type": "code",
   "execution_count": 224,
   "metadata": {},
   "outputs": [
    {
     "data": {
      "image/png": "[encoded data removed]",
      "text/plain": [
       "plot without title"
      ]
     },
     "metadata": {},
     "output_type": "display_data"
    }
   ],
   "source": [
    "varImpPlot(rf.fit)"
   ]
  },
  {
   "cell_type": "code",
   "execution_count": 225,
   "metadata": {},
   "outputs": [],
   "source": [
    "rf.yhat = predict(rf.fit, nwedata = Boston_test)"
   ]
  },
  {
   "cell_type": "code",
   "execution_count": 230,
   "metadata": {},
   "outputs": [
    {
     "name": "stderr",
     "output_type": "stream",
     "text": [
      "Warning message in rf.yhat - Boston_test$medv:\n",
      "\"두 객체의 길이가 서로 배수관계에 있지 않습니다\""
     ]
    }
   ],
   "source": [
    "kk = mean((rf.yhat - Boston_test$medv)^2)"
   ]
  },
  {
   "cell_type": "code",
   "execution_count": 231,
   "metadata": {},
   "outputs": [
    {
     "data": {
      "text/html": [
       "11.2539342095173"
      ],
      "text/latex": [
       "11.2539342095173"
      ],
      "text/markdown": [
       "11.2539342095173"
      ],
      "text/plain": [
       "[1] 11.25393"
      ]
     },
     "metadata": {},
     "output_type": "display_data"
    }
   ],
   "source": [
    "sqrt(kk)"
   ]
  },
  {
   "cell_type": "markdown",
   "metadata": {},
   "source": [
    "# 자율학습 모델(unsupervised Model)\n",
    "## K - means Model method"
   ]
  },
  {
   "cell_type": "code",
   "execution_count": 232,
   "metadata": {
    "scrolled": true
   },
   "outputs": [
    {
     "data": {
      "text/html": [
       "<table>\n",
       "<thead><tr><th scope=col>Sepal.Length</th><th scope=col>Sepal.Width</th><th scope=col>Petal.Length</th><th scope=col>Petal.Width</th></tr></thead>\n",
       "<tbody>\n",
       "\t<tr><td>5.1</td><td>3.5</td><td>1.4</td><td>0.2</td></tr>\n",
       "\t<tr><td>4.9</td><td>3.0</td><td>1.4</td><td>0.2</td></tr>\n",
       "\t<tr><td>4.7</td><td>3.2</td><td>1.3</td><td>0.2</td></tr>\n",
       "\t<tr><td>4.6</td><td>3.1</td><td>1.5</td><td>0.2</td></tr>\n",
       "\t<tr><td>5.0</td><td>3.6</td><td>1.4</td><td>0.2</td></tr>\n",
       "\t<tr><td>5.4</td><td>3.9</td><td>1.7</td><td>0.4</td></tr>\n",
       "\t<tr><td>4.6</td><td>3.4</td><td>1.4</td><td>0.3</td></tr>\n",
       "\t<tr><td>5.0</td><td>3.4</td><td>1.5</td><td>0.2</td></tr>\n",
       "\t<tr><td>4.4</td><td>2.9</td><td>1.4</td><td>0.2</td></tr>\n",
       "\t<tr><td>4.9</td><td>3.1</td><td>1.5</td><td>0.1</td></tr>\n",
       "\t<tr><td>5.4</td><td>3.7</td><td>1.5</td><td>0.2</td></tr>\n",
       "\t<tr><td>4.8</td><td>3.4</td><td>1.6</td><td>0.2</td></tr>\n",
       "\t<tr><td>4.8</td><td>3.0</td><td>1.4</td><td>0.1</td></tr>\n",
       "\t<tr><td>4.3</td><td>3.0</td><td>1.1</td><td>0.1</td></tr>\n",
       "\t<tr><td>5.8</td><td>4.0</td><td>1.2</td><td>0.2</td></tr>\n",
       "\t<tr><td>5.7</td><td>4.4</td><td>1.5</td><td>0.4</td></tr>\n",
       "\t<tr><td>5.4</td><td>3.9</td><td>1.3</td><td>0.4</td></tr>\n",
       "\t<tr><td>5.1</td><td>3.5</td><td>1.4</td><td>0.3</td></tr>\n",
       "\t<tr><td>5.7</td><td>3.8</td><td>1.7</td><td>0.3</td></tr>\n",
       "\t<tr><td>5.1</td><td>3.8</td><td>1.5</td><td>0.3</td></tr>\n",
       "\t<tr><td>5.4</td><td>3.4</td><td>1.7</td><td>0.2</td></tr>\n",
       "\t<tr><td>5.1</td><td>3.7</td><td>1.5</td><td>0.4</td></tr>\n",
       "\t<tr><td>4.6</td><td>3.6</td><td>1.0</td><td>0.2</td></tr>\n",
       "\t<tr><td>5.1</td><td>3.3</td><td>1.7</td><td>0.5</td></tr>\n",
       "\t<tr><td>4.8</td><td>3.4</td><td>1.9</td><td>0.2</td></tr>\n",
       "\t<tr><td>5.0</td><td>3.0</td><td>1.6</td><td>0.2</td></tr>\n",
       "\t<tr><td>5.0</td><td>3.4</td><td>1.6</td><td>0.4</td></tr>\n",
       "\t<tr><td>5.2</td><td>3.5</td><td>1.5</td><td>0.2</td></tr>\n",
       "\t<tr><td>5.2</td><td>3.4</td><td>1.4</td><td>0.2</td></tr>\n",
       "\t<tr><td>4.7</td><td>3.2</td><td>1.6</td><td>0.2</td></tr>\n",
       "\t<tr><td>...</td><td>...</td><td>...</td><td>...</td></tr>\n",
       "\t<tr><td>6.9</td><td>3.2</td><td>5.7</td><td>2.3</td></tr>\n",
       "\t<tr><td>5.6</td><td>2.8</td><td>4.9</td><td>2.0</td></tr>\n",
       "\t<tr><td>7.7</td><td>2.8</td><td>6.7</td><td>2.0</td></tr>\n",
       "\t<tr><td>6.3</td><td>2.7</td><td>4.9</td><td>1.8</td></tr>\n",
       "\t<tr><td>6.7</td><td>3.3</td><td>5.7</td><td>2.1</td></tr>\n",
       "\t<tr><td>7.2</td><td>3.2</td><td>6.0</td><td>1.8</td></tr>\n",
       "\t<tr><td>6.2</td><td>2.8</td><td>4.8</td><td>1.8</td></tr>\n",
       "\t<tr><td>6.1</td><td>3.0</td><td>4.9</td><td>1.8</td></tr>\n",
       "\t<tr><td>6.4</td><td>2.8</td><td>5.6</td><td>2.1</td></tr>\n",
       "\t<tr><td>7.2</td><td>3.0</td><td>5.8</td><td>1.6</td></tr>\n",
       "\t<tr><td>7.4</td><td>2.8</td><td>6.1</td><td>1.9</td></tr>\n",
       "\t<tr><td>7.9</td><td>3.8</td><td>6.4</td><td>2.0</td></tr>\n",
       "\t<tr><td>6.4</td><td>2.8</td><td>5.6</td><td>2.2</td></tr>\n",
       "\t<tr><td>6.3</td><td>2.8</td><td>5.1</td><td>1.5</td></tr>\n",
       "\t<tr><td>6.1</td><td>2.6</td><td>5.6</td><td>1.4</td></tr>\n",
       "\t<tr><td>7.7</td><td>3.0</td><td>6.1</td><td>2.3</td></tr>\n",
       "\t<tr><td>6.3</td><td>3.4</td><td>5.6</td><td>2.4</td></tr>\n",
       "\t<tr><td>6.4</td><td>3.1</td><td>5.5</td><td>1.8</td></tr>\n",
       "\t<tr><td>6.0</td><td>3.0</td><td>4.8</td><td>1.8</td></tr>\n",
       "\t<tr><td>6.9</td><td>3.1</td><td>5.4</td><td>2.1</td></tr>\n",
       "\t<tr><td>6.7</td><td>3.1</td><td>5.6</td><td>2.4</td></tr>\n",
       "\t<tr><td>6.9</td><td>3.1</td><td>5.1</td><td>2.3</td></tr>\n",
       "\t<tr><td>5.8</td><td>2.7</td><td>5.1</td><td>1.9</td></tr>\n",
       "\t<tr><td>6.8</td><td>3.2</td><td>5.9</td><td>2.3</td></tr>\n",
       "\t<tr><td>6.7</td><td>3.3</td><td>5.7</td><td>2.5</td></tr>\n",
       "\t<tr><td>6.7</td><td>3.0</td><td>5.2</td><td>2.3</td></tr>\n",
       "\t<tr><td>6.3</td><td>2.5</td><td>5.0</td><td>1.9</td></tr>\n",
       "\t<tr><td>6.5</td><td>3.0</td><td>5.2</td><td>2.0</td></tr>\n",
       "\t<tr><td>6.2</td><td>3.4</td><td>5.4</td><td>2.3</td></tr>\n",
       "\t<tr><td>5.9</td><td>3.0</td><td>5.1</td><td>1.8</td></tr>\n",
       "</tbody>\n",
       "</table>\n"
      ],
      "text/latex": [
       "\\begin{tabular}{r|llll}\n",
       " Sepal.Length & Sepal.Width & Petal.Length & Petal.Width\\\\\n",
       "\\hline\n",
       "\t 5.1 & 3.5 & 1.4 & 0.2\\\\\n",
       "\t 4.9 & 3.0 & 1.4 & 0.2\\\\\n",
       "\t 4.7 & 3.2 & 1.3 & 0.2\\\\\n",
       "\t 4.6 & 3.1 & 1.5 & 0.2\\\\\n",
       "\t 5.0 & 3.6 & 1.4 & 0.2\\\\\n",
       "\t 5.4 & 3.9 & 1.7 & 0.4\\\\\n",
       "\t 4.6 & 3.4 & 1.4 & 0.3\\\\\n",
       "\t 5.0 & 3.4 & 1.5 & 0.2\\\\\n",
       "\t 4.4 & 2.9 & 1.4 & 0.2\\\\\n",
       "\t 4.9 & 3.1 & 1.5 & 0.1\\\\\n",
       "\t 5.4 & 3.7 & 1.5 & 0.2\\\\\n",
       "\t 4.8 & 3.4 & 1.6 & 0.2\\\\\n",
       "\t 4.8 & 3.0 & 1.4 & 0.1\\\\\n",
       "\t 4.3 & 3.0 & 1.1 & 0.1\\\\\n",
       "\t 5.8 & 4.0 & 1.2 & 0.2\\\\\n",
       "\t 5.7 & 4.4 & 1.5 & 0.4\\\\\n",
       "\t 5.4 & 3.9 & 1.3 & 0.4\\\\\n",
       "\t 5.1 & 3.5 & 1.4 & 0.3\\\\\n",
       "\t 5.7 & 3.8 & 1.7 & 0.3\\\\\n",
       "\t 5.1 & 3.8 & 1.5 & 0.3\\\\\n",
       "\t 5.4 & 3.4 & 1.7 & 0.2\\\\\n",
       "\t 5.1 & 3.7 & 1.5 & 0.4\\\\\n",
       "\t 4.6 & 3.6 & 1.0 & 0.2\\\\\n",
       "\t 5.1 & 3.3 & 1.7 & 0.5\\\\\n",
       "\t 4.8 & 3.4 & 1.9 & 0.2\\\\\n",
       "\t 5.0 & 3.0 & 1.6 & 0.2\\\\\n",
       "\t 5.0 & 3.4 & 1.6 & 0.4\\\\\n",
       "\t 5.2 & 3.5 & 1.5 & 0.2\\\\\n",
       "\t 5.2 & 3.4 & 1.4 & 0.2\\\\\n",
       "\t 4.7 & 3.2 & 1.6 & 0.2\\\\\n",
       "\t ... & ... & ... & ...\\\\\n",
       "\t 6.9 & 3.2 & 5.7 & 2.3\\\\\n",
       "\t 5.6 & 2.8 & 4.9 & 2.0\\\\\n",
       "\t 7.7 & 2.8 & 6.7 & 2.0\\\\\n",
       "\t 6.3 & 2.7 & 4.9 & 1.8\\\\\n",
       "\t 6.7 & 3.3 & 5.7 & 2.1\\\\\n",
       "\t 7.2 & 3.2 & 6.0 & 1.8\\\\\n",
       "\t 6.2 & 2.8 & 4.8 & 1.8\\\\\n",
       "\t 6.1 & 3.0 & 4.9 & 1.8\\\\\n",
       "\t 6.4 & 2.8 & 5.6 & 2.1\\\\\n",
       "\t 7.2 & 3.0 & 5.8 & 1.6\\\\\n",
       "\t 7.4 & 2.8 & 6.1 & 1.9\\\\\n",
       "\t 7.9 & 3.8 & 6.4 & 2.0\\\\\n",
       "\t 6.4 & 2.8 & 5.6 & 2.2\\\\\n",
       "\t 6.3 & 2.8 & 5.1 & 1.5\\\\\n",
       "\t 6.1 & 2.6 & 5.6 & 1.4\\\\\n",
       "\t 7.7 & 3.0 & 6.1 & 2.3\\\\\n",
       "\t 6.3 & 3.4 & 5.6 & 2.4\\\\\n",
       "\t 6.4 & 3.1 & 5.5 & 1.8\\\\\n",
       "\t 6.0 & 3.0 & 4.8 & 1.8\\\\\n",
       "\t 6.9 & 3.1 & 5.4 & 2.1\\\\\n",
       "\t 6.7 & 3.1 & 5.6 & 2.4\\\\\n",
       "\t 6.9 & 3.1 & 5.1 & 2.3\\\\\n",
       "\t 5.8 & 2.7 & 5.1 & 1.9\\\\\n",
       "\t 6.8 & 3.2 & 5.9 & 2.3\\\\\n",
       "\t 6.7 & 3.3 & 5.7 & 2.5\\\\\n",
       "\t 6.7 & 3.0 & 5.2 & 2.3\\\\\n",
       "\t 6.3 & 2.5 & 5.0 & 1.9\\\\\n",
       "\t 6.5 & 3.0 & 5.2 & 2.0\\\\\n",
       "\t 6.2 & 3.4 & 5.4 & 2.3\\\\\n",
       "\t 5.9 & 3.0 & 5.1 & 1.8\\\\\n",
       "\\end{tabular}\n"
      ],
      "text/markdown": [
       "\n",
       "| Sepal.Length | Sepal.Width | Petal.Length | Petal.Width |\n",
       "|---|---|---|---|\n",
       "| 5.1 | 3.5 | 1.4 | 0.2 |\n",
       "| 4.9 | 3.0 | 1.4 | 0.2 |\n",
       "| 4.7 | 3.2 | 1.3 | 0.2 |\n",
       "| 4.6 | 3.1 | 1.5 | 0.2 |\n",
       "| 5.0 | 3.6 | 1.4 | 0.2 |\n",
       "| 5.4 | 3.9 | 1.7 | 0.4 |\n",
       "| 4.6 | 3.4 | 1.4 | 0.3 |\n",
       "| 5.0 | 3.4 | 1.5 | 0.2 |\n",
       "| 4.4 | 2.9 | 1.4 | 0.2 |\n",
       "| 4.9 | 3.1 | 1.5 | 0.1 |\n",
       "| 5.4 | 3.7 | 1.5 | 0.2 |\n",
       "| 4.8 | 3.4 | 1.6 | 0.2 |\n",
       "| 4.8 | 3.0 | 1.4 | 0.1 |\n",
       "| 4.3 | 3.0 | 1.1 | 0.1 |\n",
       "| 5.8 | 4.0 | 1.2 | 0.2 |\n",
       "| 5.7 | 4.4 | 1.5 | 0.4 |\n",
       "| 5.4 | 3.9 | 1.3 | 0.4 |\n",
       "| 5.1 | 3.5 | 1.4 | 0.3 |\n",
       "| 5.7 | 3.8 | 1.7 | 0.3 |\n",
       "| 5.1 | 3.8 | 1.5 | 0.3 |\n",
       "| 5.4 | 3.4 | 1.7 | 0.2 |\n",
       "| 5.1 | 3.7 | 1.5 | 0.4 |\n",
       "| 4.6 | 3.6 | 1.0 | 0.2 |\n",
       "| 5.1 | 3.3 | 1.7 | 0.5 |\n",
       "| 4.8 | 3.4 | 1.9 | 0.2 |\n",
       "| 5.0 | 3.0 | 1.6 | 0.2 |\n",
       "| 5.0 | 3.4 | 1.6 | 0.4 |\n",
       "| 5.2 | 3.5 | 1.5 | 0.2 |\n",
       "| 5.2 | 3.4 | 1.4 | 0.2 |\n",
       "| 4.7 | 3.2 | 1.6 | 0.2 |\n",
       "| ... | ... | ... | ... |\n",
       "| 6.9 | 3.2 | 5.7 | 2.3 |\n",
       "| 5.6 | 2.8 | 4.9 | 2.0 |\n",
       "| 7.7 | 2.8 | 6.7 | 2.0 |\n",
       "| 6.3 | 2.7 | 4.9 | 1.8 |\n",
       "| 6.7 | 3.3 | 5.7 | 2.1 |\n",
       "| 7.2 | 3.2 | 6.0 | 1.8 |\n",
       "| 6.2 | 2.8 | 4.8 | 1.8 |\n",
       "| 6.1 | 3.0 | 4.9 | 1.8 |\n",
       "| 6.4 | 2.8 | 5.6 | 2.1 |\n",
       "| 7.2 | 3.0 | 5.8 | 1.6 |\n",
       "| 7.4 | 2.8 | 6.1 | 1.9 |\n",
       "| 7.9 | 3.8 | 6.4 | 2.0 |\n",
       "| 6.4 | 2.8 | 5.6 | 2.2 |\n",
       "| 6.3 | 2.8 | 5.1 | 1.5 |\n",
       "| 6.1 | 2.6 | 5.6 | 1.4 |\n",
       "| 7.7 | 3.0 | 6.1 | 2.3 |\n",
       "| 6.3 | 3.4 | 5.6 | 2.4 |\n",
       "| 6.4 | 3.1 | 5.5 | 1.8 |\n",
       "| 6.0 | 3.0 | 4.8 | 1.8 |\n",
       "| 6.9 | 3.1 | 5.4 | 2.1 |\n",
       "| 6.7 | 3.1 | 5.6 | 2.4 |\n",
       "| 6.9 | 3.1 | 5.1 | 2.3 |\n",
       "| 5.8 | 2.7 | 5.1 | 1.9 |\n",
       "| 6.8 | 3.2 | 5.9 | 2.3 |\n",
       "| 6.7 | 3.3 | 5.7 | 2.5 |\n",
       "| 6.7 | 3.0 | 5.2 | 2.3 |\n",
       "| 6.3 | 2.5 | 5.0 | 1.9 |\n",
       "| 6.5 | 3.0 | 5.2 | 2.0 |\n",
       "| 6.2 | 3.4 | 5.4 | 2.3 |\n",
       "| 5.9 | 3.0 | 5.1 | 1.8 |\n",
       "\n"
      ],
      "text/plain": [
       "    Sepal.Length Sepal.Width Petal.Length Petal.Width\n",
       "1   5.1          3.5         1.4          0.2        \n",
       "2   4.9          3.0         1.4          0.2        \n",
       "3   4.7          3.2         1.3          0.2        \n",
       "4   4.6          3.1         1.5          0.2        \n",
       "5   5.0          3.6         1.4          0.2        \n",
       "6   5.4          3.9         1.7          0.4        \n",
       "7   4.6          3.4         1.4          0.3        \n",
       "8   5.0          3.4         1.5          0.2        \n",
       "9   4.4          2.9         1.4          0.2        \n",
       "10  4.9          3.1         1.5          0.1        \n",
       "11  5.4          3.7         1.5          0.2        \n",
       "12  4.8          3.4         1.6          0.2        \n",
       "13  4.8          3.0         1.4          0.1        \n",
       "14  4.3          3.0         1.1          0.1        \n",
       "15  5.8          4.0         1.2          0.2        \n",
       "16  5.7          4.4         1.5          0.4        \n",
       "17  5.4          3.9         1.3          0.4        \n",
       "18  5.1          3.5         1.4          0.3        \n",
       "19  5.7          3.8         1.7          0.3        \n",
       "20  5.1          3.8         1.5          0.3        \n",
       "21  5.4          3.4         1.7          0.2        \n",
       "22  5.1          3.7         1.5          0.4        \n",
       "23  4.6          3.6         1.0          0.2        \n",
       "24  5.1          3.3         1.7          0.5        \n",
       "25  4.8          3.4         1.9          0.2        \n",
       "26  5.0          3.0         1.6          0.2        \n",
       "27  5.0          3.4         1.6          0.4        \n",
       "28  5.2          3.5         1.5          0.2        \n",
       "29  5.2          3.4         1.4          0.2        \n",
       "30  4.7          3.2         1.6          0.2        \n",
       "... ...          ...         ...          ...        \n",
       "121 6.9          3.2         5.7          2.3        \n",
       "122 5.6          2.8         4.9          2.0        \n",
       "123 7.7          2.8         6.7          2.0        \n",
       "124 6.3          2.7         4.9          1.8        \n",
       "125 6.7          3.3         5.7          2.1        \n",
       "126 7.2          3.2         6.0          1.8        \n",
       "127 6.2          2.8         4.8          1.8        \n",
       "128 6.1          3.0         4.9          1.8        \n",
       "129 6.4          2.8         5.6          2.1        \n",
       "130 7.2          3.0         5.8          1.6        \n",
       "131 7.4          2.8         6.1          1.9        \n",
       "132 7.9          3.8         6.4          2.0        \n",
       "133 6.4          2.8         5.6          2.2        \n",
       "134 6.3          2.8         5.1          1.5        \n",
       "135 6.1          2.6         5.6          1.4        \n",
       "136 7.7          3.0         6.1          2.3        \n",
       "137 6.3          3.4         5.6          2.4        \n",
       "138 6.4          3.1         5.5          1.8        \n",
       "139 6.0          3.0         4.8          1.8        \n",
       "140 6.9          3.1         5.4          2.1        \n",
       "141 6.7          3.1         5.6          2.4        \n",
       "142 6.9          3.1         5.1          2.3        \n",
       "143 5.8          2.7         5.1          1.9        \n",
       "144 6.8          3.2         5.9          2.3        \n",
       "145 6.7          3.3         5.7          2.5        \n",
       "146 6.7          3.0         5.2          2.3        \n",
       "147 6.3          2.5         5.0          1.9        \n",
       "148 6.5          3.0         5.2          2.0        \n",
       "149 6.2          3.4         5.4          2.3        \n",
       "150 5.9          3.0         5.1          1.8        "
      ]
     },
     "metadata": {},
     "output_type": "display_data"
    }
   ],
   "source": [
    "iris2 = iris[,1:4]\n",
    "iris2"
   ]
  },
  {
   "cell_type": "code",
   "execution_count": 233,
   "metadata": {},
   "outputs": [],
   "source": [
    "km.out.withness = c()\n",
    "km.out.between = c()"
   ]
  },
  {
   "cell_type": "code",
   "execution_count": 239,
   "metadata": {},
   "outputs": [],
   "source": [
    "for (i in 2:7){\n",
    "    set.seed(1)\n",
    "            km.out = kmeans(iris2, center = i)\n",
    "            km.out.withness[i-1] = km.out$tot.withinss\n",
    "            km.out.between[i-1] = km.out$betweenss\n",
    "}\n",
    "tt = data.frame(km.out.withness, km.out.between)"
   ]
  },
  {
   "cell_type": "code",
   "execution_count": 257,
   "metadata": {
    "scrolled": false
   },
   "outputs": [
    {
     "name": "stderr",
     "output_type": "stream",
     "text": [
      "Warning message in plot.window(...):\n",
      "\"\"kk\"는 그래픽 매개변수가 아닙니다\"Warning message in plot.xy(xy, type, ...):\n",
      "\"\"kk\"는 그래픽 매개변수가 아닙니다\"Warning message in axis(side = side, at = at, labels = labels, ...):\n",
      "\"\"kk\"는 그래픽 매개변수가 아닙니다\"Warning message in axis(side = side, at = at, labels = labels, ...):\n",
      "\"\"kk\"는 그래픽 매개변수가 아닙니다\"Warning message in box(...):\n",
      "\"\"kk\"는 그래픽 매개변수가 아닙니다\"Warning message in title(...):\n",
      "\"\"kk\"는 그래픽 매개변수가 아닙니다\"Warning message in plot.window(...):\n",
      "\"\"kk\"는 그래픽 매개변수가 아닙니다\"Warning message in plot.xy(xy, type, ...):\n",
      "\"\"kk\"는 그래픽 매개변수가 아닙니다\"Warning message in axis(side = side, at = at, labels = labels, ...):\n",
      "\"\"kk\"는 그래픽 매개변수가 아닙니다\"Warning message in axis(side = side, at = at, labels = labels, ...):\n",
      "\"\"kk\"는 그래픽 매개변수가 아닙니다\"Warning message in box(...):\n",
      "\"\"kk\"는 그래픽 매개변수가 아닙니다\"Warning message in title(...):\n",
      "\"\"kk\"는 그래픽 매개변수가 아닙니다\""
     ]
    },
    {
     "data": {
      "image/png": "[encoded data removed]",
      "text/plain": [
       "plot without title"
      ]
     },
     "metadata": {},
     "output_type": "display_data"
    },
    {
     "data": {
      "image/png": "[encoded data removed]",
      "text/plain": [
       "plot without title"
      ]
     },
     "metadata": {},
     "output_type": "display_data"
    }
   ],
   "source": [
    "plot(kk = c(1:7), tt$km.out.withness, type = 'b')\n",
    "plot(kk=c(1:7), tt$km.out.between, type = 'b')"
   ]
  },
  {
   "cell_type": "code",
   "execution_count": null,
   "metadata": {},
   "outputs": [],
   "source": []
  },
  {
   "cell_type": "code",
   "execution_count": 246,
   "metadata": {},
   "outputs": [
    {
     "data": {
      "text/html": [
       "<table>\n",
       "<thead><tr><th scope=col>Sepal.Length</th><th scope=col>Sepal.Width</th><th scope=col>Petal.Length</th><th scope=col>Petal.Width</th></tr></thead>\n",
       "<tbody>\n",
       "\t<tr><td>6.850000</td><td>3.073684</td><td>5.742105</td><td>2.071053</td></tr>\n",
       "\t<tr><td>5.901613</td><td>2.748387</td><td>4.393548</td><td>1.433871</td></tr>\n",
       "\t<tr><td>5.006000</td><td>3.428000</td><td>1.462000</td><td>0.246000</td></tr>\n",
       "</tbody>\n",
       "</table>\n"
      ],
      "text/latex": [
       "\\begin{tabular}{r|llll}\n",
       " Sepal.Length & Sepal.Width & Petal.Length & Petal.Width\\\\\n",
       "\\hline\n",
       "\t 6.850000 & 3.073684 & 5.742105 & 2.071053\\\\\n",
       "\t 5.901613 & 2.748387 & 4.393548 & 1.433871\\\\\n",
       "\t 5.006000 & 3.428000 & 1.462000 & 0.246000\\\\\n",
       "\\end{tabular}\n"
      ],
      "text/markdown": [
       "\n",
       "| Sepal.Length | Sepal.Width | Petal.Length | Petal.Width |\n",
       "|---|---|---|---|\n",
       "| 6.850000 | 3.073684 | 5.742105 | 2.071053 |\n",
       "| 5.901613 | 2.748387 | 4.393548 | 1.433871 |\n",
       "| 5.006000 | 3.428000 | 1.462000 | 0.246000 |\n",
       "\n"
      ],
      "text/plain": [
       "  Sepal.Length Sepal.Width Petal.Length Petal.Width\n",
       "1 6.850000     3.073684    5.742105     2.071053   \n",
       "2 5.901613     2.748387    4.393548     1.433871   \n",
       "3 5.006000     3.428000    1.462000     0.246000   "
      ]
     },
     "metadata": {},
     "output_type": "display_data"
    },
    {
     "data": {
      "text/html": [
       "<ol class=list-inline>\n",
       "\t<li>3</li>\n",
       "\t<li>3</li>\n",
       "\t<li>3</li>\n",
       "\t<li>3</li>\n",
       "\t<li>3</li>\n",
       "\t<li>3</li>\n",
       "\t<li>3</li>\n",
       "\t<li>3</li>\n",
       "\t<li>3</li>\n",
       "\t<li>3</li>\n",
       "\t<li>3</li>\n",
       "\t<li>3</li>\n",
       "\t<li>3</li>\n",
       "\t<li>3</li>\n",
       "\t<li>3</li>\n",
       "\t<li>3</li>\n",
       "\t<li>3</li>\n",
       "\t<li>3</li>\n",
       "\t<li>3</li>\n",
       "\t<li>3</li>\n",
       "\t<li>3</li>\n",
       "\t<li>3</li>\n",
       "\t<li>3</li>\n",
       "\t<li>3</li>\n",
       "\t<li>3</li>\n",
       "\t<li>3</li>\n",
       "\t<li>3</li>\n",
       "\t<li>3</li>\n",
       "\t<li>3</li>\n",
       "\t<li>3</li>\n",
       "\t<li>3</li>\n",
       "\t<li>3</li>\n",
       "\t<li>3</li>\n",
       "\t<li>3</li>\n",
       "\t<li>3</li>\n",
       "\t<li>3</li>\n",
       "\t<li>3</li>\n",
       "\t<li>3</li>\n",
       "\t<li>3</li>\n",
       "\t<li>3</li>\n",
       "\t<li>3</li>\n",
       "\t<li>3</li>\n",
       "\t<li>3</li>\n",
       "\t<li>3</li>\n",
       "\t<li>3</li>\n",
       "\t<li>3</li>\n",
       "\t<li>3</li>\n",
       "\t<li>3</li>\n",
       "\t<li>3</li>\n",
       "\t<li>3</li>\n",
       "\t<li>2</li>\n",
       "\t<li>2</li>\n",
       "\t<li>1</li>\n",
       "\t<li>2</li>\n",
       "\t<li>2</li>\n",
       "\t<li>2</li>\n",
       "\t<li>2</li>\n",
       "\t<li>2</li>\n",
       "\t<li>2</li>\n",
       "\t<li>2</li>\n",
       "\t<li>2</li>\n",
       "\t<li>2</li>\n",
       "\t<li>2</li>\n",
       "\t<li>2</li>\n",
       "\t<li>2</li>\n",
       "\t<li>2</li>\n",
       "\t<li>2</li>\n",
       "\t<li>2</li>\n",
       "\t<li>2</li>\n",
       "\t<li>2</li>\n",
       "\t<li>2</li>\n",
       "\t<li>2</li>\n",
       "\t<li>2</li>\n",
       "\t<li>2</li>\n",
       "\t<li>2</li>\n",
       "\t<li>2</li>\n",
       "\t<li>2</li>\n",
       "\t<li>1</li>\n",
       "\t<li>2</li>\n",
       "\t<li>2</li>\n",
       "\t<li>2</li>\n",
       "\t<li>2</li>\n",
       "\t<li>2</li>\n",
       "\t<li>2</li>\n",
       "\t<li>2</li>\n",
       "\t<li>2</li>\n",
       "\t<li>2</li>\n",
       "\t<li>2</li>\n",
       "\t<li>2</li>\n",
       "\t<li>2</li>\n",
       "\t<li>2</li>\n",
       "\t<li>2</li>\n",
       "\t<li>2</li>\n",
       "\t<li>2</li>\n",
       "\t<li>2</li>\n",
       "\t<li>2</li>\n",
       "\t<li>2</li>\n",
       "\t<li>2</li>\n",
       "\t<li>2</li>\n",
       "\t<li>2</li>\n",
       "\t<li>1</li>\n",
       "\t<li>2</li>\n",
       "\t<li>1</li>\n",
       "\t<li>1</li>\n",
       "\t<li>1</li>\n",
       "\t<li>1</li>\n",
       "\t<li>2</li>\n",
       "\t<li>1</li>\n",
       "\t<li>1</li>\n",
       "\t<li>1</li>\n",
       "\t<li>1</li>\n",
       "\t<li>1</li>\n",
       "\t<li>1</li>\n",
       "\t<li>2</li>\n",
       "\t<li>2</li>\n",
       "\t<li>1</li>\n",
       "\t<li>1</li>\n",
       "\t<li>1</li>\n",
       "\t<li>1</li>\n",
       "\t<li>2</li>\n",
       "\t<li>1</li>\n",
       "\t<li>2</li>\n",
       "\t<li>1</li>\n",
       "\t<li>2</li>\n",
       "\t<li>1</li>\n",
       "\t<li>1</li>\n",
       "\t<li>2</li>\n",
       "\t<li>2</li>\n",
       "\t<li>1</li>\n",
       "\t<li>1</li>\n",
       "\t<li>1</li>\n",
       "\t<li>1</li>\n",
       "\t<li>1</li>\n",
       "\t<li>2</li>\n",
       "\t<li>1</li>\n",
       "\t<li>1</li>\n",
       "\t<li>1</li>\n",
       "\t<li>1</li>\n",
       "\t<li>2</li>\n",
       "\t<li>1</li>\n",
       "\t<li>1</li>\n",
       "\t<li>1</li>\n",
       "\t<li>2</li>\n",
       "\t<li>1</li>\n",
       "\t<li>1</li>\n",
       "\t<li>1</li>\n",
       "\t<li>2</li>\n",
       "\t<li>1</li>\n",
       "\t<li>1</li>\n",
       "\t<li>2</li>\n",
       "</ol>\n"
      ],
      "text/latex": [
       "\\begin{enumerate*}\n",
       "\\item 3\n",
       "\\item 3\n",
       "\\item 3\n",
       "\\item 3\n",
       "\\item 3\n",
       "\\item 3\n",
       "\\item 3\n",
       "\\item 3\n",
       "\\item 3\n",
       "\\item 3\n",
       "\\item 3\n",
       "\\item 3\n",
       "\\item 3\n",
       "\\item 3\n",
       "\\item 3\n",
       "\\item 3\n",
       "\\item 3\n",
       "\\item 3\n",
       "\\item 3\n",
       "\\item 3\n",
       "\\item 3\n",
       "\\item 3\n",
       "\\item 3\n",
       "\\item 3\n",
       "\\item 3\n",
       "\\item 3\n",
       "\\item 3\n",
       "\\item 3\n",
       "\\item 3\n",
       "\\item 3\n",
       "\\item 3\n",
       "\\item 3\n",
       "\\item 3\n",
       "\\item 3\n",
       "\\item 3\n",
       "\\item 3\n",
       "\\item 3\n",
       "\\item 3\n",
       "\\item 3\n",
       "\\item 3\n",
       "\\item 3\n",
       "\\item 3\n",
       "\\item 3\n",
       "\\item 3\n",
       "\\item 3\n",
       "\\item 3\n",
       "\\item 3\n",
       "\\item 3\n",
       "\\item 3\n",
       "\\item 3\n",
       "\\item 2\n",
       "\\item 2\n",
       "\\item 1\n",
       "\\item 2\n",
       "\\item 2\n",
       "\\item 2\n",
       "\\item 2\n",
       "\\item 2\n",
       "\\item 2\n",
       "\\item 2\n",
       "\\item 2\n",
       "\\item 2\n",
       "\\item 2\n",
       "\\item 2\n",
       "\\item 2\n",
       "\\item 2\n",
       "\\item 2\n",
       "\\item 2\n",
       "\\item 2\n",
       "\\item 2\n",
       "\\item 2\n",
       "\\item 2\n",
       "\\item 2\n",
       "\\item 2\n",
       "\\item 2\n",
       "\\item 2\n",
       "\\item 2\n",
       "\\item 1\n",
       "\\item 2\n",
       "\\item 2\n",
       "\\item 2\n",
       "\\item 2\n",
       "\\item 2\n",
       "\\item 2\n",
       "\\item 2\n",
       "\\item 2\n",
       "\\item 2\n",
       "\\item 2\n",
       "\\item 2\n",
       "\\item 2\n",
       "\\item 2\n",
       "\\item 2\n",
       "\\item 2\n",
       "\\item 2\n",
       "\\item 2\n",
       "\\item 2\n",
       "\\item 2\n",
       "\\item 2\n",
       "\\item 2\n",
       "\\item 2\n",
       "\\item 1\n",
       "\\item 2\n",
       "\\item 1\n",
       "\\item 1\n",
       "\\item 1\n",
       "\\item 1\n",
       "\\item 2\n",
       "\\item 1\n",
       "\\item 1\n",
       "\\item 1\n",
       "\\item 1\n",
       "\\item 1\n",
       "\\item 1\n",
       "\\item 2\n",
       "\\item 2\n",
       "\\item 1\n",
       "\\item 1\n",
       "\\item 1\n",
       "\\item 1\n",
       "\\item 2\n",
       "\\item 1\n",
       "\\item 2\n",
       "\\item 1\n",
       "\\item 2\n",
       "\\item 1\n",
       "\\item 1\n",
       "\\item 2\n",
       "\\item 2\n",
       "\\item 1\n",
       "\\item 1\n",
       "\\item 1\n",
       "\\item 1\n",
       "\\item 1\n",
       "\\item 2\n",
       "\\item 1\n",
       "\\item 1\n",
       "\\item 1\n",
       "\\item 1\n",
       "\\item 2\n",
       "\\item 1\n",
       "\\item 1\n",
       "\\item 1\n",
       "\\item 2\n",
       "\\item 1\n",
       "\\item 1\n",
       "\\item 1\n",
       "\\item 2\n",
       "\\item 1\n",
       "\\item 1\n",
       "\\item 2\n",
       "\\end{enumerate*}\n"
      ],
      "text/markdown": [
       "1. 3\n",
       "2. 3\n",
       "3. 3\n",
       "4. 3\n",
       "5. 3\n",
       "6. 3\n",
       "7. 3\n",
       "8. 3\n",
       "9. 3\n",
       "10. 3\n",
       "11. 3\n",
       "12. 3\n",
       "13. 3\n",
       "14. 3\n",
       "15. 3\n",
       "16. 3\n",
       "17. 3\n",
       "18. 3\n",
       "19. 3\n",
       "20. 3\n",
       "21. 3\n",
       "22. 3\n",
       "23. 3\n",
       "24. 3\n",
       "25. 3\n",
       "26. 3\n",
       "27. 3\n",
       "28. 3\n",
       "29. 3\n",
       "30. 3\n",
       "31. 3\n",
       "32. 3\n",
       "33. 3\n",
       "34. 3\n",
       "35. 3\n",
       "36. 3\n",
       "37. 3\n",
       "38. 3\n",
       "39. 3\n",
       "40. 3\n",
       "41. 3\n",
       "42. 3\n",
       "43. 3\n",
       "44. 3\n",
       "45. 3\n",
       "46. 3\n",
       "47. 3\n",
       "48. 3\n",
       "49. 3\n",
       "50. 3\n",
       "51. 2\n",
       "52. 2\n",
       "53. 1\n",
       "54. 2\n",
       "55. 2\n",
       "56. 2\n",
       "57. 2\n",
       "58. 2\n",
       "59. 2\n",
       "60. 2\n",
       "61. 2\n",
       "62. 2\n",
       "63. 2\n",
       "64. 2\n",
       "65. 2\n",
       "66. 2\n",
       "67. 2\n",
       "68. 2\n",
       "69. 2\n",
       "70. 2\n",
       "71. 2\n",
       "72. 2\n",
       "73. 2\n",
       "74. 2\n",
       "75. 2\n",
       "76. 2\n",
       "77. 2\n",
       "78. 1\n",
       "79. 2\n",
       "80. 2\n",
       "81. 2\n",
       "82. 2\n",
       "83. 2\n",
       "84. 2\n",
       "85. 2\n",
       "86. 2\n",
       "87. 2\n",
       "88. 2\n",
       "89. 2\n",
       "90. 2\n",
       "91. 2\n",
       "92. 2\n",
       "93. 2\n",
       "94. 2\n",
       "95. 2\n",
       "96. 2\n",
       "97. 2\n",
       "98. 2\n",
       "99. 2\n",
       "100. 2\n",
       "101. 1\n",
       "102. 2\n",
       "103. 1\n",
       "104. 1\n",
       "105. 1\n",
       "106. 1\n",
       "107. 2\n",
       "108. 1\n",
       "109. 1\n",
       "110. 1\n",
       "111. 1\n",
       "112. 1\n",
       "113. 1\n",
       "114. 2\n",
       "115. 2\n",
       "116. 1\n",
       "117. 1\n",
       "118. 1\n",
       "119. 1\n",
       "120. 2\n",
       "121. 1\n",
       "122. 2\n",
       "123. 1\n",
       "124. 2\n",
       "125. 1\n",
       "126. 1\n",
       "127. 2\n",
       "128. 2\n",
       "129. 1\n",
       "130. 1\n",
       "131. 1\n",
       "132. 1\n",
       "133. 1\n",
       "134. 2\n",
       "135. 1\n",
       "136. 1\n",
       "137. 1\n",
       "138. 1\n",
       "139. 2\n",
       "140. 1\n",
       "141. 1\n",
       "142. 1\n",
       "143. 2\n",
       "144. 1\n",
       "145. 1\n",
       "146. 1\n",
       "147. 2\n",
       "148. 1\n",
       "149. 1\n",
       "150. 2\n",
       "\n",
       "\n"
      ],
      "text/plain": [
       "  [1] 3 3 3 3 3 3 3 3 3 3 3 3 3 3 3 3 3 3 3 3 3 3 3 3 3 3 3 3 3 3 3 3 3 3 3 3 3\n",
       " [38] 3 3 3 3 3 3 3 3 3 3 3 3 3 2 2 1 2 2 2 2 2 2 2 2 2 2 2 2 2 2 2 2 2 2 2 2 2\n",
       " [75] 2 2 2 1 2 2 2 2 2 2 2 2 2 2 2 2 2 2 2 2 2 2 2 2 2 2 1 2 1 1 1 1 2 1 1 1 1\n",
       "[112] 1 1 2 2 1 1 1 1 2 1 2 1 2 1 1 2 2 1 1 1 1 1 2 1 1 1 1 2 1 1 1 2 1 1 1 2 1\n",
       "[149] 1 2"
      ]
     },
     "metadata": {},
     "output_type": "display_data"
    }
   ],
   "source": [
    "km.out.k3 = kmeans(iris2, centers = 3)\n",
    "km.out.k3$centers\n",
    "km.out.k3$cluster"
   ]
  },
  {
   "cell_type": "code",
   "execution_count": 247,
   "metadata": {},
   "outputs": [
    {
     "data": {
      "text/html": [
       "<ol class=list-inline>\n",
       "\t<li>38</li>\n",
       "\t<li>62</li>\n",
       "\t<li>50</li>\n",
       "</ol>\n"
      ],
      "text/latex": [
       "\\begin{enumerate*}\n",
       "\\item 38\n",
       "\\item 62\n",
       "\\item 50\n",
       "\\end{enumerate*}\n"
      ],
      "text/markdown": [
       "1. 38\n",
       "2. 62\n",
       "3. 50\n",
       "\n",
       "\n"
      ],
      "text/plain": [
       "[1] 38 62 50"
      ]
     },
     "metadata": {},
     "output_type": "display_data"
    }
   ],
   "source": [
    "km.out.k3$size"
   ]
  },
  {
   "cell_type": "code",
   "execution_count": 248,
   "metadata": {},
   "outputs": [
    {
     "data": {
      "text/plain": [
       "   \n",
       "    setosa versicolor virginica\n",
       "  1      0          2        36\n",
       "  2      0         48        14\n",
       "  3     50          0         0"
      ]
     },
     "metadata": {},
     "output_type": "display_data"
    }
   ],
   "source": [
    "table(km.out.k3$cluster, iris$Species)"
   ]
  },
  {
   "cell_type": "code",
   "execution_count": 256,
   "metadata": {
    "scrolled": false
   },
   "outputs": [
    {
     "ename": "ERROR",
     "evalue": "Error in xy.coords(x, y): 'x' and 'y' lengths differ\n",
     "output_type": "error",
     "traceback": [
      "Error in xy.coords(x, y): 'x' and 'y' lengths differ\nTraceback:\n",
      "1. points(km.out.k3$centers, col = 1:3, pch = 16, 17, 18, cex = 5)",
      "2. points.default(km.out.k3$centers, col = 1:3, pch = 16, 17, 18, \n .     cex = 5)",
      "3. plot.xy(xy.coords(x, y), type = type, ...)",
      "4. xy.coords(x, y)",
      "5. stop(\"'x' and 'y' lengths differ\")"
     ]
    },
    {
     "data": {
      "image/png": "[encoded data removed]",
      "text/plain": [
       "plot without title"
      ]
     },
     "metadata": {},
     "output_type": "display_data"
    }
   ],
   "source": [
    "plot(iris2[,1:2], col = km.out.k3$cluster, pch = ifelse(km.out.k3$cluster == 1, 16,\n",
    "                                                       ifelse(km.out.k3$cluster == 2, 17, 18)),\n",
    "    cex = 2)\n",
    "points(km.out.k3$centers, col = 1:3, pch = 16, 17, 18, cex = 5)"
   ]
  },
  {
   "cell_type": "code",
   "execution_count": 258,
   "metadata": {
    "scrolled": true
   },
   "outputs": [
    {
     "data": {
      "text/html": [
       "<table>\n",
       "<thead><tr><th></th><th scope=col>Murder</th><th scope=col>Assault</th><th scope=col>UrbanPop</th><th scope=col>Rape</th></tr></thead>\n",
       "<tbody>\n",
       "\t<tr><th scope=row>Alabama</th><td>13.2</td><td>236 </td><td>58  </td><td>21.2</td></tr>\n",
       "\t<tr><th scope=row>Alaska</th><td>10.0</td><td>263 </td><td>48  </td><td>44.5</td></tr>\n",
       "\t<tr><th scope=row>Arizona</th><td> 8.1</td><td>294 </td><td>80  </td><td>31.0</td></tr>\n",
       "\t<tr><th scope=row>Arkansas</th><td> 8.8</td><td>190 </td><td>50  </td><td>19.5</td></tr>\n",
       "\t<tr><th scope=row>California</th><td> 9.0</td><td>276 </td><td>91  </td><td>40.6</td></tr>\n",
       "\t<tr><th scope=row>Colorado</th><td> 7.9</td><td>204 </td><td>78  </td><td>38.7</td></tr>\n",
       "\t<tr><th scope=row>Connecticut</th><td> 3.3</td><td>110 </td><td>77  </td><td>11.1</td></tr>\n",
       "\t<tr><th scope=row>Delaware</th><td> 5.9</td><td>238 </td><td>72  </td><td>15.8</td></tr>\n",
       "\t<tr><th scope=row>Florida</th><td>15.4</td><td>335 </td><td>80  </td><td>31.9</td></tr>\n",
       "\t<tr><th scope=row>Georgia</th><td>17.4</td><td>211 </td><td>60  </td><td>25.8</td></tr>\n",
       "\t<tr><th scope=row>Hawaii</th><td> 5.3</td><td> 46 </td><td>83  </td><td>20.2</td></tr>\n",
       "\t<tr><th scope=row>Idaho</th><td> 2.6</td><td>120 </td><td>54  </td><td>14.2</td></tr>\n",
       "\t<tr><th scope=row>Illinois</th><td>10.4</td><td>249 </td><td>83  </td><td>24.0</td></tr>\n",
       "\t<tr><th scope=row>Indiana</th><td> 7.2</td><td>113 </td><td>65  </td><td>21.0</td></tr>\n",
       "\t<tr><th scope=row>Iowa</th><td> 2.2</td><td> 56 </td><td>57  </td><td>11.3</td></tr>\n",
       "\t<tr><th scope=row>Kansas</th><td> 6.0</td><td>115 </td><td>66  </td><td>18.0</td></tr>\n",
       "\t<tr><th scope=row>Kentucky</th><td> 9.7</td><td>109 </td><td>52  </td><td>16.3</td></tr>\n",
       "\t<tr><th scope=row>Louisiana</th><td>15.4</td><td>249 </td><td>66  </td><td>22.2</td></tr>\n",
       "\t<tr><th scope=row>Maine</th><td> 2.1</td><td> 83 </td><td>51  </td><td> 7.8</td></tr>\n",
       "\t<tr><th scope=row>Maryland</th><td>11.3</td><td>300 </td><td>67  </td><td>27.8</td></tr>\n",
       "\t<tr><th scope=row>Massachusetts</th><td> 4.4</td><td>149 </td><td>85  </td><td>16.3</td></tr>\n",
       "\t<tr><th scope=row>Michigan</th><td>12.1</td><td>255 </td><td>74  </td><td>35.1</td></tr>\n",
       "\t<tr><th scope=row>Minnesota</th><td> 2.7</td><td> 72 </td><td>66  </td><td>14.9</td></tr>\n",
       "\t<tr><th scope=row>Mississippi</th><td>16.1</td><td>259 </td><td>44  </td><td>17.1</td></tr>\n",
       "\t<tr><th scope=row>Missouri</th><td> 9.0</td><td>178 </td><td>70  </td><td>28.2</td></tr>\n",
       "\t<tr><th scope=row>Montana</th><td> 6.0</td><td>109 </td><td>53  </td><td>16.4</td></tr>\n",
       "\t<tr><th scope=row>Nebraska</th><td> 4.3</td><td>102 </td><td>62  </td><td>16.5</td></tr>\n",
       "\t<tr><th scope=row>Nevada</th><td>12.2</td><td>252 </td><td>81  </td><td>46.0</td></tr>\n",
       "\t<tr><th scope=row>New Hampshire</th><td> 2.1</td><td> 57 </td><td>56  </td><td> 9.5</td></tr>\n",
       "\t<tr><th scope=row>New Jersey</th><td> 7.4</td><td>159 </td><td>89  </td><td>18.8</td></tr>\n",
       "\t<tr><th scope=row>New Mexico</th><td>11.4</td><td>285 </td><td>70  </td><td>32.1</td></tr>\n",
       "\t<tr><th scope=row>New York</th><td>11.1</td><td>254 </td><td>86  </td><td>26.1</td></tr>\n",
       "\t<tr><th scope=row>North Carolina</th><td>13.0</td><td>337 </td><td>45  </td><td>16.1</td></tr>\n",
       "\t<tr><th scope=row>North Dakota</th><td> 0.8</td><td> 45 </td><td>44  </td><td> 7.3</td></tr>\n",
       "\t<tr><th scope=row>Ohio</th><td> 7.3</td><td>120 </td><td>75  </td><td>21.4</td></tr>\n",
       "\t<tr><th scope=row>Oklahoma</th><td> 6.6</td><td>151 </td><td>68  </td><td>20.0</td></tr>\n",
       "\t<tr><th scope=row>Oregon</th><td> 4.9</td><td>159 </td><td>67  </td><td>29.3</td></tr>\n",
       "\t<tr><th scope=row>Pennsylvania</th><td> 6.3</td><td>106 </td><td>72  </td><td>14.9</td></tr>\n",
       "\t<tr><th scope=row>Rhode Island</th><td> 3.4</td><td>174 </td><td>87  </td><td> 8.3</td></tr>\n",
       "\t<tr><th scope=row>South Carolina</th><td>14.4</td><td>279 </td><td>48  </td><td>22.5</td></tr>\n",
       "\t<tr><th scope=row>South Dakota</th><td> 3.8</td><td> 86 </td><td>45  </td><td>12.8</td></tr>\n",
       "\t<tr><th scope=row>Tennessee</th><td>13.2</td><td>188 </td><td>59  </td><td>26.9</td></tr>\n",
       "\t<tr><th scope=row>Texas</th><td>12.7</td><td>201 </td><td>80  </td><td>25.5</td></tr>\n",
       "\t<tr><th scope=row>Utah</th><td> 3.2</td><td>120 </td><td>80  </td><td>22.9</td></tr>\n",
       "\t<tr><th scope=row>Vermont</th><td> 2.2</td><td> 48 </td><td>32  </td><td>11.2</td></tr>\n",
       "\t<tr><th scope=row>Virginia</th><td> 8.5</td><td>156 </td><td>63  </td><td>20.7</td></tr>\n",
       "\t<tr><th scope=row>Washington</th><td> 4.0</td><td>145 </td><td>73  </td><td>26.2</td></tr>\n",
       "\t<tr><th scope=row>West Virginia</th><td> 5.7</td><td> 81 </td><td>39  </td><td> 9.3</td></tr>\n",
       "\t<tr><th scope=row>Wisconsin</th><td> 2.6</td><td> 53 </td><td>66  </td><td>10.8</td></tr>\n",
       "\t<tr><th scope=row>Wyoming</th><td> 6.8</td><td>161 </td><td>60  </td><td>15.6</td></tr>\n",
       "</tbody>\n",
       "</table>\n"
      ],
      "text/latex": [
       "\\begin{tabular}{r|llll}\n",
       "  & Murder & Assault & UrbanPop & Rape\\\\\n",
       "\\hline\n",
       "\tAlabama & 13.2 & 236  & 58   & 21.2\\\\\n",
       "\tAlaska & 10.0 & 263  & 48   & 44.5\\\\\n",
       "\tArizona &  8.1 & 294  & 80   & 31.0\\\\\n",
       "\tArkansas &  8.8 & 190  & 50   & 19.5\\\\\n",
       "\tCalifornia &  9.0 & 276  & 91   & 40.6\\\\\n",
       "\tColorado &  7.9 & 204  & 78   & 38.7\\\\\n",
       "\tConnecticut &  3.3 & 110  & 77   & 11.1\\\\\n",
       "\tDelaware &  5.9 & 238  & 72   & 15.8\\\\\n",
       "\tFlorida & 15.4 & 335  & 80   & 31.9\\\\\n",
       "\tGeorgia & 17.4 & 211  & 60   & 25.8\\\\\n",
       "\tHawaii &  5.3 &  46  & 83   & 20.2\\\\\n",
       "\tIdaho &  2.6 & 120  & 54   & 14.2\\\\\n",
       "\tIllinois & 10.4 & 249  & 83   & 24.0\\\\\n",
       "\tIndiana &  7.2 & 113  & 65   & 21.0\\\\\n",
       "\tIowa &  2.2 &  56  & 57   & 11.3\\\\\n",
       "\tKansas &  6.0 & 115  & 66   & 18.0\\\\\n",
       "\tKentucky &  9.7 & 109  & 52   & 16.3\\\\\n",
       "\tLouisiana & 15.4 & 249  & 66   & 22.2\\\\\n",
       "\tMaine &  2.1 &  83  & 51   &  7.8\\\\\n",
       "\tMaryland & 11.3 & 300  & 67   & 27.8\\\\\n",
       "\tMassachusetts &  4.4 & 149  & 85   & 16.3\\\\\n",
       "\tMichigan & 12.1 & 255  & 74   & 35.1\\\\\n",
       "\tMinnesota &  2.7 &  72  & 66   & 14.9\\\\\n",
       "\tMississippi & 16.1 & 259  & 44   & 17.1\\\\\n",
       "\tMissouri &  9.0 & 178  & 70   & 28.2\\\\\n",
       "\tMontana &  6.0 & 109  & 53   & 16.4\\\\\n",
       "\tNebraska &  4.3 & 102  & 62   & 16.5\\\\\n",
       "\tNevada & 12.2 & 252  & 81   & 46.0\\\\\n",
       "\tNew Hampshire &  2.1 &  57  & 56   &  9.5\\\\\n",
       "\tNew Jersey &  7.4 & 159  & 89   & 18.8\\\\\n",
       "\tNew Mexico & 11.4 & 285  & 70   & 32.1\\\\\n",
       "\tNew York & 11.1 & 254  & 86   & 26.1\\\\\n",
       "\tNorth Carolina & 13.0 & 337  & 45   & 16.1\\\\\n",
       "\tNorth Dakota &  0.8 &  45  & 44   &  7.3\\\\\n",
       "\tOhio &  7.3 & 120  & 75   & 21.4\\\\\n",
       "\tOklahoma &  6.6 & 151  & 68   & 20.0\\\\\n",
       "\tOregon &  4.9 & 159  & 67   & 29.3\\\\\n",
       "\tPennsylvania &  6.3 & 106  & 72   & 14.9\\\\\n",
       "\tRhode Island &  3.4 & 174  & 87   &  8.3\\\\\n",
       "\tSouth Carolina & 14.4 & 279  & 48   & 22.5\\\\\n",
       "\tSouth Dakota &  3.8 &  86  & 45   & 12.8\\\\\n",
       "\tTennessee & 13.2 & 188  & 59   & 26.9\\\\\n",
       "\tTexas & 12.7 & 201  & 80   & 25.5\\\\\n",
       "\tUtah &  3.2 & 120  & 80   & 22.9\\\\\n",
       "\tVermont &  2.2 &  48  & 32   & 11.2\\\\\n",
       "\tVirginia &  8.5 & 156  & 63   & 20.7\\\\\n",
       "\tWashington &  4.0 & 145  & 73   & 26.2\\\\\n",
       "\tWest Virginia &  5.7 &  81  & 39   &  9.3\\\\\n",
       "\tWisconsin &  2.6 &  53  & 66   & 10.8\\\\\n",
       "\tWyoming &  6.8 & 161  & 60   & 15.6\\\\\n",
       "\\end{tabular}\n"
      ],
      "text/markdown": [
       "\n",
       "| <!--/--> | Murder | Assault | UrbanPop | Rape |\n",
       "|---|---|---|---|---|\n",
       "| Alabama | 13.2 | 236  | 58   | 21.2 |\n",
       "| Alaska | 10.0 | 263  | 48   | 44.5 |\n",
       "| Arizona |  8.1 | 294  | 80   | 31.0 |\n",
       "| Arkansas |  8.8 | 190  | 50   | 19.5 |\n",
       "| California |  9.0 | 276  | 91   | 40.6 |\n",
       "| Colorado |  7.9 | 204  | 78   | 38.7 |\n",
       "| Connecticut |  3.3 | 110  | 77   | 11.1 |\n",
       "| Delaware |  5.9 | 238  | 72   | 15.8 |\n",
       "| Florida | 15.4 | 335  | 80   | 31.9 |\n",
       "| Georgia | 17.4 | 211  | 60   | 25.8 |\n",
       "| Hawaii |  5.3 |  46  | 83   | 20.2 |\n",
       "| Idaho |  2.6 | 120  | 54   | 14.2 |\n",
       "| Illinois | 10.4 | 249  | 83   | 24.0 |\n",
       "| Indiana |  7.2 | 113  | 65   | 21.0 |\n",
       "| Iowa |  2.2 |  56  | 57   | 11.3 |\n",
       "| Kansas |  6.0 | 115  | 66   | 18.0 |\n",
       "| Kentucky |  9.7 | 109  | 52   | 16.3 |\n",
       "| Louisiana | 15.4 | 249  | 66   | 22.2 |\n",
       "| Maine |  2.1 |  83  | 51   |  7.8 |\n",
       "| Maryland | 11.3 | 300  | 67   | 27.8 |\n",
       "| Massachusetts |  4.4 | 149  | 85   | 16.3 |\n",
       "| Michigan | 12.1 | 255  | 74   | 35.1 |\n",
       "| Minnesota |  2.7 |  72  | 66   | 14.9 |\n",
       "| Mississippi | 16.1 | 259  | 44   | 17.1 |\n",
       "| Missouri |  9.0 | 178  | 70   | 28.2 |\n",
       "| Montana |  6.0 | 109  | 53   | 16.4 |\n",
       "| Nebraska |  4.3 | 102  | 62   | 16.5 |\n",
       "| Nevada | 12.2 | 252  | 81   | 46.0 |\n",
       "| New Hampshire |  2.1 |  57  | 56   |  9.5 |\n",
       "| New Jersey |  7.4 | 159  | 89   | 18.8 |\n",
       "| New Mexico | 11.4 | 285  | 70   | 32.1 |\n",
       "| New York | 11.1 | 254  | 86   | 26.1 |\n",
       "| North Carolina | 13.0 | 337  | 45   | 16.1 |\n",
       "| North Dakota |  0.8 |  45  | 44   |  7.3 |\n",
       "| Ohio |  7.3 | 120  | 75   | 21.4 |\n",
       "| Oklahoma |  6.6 | 151  | 68   | 20.0 |\n",
       "| Oregon |  4.9 | 159  | 67   | 29.3 |\n",
       "| Pennsylvania |  6.3 | 106  | 72   | 14.9 |\n",
       "| Rhode Island |  3.4 | 174  | 87   |  8.3 |\n",
       "| South Carolina | 14.4 | 279  | 48   | 22.5 |\n",
       "| South Dakota |  3.8 |  86  | 45   | 12.8 |\n",
       "| Tennessee | 13.2 | 188  | 59   | 26.9 |\n",
       "| Texas | 12.7 | 201  | 80   | 25.5 |\n",
       "| Utah |  3.2 | 120  | 80   | 22.9 |\n",
       "| Vermont |  2.2 |  48  | 32   | 11.2 |\n",
       "| Virginia |  8.5 | 156  | 63   | 20.7 |\n",
       "| Washington |  4.0 | 145  | 73   | 26.2 |\n",
       "| West Virginia |  5.7 |  81  | 39   |  9.3 |\n",
       "| Wisconsin |  2.6 |  53  | 66   | 10.8 |\n",
       "| Wyoming |  6.8 | 161  | 60   | 15.6 |\n",
       "\n"
      ],
      "text/plain": [
       "               Murder Assault UrbanPop Rape\n",
       "Alabama        13.2   236     58       21.2\n",
       "Alaska         10.0   263     48       44.5\n",
       "Arizona         8.1   294     80       31.0\n",
       "Arkansas        8.8   190     50       19.5\n",
       "California      9.0   276     91       40.6\n",
       "Colorado        7.9   204     78       38.7\n",
       "Connecticut     3.3   110     77       11.1\n",
       "Delaware        5.9   238     72       15.8\n",
       "Florida        15.4   335     80       31.9\n",
       "Georgia        17.4   211     60       25.8\n",
       "Hawaii          5.3    46     83       20.2\n",
       "Idaho           2.6   120     54       14.2\n",
       "Illinois       10.4   249     83       24.0\n",
       "Indiana         7.2   113     65       21.0\n",
       "Iowa            2.2    56     57       11.3\n",
       "Kansas          6.0   115     66       18.0\n",
       "Kentucky        9.7   109     52       16.3\n",
       "Louisiana      15.4   249     66       22.2\n",
       "Maine           2.1    83     51        7.8\n",
       "Maryland       11.3   300     67       27.8\n",
       "Massachusetts   4.4   149     85       16.3\n",
       "Michigan       12.1   255     74       35.1\n",
       "Minnesota       2.7    72     66       14.9\n",
       "Mississippi    16.1   259     44       17.1\n",
       "Missouri        9.0   178     70       28.2\n",
       "Montana         6.0   109     53       16.4\n",
       "Nebraska        4.3   102     62       16.5\n",
       "Nevada         12.2   252     81       46.0\n",
       "New Hampshire   2.1    57     56        9.5\n",
       "New Jersey      7.4   159     89       18.8\n",
       "New Mexico     11.4   285     70       32.1\n",
       "New York       11.1   254     86       26.1\n",
       "North Carolina 13.0   337     45       16.1\n",
       "North Dakota    0.8    45     44        7.3\n",
       "Ohio            7.3   120     75       21.4\n",
       "Oklahoma        6.6   151     68       20.0\n",
       "Oregon          4.9   159     67       29.3\n",
       "Pennsylvania    6.3   106     72       14.9\n",
       "Rhode Island    3.4   174     87        8.3\n",
       "South Carolina 14.4   279     48       22.5\n",
       "South Dakota    3.8    86     45       12.8\n",
       "Tennessee      13.2   188     59       26.9\n",
       "Texas          12.7   201     80       25.5\n",
       "Utah            3.2   120     80       22.9\n",
       "Vermont         2.2    48     32       11.2\n",
       "Virginia        8.5   156     63       20.7\n",
       "Washington      4.0   145     73       26.2\n",
       "West Virginia   5.7    81     39        9.3\n",
       "Wisconsin       2.6    53     66       10.8\n",
       "Wyoming         6.8   161     60       15.6"
      ]
     },
     "metadata": {},
     "output_type": "display_data"
    }
   ],
   "source": [
    "USArrests"
   ]
  },
  {
   "cell_type": "code",
   "execution_count": 265,
   "metadata": {},
   "outputs": [],
   "source": [
    "pc1 = princomp(USArrests, cor = T)"
   ]
  },
  {
   "cell_type": "code",
   "execution_count": 266,
   "metadata": {},
   "outputs": [
    {
     "data": {
      "image/png": "[encoded data removed]",
      "text/plain": [
       "Plot with title \"pc1\""
      ]
     },
     "metadata": {},
     "output_type": "display_data"
    }
   ],
   "source": [
    "plot(pc1)"
   ]
  },
  {
   "cell_type": "code",
   "execution_count": 267,
   "metadata": {},
   "outputs": [
    {
     "data": {
      "text/plain": [
       "Importance of components:\n",
       "                          Comp.1    Comp.2    Comp.3     Comp.4\n",
       "Standard deviation     1.5748783 0.9948694 0.5971291 0.41644938\n",
       "Proportion of Variance 0.6200604 0.2474413 0.0891408 0.04335752\n",
       "Cumulative Proportion  0.6200604 0.8675017 0.9566425 1.00000000"
      ]
     },
     "metadata": {},
     "output_type": "display_data"
    }
   ],
   "source": [
    "summary(pc1)"
   ]
  },
  {
   "cell_type": "code",
   "execution_count": 270,
   "metadata": {},
   "outputs": [
    {
     "data": {
      "text/html": [
       "<dl class=dl-horizontal>\n",
       "\t<dt>Murder</dt>\n",
       "\t\t<dd>7.788</dd>\n",
       "\t<dt>Assault</dt>\n",
       "\t\t<dd>170.76</dd>\n",
       "\t<dt>UrbanPop</dt>\n",
       "\t\t<dd>65.54</dd>\n",
       "\t<dt>Rape</dt>\n",
       "\t\t<dd>21.232</dd>\n",
       "</dl>\n"
      ],
      "text/latex": [
       "\\begin{description*}\n",
       "\\item[Murder] 7.788\n",
       "\\item[Assault] 170.76\n",
       "\\item[UrbanPop] 65.54\n",
       "\\item[Rape] 21.232\n",
       "\\end{description*}\n"
      ],
      "text/markdown": [
       "Murder\n",
       ":   7.788Assault\n",
       ":   170.76UrbanPop\n",
       ":   65.54Rape\n",
       ":   21.232\n",
       "\n"
      ],
      "text/plain": [
       "  Murder  Assault UrbanPop     Rape \n",
       "   7.788  170.760   65.540   21.232 "
      ]
     },
     "metadata": {},
     "output_type": "display_data"
    }
   ],
   "source": [
    "pc1$center"
   ]
  },
  {
   "cell_type": "code",
   "execution_count": 269,
   "metadata": {},
   "outputs": [
    {
     "data": {
      "text/html": [
       "<dl class=dl-horizontal>\n",
       "\t<dt>Murder</dt>\n",
       "\t\t<dd>4.31173468571525</dd>\n",
       "\t<dt>Assault</dt>\n",
       "\t\t<dd>82.5000751514809</dd>\n",
       "\t<dt>UrbanPop</dt>\n",
       "\t\t<dd>14.3292846995236</dd>\n",
       "\t<dt>Rape</dt>\n",
       "\t\t<dd>9.27224762395828</dd>\n",
       "</dl>\n"
      ],
      "text/latex": [
       "\\begin{description*}\n",
       "\\item[Murder] 4.31173468571525\n",
       "\\item[Assault] 82.5000751514809\n",
       "\\item[UrbanPop] 14.3292846995236\n",
       "\\item[Rape] 9.27224762395828\n",
       "\\end{description*}\n"
      ],
      "text/markdown": [
       "Murder\n",
       ":   4.31173468571525Assault\n",
       ":   82.5000751514809UrbanPop\n",
       ":   14.3292846995236Rape\n",
       ":   9.27224762395828\n",
       "\n"
      ],
      "text/plain": [
       "   Murder   Assault  UrbanPop      Rape \n",
       " 4.311735 82.500075 14.329285  9.272248 "
      ]
     },
     "metadata": {},
     "output_type": "display_data"
    }
   ],
   "source": [
    "pc1$scale"
   ]
  },
  {
   "cell_type": "code",
   "execution_count": 271,
   "metadata": {},
   "outputs": [
    {
     "data": {
      "text/plain": [
       "\n",
       "Loadings:\n",
       "         Comp.1 Comp.2 Comp.3 Comp.4\n",
       "Murder    0.536  0.418  0.341  0.649\n",
       "Assault   0.583  0.188  0.268 -0.743\n",
       "UrbanPop  0.278 -0.873  0.378  0.134\n",
       "Rape      0.543 -0.167 -0.818       \n",
       "\n",
       "               Comp.1 Comp.2 Comp.3 Comp.4\n",
       "SS loadings      1.00   1.00   1.00   1.00\n",
       "Proportion Var   0.25   0.25   0.25   0.25\n",
       "Cumulative Var   0.25   0.50   0.75   1.00"
      ]
     },
     "metadata": {},
     "output_type": "display_data"
    }
   ],
   "source": [
    "pc1$loadings"
   ]
  },
  {
   "cell_type": "code",
   "execution_count": 273,
   "metadata": {},
   "outputs": [
    {
     "data": {
      "text/html": [
       "<table>\n",
       "<thead><tr><th></th><th scope=col>Comp.1</th><th scope=col>Comp.2</th><th scope=col>Comp.3</th><th scope=col>Comp.4</th></tr></thead>\n",
       "<tbody>\n",
       "\t<tr><th scope=row>Alabama</th><td> 0.98556588 </td><td> 1.13339238 </td><td> 0.44426879 </td><td> 0.156267145</td></tr>\n",
       "\t<tr><th scope=row>Alaska</th><td> 1.95013775 </td><td> 1.07321326 </td><td>-2.04000333 </td><td>-0.438583440</td></tr>\n",
       "\t<tr><th scope=row>Arizona</th><td> 1.76316354 </td><td>-0.74595678 </td><td>-0.05478082 </td><td>-0.834652924</td></tr>\n",
       "\t<tr><th scope=row>Arkansas</th><td>-0.14142029 </td><td> 1.11979678 </td><td>-0.11457369 </td><td>-0.182810896</td></tr>\n",
       "\t<tr><th scope=row>California</th><td> 2.52398013 </td><td>-1.54293399 </td><td>-0.59855680 </td><td>-0.341996478</td></tr>\n",
       "\t<tr><th scope=row>Colorado</th><td> 1.51456286 </td><td>-0.98755509 </td><td>-1.09500699 </td><td> 0.001464887</td></tr>\n",
       "\t<tr><th scope=row>Connecticut</th><td>-1.35864746 </td><td>-1.08892789 </td><td> 0.64325757 </td><td>-0.118469414</td></tr>\n",
       "\t<tr><th scope=row>Delaware</th><td> 0.04770931 </td><td>-0.32535892 </td><td> 0.71863294 </td><td>-0.881977637</td></tr>\n",
       "\t<tr><th scope=row>Florida</th><td> 3.01304227 </td><td> 0.03922851 </td><td> 0.57682949 </td><td>-0.096284752</td></tr>\n",
       "\t<tr><th scope=row>Georgia</th><td> 1.63928304 </td><td> 1.27894240 </td><td> 0.34246008 </td><td> 1.076796812</td></tr>\n",
       "\t<tr><th scope=row>Hawaii</th><td>-0.91265715 </td><td>-1.57046001 </td><td>-0.05078189 </td><td> 0.902806864</td></tr>\n",
       "\t<tr><th scope=row>Idaho</th><td>-1.63979985 </td><td> 0.21097292 </td><td>-0.25980134 </td><td>-0.499104101</td></tr>\n",
       "\t<tr><th scope=row>Illinois</th><td> 1.37891072 </td><td>-0.68184119 </td><td> 0.67749564 </td><td>-0.122021292</td></tr>\n",
       "\t<tr><th scope=row>Indiana</th><td>-0.50546136 </td><td>-0.15156254 </td><td>-0.22805484 </td><td> 0.424665700</td></tr>\n",
       "\t<tr><th scope=row>Iowa</th><td>-2.25364607 </td><td>-0.10405407 </td><td>-0.16456432 </td><td> 0.017555916</td></tr>\n",
       "\t<tr><th scope=row>Kansas</th><td>-0.79688112 </td><td>-0.27016470 </td><td>-0.02555331 </td><td> 0.206496428</td></tr>\n",
       "\t<tr><th scope=row>Kentucky</th><td>-0.75085907 </td><td> 0.95844029 </td><td> 0.02836942 </td><td> 0.670556671</td></tr>\n",
       "\t<tr><th scope=row>Louisiana</th><td> 1.56481798 </td><td> 0.87105466 </td><td> 0.78348036 </td><td> 0.454728038</td></tr>\n",
       "\t<tr><th scope=row>Maine</th><td>-2.39682949 </td><td> 0.37639158 </td><td> 0.06568239 </td><td>-0.330459817</td></tr>\n",
       "\t<tr><th scope=row>Maryland</th><td> 1.76336939 </td><td> 0.42765519 </td><td> 0.15725013 </td><td>-0.559069521</td></tr>\n",
       "\t<tr><th scope=row>Massachusetts</th><td>-0.48616629 </td><td>-1.47449650 </td><td> 0.60949748 </td><td>-0.179598963</td></tr>\n",
       "\t<tr><th scope=row>Michigan</th><td> 2.10844115 </td><td>-0.15539682 </td><td>-0.38486858 </td><td> 0.102372019</td></tr>\n",
       "\t<tr><th scope=row>Minnesota</th><td>-1.69268181 </td><td>-0.63226125 </td><td>-0.15307043 </td><td> 0.067316885</td></tr>\n",
       "\t<tr><th scope=row>Mississippi</th><td> 0.99649446 </td><td> 2.39379599 </td><td> 0.74080840 </td><td> 0.215508013</td></tr>\n",
       "\t<tr><th scope=row>Missouri</th><td> 0.69678733 </td><td>-0.26335479 </td><td>-0.37744383 </td><td> 0.225824461</td></tr>\n",
       "\t<tr><th scope=row>Montana</th><td>-1.18545191 </td><td> 0.53687437 </td><td>-0.24688932 </td><td> 0.123742227</td></tr>\n",
       "\t<tr><th scope=row>Nebraska</th><td>-1.26563654 </td><td>-0.19395373 </td><td>-0.17557391 </td><td> 0.015892888</td></tr>\n",
       "\t<tr><th scope=row>Nevada</th><td> 2.87439454 </td><td>-0.77560020 </td><td>-1.16338049 </td><td> 0.314515476</td></tr>\n",
       "\t<tr><th scope=row>New Hampshire</th><td>-2.38391541 </td><td>-0.01808229 </td><td>-0.03685539 </td><td>-0.033137338</td></tr>\n",
       "\t<tr><th scope=row>New Jersey</th><td> 0.18156611 </td><td>-1.44950571 </td><td> 0.76445355 </td><td> 0.243382700</td></tr>\n",
       "\t<tr><th scope=row>New Mexico</th><td> 1.98002375 </td><td> 0.14284878 </td><td>-0.18369218 </td><td>-0.339533597</td></tr>\n",
       "\t<tr><th scope=row>New York</th><td> 1.68257738 </td><td>-0.82318414 </td><td> 0.64307509 </td><td>-0.013484369</td></tr>\n",
       "\t<tr><th scope=row>North Carolina</th><td> 1.12337861 </td><td> 2.22800338 </td><td> 0.86357179 </td><td>-0.954381667</td></tr>\n",
       "\t<tr><th scope=row>North Dakota</th><td>-2.99222562 </td><td> 0.59911882 </td><td>-0.30127728 </td><td>-0.253987327</td></tr>\n",
       "\t<tr><th scope=row>Ohio</th><td>-0.22596542 </td><td>-0.74223824 </td><td> 0.03113912 </td><td> 0.473915911</td></tr>\n",
       "\t<tr><th scope=row>Oklahoma</th><td>-0.31178286 </td><td>-0.28785421 </td><td> 0.01530979 </td><td> 0.010332321</td></tr>\n",
       "\t<tr><th scope=row>Oregon</th><td> 0.05912208 </td><td>-0.54141145 </td><td>-0.93983298 </td><td>-0.237780688</td></tr>\n",
       "\t<tr><th scope=row>Pennsylvania</th><td>-0.88841582 </td><td>-0.57110035 </td><td> 0.40062871 </td><td> 0.359061124</td></tr>\n",
       "\t<tr><th scope=row>Rhode Island</th><td>-0.86377206 </td><td>-1.49197842 </td><td> 1.36994570 </td><td>-0.613569430</td></tr>\n",
       "\t<tr><th scope=row>South Carolina</th><td> 1.32072380 </td><td> 1.93340466 </td><td> 0.30053779 </td><td>-0.131466685</td></tr>\n",
       "\t<tr><th scope=row>South Dakota</th><td>-1.98777484 </td><td> 0.82334324 </td><td>-0.38929333 </td><td>-0.109571764</td></tr>\n",
       "\t<tr><th scope=row>Tennessee</th><td> 0.99974168 </td><td> 0.86025130 </td><td>-0.18808295 </td><td> 0.652864291</td></tr>\n",
       "\t<tr><th scope=row>Texas</th><td> 1.35513821 </td><td>-0.41248082 </td><td> 0.49206886 </td><td> 0.643195491</td></tr>\n",
       "\t<tr><th scope=row>Utah</th><td>-0.55056526 </td><td>-1.47150461 </td><td>-0.29372804 </td><td>-0.082314047</td></tr>\n",
       "\t<tr><th scope=row>Vermont</th><td>-2.80141174 </td><td> 1.40228806 </td><td>-0.84126309 </td><td>-0.144889914</td></tr>\n",
       "\t<tr><th scope=row>Virginia</th><td>-0.09633491 </td><td> 0.19973529 </td><td>-0.01171254 </td><td> 0.211370813</td></tr>\n",
       "\t<tr><th scope=row>Washington</th><td>-0.21690338 </td><td>-0.97012418 </td><td>-0.62487094 </td><td>-0.220847793</td></tr>\n",
       "\t<tr><th scope=row>West Virginia</th><td>-2.10858541 </td><td> 1.42484670 </td><td>-0.10477467 </td><td> 0.131908831</td></tr>\n",
       "\t<tr><th scope=row>Wisconsin</th><td>-2.07971417 </td><td>-0.61126862 </td><td> 0.13886500 </td><td> 0.184103743</td></tr>\n",
       "\t<tr><th scope=row>Wyoming</th><td>-0.62942666 </td><td> 0.32101297 </td><td> 0.24065923 </td><td>-0.166651801</td></tr>\n",
       "</tbody>\n",
       "</table>\n"
      ],
      "text/latex": [
       "\\begin{tabular}{r|llll}\n",
       "  & Comp.1 & Comp.2 & Comp.3 & Comp.4\\\\\n",
       "\\hline\n",
       "\tAlabama &  0.98556588  &  1.13339238  &  0.44426879  &  0.156267145\\\\\n",
       "\tAlaska &  1.95013775  &  1.07321326  & -2.04000333  & -0.438583440\\\\\n",
       "\tArizona &  1.76316354  & -0.74595678  & -0.05478082  & -0.834652924\\\\\n",
       "\tArkansas & -0.14142029  &  1.11979678  & -0.11457369  & -0.182810896\\\\\n",
       "\tCalifornia &  2.52398013  & -1.54293399  & -0.59855680  & -0.341996478\\\\\n",
       "\tColorado &  1.51456286  & -0.98755509  & -1.09500699  &  0.001464887\\\\\n",
       "\tConnecticut & -1.35864746  & -1.08892789  &  0.64325757  & -0.118469414\\\\\n",
       "\tDelaware &  0.04770931  & -0.32535892  &  0.71863294  & -0.881977637\\\\\n",
       "\tFlorida &  3.01304227  &  0.03922851  &  0.57682949  & -0.096284752\\\\\n",
       "\tGeorgia &  1.63928304  &  1.27894240  &  0.34246008  &  1.076796812\\\\\n",
       "\tHawaii & -0.91265715  & -1.57046001  & -0.05078189  &  0.902806864\\\\\n",
       "\tIdaho & -1.63979985  &  0.21097292  & -0.25980134  & -0.499104101\\\\\n",
       "\tIllinois &  1.37891072  & -0.68184119  &  0.67749564  & -0.122021292\\\\\n",
       "\tIndiana & -0.50546136  & -0.15156254  & -0.22805484  &  0.424665700\\\\\n",
       "\tIowa & -2.25364607  & -0.10405407  & -0.16456432  &  0.017555916\\\\\n",
       "\tKansas & -0.79688112  & -0.27016470  & -0.02555331  &  0.206496428\\\\\n",
       "\tKentucky & -0.75085907  &  0.95844029  &  0.02836942  &  0.670556671\\\\\n",
       "\tLouisiana &  1.56481798  &  0.87105466  &  0.78348036  &  0.454728038\\\\\n",
       "\tMaine & -2.39682949  &  0.37639158  &  0.06568239  & -0.330459817\\\\\n",
       "\tMaryland &  1.76336939  &  0.42765519  &  0.15725013  & -0.559069521\\\\\n",
       "\tMassachusetts & -0.48616629  & -1.47449650  &  0.60949748  & -0.179598963\\\\\n",
       "\tMichigan &  2.10844115  & -0.15539682  & -0.38486858  &  0.102372019\\\\\n",
       "\tMinnesota & -1.69268181  & -0.63226125  & -0.15307043  &  0.067316885\\\\\n",
       "\tMississippi &  0.99649446  &  2.39379599  &  0.74080840  &  0.215508013\\\\\n",
       "\tMissouri &  0.69678733  & -0.26335479  & -0.37744383  &  0.225824461\\\\\n",
       "\tMontana & -1.18545191  &  0.53687437  & -0.24688932  &  0.123742227\\\\\n",
       "\tNebraska & -1.26563654  & -0.19395373  & -0.17557391  &  0.015892888\\\\\n",
       "\tNevada &  2.87439454  & -0.77560020  & -1.16338049  &  0.314515476\\\\\n",
       "\tNew Hampshire & -2.38391541  & -0.01808229  & -0.03685539  & -0.033137338\\\\\n",
       "\tNew Jersey &  0.18156611  & -1.44950571  &  0.76445355  &  0.243382700\\\\\n",
       "\tNew Mexico &  1.98002375  &  0.14284878  & -0.18369218  & -0.339533597\\\\\n",
       "\tNew York &  1.68257738  & -0.82318414  &  0.64307509  & -0.013484369\\\\\n",
       "\tNorth Carolina &  1.12337861  &  2.22800338  &  0.86357179  & -0.954381667\\\\\n",
       "\tNorth Dakota & -2.99222562  &  0.59911882  & -0.30127728  & -0.253987327\\\\\n",
       "\tOhio & -0.22596542  & -0.74223824  &  0.03113912  &  0.473915911\\\\\n",
       "\tOklahoma & -0.31178286  & -0.28785421  &  0.01530979  &  0.010332321\\\\\n",
       "\tOregon &  0.05912208  & -0.54141145  & -0.93983298  & -0.237780688\\\\\n",
       "\tPennsylvania & -0.88841582  & -0.57110035  &  0.40062871  &  0.359061124\\\\\n",
       "\tRhode Island & -0.86377206  & -1.49197842  &  1.36994570  & -0.613569430\\\\\n",
       "\tSouth Carolina &  1.32072380  &  1.93340466  &  0.30053779  & -0.131466685\\\\\n",
       "\tSouth Dakota & -1.98777484  &  0.82334324  & -0.38929333  & -0.109571764\\\\\n",
       "\tTennessee &  0.99974168  &  0.86025130  & -0.18808295  &  0.652864291\\\\\n",
       "\tTexas &  1.35513821  & -0.41248082  &  0.49206886  &  0.643195491\\\\\n",
       "\tUtah & -0.55056526  & -1.47150461  & -0.29372804  & -0.082314047\\\\\n",
       "\tVermont & -2.80141174  &  1.40228806  & -0.84126309  & -0.144889914\\\\\n",
       "\tVirginia & -0.09633491  &  0.19973529  & -0.01171254  &  0.211370813\\\\\n",
       "\tWashington & -0.21690338  & -0.97012418  & -0.62487094  & -0.220847793\\\\\n",
       "\tWest Virginia & -2.10858541  &  1.42484670  & -0.10477467  &  0.131908831\\\\\n",
       "\tWisconsin & -2.07971417  & -0.61126862  &  0.13886500  &  0.184103743\\\\\n",
       "\tWyoming & -0.62942666  &  0.32101297  &  0.24065923  & -0.166651801\\\\\n",
       "\\end{tabular}\n"
      ],
      "text/markdown": [
       "\n",
       "| <!--/--> | Comp.1 | Comp.2 | Comp.3 | Comp.4 |\n",
       "|---|---|---|---|---|\n",
       "| Alabama |  0.98556588  |  1.13339238  |  0.44426879  |  0.156267145 |\n",
       "| Alaska |  1.95013775  |  1.07321326  | -2.04000333  | -0.438583440 |\n",
       "| Arizona |  1.76316354  | -0.74595678  | -0.05478082  | -0.834652924 |\n",
       "| Arkansas | -0.14142029  |  1.11979678  | -0.11457369  | -0.182810896 |\n",
       "| California |  2.52398013  | -1.54293399  | -0.59855680  | -0.341996478 |\n",
       "| Colorado |  1.51456286  | -0.98755509  | -1.09500699  |  0.001464887 |\n",
       "| Connecticut | -1.35864746  | -1.08892789  |  0.64325757  | -0.118469414 |\n",
       "| Delaware |  0.04770931  | -0.32535892  |  0.71863294  | -0.881977637 |\n",
       "| Florida |  3.01304227  |  0.03922851  |  0.57682949  | -0.096284752 |\n",
       "| Georgia |  1.63928304  |  1.27894240  |  0.34246008  |  1.076796812 |\n",
       "| Hawaii | -0.91265715  | -1.57046001  | -0.05078189  |  0.902806864 |\n",
       "| Idaho | -1.63979985  |  0.21097292  | -0.25980134  | -0.499104101 |\n",
       "| Illinois |  1.37891072  | -0.68184119  |  0.67749564  | -0.122021292 |\n",
       "| Indiana | -0.50546136  | -0.15156254  | -0.22805484  |  0.424665700 |\n",
       "| Iowa | -2.25364607  | -0.10405407  | -0.16456432  |  0.017555916 |\n",
       "| Kansas | -0.79688112  | -0.27016470  | -0.02555331  |  0.206496428 |\n",
       "| Kentucky | -0.75085907  |  0.95844029  |  0.02836942  |  0.670556671 |\n",
       "| Louisiana |  1.56481798  |  0.87105466  |  0.78348036  |  0.454728038 |\n",
       "| Maine | -2.39682949  |  0.37639158  |  0.06568239  | -0.330459817 |\n",
       "| Maryland |  1.76336939  |  0.42765519  |  0.15725013  | -0.559069521 |\n",
       "| Massachusetts | -0.48616629  | -1.47449650  |  0.60949748  | -0.179598963 |\n",
       "| Michigan |  2.10844115  | -0.15539682  | -0.38486858  |  0.102372019 |\n",
       "| Minnesota | -1.69268181  | -0.63226125  | -0.15307043  |  0.067316885 |\n",
       "| Mississippi |  0.99649446  |  2.39379599  |  0.74080840  |  0.215508013 |\n",
       "| Missouri |  0.69678733  | -0.26335479  | -0.37744383  |  0.225824461 |\n",
       "| Montana | -1.18545191  |  0.53687437  | -0.24688932  |  0.123742227 |\n",
       "| Nebraska | -1.26563654  | -0.19395373  | -0.17557391  |  0.015892888 |\n",
       "| Nevada |  2.87439454  | -0.77560020  | -1.16338049  |  0.314515476 |\n",
       "| New Hampshire | -2.38391541  | -0.01808229  | -0.03685539  | -0.033137338 |\n",
       "| New Jersey |  0.18156611  | -1.44950571  |  0.76445355  |  0.243382700 |\n",
       "| New Mexico |  1.98002375  |  0.14284878  | -0.18369218  | -0.339533597 |\n",
       "| New York |  1.68257738  | -0.82318414  |  0.64307509  | -0.013484369 |\n",
       "| North Carolina |  1.12337861  |  2.22800338  |  0.86357179  | -0.954381667 |\n",
       "| North Dakota | -2.99222562  |  0.59911882  | -0.30127728  | -0.253987327 |\n",
       "| Ohio | -0.22596542  | -0.74223824  |  0.03113912  |  0.473915911 |\n",
       "| Oklahoma | -0.31178286  | -0.28785421  |  0.01530979  |  0.010332321 |\n",
       "| Oregon |  0.05912208  | -0.54141145  | -0.93983298  | -0.237780688 |\n",
       "| Pennsylvania | -0.88841582  | -0.57110035  |  0.40062871  |  0.359061124 |\n",
       "| Rhode Island | -0.86377206  | -1.49197842  |  1.36994570  | -0.613569430 |\n",
       "| South Carolina |  1.32072380  |  1.93340466  |  0.30053779  | -0.131466685 |\n",
       "| South Dakota | -1.98777484  |  0.82334324  | -0.38929333  | -0.109571764 |\n",
       "| Tennessee |  0.99974168  |  0.86025130  | -0.18808295  |  0.652864291 |\n",
       "| Texas |  1.35513821  | -0.41248082  |  0.49206886  |  0.643195491 |\n",
       "| Utah | -0.55056526  | -1.47150461  | -0.29372804  | -0.082314047 |\n",
       "| Vermont | -2.80141174  |  1.40228806  | -0.84126309  | -0.144889914 |\n",
       "| Virginia | -0.09633491  |  0.19973529  | -0.01171254  |  0.211370813 |\n",
       "| Washington | -0.21690338  | -0.97012418  | -0.62487094  | -0.220847793 |\n",
       "| West Virginia | -2.10858541  |  1.42484670  | -0.10477467  |  0.131908831 |\n",
       "| Wisconsin | -2.07971417  | -0.61126862  |  0.13886500  |  0.184103743 |\n",
       "| Wyoming | -0.62942666  |  0.32101297  |  0.24065923  | -0.166651801 |\n",
       "\n"
      ],
      "text/plain": [
       "               Comp.1      Comp.2      Comp.3      Comp.4      \n",
       "Alabama         0.98556588  1.13339238  0.44426879  0.156267145\n",
       "Alaska          1.95013775  1.07321326 -2.04000333 -0.438583440\n",
       "Arizona         1.76316354 -0.74595678 -0.05478082 -0.834652924\n",
       "Arkansas       -0.14142029  1.11979678 -0.11457369 -0.182810896\n",
       "California      2.52398013 -1.54293399 -0.59855680 -0.341996478\n",
       "Colorado        1.51456286 -0.98755509 -1.09500699  0.001464887\n",
       "Connecticut    -1.35864746 -1.08892789  0.64325757 -0.118469414\n",
       "Delaware        0.04770931 -0.32535892  0.71863294 -0.881977637\n",
       "Florida         3.01304227  0.03922851  0.57682949 -0.096284752\n",
       "Georgia         1.63928304  1.27894240  0.34246008  1.076796812\n",
       "Hawaii         -0.91265715 -1.57046001 -0.05078189  0.902806864\n",
       "Idaho          -1.63979985  0.21097292 -0.25980134 -0.499104101\n",
       "Illinois        1.37891072 -0.68184119  0.67749564 -0.122021292\n",
       "Indiana        -0.50546136 -0.15156254 -0.22805484  0.424665700\n",
       "Iowa           -2.25364607 -0.10405407 -0.16456432  0.017555916\n",
       "Kansas         -0.79688112 -0.27016470 -0.02555331  0.206496428\n",
       "Kentucky       -0.75085907  0.95844029  0.02836942  0.670556671\n",
       "Louisiana       1.56481798  0.87105466  0.78348036  0.454728038\n",
       "Maine          -2.39682949  0.37639158  0.06568239 -0.330459817\n",
       "Maryland        1.76336939  0.42765519  0.15725013 -0.559069521\n",
       "Massachusetts  -0.48616629 -1.47449650  0.60949748 -0.179598963\n",
       "Michigan        2.10844115 -0.15539682 -0.38486858  0.102372019\n",
       "Minnesota      -1.69268181 -0.63226125 -0.15307043  0.067316885\n",
       "Mississippi     0.99649446  2.39379599  0.74080840  0.215508013\n",
       "Missouri        0.69678733 -0.26335479 -0.37744383  0.225824461\n",
       "Montana        -1.18545191  0.53687437 -0.24688932  0.123742227\n",
       "Nebraska       -1.26563654 -0.19395373 -0.17557391  0.015892888\n",
       "Nevada          2.87439454 -0.77560020 -1.16338049  0.314515476\n",
       "New Hampshire  -2.38391541 -0.01808229 -0.03685539 -0.033137338\n",
       "New Jersey      0.18156611 -1.44950571  0.76445355  0.243382700\n",
       "New Mexico      1.98002375  0.14284878 -0.18369218 -0.339533597\n",
       "New York        1.68257738 -0.82318414  0.64307509 -0.013484369\n",
       "North Carolina  1.12337861  2.22800338  0.86357179 -0.954381667\n",
       "North Dakota   -2.99222562  0.59911882 -0.30127728 -0.253987327\n",
       "Ohio           -0.22596542 -0.74223824  0.03113912  0.473915911\n",
       "Oklahoma       -0.31178286 -0.28785421  0.01530979  0.010332321\n",
       "Oregon          0.05912208 -0.54141145 -0.93983298 -0.237780688\n",
       "Pennsylvania   -0.88841582 -0.57110035  0.40062871  0.359061124\n",
       "Rhode Island   -0.86377206 -1.49197842  1.36994570 -0.613569430\n",
       "South Carolina  1.32072380  1.93340466  0.30053779 -0.131466685\n",
       "South Dakota   -1.98777484  0.82334324 -0.38929333 -0.109571764\n",
       "Tennessee       0.99974168  0.86025130 -0.18808295  0.652864291\n",
       "Texas           1.35513821 -0.41248082  0.49206886  0.643195491\n",
       "Utah           -0.55056526 -1.47150461 -0.29372804 -0.082314047\n",
       "Vermont        -2.80141174  1.40228806 -0.84126309 -0.144889914\n",
       "Virginia       -0.09633491  0.19973529 -0.01171254  0.211370813\n",
       "Washington     -0.21690338 -0.97012418 -0.62487094 -0.220847793\n",
       "West Virginia  -2.10858541  1.42484670 -0.10477467  0.131908831\n",
       "Wisconsin      -2.07971417 -0.61126862  0.13886500  0.184103743\n",
       "Wyoming        -0.62942666  0.32101297  0.24065923 -0.166651801"
      ]
     },
     "metadata": {},
     "output_type": "display_data"
    }
   ],
   "source": [
    "pc1$scores"
   ]
  },
  {
   "cell_type": "code",
   "execution_count": 276,
   "metadata": {
    "scrolled": false
   },
   "outputs": [
    {
     "name": "stderr",
     "output_type": "stream",
     "text": [
      "Warning message in plot.window(...):\n",
      "\"\"xlabel\"는 그래픽 매개변수가 아닙니다\"Warning message in plot.window(...):\n",
      "\"\"ylabel\"는 그래픽 매개변수가 아닙니다\"Warning message in plot.xy(xy, type, ...):\n",
      "\"\"xlabel\"는 그래픽 매개변수가 아닙니다\"Warning message in plot.xy(xy, type, ...):\n",
      "\"\"ylabel\"는 그래픽 매개변수가 아닙니다\"Warning message in axis(side = side, at = at, labels = labels, ...):\n",
      "\"\"xlabel\"는 그래픽 매개변수가 아닙니다\"Warning message in axis(side = side, at = at, labels = labels, ...):\n",
      "\"\"ylabel\"는 그래픽 매개변수가 아닙니다\"Warning message in axis(side = side, at = at, labels = labels, ...):\n",
      "\"\"xlabel\"는 그래픽 매개변수가 아닙니다\"Warning message in axis(side = side, at = at, labels = labels, ...):\n",
      "\"\"ylabel\"는 그래픽 매개변수가 아닙니다\"Warning message in box(...):\n",
      "\"\"xlabel\"는 그래픽 매개변수가 아닙니다\"Warning message in box(...):\n",
      "\"\"ylabel\"는 그래픽 매개변수가 아닙니다\"Warning message in title(...):\n",
      "\"\"xlabel\"는 그래픽 매개변수가 아닙니다\"Warning message in title(...):\n",
      "\"\"ylabel\"는 그래픽 매개변수가 아닙니다\""
     ]
    },
    {
     "data": {
      "image/png": "[encoded data removed]",
      "text/plain": [
       "plot without title"
      ]
     },
     "metadata": {},
     "output_type": "display_data"
    },
    {
     "data": {
      "image/png": "[encoded data removed]",
      "text/plain": [
       "plot without title"
      ]
     },
     "metadata": {},
     "output_type": "display_data"
    }
   ],
   "source": [
    "plot(pc1$scores[,1], pc1$scores[,2], xlabel = 'z1', ylabel = 'z2')\n",
    "abline(v = 0, h =0)\n",
    "biplot(pc1, cex = 0.7)\n",
    "abline(v=0, h=0, col='gray')"
   ]
  },
  {
   "cell_type": "code",
   "execution_count": null,
   "metadata": {},
   "outputs": [],
   "source": []
  },
  {
   "cell_type": "code",
   "execution_count": null,
   "metadata": {},
   "outputs": [],
   "source": []
  },
  {
   "cell_type": "code",
   "execution_count": null,
   "metadata": {},
   "outputs": [],
   "source": []
  },
  {
   "cell_type": "code",
   "execution_count": null,
   "metadata": {},
   "outputs": [],
   "source": []
  },
  {
   "cell_type": "code",
   "execution_count": null,
   "metadata": {},
   "outputs": [],
   "source": []
  },
  {
   "cell_type": "code",
   "execution_count": null,
   "metadata": {},
   "outputs": [],
   "source": []
  },
  {
   "cell_type": "code",
   "execution_count": null,
   "metadata": {},
   "outputs": [],
   "source": []
  },
  {
   "cell_type": "code",
   "execution_count": null,
   "metadata": {},
   "outputs": [],
   "source": []
  },
  {
   "cell_type": "code",
   "execution_count": null,
   "metadata": {},
   "outputs": [],
   "source": []
  }
 ],
 "metadata": {
  "kernelspec": {
   "display_name": "R",
   "language": "R",
   "name": "ir"
  },
  "language_info": {
   "codemirror_mode": "r",
   "file_extension": ".r",
   "mimetype": "text/x-r-source",
   "name": "R",
   "pygments_lexer": "r",
   "version": "3.6.1"
  }
 },
 "nbformat": 4,
 "nbformat_minor": 4
}
