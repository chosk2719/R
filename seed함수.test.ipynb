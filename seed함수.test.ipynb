{
 "cells": [
  {
   "cell_type": "code",
   "execution_count": 1,
   "metadata": {},
   "outputs": [],
   "source": [
    "setwd('c:/rdata')"
   ]
  },
  {
   "cell_type": "code",
   "execution_count": 12,
   "metadata": {},
   "outputs": [
    {
     "name": "stderr",
     "output_type": "stream",
     "text": [
      "also installing the dependencies 'pillar', 'glue', 'lifecycle', 'rlang', 'tibble', 'tidyselect'\n",
      "\n"
     ]
    },
    {
     "name": "stdout",
     "output_type": "stream",
     "text": [
      "package 'pillar' successfully unpacked and MD5 sums checked\n",
      "package 'glue' successfully unpacked and MD5 sums checked\n",
      "package 'lifecycle' successfully unpacked and MD5 sums checked\n",
      "package 'rlang' successfully unpacked and MD5 sums checked\n",
      "package 'tibble' successfully unpacked and MD5 sums checked\n",
      "package 'tidyselect' successfully unpacked and MD5 sums checked\n",
      "package 'dplyr' successfully unpacked and MD5 sums checked\n",
      "\n",
      "The downloaded binary packages are in\n",
      "\tC:\\Users\\15\\AppData\\Local\\Temp\\RtmpuUSOcx\\downloaded_packages\n"
     ]
    }
   ],
   "source": [
    "install.packages(\"dplyr\")"
   ]
  },
  {
   "cell_type": "code",
   "execution_count": 13,
   "metadata": {},
   "outputs": [
    {
     "name": "stderr",
     "output_type": "stream",
     "text": [
      "Warning message:\n",
      "\"package 'dplyr' was built under R version 3.6.3\"\n",
      "Attaching package: 'dplyr'\n",
      "\n",
      "The following objects are masked from 'package:stats':\n",
      "\n",
      "    filter, lag\n",
      "\n",
      "The following objects are masked from 'package:base':\n",
      "\n",
      "    intersect, setdiff, setequal, union\n",
      "\n",
      "Registered S3 methods overwritten by 'ggplot2':\n",
      "  method         from \n",
      "  [.quosures     rlang\n",
      "  c.quosures     rlang\n",
      "  print.quosures rlang\n"
     ]
    }
   ],
   "source": [
    "library(dplyr)\n",
    "library(ggplot2)"
   ]
  },
  {
   "cell_type": "code",
   "execution_count": 14,
   "metadata": {},
   "outputs": [],
   "source": [
    "df = data(package='ggplot2')"
   ]
  },
  {
   "cell_type": "code",
   "execution_count": 15,
   "metadata": {},
   "outputs": [
    {
     "data": {
      "text/html": [
       "<table>\n",
       "<thead><tr><th scope=col>Package</th><th scope=col>LibPath</th><th scope=col>Item</th><th scope=col>Title</th></tr></thead>\n",
       "<tbody>\n",
       "\t<tr><td>ggplot2                                                          </td><td>C:/ProgramData/Anaconda3/Lib/R/library                           </td><td>diamonds                                                         </td><td>Prices of 50,000 round cut diamonds                              </td></tr>\n",
       "\t<tr><td>ggplot2                                                          </td><td>C:/ProgramData/Anaconda3/Lib/R/library                           </td><td>economics                                                        </td><td>US economic time series                                          </td></tr>\n",
       "\t<tr><td>ggplot2                                                          </td><td>C:/ProgramData/Anaconda3/Lib/R/library                           </td><td>economics_long                                                   </td><td>US economic time series                                          </td></tr>\n",
       "\t<tr><td>ggplot2                                                          </td><td>C:/ProgramData/Anaconda3/Lib/R/library                           </td><td>faithfuld                                                        </td><td>2d density estimate of Old Faithful data                         </td></tr>\n",
       "\t<tr><td>ggplot2                                                          </td><td>C:/ProgramData/Anaconda3/Lib/R/library                           </td><td>luv_colours                                                      </td><td>'colors()' in Luv space                                          </td></tr>\n",
       "\t<tr><td>ggplot2                                                          </td><td>C:/ProgramData/Anaconda3/Lib/R/library                           </td><td>midwest                                                          </td><td>Midwest demographics                                             </td></tr>\n",
       "\t<tr><td>ggplot2                                                          </td><td>C:/ProgramData/Anaconda3/Lib/R/library                           </td><td>mpg                                                              </td><td>Fuel economy data from 1999 and 2008 for 38 popular models of car</td></tr>\n",
       "\t<tr><td>ggplot2                                                          </td><td>C:/ProgramData/Anaconda3/Lib/R/library                           </td><td>msleep                                                           </td><td>An updated and expanded version of the mammals sleep dataset     </td></tr>\n",
       "\t<tr><td>ggplot2                                                          </td><td>C:/ProgramData/Anaconda3/Lib/R/library                           </td><td>presidential                                                     </td><td>Terms of 11 presidents from Eisenhower to Obama                  </td></tr>\n",
       "\t<tr><td>ggplot2                                                          </td><td>C:/ProgramData/Anaconda3/Lib/R/library                           </td><td>seals                                                            </td><td>Vector field of seal movements                                   </td></tr>\n",
       "\t<tr><td>ggplot2                                                          </td><td>C:/ProgramData/Anaconda3/Lib/R/library                           </td><td>txhousing                                                        </td><td>Housing sales in TX                                              </td></tr>\n",
       "</tbody>\n",
       "</table>\n"
      ],
      "text/latex": [
       "\\begin{tabular}{llll}\n",
       " Package & LibPath & Item & Title\\\\\n",
       "\\hline\n",
       "\t ggplot2                                                           & C:/ProgramData/Anaconda3/Lib/R/library                            & diamonds                                                          & Prices of 50,000 round cut diamonds                              \\\\\n",
       "\t ggplot2                                                           & C:/ProgramData/Anaconda3/Lib/R/library                            & economics                                                         & US economic time series                                          \\\\\n",
       "\t ggplot2                                                           & C:/ProgramData/Anaconda3/Lib/R/library                            & economics\\_long                                                  & US economic time series                                          \\\\\n",
       "\t ggplot2                                                           & C:/ProgramData/Anaconda3/Lib/R/library                            & faithfuld                                                         & 2d density estimate of Old Faithful data                         \\\\\n",
       "\t ggplot2                                                           & C:/ProgramData/Anaconda3/Lib/R/library                            & luv\\_colours                                                     & 'colors()' in Luv space                                          \\\\\n",
       "\t ggplot2                                                           & C:/ProgramData/Anaconda3/Lib/R/library                            & midwest                                                           & Midwest demographics                                             \\\\\n",
       "\t ggplot2                                                           & C:/ProgramData/Anaconda3/Lib/R/library                            & mpg                                                               & Fuel economy data from 1999 and 2008 for 38 popular models of car\\\\\n",
       "\t ggplot2                                                           & C:/ProgramData/Anaconda3/Lib/R/library                            & msleep                                                            & An updated and expanded version of the mammals sleep dataset     \\\\\n",
       "\t ggplot2                                                           & C:/ProgramData/Anaconda3/Lib/R/library                            & presidential                                                      & Terms of 11 presidents from Eisenhower to Obama                  \\\\\n",
       "\t ggplot2                                                           & C:/ProgramData/Anaconda3/Lib/R/library                            & seals                                                             & Vector field of seal movements                                   \\\\\n",
       "\t ggplot2                                                           & C:/ProgramData/Anaconda3/Lib/R/library                            & txhousing                                                         & Housing sales in TX                                              \\\\\n",
       "\\end{tabular}\n"
      ],
      "text/markdown": [
       "\n",
       "| Package | LibPath | Item | Title |\n",
       "|---|---|---|---|\n",
       "| ggplot2                                                           | C:/ProgramData/Anaconda3/Lib/R/library                            | diamonds                                                          | Prices of 50,000 round cut diamonds                               |\n",
       "| ggplot2                                                           | C:/ProgramData/Anaconda3/Lib/R/library                            | economics                                                         | US economic time series                                           |\n",
       "| ggplot2                                                           | C:/ProgramData/Anaconda3/Lib/R/library                            | economics_long                                                    | US economic time series                                           |\n",
       "| ggplot2                                                           | C:/ProgramData/Anaconda3/Lib/R/library                            | faithfuld                                                         | 2d density estimate of Old Faithful data                          |\n",
       "| ggplot2                                                           | C:/ProgramData/Anaconda3/Lib/R/library                            | luv_colours                                                       | 'colors()' in Luv space                                           |\n",
       "| ggplot2                                                           | C:/ProgramData/Anaconda3/Lib/R/library                            | midwest                                                           | Midwest demographics                                              |\n",
       "| ggplot2                                                           | C:/ProgramData/Anaconda3/Lib/R/library                            | mpg                                                               | Fuel economy data from 1999 and 2008 for 38 popular models of car |\n",
       "| ggplot2                                                           | C:/ProgramData/Anaconda3/Lib/R/library                            | msleep                                                            | An updated and expanded version of the mammals sleep dataset      |\n",
       "| ggplot2                                                           | C:/ProgramData/Anaconda3/Lib/R/library                            | presidential                                                      | Terms of 11 presidents from Eisenhower to Obama                   |\n",
       "| ggplot2                                                           | C:/ProgramData/Anaconda3/Lib/R/library                            | seals                                                             | Vector field of seal movements                                    |\n",
       "| ggplot2                                                           | C:/ProgramData/Anaconda3/Lib/R/library                            | txhousing                                                         | Housing sales in TX                                               |\n",
       "\n"
      ],
      "text/plain": [
       "      Package LibPath                                Item          \n",
       " [1,] ggplot2 C:/ProgramData/Anaconda3/Lib/R/library diamonds      \n",
       " [2,] ggplot2 C:/ProgramData/Anaconda3/Lib/R/library economics     \n",
       " [3,] ggplot2 C:/ProgramData/Anaconda3/Lib/R/library economics_long\n",
       " [4,] ggplot2 C:/ProgramData/Anaconda3/Lib/R/library faithfuld     \n",
       " [5,] ggplot2 C:/ProgramData/Anaconda3/Lib/R/library luv_colours   \n",
       " [6,] ggplot2 C:/ProgramData/Anaconda3/Lib/R/library midwest       \n",
       " [7,] ggplot2 C:/ProgramData/Anaconda3/Lib/R/library mpg           \n",
       " [8,] ggplot2 C:/ProgramData/Anaconda3/Lib/R/library msleep        \n",
       " [9,] ggplot2 C:/ProgramData/Anaconda3/Lib/R/library presidential  \n",
       "[10,] ggplot2 C:/ProgramData/Anaconda3/Lib/R/library seals         \n",
       "[11,] ggplot2 C:/ProgramData/Anaconda3/Lib/R/library txhousing     \n",
       "      Title                                                            \n",
       " [1,] Prices of 50,000 round cut diamonds                              \n",
       " [2,] US economic time series                                          \n",
       " [3,] US economic time series                                          \n",
       " [4,] 2d density estimate of Old Faithful data                         \n",
       " [5,] 'colors()' in Luv space                                          \n",
       " [6,] Midwest demographics                                             \n",
       " [7,] Fuel economy data from 1999 and 2008 for 38 popular models of car\n",
       " [8,] An updated and expanded version of the mammals sleep dataset     \n",
       " [9,] Terms of 11 presidents from Eisenhower to Obama                  \n",
       "[10,] Vector field of seal movements                                   \n",
       "[11,] Housing sales in TX                                              "
      ]
     },
     "metadata": {},
     "output_type": "display_data"
    }
   ],
   "source": [
    "df$results"
   ]
  },
  {
   "cell_type": "code",
   "execution_count": 16,
   "metadata": {},
   "outputs": [],
   "source": [
    "mpg = as.data.frame(ggplot2::mpg)"
   ]
  },
  {
   "cell_type": "code",
   "execution_count": 17,
   "metadata": {},
   "outputs": [
    {
     "data": {
      "text/html": [
       "<table>\n",
       "<thead><tr><th scope=col>manufacturer</th><th scope=col>model</th><th scope=col>displ</th><th scope=col>year</th><th scope=col>cyl</th><th scope=col>trans</th><th scope=col>drv</th><th scope=col>cty</th><th scope=col>hwy</th><th scope=col>fl</th><th scope=col>class</th></tr></thead>\n",
       "<tbody>\n",
       "\t<tr><td>audi      </td><td>a4        </td><td>1.8       </td><td>1999      </td><td>4         </td><td>auto(l5)  </td><td>f         </td><td>18        </td><td>29        </td><td>p         </td><td>compact   </td></tr>\n",
       "\t<tr><td>audi      </td><td>a4        </td><td>1.8       </td><td>1999      </td><td>4         </td><td>manual(m5)</td><td>f         </td><td>21        </td><td>29        </td><td>p         </td><td>compact   </td></tr>\n",
       "\t<tr><td>audi      </td><td>a4        </td><td>2.0       </td><td>2008      </td><td>4         </td><td>manual(m6)</td><td>f         </td><td>20        </td><td>31        </td><td>p         </td><td>compact   </td></tr>\n",
       "\t<tr><td>audi      </td><td>a4        </td><td>2.0       </td><td>2008      </td><td>4         </td><td>auto(av)  </td><td>f         </td><td>21        </td><td>30        </td><td>p         </td><td>compact   </td></tr>\n",
       "\t<tr><td>audi      </td><td>a4        </td><td>2.8       </td><td>1999      </td><td>6         </td><td>auto(l5)  </td><td>f         </td><td>16        </td><td>26        </td><td>p         </td><td>compact   </td></tr>\n",
       "\t<tr><td>audi      </td><td>a4        </td><td>2.8       </td><td>1999      </td><td>6         </td><td>manual(m5)</td><td>f         </td><td>18        </td><td>26        </td><td>p         </td><td>compact   </td></tr>\n",
       "</tbody>\n",
       "</table>\n"
      ],
      "text/latex": [
       "\\begin{tabular}{r|lllllllllll}\n",
       " manufacturer & model & displ & year & cyl & trans & drv & cty & hwy & fl & class\\\\\n",
       "\\hline\n",
       "\t audi       & a4         & 1.8        & 1999       & 4          & auto(l5)   & f          & 18         & 29         & p          & compact   \\\\\n",
       "\t audi       & a4         & 1.8        & 1999       & 4          & manual(m5) & f          & 21         & 29         & p          & compact   \\\\\n",
       "\t audi       & a4         & 2.0        & 2008       & 4          & manual(m6) & f          & 20         & 31         & p          & compact   \\\\\n",
       "\t audi       & a4         & 2.0        & 2008       & 4          & auto(av)   & f          & 21         & 30         & p          & compact   \\\\\n",
       "\t audi       & a4         & 2.8        & 1999       & 6          & auto(l5)   & f          & 16         & 26         & p          & compact   \\\\\n",
       "\t audi       & a4         & 2.8        & 1999       & 6          & manual(m5) & f          & 18         & 26         & p          & compact   \\\\\n",
       "\\end{tabular}\n"
      ],
      "text/markdown": [
       "\n",
       "| manufacturer | model | displ | year | cyl | trans | drv | cty | hwy | fl | class |\n",
       "|---|---|---|---|---|---|---|---|---|---|---|\n",
       "| audi       | a4         | 1.8        | 1999       | 4          | auto(l5)   | f          | 18         | 29         | p          | compact    |\n",
       "| audi       | a4         | 1.8        | 1999       | 4          | manual(m5) | f          | 21         | 29         | p          | compact    |\n",
       "| audi       | a4         | 2.0        | 2008       | 4          | manual(m6) | f          | 20         | 31         | p          | compact    |\n",
       "| audi       | a4         | 2.0        | 2008       | 4          | auto(av)   | f          | 21         | 30         | p          | compact    |\n",
       "| audi       | a4         | 2.8        | 1999       | 6          | auto(l5)   | f          | 16         | 26         | p          | compact    |\n",
       "| audi       | a4         | 2.8        | 1999       | 6          | manual(m5) | f          | 18         | 26         | p          | compact    |\n",
       "\n"
      ],
      "text/plain": [
       "  manufacturer model displ year cyl trans      drv cty hwy fl class  \n",
       "1 audi         a4    1.8   1999 4   auto(l5)   f   18  29  p  compact\n",
       "2 audi         a4    1.8   1999 4   manual(m5) f   21  29  p  compact\n",
       "3 audi         a4    2.0   2008 4   manual(m6) f   20  31  p  compact\n",
       "4 audi         a4    2.0   2008 4   auto(av)   f   21  30  p  compact\n",
       "5 audi         a4    2.8   1999 6   auto(l5)   f   16  26  p  compact\n",
       "6 audi         a4    2.8   1999 6   manual(m5) f   18  26  p  compact"
      ]
     },
     "metadata": {},
     "output_type": "display_data"
    }
   ],
   "source": [
    "head(mpg)"
   ]
  },
  {
   "cell_type": "code",
   "execution_count": 18,
   "metadata": {},
   "outputs": [
    {
     "data": {
      "text/plain": [
       "\n",
       "  4   f   r \n",
       "103 106  25 "
      ]
     },
     "metadata": {},
     "output_type": "display_data"
    }
   ],
   "source": [
    "table(mpg$drv)"
   ]
  },
  {
   "cell_type": "code",
   "execution_count": 19,
   "metadata": {},
   "outputs": [
    {
     "name": "stderr",
     "output_type": "stream",
     "text": [
      "`summarise()` ungrouping output (override with `.groups` argument)\n"
     ]
    }
   ],
   "source": [
    "df_g = mpg %>% \n",
    "  group_by(drv) %>% \n",
    "  summarise(mean_cty=round(mean(cty), 1))"
   ]
  },
  {
   "cell_type": "code",
   "execution_count": 20,
   "metadata": {},
   "outputs": [
    {
     "data": {
      "text/html": [
       "<table>\n",
       "<thead><tr><th scope=col>drv</th><th scope=col>mean_cty</th></tr></thead>\n",
       "<tbody>\n",
       "\t<tr><td>4   </td><td>14.3</td></tr>\n",
       "\t<tr><td>f   </td><td>20.0</td></tr>\n",
       "\t<tr><td>r   </td><td>14.1</td></tr>\n",
       "</tbody>\n",
       "</table>\n"
      ],
      "text/latex": [
       "\\begin{tabular}{r|ll}\n",
       " drv & mean\\_cty\\\\\n",
       "\\hline\n",
       "\t 4    & 14.3\\\\\n",
       "\t f    & 20.0\\\\\n",
       "\t r    & 14.1\\\\\n",
       "\\end{tabular}\n"
      ],
      "text/markdown": [
       "\n",
       "| drv | mean_cty |\n",
       "|---|---|\n",
       "| 4    | 14.3 |\n",
       "| f    | 20.0 |\n",
       "| r    | 14.1 |\n",
       "\n"
      ],
      "text/plain": [
       "  drv mean_cty\n",
       "1 4   14.3    \n",
       "2 f   20.0    \n",
       "3 r   14.1    "
      ]
     },
     "metadata": {},
     "output_type": "display_data"
    }
   ],
   "source": [
    "df_g"
   ]
  },
  {
   "cell_type": "code",
   "execution_count": 22,
   "metadata": {},
   "outputs": [
    {
     "data": {
      "image/png": "[encoded data removed]",
      "text/plain": [
       "plot without title"
      ]
     },
     "metadata": {},
     "output_type": "display_data"
    }
   ],
   "source": [
    "ggplot(data=df_g, aes(x=reorder(drv, -mean_cty), y=mean_cty))+geom_col(fill=c('red', 'blue','orange'))+ geom_text(aes(label=df_g$mean_cty), vjust=-0.2, col='red')+coord_flip()+xlab('구동타입') + ylab('도시연비')"
   ]
  },
  {
   "cell_type": "markdown",
   "metadata": {},
   "source": [
    "# seed 함수"
   ]
  },
  {
   "cell_type": "code",
   "execution_count": 23,
   "metadata": {},
   "outputs": [
    {
     "data": {
      "text/html": [
       "<ol class=list-inline>\n",
       "\t<li>0.291676638182253</li>\n",
       "\t<li>0.3691867350135</li>\n",
       "\t<li>0.432131340028718</li>\n",
       "</ol>\n"
      ],
      "text/latex": [
       "\\begin{enumerate*}\n",
       "\\item 0.291676638182253\n",
       "\\item 0.3691867350135\n",
       "\\item 0.432131340028718\n",
       "\\end{enumerate*}\n"
      ],
      "text/markdown": [
       "1. 0.291676638182253\n",
       "2. 0.3691867350135\n",
       "3. 0.432131340028718\n",
       "\n",
       "\n"
      ],
      "text/plain": [
       "[1] 0.2916766 0.3691867 0.4321313"
      ]
     },
     "metadata": {},
     "output_type": "display_data"
    }
   ],
   "source": [
    "runif(3)"
   ]
  },
  {
   "cell_type": "code",
   "execution_count": 24,
   "metadata": {},
   "outputs": [
    {
     "data": {
      "text/html": [
       "<ol class=list-inline>\n",
       "\t<li>-0.899062230876845</li>\n",
       "\t<li>0.929066379867563</li>\n",
       "\t<li>-1.32160580707996</li>\n",
       "</ol>\n"
      ],
      "text/latex": [
       "\\begin{enumerate*}\n",
       "\\item -0.899062230876845\n",
       "\\item 0.929066379867563\n",
       "\\item -1.32160580707996\n",
       "\\end{enumerate*}\n"
      ],
      "text/markdown": [
       "1. -0.899062230876845\n",
       "2. 0.929066379867563\n",
       "3. -1.32160580707996\n",
       "\n",
       "\n"
      ],
      "text/plain": [
       "[1] -0.8990622  0.9290664 -1.3216058"
      ]
     },
     "metadata": {},
     "output_type": "display_data"
    }
   ],
   "source": [
    "rnorm(3, mean=0, sd=1)"
   ]
  },
  {
   "cell_type": "code",
   "execution_count": 25,
   "metadata": {},
   "outputs": [],
   "source": [
    "set.seed(1234)"
   ]
  },
  {
   "cell_type": "code",
   "execution_count": 29,
   "metadata": {},
   "outputs": [],
   "source": [
    "set.seed(1234)"
   ]
  },
  {
   "cell_type": "code",
   "execution_count": 27,
   "metadata": {},
   "outputs": [
    {
     "data": {
      "text/html": [
       "<ol class=list-inline>\n",
       "\t<li>0.113703411305323</li>\n",
       "\t<li>0.622299404814839</li>\n",
       "\t<li>0.609274732880294</li>\n",
       "\t<li>0.623379441676661</li>\n",
       "\t<li>0.860915383556858</li>\n",
       "\t<li>0.640310605289415</li>\n",
       "\t<li>0.0094957563560456</li>\n",
       "\t<li>0.232550506014377</li>\n",
       "\t<li>0.666083758231252</li>\n",
       "\t<li>0.514251141343266</li>\n",
       "\t<li>0.693591291783378</li>\n",
       "\t<li>0.544974835589528</li>\n",
       "\t<li>0.282733583590016</li>\n",
       "\t<li>0.923433484276757</li>\n",
       "\t<li>0.292315840255469</li>\n",
       "</ol>\n"
      ],
      "text/latex": [
       "\\begin{enumerate*}\n",
       "\\item 0.113703411305323\n",
       "\\item 0.622299404814839\n",
       "\\item 0.609274732880294\n",
       "\\item 0.623379441676661\n",
       "\\item 0.860915383556858\n",
       "\\item 0.640310605289415\n",
       "\\item 0.0094957563560456\n",
       "\\item 0.232550506014377\n",
       "\\item 0.666083758231252\n",
       "\\item 0.514251141343266\n",
       "\\item 0.693591291783378\n",
       "\\item 0.544974835589528\n",
       "\\item 0.282733583590016\n",
       "\\item 0.923433484276757\n",
       "\\item 0.292315840255469\n",
       "\\end{enumerate*}\n"
      ],
      "text/markdown": [
       "1. 0.113703411305323\n",
       "2. 0.622299404814839\n",
       "3. 0.609274732880294\n",
       "4. 0.623379441676661\n",
       "5. 0.860915383556858\n",
       "6. 0.640310605289415\n",
       "7. 0.0094957563560456\n",
       "8. 0.232550506014377\n",
       "9. 0.666083758231252\n",
       "10. 0.514251141343266\n",
       "11. 0.693591291783378\n",
       "12. 0.544974835589528\n",
       "13. 0.282733583590016\n",
       "14. 0.923433484276757\n",
       "15. 0.292315840255469\n",
       "\n",
       "\n"
      ],
      "text/plain": [
       " [1] 0.113703411 0.622299405 0.609274733 0.623379442 0.860915384 0.640310605\n",
       " [7] 0.009495756 0.232550506 0.666083758 0.514251141 0.693591292 0.544974836\n",
       "[13] 0.282733584 0.923433484 0.292315840"
      ]
     },
     "metadata": {},
     "output_type": "display_data"
    }
   ],
   "source": [
    "runif(15)"
   ]
  },
  {
   "cell_type": "code",
   "execution_count": 28,
   "metadata": {},
   "outputs": [
    {
     "data": {
      "text/html": [
       "<ol class=list-inline>\n",
       "\t<li>0.837295628152788</li>\n",
       "\t<li>0.286223284667358</li>\n",
       "\t<li>0.266820780001581</li>\n",
       "\t<li>0.186722789658234</li>\n",
       "\t<li>0.232225910527632</li>\n",
       "\t<li>0.316612454829738</li>\n",
       "\t<li>0.302693370729685</li>\n",
       "\t<li>0.159046002896503</li>\n",
       "\t<li>0.0399959180504084</li>\n",
       "\t<li>0.218799541005865</li>\n",
       "\t<li>0.810598552459851</li>\n",
       "\t<li>0.525697546778247</li>\n",
       "\t<li>0.914658166002482</li>\n",
       "\t<li>0.83134504687041</li>\n",
       "\t<li>0.045770263299346</li>\n",
       "</ol>\n"
      ],
      "text/latex": [
       "\\begin{enumerate*}\n",
       "\\item 0.837295628152788\n",
       "\\item 0.286223284667358\n",
       "\\item 0.266820780001581\n",
       "\\item 0.186722789658234\n",
       "\\item 0.232225910527632\n",
       "\\item 0.316612454829738\n",
       "\\item 0.302693370729685\n",
       "\\item 0.159046002896503\n",
       "\\item 0.0399959180504084\n",
       "\\item 0.218799541005865\n",
       "\\item 0.810598552459851\n",
       "\\item 0.525697546778247\n",
       "\\item 0.914658166002482\n",
       "\\item 0.83134504687041\n",
       "\\item 0.045770263299346\n",
       "\\end{enumerate*}\n"
      ],
      "text/markdown": [
       "1. 0.837295628152788\n",
       "2. 0.286223284667358\n",
       "3. 0.266820780001581\n",
       "4. 0.186722789658234\n",
       "5. 0.232225910527632\n",
       "6. 0.316612454829738\n",
       "7. 0.302693370729685\n",
       "8. 0.159046002896503\n",
       "9. 0.0399959180504084\n",
       "10. 0.218799541005865\n",
       "11. 0.810598552459851\n",
       "12. 0.525697546778247\n",
       "13. 0.914658166002482\n",
       "14. 0.83134504687041\n",
       "15. 0.045770263299346\n",
       "\n",
       "\n"
      ],
      "text/plain": [
       " [1] 0.83729563 0.28622328 0.26682078 0.18672279 0.23222591 0.31661245\n",
       " [7] 0.30269337 0.15904600 0.03999592 0.21879954 0.81059855 0.52569755\n",
       "[13] 0.91465817 0.83134505 0.04577026"
      ]
     },
     "metadata": {},
     "output_type": "display_data"
    }
   ],
   "source": [
    "runif(15)"
   ]
  },
  {
   "cell_type": "code",
   "execution_count": 30,
   "metadata": {},
   "outputs": [
    {
     "data": {
      "text/html": [
       "<ol class=list-inline>\n",
       "\t<li>0.113703411305323</li>\n",
       "\t<li>0.622299404814839</li>\n",
       "\t<li>0.609274732880294</li>\n",
       "\t<li>0.623379441676661</li>\n",
       "\t<li>0.860915383556858</li>\n",
       "\t<li>0.640310605289415</li>\n",
       "\t<li>0.0094957563560456</li>\n",
       "\t<li>0.232550506014377</li>\n",
       "\t<li>0.666083758231252</li>\n",
       "\t<li>0.514251141343266</li>\n",
       "\t<li>0.693591291783378</li>\n",
       "\t<li>0.544974835589528</li>\n",
       "\t<li>0.282733583590016</li>\n",
       "\t<li>0.923433484276757</li>\n",
       "\t<li>0.292315840255469</li>\n",
       "</ol>\n"
      ],
      "text/latex": [
       "\\begin{enumerate*}\n",
       "\\item 0.113703411305323\n",
       "\\item 0.622299404814839\n",
       "\\item 0.609274732880294\n",
       "\\item 0.623379441676661\n",
       "\\item 0.860915383556858\n",
       "\\item 0.640310605289415\n",
       "\\item 0.0094957563560456\n",
       "\\item 0.232550506014377\n",
       "\\item 0.666083758231252\n",
       "\\item 0.514251141343266\n",
       "\\item 0.693591291783378\n",
       "\\item 0.544974835589528\n",
       "\\item 0.282733583590016\n",
       "\\item 0.923433484276757\n",
       "\\item 0.292315840255469\n",
       "\\end{enumerate*}\n"
      ],
      "text/markdown": [
       "1. 0.113703411305323\n",
       "2. 0.622299404814839\n",
       "3. 0.609274732880294\n",
       "4. 0.623379441676661\n",
       "5. 0.860915383556858\n",
       "6. 0.640310605289415\n",
       "7. 0.0094957563560456\n",
       "8. 0.232550506014377\n",
       "9. 0.666083758231252\n",
       "10. 0.514251141343266\n",
       "11. 0.693591291783378\n",
       "12. 0.544974835589528\n",
       "13. 0.282733583590016\n",
       "14. 0.923433484276757\n",
       "15. 0.292315840255469\n",
       "\n",
       "\n"
      ],
      "text/plain": [
       " [1] 0.113703411 0.622299405 0.609274733 0.623379442 0.860915384 0.640310605\n",
       " [7] 0.009495756 0.232550506 0.666083758 0.514251141 0.693591292 0.544974836\n",
       "[13] 0.282733584 0.923433484 0.292315840"
      ]
     },
     "metadata": {},
     "output_type": "display_data"
    }
   ],
   "source": [
    "runif(15)"
   ]
  },
  {
   "cell_type": "code",
   "execution_count": 36,
   "metadata": {},
   "outputs": [],
   "source": [
    "x = rnorm(100)"
   ]
  },
  {
   "cell_type": "code",
   "execution_count": 37,
   "metadata": {},
   "outputs": [
    {
     "ename": "ERROR",
     "evalue": "Error in line(density(x), type = \"h\", col = \"red\"): 사용되지 않은 인자 (type = \"h\", col = \"red\")\n",
     "output_type": "error",
     "traceback": [
      "Error in line(density(x), type = \"h\", col = \"red\"): 사용되지 않은 인자 (type = \"h\", col = \"red\")\nTraceback:\n"
     ]
    },
    {
     "data": {
      "image/png": "[encoded data removed]",
      "text/plain": [
       "Plot with title \"Histogram of x\""
      ]
     },
     "metadata": {},
     "output_type": "display_data"
    }
   ],
   "source": [
    "hist(x, probability = T)\n",
    "line(density(x), type='h', col='red')"
   ]
  },
  {
   "cell_type": "code",
   "execution_count": 38,
   "metadata": {},
   "outputs": [],
   "source": [
    "grade = sample(0:100, 80, replace = T)"
   ]
  },
  {
   "cell_type": "markdown",
   "metadata": {},
   "source": [
    "```{r}\n",
    "x = rnorm(100)\n",
    "hist(x, probability = T)\n",
    "lines(density(x), type='h', col='red')\n",
    "```"
   ]
  },
  {
   "cell_type": "code",
   "execution_count": null,
   "metadata": {},
   "outputs": [],
   "source": []
  },
  {
   "cell_type": "code",
   "execution_count": null,
   "metadata": {},
   "outputs": [],
   "source": []
  },
  {
   "cell_type": "code",
   "execution_count": null,
   "metadata": {},
   "outputs": [],
   "source": []
  },
  {
   "cell_type": "code",
   "execution_count": null,
   "metadata": {},
   "outputs": [],
   "source": []
  },
  {
   "cell_type": "code",
   "execution_count": null,
   "metadata": {},
   "outputs": [],
   "source": []
  },
  {
   "cell_type": "code",
   "execution_count": null,
   "metadata": {},
   "outputs": [],
   "source": []
  }
 ],
 "metadata": {
  "kernelspec": {
   "display_name": "R",
   "language": "R",
   "name": "ir"
  },
  "language_info": {
   "codemirror_mode": "r",
   "file_extension": ".r",
   "mimetype": "text/x-r-source",
   "name": "R",
   "pygments_lexer": "r",
   "version": "3.6.1"
  }
 },
 "nbformat": 4,
 "nbformat_minor": 4
}
